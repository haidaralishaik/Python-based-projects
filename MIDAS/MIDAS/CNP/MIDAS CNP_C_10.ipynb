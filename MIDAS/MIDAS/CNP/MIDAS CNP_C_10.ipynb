{
 "cells": [
  {
   "cell_type": "code",
   "execution_count": 4,
   "id": "48128b60",
   "metadata": {},
   "outputs": [],
   "source": [
    "from sklearn.preprocessing import MinMaxScaler\n",
    "import numpy as np\n",
    "import pandas as pd\n",
    "import tensorflow as tf\n",
    "import MIDASpy as md\n",
    "import math\n"
   ]
  },
  {
   "cell_type": "code",
   "execution_count": 6,
   "id": "f638e7f0",
   "metadata": {
    "scrolled": true
   },
   "outputs": [
    {
     "data": {
      "text/html": [
       "<div>\n",
       "<style scoped>\n",
       "    .dataframe tbody tr th:only-of-type {\n",
       "        vertical-align: middle;\n",
       "    }\n",
       "\n",
       "    .dataframe tbody tr th {\n",
       "        vertical-align: top;\n",
       "    }\n",
       "\n",
       "    .dataframe thead th {\n",
       "        text-align: right;\n",
       "    }\n",
       "</style>\n",
       "<table border=\"1\" class=\"dataframe\">\n",
       "  <thead>\n",
       "    <tr style=\"text-align: right;\">\n",
       "      <th></th>\n",
       "      <th>column 1</th>\n",
       "      <th>column 2</th>\n",
       "    </tr>\n",
       "  </thead>\n",
       "  <tbody>\n",
       "    <tr>\n",
       "      <th>0</th>\n",
       "      <td>-0.45866</td>\n",
       "      <td>-1.235200</td>\n",
       "    </tr>\n",
       "    <tr>\n",
       "      <th>1</th>\n",
       "      <td>0.24348</td>\n",
       "      <td>-0.873130</td>\n",
       "    </tr>\n",
       "    <tr>\n",
       "      <th>2</th>\n",
       "      <td>0.25071</td>\n",
       "      <td>-0.808030</td>\n",
       "    </tr>\n",
       "    <tr>\n",
       "      <th>3</th>\n",
       "      <td>0.21462</td>\n",
       "      <td>-0.951980</td>\n",
       "    </tr>\n",
       "    <tr>\n",
       "      <th>4</th>\n",
       "      <td>NaN</td>\n",
       "      <td>-1.031400</td>\n",
       "    </tr>\n",
       "    <tr>\n",
       "      <th>...</th>\n",
       "      <td>...</td>\n",
       "      <td>...</td>\n",
       "    </tr>\n",
       "    <tr>\n",
       "      <th>3995</th>\n",
       "      <td>0.89265</td>\n",
       "      <td>0.278030</td>\n",
       "    </tr>\n",
       "    <tr>\n",
       "      <th>3996</th>\n",
       "      <td>0.74741</td>\n",
       "      <td>NaN</td>\n",
       "    </tr>\n",
       "    <tr>\n",
       "      <th>3997</th>\n",
       "      <td>NaN</td>\n",
       "      <td>0.085708</td>\n",
       "    </tr>\n",
       "    <tr>\n",
       "      <th>3998</th>\n",
       "      <td>0.70388</td>\n",
       "      <td>0.351420</td>\n",
       "    </tr>\n",
       "    <tr>\n",
       "      <th>3999</th>\n",
       "      <td>0.33336</td>\n",
       "      <td>0.425210</td>\n",
       "    </tr>\n",
       "  </tbody>\n",
       "</table>\n",
       "<p>4000 rows × 2 columns</p>\n",
       "</div>"
      ],
      "text/plain": [
       "      column 1  column 2\n",
       "0     -0.45866 -1.235200\n",
       "1      0.24348 -0.873130\n",
       "2      0.25071 -0.808030\n",
       "3      0.21462 -0.951980\n",
       "4          NaN -1.031400\n",
       "...        ...       ...\n",
       "3995   0.89265  0.278030\n",
       "3996   0.74741       NaN\n",
       "3997       NaN  0.085708\n",
       "3998   0.70388  0.351420\n",
       "3999   0.33336  0.425210\n",
       "\n",
       "[4000 rows x 2 columns]"
      ]
     },
     "execution_count": 6,
     "metadata": {},
     "output_type": "execute_result"
    }
   ],
   "source": [
    "column_names=['column 1','column 2']\n",
    "df=pd.read_excel(r'C:\\Users\\furqz\\OneDrive\\Desktop\\Data mining stiff\\incomplete\\Incomplete Datasets Without Labels\\CNP\\CNP_C_10.xlsx', header=None,names=column_names)\n",
    "df"
   ]
  },
  {
   "cell_type": "code",
   "execution_count": 7,
   "id": "585cc6f7",
   "metadata": {},
   "outputs": [
    {
     "name": "stdout",
     "output_type": "stream",
     "text": [
      "dataType\tcolumn_names\tNumber of Nulls\n",
      "float64\t\tcolumn 1\t392\n",
      "float64\t\tcolumn 2\t364\n"
     ]
    }
   ],
   "source": [
    "print('dataType',end='\\t')\n",
    "print('column_names',end='\\t')\n",
    "print('Number of Nulls')\n",
    "for name in column_names:\n",
    "    print(df[name].dtype,end='\\t\\t')\n",
    "    print(name,end='\\t')\n",
    "    print(df[name].isnull().sum())"
   ]
  },
  {
   "cell_type": "code",
   "execution_count": 8,
   "id": "75bd9c64",
   "metadata": {},
   "outputs": [
    {
     "data": {
      "text/html": [
       "<div>\n",
       "<style scoped>\n",
       "    .dataframe tbody tr th:only-of-type {\n",
       "        vertical-align: middle;\n",
       "    }\n",
       "\n",
       "    .dataframe tbody tr th {\n",
       "        vertical-align: top;\n",
       "    }\n",
       "\n",
       "    .dataframe thead th {\n",
       "        text-align: right;\n",
       "    }\n",
       "</style>\n",
       "<table border=\"1\" class=\"dataframe\">\n",
       "  <thead>\n",
       "    <tr style=\"text-align: right;\">\n",
       "      <th></th>\n",
       "      <th>column 1</th>\n",
       "      <th>column 2</th>\n",
       "    </tr>\n",
       "  </thead>\n",
       "  <tbody>\n",
       "    <tr>\n",
       "      <th>count</th>\n",
       "      <td>3608.000000</td>\n",
       "      <td>3636.000000</td>\n",
       "    </tr>\n",
       "    <tr>\n",
       "      <th>mean</th>\n",
       "      <td>0.010192</td>\n",
       "      <td>0.003701</td>\n",
       "    </tr>\n",
       "    <tr>\n",
       "      <th>std</th>\n",
       "      <td>0.728190</td>\n",
       "      <td>0.727412</td>\n",
       "    </tr>\n",
       "    <tr>\n",
       "      <th>min</th>\n",
       "      <td>-1.714600</td>\n",
       "      <td>-1.376500</td>\n",
       "    </tr>\n",
       "    <tr>\n",
       "      <th>25%</th>\n",
       "      <td>-0.507110</td>\n",
       "      <td>-0.534795</td>\n",
       "    </tr>\n",
       "    <tr>\n",
       "      <th>50%</th>\n",
       "      <td>0.024330</td>\n",
       "      <td>0.005947</td>\n",
       "    </tr>\n",
       "    <tr>\n",
       "      <th>75%</th>\n",
       "      <td>0.566457</td>\n",
       "      <td>0.552115</td>\n",
       "    </tr>\n",
       "    <tr>\n",
       "      <th>max</th>\n",
       "      <td>1.363900</td>\n",
       "      <td>1.344400</td>\n",
       "    </tr>\n",
       "  </tbody>\n",
       "</table>\n",
       "</div>"
      ],
      "text/plain": [
       "          column 1     column 2\n",
       "count  3608.000000  3636.000000\n",
       "mean      0.010192     0.003701\n",
       "std       0.728190     0.727412\n",
       "min      -1.714600    -1.376500\n",
       "25%      -0.507110    -0.534795\n",
       "50%       0.024330     0.005947\n",
       "75%       0.566457     0.552115\n",
       "max       1.363900     1.344400"
      ]
     },
     "execution_count": 8,
     "metadata": {},
     "output_type": "execute_result"
    }
   ],
   "source": [
    "df.describe()"
   ]
  },
  {
   "cell_type": "code",
   "execution_count": 9,
   "id": "56182ba1",
   "metadata": {
    "scrolled": true
   },
   "outputs": [
    {
     "data": {
      "text/plain": [
       "<AxesSubplot:>"
      ]
     },
     "execution_count": 9,
     "metadata": {},
     "output_type": "execute_result"
    },
    {
     "data": {
      "image/png": "[encoded data removed]",
      "text/plain": [
       "<Figure size 1080x360 with 1 Axes>"
      ]
     },
     "metadata": {
      "needs_background": "light"
     },
     "output_type": "display_data"
    }
   ],
   "source": [
    "df.boxplot(return_type='axes', figsize=(15,5))"
   ]
  },
  {
   "cell_type": "code",
   "execution_count": 10,
   "id": "856e9b6c",
   "metadata": {},
   "outputs": [
    {
     "data": {
      "text/plain": [
       "column 1    0.010192\n",
       "column 2    0.003701\n",
       "dtype: float64"
      ]
     },
     "execution_count": 10,
     "metadata": {},
     "output_type": "execute_result"
    }
   ],
   "source": [
    "df.mean()"
   ]
  },
  {
   "cell_type": "code",
   "execution_count": 11,
   "id": "18c4a9dd",
   "metadata": {},
   "outputs": [
    {
     "data": {
      "text/html": [
       "<div>\n",
       "<style scoped>\n",
       "    .dataframe tbody tr th:only-of-type {\n",
       "        vertical-align: middle;\n",
       "    }\n",
       "\n",
       "    .dataframe tbody tr th {\n",
       "        vertical-align: top;\n",
       "    }\n",
       "\n",
       "    .dataframe thead th {\n",
       "        text-align: right;\n",
       "    }\n",
       "</style>\n",
       "<table border=\"1\" class=\"dataframe\">\n",
       "  <thead>\n",
       "    <tr style=\"text-align: right;\">\n",
       "      <th></th>\n",
       "      <th>column 1</th>\n",
       "      <th>column 2</th>\n",
       "    </tr>\n",
       "  </thead>\n",
       "  <tbody>\n",
       "    <tr>\n",
       "      <th>column 1</th>\n",
       "      <td>1.00000</td>\n",
       "      <td>0.00432</td>\n",
       "    </tr>\n",
       "    <tr>\n",
       "      <th>column 2</th>\n",
       "      <td>0.00432</td>\n",
       "      <td>1.00000</td>\n",
       "    </tr>\n",
       "  </tbody>\n",
       "</table>\n",
       "</div>"
      ],
      "text/plain": [
       "          column 1  column 2\n",
       "column 1   1.00000   0.00432\n",
       "column 2   0.00432   1.00000"
      ]
     },
     "execution_count": 11,
     "metadata": {},
     "output_type": "execute_result"
    }
   ],
   "source": [
    "corr=df.corr()\n",
    "corr"
   ]
  },
  {
   "cell_type": "code",
   "execution_count": 12,
   "id": "ea626871",
   "metadata": {},
   "outputs": [],
   "source": [
    "tf.compat.v1.reset_default_graph()\n",
    "import tensorflow.compat.v1 as tf\n",
    "tf.reset_default_graph()\n"
   ]
  },
  {
   "cell_type": "code",
   "execution_count": 13,
   "id": "2830e6e4",
   "metadata": {
    "scrolled": false
   },
   "outputs": [
    {
     "name": "stdout",
     "output_type": "stream",
     "text": [
      "Size index: [2]\n",
      "\n",
      "Computation graph constructed\n",
      "\n",
      "Model initialised\n",
      "\n",
      "Epoch: 0 , loss: 1.3059375252723693\n",
      "Epoch: 1 , loss: 1.3072180540561675\n",
      "Epoch: 2 , loss: 1.3070703098773957\n",
      "Epoch: 3 , loss: 1.3064388279914856\n",
      "Epoch: 4 , loss: 1.3072720856666564\n",
      "Epoch: 5 , loss: 1.3068441576957703\n",
      "Epoch: 6 , loss: 1.3042759532928467\n",
      "Epoch: 7 , loss: 1.3061876945495605\n",
      "Epoch: 8 , loss: 1.3070618081092835\n",
      "Epoch: 9 , loss: 1.3064772944450378\n",
      "Epoch: 10 , loss: 1.3053636384010314\n",
      "Epoch: 11 , loss: 1.3069448676109314\n",
      "Epoch: 12 , loss: 1.306648202419281\n",
      "Epoch: 13 , loss: 1.3086998510360717\n",
      "Epoch: 14 , loss: 1.3067178177833556\n",
      "Epoch: 15 , loss: 1.304508641242981\n",
      "Epoch: 16 , loss: 1.3041553783416748\n",
      "Epoch: 17 , loss: 1.3059296312332154\n",
      "Epoch: 18 , loss: 1.3047006828784942\n",
      "Epoch: 19 , loss: 1.30709800863266\n",
      "Epoch: 20 , loss: 1.306153146982193\n",
      "Epoch: 21 , loss: 1.3071099619865418\n",
      "Epoch: 22 , loss: 1.3073948893547058\n",
      "Epoch: 23 , loss: 1.3061895642280579\n",
      "Epoch: 24 , loss: 1.307323338985443\n",
      "Epoch: 25 , loss: 1.3068583703041077\n",
      "Epoch: 26 , loss: 1.3059637637138366\n",
      "Epoch: 27 , loss: 1.3053166422843934\n",
      "Epoch: 28 , loss: 1.30646755361557\n",
      "Epoch: 29 , loss: 1.3064524497985839\n",
      "Epoch: 30 , loss: 1.3057986881732941\n",
      "Epoch: 31 , loss: 1.3073855543136597\n",
      "Epoch: 32 , loss: 1.3063051416873932\n",
      "Epoch: 33 , loss: 1.3066396040916444\n",
      "Epoch: 34 , loss: 1.3055940823554992\n",
      "Epoch: 35 , loss: 1.3059838349819184\n",
      "Epoch: 36 , loss: 1.3053094410896302\n",
      "Epoch: 37 , loss: 1.3067325444221496\n",
      "Epoch: 38 , loss: 1.3070719709396363\n",
      "Epoch: 39 , loss: 1.3054475524425506\n",
      "Epoch: 40 , loss: 1.3067766647338868\n",
      "Epoch: 41 , loss: 1.3052756707668305\n",
      "Epoch: 42 , loss: 1.306346817970276\n",
      "Epoch: 43 , loss: 1.3060300517082215\n",
      "Epoch: 44 , loss: 1.3071484112739562\n",
      "Epoch: 45 , loss: 1.3075508053302765\n",
      "Epoch: 46 , loss: 1.3063778924942016\n",
      "Epoch: 47 , loss: 1.3069938797950744\n",
      "Epoch: 48 , loss: 1.3076794724464416\n",
      "Epoch: 49 , loss: 1.307312663078308\n",
      "Epoch: 50 , loss: 1.305543806552887\n",
      "Epoch: 51 , loss: 1.3067950747013093\n",
      "Epoch: 52 , loss: 1.304998173236847\n",
      "Epoch: 53 , loss: 1.3066913294792175\n",
      "Epoch: 54 , loss: 1.3079372882843017\n",
      "Epoch: 55 , loss: 1.306019835948944\n",
      "Epoch: 56 , loss: 1.3064620063304901\n",
      "Epoch: 57 , loss: 1.3054140944480896\n",
      "Epoch: 58 , loss: 1.3072058491706848\n",
      "Epoch: 59 , loss: 1.3057626583576203\n",
      "Epoch: 60 , loss: 1.3039248719215393\n",
      "Epoch: 61 , loss: 1.3058176999092102\n",
      "Epoch: 62 , loss: 1.3069602961540223\n",
      "Epoch: 63 , loss: 1.3079494123458861\n",
      "Epoch: 64 , loss: 1.307271948814392\n",
      "Epoch: 65 , loss: 1.30656560754776\n",
      "Epoch: 66 , loss: 1.3055483324527741\n",
      "Epoch: 67 , loss: 1.305547332763672\n",
      "Epoch: 68 , loss: 1.3063650498390198\n",
      "Epoch: 69 , loss: 1.305443962097168\n",
      "Epoch: 70 , loss: 1.305671063899994\n",
      "Epoch: 71 , loss: 1.3061481318473815\n",
      "Epoch: 72 , loss: 1.3066971180438995\n",
      "Epoch: 73 , loss: 1.3064741287231445\n",
      "Epoch: 74 , loss: 1.3067250769138337\n",
      "Epoch: 75 , loss: 1.3063577921390535\n",
      "Epoch: 76 , loss: 1.3063000357151031\n",
      "Epoch: 77 , loss: 1.3068693490028382\n",
      "Epoch: 78 , loss: 1.306760910511017\n",
      "Epoch: 79 , loss: 1.3054680619239807\n",
      "Epoch: 80 , loss: 1.307320025920868\n",
      "Epoch: 81 , loss: 1.305476639509201\n",
      "Epoch: 82 , loss: 1.307158329486847\n",
      "Epoch: 83 , loss: 1.3063075299263\n",
      "Epoch: 84 , loss: 1.3073772206306458\n",
      "Epoch: 85 , loss: 1.3051929407119751\n",
      "Epoch: 86 , loss: 1.306670196056366\n",
      "Epoch: 87 , loss: 1.3057932515144348\n",
      "Epoch: 88 , loss: 1.3064970316886901\n",
      "Epoch: 89 , loss: 1.306407735347748\n",
      "Epoch: 90 , loss: 1.3056349787712098\n",
      "Epoch: 91 , loss: 1.3065900363922118\n",
      "Epoch: 92 , loss: 1.3065381469726562\n",
      "Epoch: 93 , loss: 1.3073144569396973\n",
      "Epoch: 94 , loss: 1.3056554579734803\n",
      "Epoch: 95 , loss: 1.3038503551483154\n",
      "Epoch: 96 , loss: 1.3075394616127014\n",
      "Epoch: 97 , loss: 1.3072163519859314\n",
      "Epoch: 98 , loss: 1.3064268617630004\n",
      "Epoch: 99 , loss: 1.3054840695858\n",
      "Training complete. Saving file...\n",
      "Model saved in file: tmp/MIDAS\n"
     ]
    },
    {
     "data": {
      "text/plain": [
       "<MIDASpy.midas_base.Midas at 0x29733d372e0>"
      ]
     },
     "execution_count": 13,
     "metadata": {},
     "output_type": "execute_result"
    }
   ],
   "source": [
    "imputer = md.Midas(layer_structure = [2,2+43,2+43+43,2+43+43+43,2+43+43+43+43,2+43+43+43,2+43+43,2+43,2], vae_layer = False, seed = 43)\n",
    "imputer.build_model(df)\n",
    "imputer.train_model(training_epochs=100)\n"
   ]
  },
  {
   "cell_type": "code",
   "execution_count": 14,
   "id": "6f0fef50",
   "metadata": {},
   "outputs": [
    {
     "name": "stdout",
     "output_type": "stream",
     "text": [
      "INFO:tensorflow:Restoring parameters from tmp/MIDAS\n",
      "Model restored.\n"
     ]
    },
    {
     "data": {
      "text/plain": [
       "(4000, 2)"
      ]
     },
     "execution_count": 14,
     "metadata": {},
     "output_type": "execute_result"
    }
   ],
   "source": [
    "imputations=imputer.generate_samples(m=15).output_list\n",
    "np.shape(imputations[-1])"
   ]
  },
  {
   "cell_type": "code",
   "execution_count": 15,
   "id": "7842db79",
   "metadata": {},
   "outputs": [
    {
     "data": {
      "text/plain": [
       "column 1    0.007083\n",
       "column 2   -1.258200\n",
       "Name: 21, dtype: float64"
      ]
     },
     "execution_count": 15,
     "metadata": {},
     "output_type": "execute_result"
    }
   ],
   "source": [
    "new_df=imputations[-1]\n",
    "new_df.iloc[21,:]\n"
   ]
  },
  {
   "cell_type": "code",
   "execution_count": 16,
   "id": "a254172c",
   "metadata": {},
   "outputs": [],
   "source": [
    "complete_df=pd.read_excel(r'C:\\Users\\furqz\\OneDrive\\Desktop\\Data mining stiff\\complete\\Original Datasets Without Labels\\CNP.xlsx', header=None,names=column_names)"
   ]
  },
  {
   "cell_type": "code",
   "execution_count": 17,
   "id": "0a697afe",
   "metadata": {},
   "outputs": [
    {
     "data": {
      "text/html": [
       "<div>\n",
       "<style scoped>\n",
       "    .dataframe tbody tr th:only-of-type {\n",
       "        vertical-align: middle;\n",
       "    }\n",
       "\n",
       "    .dataframe tbody tr th {\n",
       "        vertical-align: top;\n",
       "    }\n",
       "\n",
       "    .dataframe thead th {\n",
       "        text-align: right;\n",
       "    }\n",
       "</style>\n",
       "<table border=\"1\" class=\"dataframe\">\n",
       "  <thead>\n",
       "    <tr style=\"text-align: right;\">\n",
       "      <th></th>\n",
       "      <th>column 1</th>\n",
       "      <th>column 2</th>\n",
       "    </tr>\n",
       "  </thead>\n",
       "  <tbody>\n",
       "    <tr>\n",
       "      <th>0</th>\n",
       "      <td>0.000000</td>\n",
       "      <td>0.000000</td>\n",
       "    </tr>\n",
       "    <tr>\n",
       "      <th>1</th>\n",
       "      <td>0.000000</td>\n",
       "      <td>0.000000</td>\n",
       "    </tr>\n",
       "    <tr>\n",
       "      <th>2</th>\n",
       "      <td>0.000000</td>\n",
       "      <td>0.000000</td>\n",
       "    </tr>\n",
       "    <tr>\n",
       "      <th>3</th>\n",
       "      <td>0.000000</td>\n",
       "      <td>0.000000</td>\n",
       "    </tr>\n",
       "    <tr>\n",
       "      <th>4</th>\n",
       "      <td>-0.121207</td>\n",
       "      <td>0.000000</td>\n",
       "    </tr>\n",
       "    <tr>\n",
       "      <th>...</th>\n",
       "      <td>...</td>\n",
       "      <td>...</td>\n",
       "    </tr>\n",
       "    <tr>\n",
       "      <th>3995</th>\n",
       "      <td>0.000000</td>\n",
       "      <td>0.000000</td>\n",
       "    </tr>\n",
       "    <tr>\n",
       "      <th>3996</th>\n",
       "      <td>0.000000</td>\n",
       "      <td>-0.426438</td>\n",
       "    </tr>\n",
       "    <tr>\n",
       "      <th>3997</th>\n",
       "      <td>-1.069517</td>\n",
       "      <td>0.000000</td>\n",
       "    </tr>\n",
       "    <tr>\n",
       "      <th>3998</th>\n",
       "      <td>0.000000</td>\n",
       "      <td>0.000000</td>\n",
       "    </tr>\n",
       "    <tr>\n",
       "      <th>3999</th>\n",
       "      <td>0.000000</td>\n",
       "      <td>0.000000</td>\n",
       "    </tr>\n",
       "  </tbody>\n",
       "</table>\n",
       "<p>4000 rows × 2 columns</p>\n",
       "</div>"
      ],
      "text/plain": [
       "      column 1  column 2\n",
       "0     0.000000  0.000000\n",
       "1     0.000000  0.000000\n",
       "2     0.000000  0.000000\n",
       "3     0.000000  0.000000\n",
       "4    -0.121207  0.000000\n",
       "...        ...       ...\n",
       "3995  0.000000  0.000000\n",
       "3996  0.000000 -0.426438\n",
       "3997 -1.069517  0.000000\n",
       "3998  0.000000  0.000000\n",
       "3999  0.000000  0.000000\n",
       "\n",
       "[4000 rows x 2 columns]"
      ]
     },
     "execution_count": 17,
     "metadata": {},
     "output_type": "execute_result"
    }
   ],
   "source": [
    "new_df-complete_df"
   ]
  },
  {
   "cell_type": "markdown",
   "id": "34858b00",
   "metadata": {},
   "source": [
    "Calculating NRMSE Value"
   ]
  },
  {
   "cell_type": "code",
   "execution_count": 18,
   "id": "b0e8d66c",
   "metadata": {},
   "outputs": [],
   "source": [
    "\n",
    "def Sum_new(sum):\n",
    "    summ=0\n",
    "    for n in sum:\n",
    "        summ=summ+n\n",
    "    return (summ)\n",
    "\n"
   ]
  },
  {
   "cell_type": "code",
   "execution_count": 19,
   "id": "ac7182c5",
   "metadata": {},
   "outputs": [],
   "source": [
    "def Frobenius_norm(number):\n",
    "    num=number\n",
    "    abs_val=num.abs()\n",
    "    power_abs=abs_val**2\n",
    "    sum1=power_abs.sum()\n",
    "    total_sum=Sum_new(sum1)\n",
    "    return(math.sqrt(total_sum))"
   ]
  },
  {
   "cell_type": "code",
   "execution_count": 20,
   "id": "7ab26717",
   "metadata": {},
   "outputs": [
    {
     "data": {
      "text/plain": [
       "(19.496269126015342, 64.9340549279942)"
      ]
     },
     "execution_count": 20,
     "metadata": {},
     "output_type": "execute_result"
    }
   ],
   "source": [
    "numerator=Frobenius_norm(new_df-complete_df)\n",
    "denominator=Frobenius_norm(complete_df)\n",
    "numerator, denominator"
   ]
  },
  {
   "cell_type": "code",
   "execution_count": 21,
   "id": "895364b7",
   "metadata": {},
   "outputs": [
    {
     "data": {
      "text/plain": [
       "0.3002472146185062"
      ]
     },
     "execution_count": 21,
     "metadata": {},
     "output_type": "execute_result"
    }
   ],
   "source": [
    "NRMS=numerator/denominator\n",
    "NRMS\n"
   ]
  },
  {
   "cell_type": "code",
   "execution_count": 22,
   "id": "84845123",
   "metadata": {},
   "outputs": [
    {
     "data": {
      "text/plain": [
       "column 1    0.12305\n",
       "column 2   -1.03610\n",
       "Name: 66, dtype: float64"
      ]
     },
     "execution_count": 22,
     "metadata": {},
     "output_type": "execute_result"
    }
   ],
   "source": [
    "new_df.iloc[66,:]"
   ]
  },
  {
   "cell_type": "code",
   "execution_count": 23,
   "id": "bfe943bf",
   "metadata": {},
   "outputs": [
    {
     "data": {
      "text/html": [
       "<div>\n",
       "<style scoped>\n",
       "    .dataframe tbody tr th:only-of-type {\n",
       "        vertical-align: middle;\n",
       "    }\n",
       "\n",
       "    .dataframe tbody tr th {\n",
       "        vertical-align: top;\n",
       "    }\n",
       "\n",
       "    .dataframe thead th {\n",
       "        text-align: right;\n",
       "    }\n",
       "</style>\n",
       "<table border=\"1\" class=\"dataframe\">\n",
       "  <thead>\n",
       "    <tr style=\"text-align: right;\">\n",
       "      <th></th>\n",
       "      <th>column 1</th>\n",
       "      <th>column 2</th>\n",
       "    </tr>\n",
       "  </thead>\n",
       "  <tbody>\n",
       "    <tr>\n",
       "      <th>0</th>\n",
       "      <td>-0.458660</td>\n",
       "      <td>-1.235200</td>\n",
       "    </tr>\n",
       "    <tr>\n",
       "      <th>1</th>\n",
       "      <td>0.243480</td>\n",
       "      <td>-0.873130</td>\n",
       "    </tr>\n",
       "    <tr>\n",
       "      <th>2</th>\n",
       "      <td>0.250710</td>\n",
       "      <td>-0.808030</td>\n",
       "    </tr>\n",
       "    <tr>\n",
       "      <th>3</th>\n",
       "      <td>0.214620</td>\n",
       "      <td>-0.951980</td>\n",
       "    </tr>\n",
       "    <tr>\n",
       "      <th>4</th>\n",
       "      <td>0.007083</td>\n",
       "      <td>-1.031400</td>\n",
       "    </tr>\n",
       "    <tr>\n",
       "      <th>...</th>\n",
       "      <td>...</td>\n",
       "      <td>...</td>\n",
       "    </tr>\n",
       "    <tr>\n",
       "      <th>3995</th>\n",
       "      <td>0.892650</td>\n",
       "      <td>0.278030</td>\n",
       "    </tr>\n",
       "    <tr>\n",
       "      <th>3996</th>\n",
       "      <td>0.747410</td>\n",
       "      <td>0.002092</td>\n",
       "    </tr>\n",
       "    <tr>\n",
       "      <th>3997</th>\n",
       "      <td>0.007083</td>\n",
       "      <td>0.085708</td>\n",
       "    </tr>\n",
       "    <tr>\n",
       "      <th>3998</th>\n",
       "      <td>0.703880</td>\n",
       "      <td>0.351420</td>\n",
       "    </tr>\n",
       "    <tr>\n",
       "      <th>3999</th>\n",
       "      <td>0.333360</td>\n",
       "      <td>0.425210</td>\n",
       "    </tr>\n",
       "  </tbody>\n",
       "</table>\n",
       "<p>4000 rows × 2 columns</p>\n",
       "</div>"
      ],
      "text/plain": [
       "      column 1  column 2\n",
       "0    -0.458660 -1.235200\n",
       "1     0.243480 -0.873130\n",
       "2     0.250710 -0.808030\n",
       "3     0.214620 -0.951980\n",
       "4     0.007083 -1.031400\n",
       "...        ...       ...\n",
       "3995  0.892650  0.278030\n",
       "3996  0.747410  0.002092\n",
       "3997  0.007083  0.085708\n",
       "3998  0.703880  0.351420\n",
       "3999  0.333360  0.425210\n",
       "\n",
       "[4000 rows x 2 columns]"
      ]
     },
     "execution_count": 23,
     "metadata": {},
     "output_type": "execute_result"
    }
   ],
   "source": [
    "imputations[-1]\n"
   ]
  },
  {
   "cell_type": "code",
   "execution_count": 24,
   "id": "1c8a41f8",
   "metadata": {},
   "outputs": [],
   "source": [
    "imputations[-1].to_excel(\"CNP_C_10(imp).xlsx\", index=False, header=False)"
   ]
  },
  {
   "cell_type": "code",
   "execution_count": null,
   "id": "4c2b2be6",
   "metadata": {},
   "outputs": [],
   "source": []
  },
  {
   "cell_type": "code",
   "execution_count": null,
   "id": "6f6ad3b4",
   "metadata": {},
   "outputs": [],
   "source": []
  }
 ],
 "metadata": {
  "kernelspec": {
   "display_name": "Python 3 (ipykernel)",
   "language": "python",
   "name": "python3"
  },
  "language_info": {
   "codemirror_mode": {
    "name": "ipython",
    "version": 3
   },
   "file_extension": ".py",
   "mimetype": "text/x-python",
   "name": "python",
   "nbconvert_exporter": "python",
   "pygments_lexer": "ipython3",
   "version": "3.9.7"
  }
 },
 "nbformat": 4,
 "nbformat_minor": 5
}
