{
 "cells": [
  {
   "cell_type": "code",
   "execution_count": 1,
   "id": "48128b60",
   "metadata": {},
   "outputs": [],
   "source": [
    "from sklearn.preprocessing import MinMaxScaler\n",
    "import numpy as np\n",
    "import pandas as pd\n",
    "import tensorflow as tf\n",
    "import MIDASpy as md\n",
    "import math\n"
   ]
  },
  {
   "cell_type": "code",
   "execution_count": 2,
   "id": "f638e7f0",
   "metadata": {
    "scrolled": true
   },
   "outputs": [
    {
     "data": {
      "text/html": [
       "<div>\n",
       "<style scoped>\n",
       "    .dataframe tbody tr th:only-of-type {\n",
       "        vertical-align: middle;\n",
       "    }\n",
       "\n",
       "    .dataframe tbody tr th {\n",
       "        vertical-align: top;\n",
       "    }\n",
       "\n",
       "    .dataframe thead th {\n",
       "        text-align: right;\n",
       "    }\n",
       "</style>\n",
       "<table border=\"1\" class=\"dataframe\">\n",
       "  <thead>\n",
       "    <tr style=\"text-align: right;\">\n",
       "      <th></th>\n",
       "      <th>column 1</th>\n",
       "      <th>column 2</th>\n",
       "    </tr>\n",
       "  </thead>\n",
       "  <tbody>\n",
       "    <tr>\n",
       "      <th>0</th>\n",
       "      <td>-0.45866</td>\n",
       "      <td>-1.235200</td>\n",
       "    </tr>\n",
       "    <tr>\n",
       "      <th>1</th>\n",
       "      <td>0.24348</td>\n",
       "      <td>NaN</td>\n",
       "    </tr>\n",
       "    <tr>\n",
       "      <th>2</th>\n",
       "      <td>0.25071</td>\n",
       "      <td>NaN</td>\n",
       "    </tr>\n",
       "    <tr>\n",
       "      <th>3</th>\n",
       "      <td>0.21462</td>\n",
       "      <td>-0.951980</td>\n",
       "    </tr>\n",
       "    <tr>\n",
       "      <th>4</th>\n",
       "      <td>0.12829</td>\n",
       "      <td>-1.031400</td>\n",
       "    </tr>\n",
       "    <tr>\n",
       "      <th>...</th>\n",
       "      <td>...</td>\n",
       "      <td>...</td>\n",
       "    </tr>\n",
       "    <tr>\n",
       "      <th>3995</th>\n",
       "      <td>0.89265</td>\n",
       "      <td>0.278030</td>\n",
       "    </tr>\n",
       "    <tr>\n",
       "      <th>3996</th>\n",
       "      <td>0.74741</td>\n",
       "      <td>0.428530</td>\n",
       "    </tr>\n",
       "    <tr>\n",
       "      <th>3997</th>\n",
       "      <td>1.07660</td>\n",
       "      <td>0.085708</td>\n",
       "    </tr>\n",
       "    <tr>\n",
       "      <th>3998</th>\n",
       "      <td>0.70388</td>\n",
       "      <td>0.351420</td>\n",
       "    </tr>\n",
       "    <tr>\n",
       "      <th>3999</th>\n",
       "      <td>0.33336</td>\n",
       "      <td>0.425210</td>\n",
       "    </tr>\n",
       "  </tbody>\n",
       "</table>\n",
       "<p>4000 rows × 2 columns</p>\n",
       "</div>"
      ],
      "text/plain": [
       "      column 1  column 2\n",
       "0     -0.45866 -1.235200\n",
       "1      0.24348       NaN\n",
       "2      0.25071       NaN\n",
       "3      0.21462 -0.951980\n",
       "4      0.12829 -1.031400\n",
       "...        ...       ...\n",
       "3995   0.89265  0.278030\n",
       "3996   0.74741  0.428530\n",
       "3997   1.07660  0.085708\n",
       "3998   0.70388  0.351420\n",
       "3999   0.33336  0.425210\n",
       "\n",
       "[4000 rows x 2 columns]"
      ]
     },
     "execution_count": 2,
     "metadata": {},
     "output_type": "execute_result"
    }
   ],
   "source": [
    "column_names=['column 1','column 2']\n",
    "df=pd.read_excel(r'C:\\Users\\furqz\\OneDrive\\Desktop\\Data mining stiff\\incomplete\\Incomplete Datasets Without Labels\\CNP\\CNP_NN_5.xlsx', header=None,names=column_names)\n",
    "df"
   ]
  },
  {
   "cell_type": "code",
   "execution_count": 3,
   "id": "585cc6f7",
   "metadata": {},
   "outputs": [
    {
     "name": "stdout",
     "output_type": "stream",
     "text": [
      "dataType\tcolumn_names\tNumber of Nulls\n",
      "float64\t\tcolumn 1\t200\n",
      "float64\t\tcolumn 2\t200\n"
     ]
    }
   ],
   "source": [
    "print('dataType',end='\\t')\n",
    "print('column_names',end='\\t')\n",
    "print('Number of Nulls')\n",
    "for name in column_names:\n",
    "    print(df[name].dtype,end='\\t\\t')\n",
    "    print(name,end='\\t')\n",
    "    print(df[name].isnull().sum())"
   ]
  },
  {
   "cell_type": "code",
   "execution_count": 4,
   "id": "75bd9c64",
   "metadata": {},
   "outputs": [
    {
     "data": {
      "text/html": [
       "<div>\n",
       "<style scoped>\n",
       "    .dataframe tbody tr th:only-of-type {\n",
       "        vertical-align: middle;\n",
       "    }\n",
       "\n",
       "    .dataframe tbody tr th {\n",
       "        vertical-align: top;\n",
       "    }\n",
       "\n",
       "    .dataframe thead th {\n",
       "        text-align: right;\n",
       "    }\n",
       "</style>\n",
       "<table border=\"1\" class=\"dataframe\">\n",
       "  <thead>\n",
       "    <tr style=\"text-align: right;\">\n",
       "      <th></th>\n",
       "      <th>column 1</th>\n",
       "      <th>column 2</th>\n",
       "    </tr>\n",
       "  </thead>\n",
       "  <tbody>\n",
       "    <tr>\n",
       "      <th>count</th>\n",
       "      <td>3800.000000</td>\n",
       "      <td>3800.000000</td>\n",
       "    </tr>\n",
       "    <tr>\n",
       "      <th>mean</th>\n",
       "      <td>0.011318</td>\n",
       "      <td>0.002813</td>\n",
       "    </tr>\n",
       "    <tr>\n",
       "      <th>std</th>\n",
       "      <td>0.713237</td>\n",
       "      <td>0.713941</td>\n",
       "    </tr>\n",
       "    <tr>\n",
       "      <th>min</th>\n",
       "      <td>-1.714600</td>\n",
       "      <td>-1.376500</td>\n",
       "    </tr>\n",
       "    <tr>\n",
       "      <th>25%</th>\n",
       "      <td>-0.469700</td>\n",
       "      <td>-0.493355</td>\n",
       "    </tr>\n",
       "    <tr>\n",
       "      <th>50%</th>\n",
       "      <td>0.021579</td>\n",
       "      <td>0.008146</td>\n",
       "    </tr>\n",
       "    <tr>\n",
       "      <th>75%</th>\n",
       "      <td>0.516685</td>\n",
       "      <td>0.496135</td>\n",
       "    </tr>\n",
       "    <tr>\n",
       "      <th>max</th>\n",
       "      <td>1.363900</td>\n",
       "      <td>1.344400</td>\n",
       "    </tr>\n",
       "  </tbody>\n",
       "</table>\n",
       "</div>"
      ],
      "text/plain": [
       "          column 1     column 2\n",
       "count  3800.000000  3800.000000\n",
       "mean      0.011318     0.002813\n",
       "std       0.713237     0.713941\n",
       "min      -1.714600    -1.376500\n",
       "25%      -0.469700    -0.493355\n",
       "50%       0.021579     0.008146\n",
       "75%       0.516685     0.496135\n",
       "max       1.363900     1.344400"
      ]
     },
     "execution_count": 4,
     "metadata": {},
     "output_type": "execute_result"
    }
   ],
   "source": [
    "df.describe()"
   ]
  },
  {
   "cell_type": "code",
   "execution_count": 5,
   "id": "56182ba1",
   "metadata": {
    "scrolled": true
   },
   "outputs": [
    {
     "data": {
      "text/plain": [
       "<AxesSubplot:>"
      ]
     },
     "execution_count": 5,
     "metadata": {},
     "output_type": "execute_result"
    },
    {
     "data": {
      "image/png": "[encoded data removed]",
      "text/plain": [
       "<Figure size 1080x360 with 1 Axes>"
      ]
     },
     "metadata": {
      "needs_background": "light"
     },
     "output_type": "display_data"
    }
   ],
   "source": [
    "df.boxplot(return_type='axes', figsize=(15,5))"
   ]
  },
  {
   "cell_type": "code",
   "execution_count": 6,
   "id": "856e9b6c",
   "metadata": {},
   "outputs": [
    {
     "data": {
      "text/plain": [
       "column 1    0.011318\n",
       "column 2    0.002813\n",
       "dtype: float64"
      ]
     },
     "execution_count": 6,
     "metadata": {},
     "output_type": "execute_result"
    }
   ],
   "source": [
    "df.mean()"
   ]
  },
  {
   "cell_type": "code",
   "execution_count": 7,
   "id": "18c4a9dd",
   "metadata": {},
   "outputs": [
    {
     "data": {
      "text/html": [
       "<div>\n",
       "<style scoped>\n",
       "    .dataframe tbody tr th:only-of-type {\n",
       "        vertical-align: middle;\n",
       "    }\n",
       "\n",
       "    .dataframe tbody tr th {\n",
       "        vertical-align: top;\n",
       "    }\n",
       "\n",
       "    .dataframe thead th {\n",
       "        text-align: right;\n",
       "    }\n",
       "</style>\n",
       "<table border=\"1\" class=\"dataframe\">\n",
       "  <thead>\n",
       "    <tr style=\"text-align: right;\">\n",
       "      <th></th>\n",
       "      <th>column 1</th>\n",
       "      <th>column 2</th>\n",
       "    </tr>\n",
       "  </thead>\n",
       "  <tbody>\n",
       "    <tr>\n",
       "      <th>column 1</th>\n",
       "      <td>1.000000</td>\n",
       "      <td>0.013577</td>\n",
       "    </tr>\n",
       "    <tr>\n",
       "      <th>column 2</th>\n",
       "      <td>0.013577</td>\n",
       "      <td>1.000000</td>\n",
       "    </tr>\n",
       "  </tbody>\n",
       "</table>\n",
       "</div>"
      ],
      "text/plain": [
       "          column 1  column 2\n",
       "column 1  1.000000  0.013577\n",
       "column 2  0.013577  1.000000"
      ]
     },
     "execution_count": 7,
     "metadata": {},
     "output_type": "execute_result"
    }
   ],
   "source": [
    "corr=df.corr()\n",
    "corr"
   ]
  },
  {
   "cell_type": "code",
   "execution_count": 8,
   "id": "ea626871",
   "metadata": {},
   "outputs": [],
   "source": [
    "tf.compat.v1.reset_default_graph()\n",
    "import tensorflow.compat.v1 as tf\n",
    "tf.reset_default_graph()\n"
   ]
  },
  {
   "cell_type": "code",
   "execution_count": 9,
   "id": "2830e6e4",
   "metadata": {
    "scrolled": false
   },
   "outputs": [
    {
     "name": "stdout",
     "output_type": "stream",
     "text": [
      "Size index: [2]\n",
      "\n",
      "Computation graph constructed\n",
      "\n",
      "Model initialised\n",
      "\n",
      "Epoch: 0 , loss: 1.3420793113708496\n",
      "Epoch: 1 , loss: 1.3449224052429198\n",
      "Epoch: 2 , loss: 1.3434686217308045\n",
      "Epoch: 3 , loss: 1.3432168250083922\n",
      "Epoch: 4 , loss: 1.3443458385467528\n",
      "Epoch: 5 , loss: 1.3433811507225037\n",
      "Epoch: 6 , loss: 1.3429739170074464\n",
      "Epoch: 7 , loss: 1.3422889351844787\n",
      "Epoch: 8 , loss: 1.3439628047943115\n",
      "Epoch: 9 , loss: 1.3431928615570068\n",
      "Epoch: 10 , loss: 1.3417589650154114\n",
      "Epoch: 11 , loss: 1.3428694372177123\n",
      "Epoch: 12 , loss: 1.3436247143745423\n",
      "Epoch: 13 , loss: 1.3435276682376862\n",
      "Epoch: 14 , loss: 1.3436917448043824\n",
      "Epoch: 15 , loss: 1.3443033118247987\n",
      "Epoch: 16 , loss: 1.3444162940979003\n",
      "Epoch: 17 , loss: 1.3441485509872437\n",
      "Epoch: 18 , loss: 1.3426424608230592\n",
      "Epoch: 19 , loss: 1.3440520148277282\n",
      "Epoch: 20 , loss: 1.3425065603256225\n",
      "Epoch: 21 , loss: 1.3440788626670837\n",
      "Epoch: 22 , loss: 1.343694300174713\n",
      "Epoch: 23 , loss: 1.3432666630744934\n",
      "Epoch: 24 , loss: 1.343021617412567\n",
      "Epoch: 25 , loss: 1.3435044198036195\n",
      "Epoch: 26 , loss: 1.3425992832183837\n",
      "Epoch: 27 , loss: 1.3432162308692932\n",
      "Epoch: 28 , loss: 1.344631778717041\n",
      "Epoch: 29 , loss: 1.3439586262702943\n",
      "Epoch: 30 , loss: 1.342607349395752\n",
      "Epoch: 31 , loss: 1.3428680281639098\n",
      "Epoch: 32 , loss: 1.3431027054786682\n",
      "Epoch: 33 , loss: 1.3435837707519531\n",
      "Epoch: 34 , loss: 1.3438599648475646\n",
      "Epoch: 35 , loss: 1.3435444469451905\n",
      "Epoch: 36 , loss: 1.3440831561088562\n",
      "Epoch: 37 , loss: 1.34251140832901\n",
      "Epoch: 38 , loss: 1.3443619084358216\n",
      "Epoch: 39 , loss: 1.3457411465644837\n",
      "Epoch: 40 , loss: 1.3440373611450196\n",
      "Epoch: 41 , loss: 1.3443549151420593\n",
      "Epoch: 42 , loss: 1.343053095817566\n",
      "Epoch: 43 , loss: 1.344773762702942\n",
      "Epoch: 44 , loss: 1.343090751647949\n",
      "Epoch: 45 , loss: 1.3444054083824157\n",
      "Epoch: 46 , loss: 1.3441571912765502\n",
      "Epoch: 47 , loss: 1.3428054757118224\n",
      "Epoch: 48 , loss: 1.3427101407051087\n",
      "Epoch: 49 , loss: 1.3428120906352996\n",
      "Epoch: 50 , loss: 1.3448653917312623\n",
      "Epoch: 51 , loss: 1.3422745521068573\n",
      "Epoch: 52 , loss: 1.3432473483085632\n",
      "Epoch: 53 , loss: 1.3432653217315673\n",
      "Epoch: 54 , loss: 1.3434302625656127\n",
      "Epoch: 55 , loss: 1.3432561240196228\n",
      "Epoch: 56 , loss: 1.3452413666248322\n",
      "Epoch: 57 , loss: 1.344549509525299\n",
      "Epoch: 58 , loss: 1.3447398529052734\n",
      "Epoch: 59 , loss: 1.3413380455970765\n",
      "Epoch: 60 , loss: 1.3430605006217957\n",
      "Epoch: 61 , loss: 1.344393916606903\n",
      "Epoch: 62 , loss: 1.3437557411193848\n",
      "Epoch: 63 , loss: 1.3423961482048035\n",
      "Epoch: 64 , loss: 1.3428246245384217\n",
      "Epoch: 65 , loss: 1.34500625371933\n",
      "Epoch: 66 , loss: 1.3431560163497924\n",
      "Epoch: 67 , loss: 1.3431084733009337\n",
      "Epoch: 68 , loss: 1.34460551071167\n",
      "Epoch: 69 , loss: 1.343224790096283\n",
      "Epoch: 70 , loss: 1.3424757750034333\n",
      "Epoch: 71 , loss: 1.3440272560119628\n",
      "Epoch: 72 , loss: 1.3437216987609863\n",
      "Epoch: 73 , loss: 1.3428729453086854\n",
      "Epoch: 74 , loss: 1.3453005590438842\n",
      "Epoch: 75 , loss: 1.3452528915405273\n",
      "Epoch: 76 , loss: 1.3431390719413758\n",
      "Epoch: 77 , loss: 1.34476113986969\n",
      "Epoch: 78 , loss: 1.3412685322761535\n",
      "Epoch: 79 , loss: 1.3433098425865173\n",
      "Epoch: 80 , loss: 1.3440671825408936\n",
      "Epoch: 81 , loss: 1.344501965045929\n",
      "Epoch: 82 , loss: 1.3443540077209473\n",
      "Epoch: 83 , loss: 1.343439489364624\n",
      "Epoch: 84 , loss: 1.3429694333076476\n",
      "Epoch: 85 , loss: 1.3436022753715515\n",
      "Epoch: 86 , loss: 1.344236270904541\n",
      "Epoch: 87 , loss: 1.3441569101810455\n",
      "Epoch: 88 , loss: 1.3440297594070434\n",
      "Epoch: 89 , loss: 1.3423022656440735\n",
      "Epoch: 90 , loss: 1.3428178167343139\n",
      "Epoch: 91 , loss: 1.3436912808418273\n",
      "Epoch: 92 , loss: 1.342678626060486\n",
      "Epoch: 93 , loss: 1.34298899269104\n",
      "Epoch: 94 , loss: 1.3434603157043457\n",
      "Epoch: 95 , loss: 1.3439687933921813\n",
      "Epoch: 96 , loss: 1.3441439790725709\n",
      "Epoch: 97 , loss: 1.3426051149368285\n",
      "Epoch: 98 , loss: 1.3445065302848815\n",
      "Epoch: 99 , loss: 1.3434002261161804\n",
      "Training complete. Saving file...\n",
      "Model saved in file: tmp/MIDAS\n"
     ]
    },
    {
     "data": {
      "text/plain": [
       "<MIDASpy.midas_base.Midas at 0x15e43245f10>"
      ]
     },
     "execution_count": 9,
     "metadata": {},
     "output_type": "execute_result"
    }
   ],
   "source": [
    "imputer = md.Midas(layer_structure = [2,2+8,2+8+8,2+8+8+8,2+8+8+8+8,2+8+8+8,2+8+8,2+8,2], vae_layer = False, seed = 8)\n",
    "imputer.build_model(df)\n",
    "imputer.train_model(training_epochs=100)\n"
   ]
  },
  {
   "cell_type": "code",
   "execution_count": 10,
   "id": "6f0fef50",
   "metadata": {},
   "outputs": [
    {
     "name": "stdout",
     "output_type": "stream",
     "text": [
      "INFO:tensorflow:Restoring parameters from tmp/MIDAS\n",
      "Model restored.\n"
     ]
    },
    {
     "data": {
      "text/plain": [
       "(4000, 2)"
      ]
     },
     "execution_count": 10,
     "metadata": {},
     "output_type": "execute_result"
    }
   ],
   "source": [
    "imputations=imputer.generate_samples(m=15).output_list\n",
    "np.shape(imputations[-1])"
   ]
  },
  {
   "cell_type": "code",
   "execution_count": 11,
   "id": "7842db79",
   "metadata": {},
   "outputs": [
    {
     "data": {
      "text/plain": [
       "column 1    0.025127\n",
       "column 2   -1.258200\n",
       "Name: 21, dtype: float64"
      ]
     },
     "execution_count": 11,
     "metadata": {},
     "output_type": "execute_result"
    }
   ],
   "source": [
    "new_df=imputations[-1]\n",
    "new_df.iloc[21,:]\n"
   ]
  },
  {
   "cell_type": "code",
   "execution_count": 12,
   "id": "a254172c",
   "metadata": {},
   "outputs": [],
   "source": [
    "complete_df=pd.read_excel(r'C:\\Users\\furqz\\OneDrive\\Desktop\\Data mining stiff\\complete\\Original Datasets Without Labels\\CNP.xlsx', header=None,names=column_names)"
   ]
  },
  {
   "cell_type": "code",
   "execution_count": 13,
   "id": "0a697afe",
   "metadata": {},
   "outputs": [
    {
     "data": {
      "text/html": [
       "<div>\n",
       "<style scoped>\n",
       "    .dataframe tbody tr th:only-of-type {\n",
       "        vertical-align: middle;\n",
       "    }\n",
       "\n",
       "    .dataframe tbody tr th {\n",
       "        vertical-align: top;\n",
       "    }\n",
       "\n",
       "    .dataframe thead th {\n",
       "        text-align: right;\n",
       "    }\n",
       "</style>\n",
       "<table border=\"1\" class=\"dataframe\">\n",
       "  <thead>\n",
       "    <tr style=\"text-align: right;\">\n",
       "      <th></th>\n",
       "      <th>column 1</th>\n",
       "      <th>column 2</th>\n",
       "    </tr>\n",
       "  </thead>\n",
       "  <tbody>\n",
       "    <tr>\n",
       "      <th>0</th>\n",
       "      <td>0.0</td>\n",
       "      <td>0.000000</td>\n",
       "    </tr>\n",
       "    <tr>\n",
       "      <th>1</th>\n",
       "      <td>0.0</td>\n",
       "      <td>0.875218</td>\n",
       "    </tr>\n",
       "    <tr>\n",
       "      <th>2</th>\n",
       "      <td>0.0</td>\n",
       "      <td>0.810118</td>\n",
       "    </tr>\n",
       "    <tr>\n",
       "      <th>3</th>\n",
       "      <td>0.0</td>\n",
       "      <td>0.000000</td>\n",
       "    </tr>\n",
       "    <tr>\n",
       "      <th>4</th>\n",
       "      <td>0.0</td>\n",
       "      <td>0.000000</td>\n",
       "    </tr>\n",
       "    <tr>\n",
       "      <th>...</th>\n",
       "      <td>...</td>\n",
       "      <td>...</td>\n",
       "    </tr>\n",
       "    <tr>\n",
       "      <th>3995</th>\n",
       "      <td>0.0</td>\n",
       "      <td>0.000000</td>\n",
       "    </tr>\n",
       "    <tr>\n",
       "      <th>3996</th>\n",
       "      <td>0.0</td>\n",
       "      <td>0.000000</td>\n",
       "    </tr>\n",
       "    <tr>\n",
       "      <th>3997</th>\n",
       "      <td>0.0</td>\n",
       "      <td>0.000000</td>\n",
       "    </tr>\n",
       "    <tr>\n",
       "      <th>3998</th>\n",
       "      <td>0.0</td>\n",
       "      <td>0.000000</td>\n",
       "    </tr>\n",
       "    <tr>\n",
       "      <th>3999</th>\n",
       "      <td>0.0</td>\n",
       "      <td>0.000000</td>\n",
       "    </tr>\n",
       "  </tbody>\n",
       "</table>\n",
       "<p>4000 rows × 2 columns</p>\n",
       "</div>"
      ],
      "text/plain": [
       "      column 1  column 2\n",
       "0          0.0  0.000000\n",
       "1          0.0  0.875218\n",
       "2          0.0  0.810118\n",
       "3          0.0  0.000000\n",
       "4          0.0  0.000000\n",
       "...        ...       ...\n",
       "3995       0.0  0.000000\n",
       "3996       0.0  0.000000\n",
       "3997       0.0  0.000000\n",
       "3998       0.0  0.000000\n",
       "3999       0.0  0.000000\n",
       "\n",
       "[4000 rows x 2 columns]"
      ]
     },
     "execution_count": 13,
     "metadata": {},
     "output_type": "execute_result"
    }
   ],
   "source": [
    "new_df-complete_df"
   ]
  },
  {
   "cell_type": "markdown",
   "id": "34858b00",
   "metadata": {},
   "source": [
    "Calculating NRMSE Value"
   ]
  },
  {
   "cell_type": "code",
   "execution_count": 14,
   "id": "b0e8d66c",
   "metadata": {},
   "outputs": [],
   "source": [
    "\n",
    "def Sum_new(sum):\n",
    "    summ=0\n",
    "    for n in sum:\n",
    "        summ=summ+n\n",
    "    return (summ)\n",
    "\n"
   ]
  },
  {
   "cell_type": "code",
   "execution_count": 15,
   "id": "ac7182c5",
   "metadata": {},
   "outputs": [],
   "source": [
    "def Frobenius_norm(number):\n",
    "    num=number\n",
    "    abs_val=num.abs()\n",
    "    power_abs=abs_val**2\n",
    "    sum1=power_abs.sum()\n",
    "    total_sum=Sum_new(sum1)\n",
    "    return(math.sqrt(total_sum))"
   ]
  },
  {
   "cell_type": "code",
   "execution_count": 16,
   "id": "7ab26717",
   "metadata": {},
   "outputs": [
    {
     "data": {
      "text/plain": [
       "(18.63360346634762, 64.9340549279942)"
      ]
     },
     "execution_count": 16,
     "metadata": {},
     "output_type": "execute_result"
    }
   ],
   "source": [
    "numerator=Frobenius_norm(new_df-complete_df)\n",
    "denominator=Frobenius_norm(complete_df)\n",
    "numerator, denominator"
   ]
  },
  {
   "cell_type": "code",
   "execution_count": 17,
   "id": "895364b7",
   "metadata": {},
   "outputs": [
    {
     "data": {
      "text/plain": [
       "0.28696195681927683"
      ]
     },
     "execution_count": 17,
     "metadata": {},
     "output_type": "execute_result"
    }
   ],
   "source": [
    "NRMS=numerator/denominator\n",
    "NRMS\n"
   ]
  },
  {
   "cell_type": "code",
   "execution_count": 18,
   "id": "84845123",
   "metadata": {},
   "outputs": [
    {
     "data": {
      "text/plain": [
       "column 1    0.12305\n",
       "column 2   -1.03610\n",
       "Name: 66, dtype: float64"
      ]
     },
     "execution_count": 18,
     "metadata": {},
     "output_type": "execute_result"
    }
   ],
   "source": [
    "new_df.iloc[66,:]"
   ]
  },
  {
   "cell_type": "code",
   "execution_count": 19,
   "id": "bfe943bf",
   "metadata": {},
   "outputs": [
    {
     "data": {
      "text/html": [
       "<div>\n",
       "<style scoped>\n",
       "    .dataframe tbody tr th:only-of-type {\n",
       "        vertical-align: middle;\n",
       "    }\n",
       "\n",
       "    .dataframe tbody tr th {\n",
       "        vertical-align: top;\n",
       "    }\n",
       "\n",
       "    .dataframe thead th {\n",
       "        text-align: right;\n",
       "    }\n",
       "</style>\n",
       "<table border=\"1\" class=\"dataframe\">\n",
       "  <thead>\n",
       "    <tr style=\"text-align: right;\">\n",
       "      <th></th>\n",
       "      <th>column 1</th>\n",
       "      <th>column 2</th>\n",
       "    </tr>\n",
       "  </thead>\n",
       "  <tbody>\n",
       "    <tr>\n",
       "      <th>0</th>\n",
       "      <td>-0.45866</td>\n",
       "      <td>-1.235200</td>\n",
       "    </tr>\n",
       "    <tr>\n",
       "      <th>1</th>\n",
       "      <td>0.24348</td>\n",
       "      <td>0.002088</td>\n",
       "    </tr>\n",
       "    <tr>\n",
       "      <th>2</th>\n",
       "      <td>0.25071</td>\n",
       "      <td>0.002088</td>\n",
       "    </tr>\n",
       "    <tr>\n",
       "      <th>3</th>\n",
       "      <td>0.21462</td>\n",
       "      <td>-0.951980</td>\n",
       "    </tr>\n",
       "    <tr>\n",
       "      <th>4</th>\n",
       "      <td>0.12829</td>\n",
       "      <td>-1.031400</td>\n",
       "    </tr>\n",
       "    <tr>\n",
       "      <th>...</th>\n",
       "      <td>...</td>\n",
       "      <td>...</td>\n",
       "    </tr>\n",
       "    <tr>\n",
       "      <th>3995</th>\n",
       "      <td>0.89265</td>\n",
       "      <td>0.278030</td>\n",
       "    </tr>\n",
       "    <tr>\n",
       "      <th>3996</th>\n",
       "      <td>0.74741</td>\n",
       "      <td>0.428530</td>\n",
       "    </tr>\n",
       "    <tr>\n",
       "      <th>3997</th>\n",
       "      <td>1.07660</td>\n",
       "      <td>0.085708</td>\n",
       "    </tr>\n",
       "    <tr>\n",
       "      <th>3998</th>\n",
       "      <td>0.70388</td>\n",
       "      <td>0.351420</td>\n",
       "    </tr>\n",
       "    <tr>\n",
       "      <th>3999</th>\n",
       "      <td>0.33336</td>\n",
       "      <td>0.425210</td>\n",
       "    </tr>\n",
       "  </tbody>\n",
       "</table>\n",
       "<p>4000 rows × 2 columns</p>\n",
       "</div>"
      ],
      "text/plain": [
       "      column 1  column 2\n",
       "0     -0.45866 -1.235200\n",
       "1      0.24348  0.002088\n",
       "2      0.25071  0.002088\n",
       "3      0.21462 -0.951980\n",
       "4      0.12829 -1.031400\n",
       "...        ...       ...\n",
       "3995   0.89265  0.278030\n",
       "3996   0.74741  0.428530\n",
       "3997   1.07660  0.085708\n",
       "3998   0.70388  0.351420\n",
       "3999   0.33336  0.425210\n",
       "\n",
       "[4000 rows x 2 columns]"
      ]
     },
     "execution_count": 19,
     "metadata": {},
     "output_type": "execute_result"
    }
   ],
   "source": [
    "imputations[-1]\n"
   ]
  },
  {
   "cell_type": "code",
   "execution_count": 20,
   "id": "1c8a41f8",
   "metadata": {},
   "outputs": [],
   "source": [
    "imputations[-1].to_excel(\"CNP_NN_5(imp).xlsx\", index=False, header=False)"
   ]
  },
  {
   "cell_type": "code",
   "execution_count": null,
   "id": "4c2b2be6",
   "metadata": {},
   "outputs": [],
   "source": []
  },
  {
   "cell_type": "code",
   "execution_count": null,
   "id": "6f6ad3b4",
   "metadata": {},
   "outputs": [],
   "source": []
  }
 ],
 "metadata": {
  "kernelspec": {
   "display_name": "Python 3 (ipykernel)",
   "language": "python",
   "name": "python3"
  },
  "language_info": {
   "codemirror_mode": {
    "name": "ipython",
    "version": 3
   },
   "file_extension": ".py",
   "mimetype": "text/x-python",
   "name": "python",
   "nbconvert_exporter": "python",
   "pygments_lexer": "ipython3",
   "version": "3.9.7"
  }
 },
 "nbformat": 4,
 "nbformat_minor": 5
}
