{
 "cells": [
  {
   "cell_type": "code",
   "execution_count": 1,
   "id": "48128b60",
   "metadata": {},
   "outputs": [],
   "source": [
    "from sklearn.preprocessing import MinMaxScaler\n",
    "import numpy as np\n",
    "import pandas as pd\n",
    "import tensorflow as tf\n",
    "import MIDASpy as md\n",
    "import math\n"
   ]
  },
  {
   "cell_type": "code",
   "execution_count": 3,
   "id": "f638e7f0",
   "metadata": {
    "scrolled": true
   },
   "outputs": [
    {
     "data": {
      "text/html": [
       "<div>\n",
       "<style scoped>\n",
       "    .dataframe tbody tr th:only-of-type {\n",
       "        vertical-align: middle;\n",
       "    }\n",
       "\n",
       "    .dataframe tbody tr th {\n",
       "        vertical-align: top;\n",
       "    }\n",
       "\n",
       "    .dataframe thead th {\n",
       "        text-align: right;\n",
       "    }\n",
       "</style>\n",
       "<table border=\"1\" class=\"dataframe\">\n",
       "  <thead>\n",
       "    <tr style=\"text-align: right;\">\n",
       "      <th></th>\n",
       "      <th>column 1</th>\n",
       "      <th>column 2</th>\n",
       "    </tr>\n",
       "  </thead>\n",
       "  <tbody>\n",
       "    <tr>\n",
       "      <th>0</th>\n",
       "      <td>-0.45866</td>\n",
       "      <td>-1.235200</td>\n",
       "    </tr>\n",
       "    <tr>\n",
       "      <th>1</th>\n",
       "      <td>0.24348</td>\n",
       "      <td>-0.873130</td>\n",
       "    </tr>\n",
       "    <tr>\n",
       "      <th>2</th>\n",
       "      <td>0.25071</td>\n",
       "      <td>-0.808030</td>\n",
       "    </tr>\n",
       "    <tr>\n",
       "      <th>3</th>\n",
       "      <td>0.21462</td>\n",
       "      <td>-0.951980</td>\n",
       "    </tr>\n",
       "    <tr>\n",
       "      <th>4</th>\n",
       "      <td>0.12829</td>\n",
       "      <td>-1.031400</td>\n",
       "    </tr>\n",
       "    <tr>\n",
       "      <th>...</th>\n",
       "      <td>...</td>\n",
       "      <td>...</td>\n",
       "    </tr>\n",
       "    <tr>\n",
       "      <th>3995</th>\n",
       "      <td>0.89265</td>\n",
       "      <td>0.278030</td>\n",
       "    </tr>\n",
       "    <tr>\n",
       "      <th>3996</th>\n",
       "      <td>0.74741</td>\n",
       "      <td>0.428530</td>\n",
       "    </tr>\n",
       "    <tr>\n",
       "      <th>3997</th>\n",
       "      <td>1.07660</td>\n",
       "      <td>0.085708</td>\n",
       "    </tr>\n",
       "    <tr>\n",
       "      <th>3998</th>\n",
       "      <td>NaN</td>\n",
       "      <td>0.351420</td>\n",
       "    </tr>\n",
       "    <tr>\n",
       "      <th>3999</th>\n",
       "      <td>0.33336</td>\n",
       "      <td>0.425210</td>\n",
       "    </tr>\n",
       "  </tbody>\n",
       "</table>\n",
       "<p>4000 rows × 2 columns</p>\n",
       "</div>"
      ],
      "text/plain": [
       "      column 1  column 2\n",
       "0     -0.45866 -1.235200\n",
       "1      0.24348 -0.873130\n",
       "2      0.25071 -0.808030\n",
       "3      0.21462 -0.951980\n",
       "4      0.12829 -1.031400\n",
       "...        ...       ...\n",
       "3995   0.89265  0.278030\n",
       "3996   0.74741  0.428530\n",
       "3997   1.07660  0.085708\n",
       "3998       NaN  0.351420\n",
       "3999   0.33336  0.425210\n",
       "\n",
       "[4000 rows x 2 columns]"
      ]
     },
     "execution_count": 3,
     "metadata": {},
     "output_type": "execute_result"
    }
   ],
   "source": [
    "column_names=['column 1','column 2']\n",
    "df=pd.read_excel(r'C:\\Users\\furqz\\OneDrive\\Desktop\\Data mining stiff\\incomplete\\Incomplete Datasets Without Labels\\CNP\\CNP_NL_5.xlsx', header=None,names=column_names)\n",
    "df"
   ]
  },
  {
   "cell_type": "code",
   "execution_count": 4,
   "id": "585cc6f7",
   "metadata": {},
   "outputs": [
    {
     "name": "stdout",
     "output_type": "stream",
     "text": [
      "dataType\tcolumn_names\tNumber of Nulls\n",
      "float64\t\tcolumn 1\t400\n",
      "float64\t\tcolumn 2\t0\n"
     ]
    }
   ],
   "source": [
    "print('dataType',end='\\t')\n",
    "print('column_names',end='\\t')\n",
    "print('Number of Nulls')\n",
    "for name in column_names:\n",
    "    print(df[name].dtype,end='\\t\\t')\n",
    "    print(name,end='\\t')\n",
    "    print(df[name].isnull().sum())"
   ]
  },
  {
   "cell_type": "code",
   "execution_count": 5,
   "id": "75bd9c64",
   "metadata": {},
   "outputs": [
    {
     "data": {
      "text/html": [
       "<div>\n",
       "<style scoped>\n",
       "    .dataframe tbody tr th:only-of-type {\n",
       "        vertical-align: middle;\n",
       "    }\n",
       "\n",
       "    .dataframe tbody tr th {\n",
       "        vertical-align: top;\n",
       "    }\n",
       "\n",
       "    .dataframe thead th {\n",
       "        text-align: right;\n",
       "    }\n",
       "</style>\n",
       "<table border=\"1\" class=\"dataframe\">\n",
       "  <thead>\n",
       "    <tr style=\"text-align: right;\">\n",
       "      <th></th>\n",
       "      <th>column 1</th>\n",
       "      <th>column 2</th>\n",
       "    </tr>\n",
       "  </thead>\n",
       "  <tbody>\n",
       "    <tr>\n",
       "      <th>count</th>\n",
       "      <td>3600.000000</td>\n",
       "      <td>4000.000000</td>\n",
       "    </tr>\n",
       "    <tr>\n",
       "      <th>mean</th>\n",
       "      <td>0.007068</td>\n",
       "      <td>0.005335</td>\n",
       "    </tr>\n",
       "    <tr>\n",
       "      <th>std</th>\n",
       "      <td>0.702878</td>\n",
       "      <td>0.725858</td>\n",
       "    </tr>\n",
       "    <tr>\n",
       "      <th>min</th>\n",
       "      <td>-1.714600</td>\n",
       "      <td>-1.376500</td>\n",
       "    </tr>\n",
       "    <tr>\n",
       "      <th>25%</th>\n",
       "      <td>-0.452477</td>\n",
       "      <td>-0.522537</td>\n",
       "    </tr>\n",
       "    <tr>\n",
       "      <th>50%</th>\n",
       "      <td>0.010554</td>\n",
       "      <td>0.006928</td>\n",
       "    </tr>\n",
       "    <tr>\n",
       "      <th>75%</th>\n",
       "      <td>0.487025</td>\n",
       "      <td>0.547872</td>\n",
       "    </tr>\n",
       "    <tr>\n",
       "      <th>max</th>\n",
       "      <td>1.363900</td>\n",
       "      <td>1.344400</td>\n",
       "    </tr>\n",
       "  </tbody>\n",
       "</table>\n",
       "</div>"
      ],
      "text/plain": [
       "          column 1     column 2\n",
       "count  3600.000000  4000.000000\n",
       "mean      0.007068     0.005335\n",
       "std       0.702878     0.725858\n",
       "min      -1.714600    -1.376500\n",
       "25%      -0.452477    -0.522537\n",
       "50%       0.010554     0.006928\n",
       "75%       0.487025     0.547872\n",
       "max       1.363900     1.344400"
      ]
     },
     "execution_count": 5,
     "metadata": {},
     "output_type": "execute_result"
    }
   ],
   "source": [
    "df.describe()"
   ]
  },
  {
   "cell_type": "code",
   "execution_count": 6,
   "id": "56182ba1",
   "metadata": {
    "scrolled": true
   },
   "outputs": [
    {
     "data": {
      "text/plain": [
       "<AxesSubplot:>"
      ]
     },
     "execution_count": 6,
     "metadata": {},
     "output_type": "execute_result"
    },
    {
     "data": {
      "image/png": "[encoded data removed]",
      "text/plain": [
       "<Figure size 1080x360 with 1 Axes>"
      ]
     },
     "metadata": {
      "needs_background": "light"
     },
     "output_type": "display_data"
    }
   ],
   "source": [
    "df.boxplot(return_type='axes', figsize=(15,5))"
   ]
  },
  {
   "cell_type": "code",
   "execution_count": 7,
   "id": "856e9b6c",
   "metadata": {},
   "outputs": [
    {
     "data": {
      "text/plain": [
       "column 1    0.007068\n",
       "column 2    0.005335\n",
       "dtype: float64"
      ]
     },
     "execution_count": 7,
     "metadata": {},
     "output_type": "execute_result"
    }
   ],
   "source": [
    "df.mean()"
   ]
  },
  {
   "cell_type": "code",
   "execution_count": 8,
   "id": "18c4a9dd",
   "metadata": {},
   "outputs": [
    {
     "data": {
      "text/html": [
       "<div>\n",
       "<style scoped>\n",
       "    .dataframe tbody tr th:only-of-type {\n",
       "        vertical-align: middle;\n",
       "    }\n",
       "\n",
       "    .dataframe tbody tr th {\n",
       "        vertical-align: top;\n",
       "    }\n",
       "\n",
       "    .dataframe thead th {\n",
       "        text-align: right;\n",
       "    }\n",
       "</style>\n",
       "<table border=\"1\" class=\"dataframe\">\n",
       "  <thead>\n",
       "    <tr style=\"text-align: right;\">\n",
       "      <th></th>\n",
       "      <th>column 1</th>\n",
       "      <th>column 2</th>\n",
       "    </tr>\n",
       "  </thead>\n",
       "  <tbody>\n",
       "    <tr>\n",
       "      <th>column 1</th>\n",
       "      <td>1.000000</td>\n",
       "      <td>0.002797</td>\n",
       "    </tr>\n",
       "    <tr>\n",
       "      <th>column 2</th>\n",
       "      <td>0.002797</td>\n",
       "      <td>1.000000</td>\n",
       "    </tr>\n",
       "  </tbody>\n",
       "</table>\n",
       "</div>"
      ],
      "text/plain": [
       "          column 1  column 2\n",
       "column 1  1.000000  0.002797\n",
       "column 2  0.002797  1.000000"
      ]
     },
     "execution_count": 8,
     "metadata": {},
     "output_type": "execute_result"
    }
   ],
   "source": [
    "corr=df.corr()\n",
    "corr"
   ]
  },
  {
   "cell_type": "code",
   "execution_count": 9,
   "id": "ea626871",
   "metadata": {},
   "outputs": [],
   "source": [
    "tf.compat.v1.reset_default_graph()\n",
    "import tensorflow.compat.v1 as tf\n",
    "tf.reset_default_graph()\n"
   ]
  },
  {
   "cell_type": "code",
   "execution_count": 10,
   "id": "2830e6e4",
   "metadata": {
    "scrolled": false
   },
   "outputs": [
    {
     "name": "stdout",
     "output_type": "stream",
     "text": [
      "Size index: [2]\n",
      "\n",
      "Computation graph constructed\n",
      "\n",
      "Model initialised\n",
      "\n",
      "Epoch: 0 , loss: 1.3452802605628966\n",
      "Epoch: 1 , loss: 1.3082468402385712\n",
      "Epoch: 2 , loss: 1.2620572283267975\n",
      "Epoch: 3 , loss: 1.2622630507946015\n",
      "Epoch: 4 , loss: 1.260634629011154\n",
      "Epoch: 5 , loss: 1.251324980020523\n",
      "Epoch: 6 , loss: 1.2555642485618592\n",
      "Epoch: 7 , loss: 1.2481240611076354\n",
      "Epoch: 8 , loss: 1.2524724254608155\n",
      "Epoch: 9 , loss: 1.2512667102813722\n",
      "Epoch: 10 , loss: 1.2516412165164947\n",
      "Epoch: 11 , loss: 1.247938631772995\n",
      "Epoch: 12 , loss: 1.2543079771995544\n",
      "Epoch: 13 , loss: 1.2471186673641206\n",
      "Epoch: 14 , loss: 1.248910200357437\n",
      "Epoch: 15 , loss: 1.2566752862930297\n",
      "Epoch: 16 , loss: 1.2494761254787445\n",
      "Epoch: 17 , loss: 1.2565852460861207\n",
      "Epoch: 18 , loss: 1.254629611492157\n",
      "Epoch: 19 , loss: 1.2516259462833406\n",
      "Epoch: 20 , loss: 1.2592621593475342\n",
      "Epoch: 21 , loss: 1.2552006249427796\n",
      "Epoch: 22 , loss: 1.256763671398163\n",
      "Epoch: 23 , loss: 1.2590167598724364\n",
      "Epoch: 24 , loss: 1.258225991010666\n",
      "Epoch: 25 , loss: 1.257857676267624\n",
      "Epoch: 26 , loss: 1.2609125101566314\n",
      "Epoch: 27 , loss: 1.2594996592998504\n",
      "Epoch: 28 , loss: 1.26044833278656\n",
      "Epoch: 29 , loss: 1.2666912651062012\n",
      "Epoch: 30 , loss: 1.2585084676742553\n",
      "Epoch: 31 , loss: 1.2598830714225768\n",
      "Epoch: 32 , loss: 1.2576336617469788\n",
      "Epoch: 33 , loss: 1.2533532705307007\n",
      "Epoch: 34 , loss: 1.2591715197563171\n",
      "Epoch: 35 , loss: 1.2618931646347047\n",
      "Epoch: 36 , loss: 1.2582687799930572\n",
      "Epoch: 37 , loss: 1.2617722799777984\n",
      "Epoch: 38 , loss: 1.2677625243663788\n",
      "Epoch: 39 , loss: 1.265180772304535\n",
      "Epoch: 40 , loss: 1.2571969411373138\n",
      "Epoch: 41 , loss: 1.2564875543117524\n",
      "Epoch: 42 , loss: 1.2637032766342162\n",
      "Epoch: 43 , loss: 1.2639981336593629\n",
      "Epoch: 44 , loss: 1.2616742606163025\n",
      "Epoch: 45 , loss: 1.2677110607624054\n",
      "Epoch: 46 , loss: 1.268843461036682\n",
      "Epoch: 47 , loss: 1.265117668390274\n",
      "Epoch: 48 , loss: 1.2568556270599365\n",
      "Epoch: 49 , loss: 1.2648106698989867\n",
      "Epoch: 50 , loss: 1.2630155193805694\n",
      "Epoch: 51 , loss: 1.2611930627822876\n",
      "Epoch: 52 , loss: 1.2639236209392548\n",
      "Epoch: 53 , loss: 1.2653479318618774\n",
      "Epoch: 54 , loss: 1.2672128105163574\n",
      "Epoch: 55 , loss: 1.2653405501842498\n",
      "Epoch: 56 , loss: 1.2643509182929993\n",
      "Epoch: 57 , loss: 1.2687581791877747\n",
      "Epoch: 58 , loss: 1.2607697942256928\n",
      "Epoch: 59 , loss: 1.2682278032302856\n",
      "Epoch: 60 , loss: 1.2631370997428895\n",
      "Epoch: 61 , loss: 1.2640200669765473\n",
      "Epoch: 62 , loss: 1.2641375870704652\n",
      "Epoch: 63 , loss: 1.2681648943424224\n",
      "Epoch: 64 , loss: 1.266631906747818\n",
      "Epoch: 65 , loss: 1.2656787090301513\n",
      "Epoch: 66 , loss: 1.260562514781952\n",
      "Epoch: 67 , loss: 1.2639834876060485\n",
      "Epoch: 68 , loss: 1.266121957540512\n",
      "Epoch: 69 , loss: 1.2687147657871247\n",
      "Epoch: 70 , loss: 1.2664010186195374\n",
      "Epoch: 71 , loss: 1.2677762084007262\n",
      "Epoch: 72 , loss: 1.2680332190990449\n",
      "Epoch: 73 , loss: 1.2671830427646638\n",
      "Epoch: 74 , loss: 1.2680009438991546\n",
      "Epoch: 75 , loss: 1.2686958713531493\n",
      "Epoch: 76 , loss: 1.2687296912670136\n",
      "Epoch: 77 , loss: 1.2665799071788788\n",
      "Epoch: 78 , loss: 1.2636549251079559\n",
      "Epoch: 79 , loss: 1.269481077671051\n",
      "Epoch: 80 , loss: 1.2622454006671906\n",
      "Epoch: 81 , loss: 1.2664943401813507\n",
      "Epoch: 82 , loss: 1.2649834055900573\n",
      "Epoch: 83 , loss: 1.2641655735969544\n",
      "Epoch: 84 , loss: 1.269397076368332\n",
      "Epoch: 85 , loss: 1.2636675279140472\n",
      "Epoch: 86 , loss: 1.268633496761322\n",
      "Epoch: 87 , loss: 1.2712847640514373\n",
      "Epoch: 88 , loss: 1.2693632411956788\n",
      "Epoch: 89 , loss: 1.2645841188430786\n",
      "Epoch: 90 , loss: 1.266281420469284\n",
      "Epoch: 91 , loss: 1.2731758399009705\n",
      "Epoch: 92 , loss: 1.2657734327316283\n",
      "Epoch: 93 , loss: 1.2636182899475097\n",
      "Epoch: 94 , loss: 1.263175506591797\n",
      "Epoch: 95 , loss: 1.2723046088218688\n",
      "Epoch: 96 , loss: 1.2631923546791077\n",
      "Epoch: 97 , loss: 1.2645031576156616\n",
      "Epoch: 98 , loss: 1.2613185374736786\n",
      "Epoch: 99 , loss: 1.2674125876426696\n",
      "Epoch: 100 , loss: 1.2638771846294403\n",
      "Epoch: 101 , loss: 1.2687857320308686\n",
      "Epoch: 102 , loss: 1.2716278762817383\n",
      "Epoch: 103 , loss: 1.2640419855117797\n",
      "Epoch: 104 , loss: 1.2679474556446075\n",
      "Epoch: 105 , loss: 1.2647059016227722\n",
      "Epoch: 106 , loss: 1.2640087871551513\n",
      "Epoch: 107 , loss: 1.2642172479629517\n",
      "Epoch: 108 , loss: 1.2622764070034027\n",
      "Training complete. Saving file...\n",
      "Model saved in file: tmp/MIDAS\n"
     ]
    },
    {
     "data": {
      "text/plain": [
       "<MIDASpy.midas_base.Midas at 0x2199cb8f040>"
      ]
     },
     "execution_count": 10,
     "metadata": {},
     "output_type": "execute_result"
    }
   ],
   "source": [
    "imputer = md.Midas(layer_structure = [2,2+109,2+109+109,2+109+109+109,2+109+109+109+109,2+109+109+109+109+109,2+109+109+109+109,2+109+109+109,2+109+109,2+109,2], vae_layer = False, seed = 109)\n",
    "imputer.build_model(df)\n",
    "imputer.train_model(training_epochs=100)\n"
   ]
  },
  {
   "cell_type": "code",
   "execution_count": 11,
   "id": "6f0fef50",
   "metadata": {},
   "outputs": [
    {
     "name": "stdout",
     "output_type": "stream",
     "text": [
      "INFO:tensorflow:Restoring parameters from tmp/MIDAS\n",
      "Model restored.\n"
     ]
    },
    {
     "data": {
      "text/plain": [
       "(4000, 2)"
      ]
     },
     "execution_count": 11,
     "metadata": {},
     "output_type": "execute_result"
    }
   ],
   "source": [
    "imputations=imputer.generate_samples(m=15).output_list\n",
    "np.shape(imputations[-1])"
   ]
  },
  {
   "cell_type": "code",
   "execution_count": 12,
   "id": "7842db79",
   "metadata": {},
   "outputs": [
    {
     "data": {
      "text/plain": [
       "column 1    0.025127\n",
       "column 2   -1.258200\n",
       "Name: 21, dtype: float64"
      ]
     },
     "execution_count": 12,
     "metadata": {},
     "output_type": "execute_result"
    }
   ],
   "source": [
    "new_df=imputations[-1]\n",
    "new_df.iloc[21,:]\n"
   ]
  },
  {
   "cell_type": "code",
   "execution_count": 13,
   "id": "a254172c",
   "metadata": {},
   "outputs": [],
   "source": [
    "complete_df=pd.read_excel(r'C:\\Users\\furqz\\OneDrive\\Desktop\\Data mining stiff\\complete\\Original Datasets Without Labels\\CNP.xlsx', header=None,names=column_names)"
   ]
  },
  {
   "cell_type": "code",
   "execution_count": 14,
   "id": "0a697afe",
   "metadata": {},
   "outputs": [
    {
     "data": {
      "text/html": [
       "<div>\n",
       "<style scoped>\n",
       "    .dataframe tbody tr th:only-of-type {\n",
       "        vertical-align: middle;\n",
       "    }\n",
       "\n",
       "    .dataframe tbody tr th {\n",
       "        vertical-align: top;\n",
       "    }\n",
       "\n",
       "    .dataframe thead th {\n",
       "        text-align: right;\n",
       "    }\n",
       "</style>\n",
       "<table border=\"1\" class=\"dataframe\">\n",
       "  <thead>\n",
       "    <tr style=\"text-align: right;\">\n",
       "      <th></th>\n",
       "      <th>column 1</th>\n",
       "      <th>column 2</th>\n",
       "    </tr>\n",
       "  </thead>\n",
       "  <tbody>\n",
       "    <tr>\n",
       "      <th>0</th>\n",
       "      <td>0.000000</td>\n",
       "      <td>0.0</td>\n",
       "    </tr>\n",
       "    <tr>\n",
       "      <th>1</th>\n",
       "      <td>0.000000</td>\n",
       "      <td>0.0</td>\n",
       "    </tr>\n",
       "    <tr>\n",
       "      <th>2</th>\n",
       "      <td>0.000000</td>\n",
       "      <td>0.0</td>\n",
       "    </tr>\n",
       "    <tr>\n",
       "      <th>3</th>\n",
       "      <td>0.000000</td>\n",
       "      <td>0.0</td>\n",
       "    </tr>\n",
       "    <tr>\n",
       "      <th>4</th>\n",
       "      <td>0.000000</td>\n",
       "      <td>0.0</td>\n",
       "    </tr>\n",
       "    <tr>\n",
       "      <th>...</th>\n",
       "      <td>...</td>\n",
       "      <td>...</td>\n",
       "    </tr>\n",
       "    <tr>\n",
       "      <th>3995</th>\n",
       "      <td>0.000000</td>\n",
       "      <td>0.0</td>\n",
       "    </tr>\n",
       "    <tr>\n",
       "      <th>3996</th>\n",
       "      <td>0.000000</td>\n",
       "      <td>0.0</td>\n",
       "    </tr>\n",
       "    <tr>\n",
       "      <th>3997</th>\n",
       "      <td>0.000000</td>\n",
       "      <td>0.0</td>\n",
       "    </tr>\n",
       "    <tr>\n",
       "      <th>3998</th>\n",
       "      <td>-0.854037</td>\n",
       "      <td>0.0</td>\n",
       "    </tr>\n",
       "    <tr>\n",
       "      <th>3999</th>\n",
       "      <td>0.000000</td>\n",
       "      <td>0.0</td>\n",
       "    </tr>\n",
       "  </tbody>\n",
       "</table>\n",
       "<p>4000 rows × 2 columns</p>\n",
       "</div>"
      ],
      "text/plain": [
       "      column 1  column 2\n",
       "0     0.000000       0.0\n",
       "1     0.000000       0.0\n",
       "2     0.000000       0.0\n",
       "3     0.000000       0.0\n",
       "4     0.000000       0.0\n",
       "...        ...       ...\n",
       "3995  0.000000       0.0\n",
       "3996  0.000000       0.0\n",
       "3997  0.000000       0.0\n",
       "3998 -0.854037       0.0\n",
       "3999  0.000000       0.0\n",
       "\n",
       "[4000 rows x 2 columns]"
      ]
     },
     "execution_count": 14,
     "metadata": {},
     "output_type": "execute_result"
    }
   ],
   "source": [
    "new_df-complete_df"
   ]
  },
  {
   "cell_type": "markdown",
   "id": "34858b00",
   "metadata": {},
   "source": [
    "Calculating NRMSE Value"
   ]
  },
  {
   "cell_type": "code",
   "execution_count": 15,
   "id": "b0e8d66c",
   "metadata": {},
   "outputs": [],
   "source": [
    "\n",
    "def Sum_new(sum):\n",
    "    summ=0\n",
    "    for n in sum:\n",
    "        summ=summ+n\n",
    "    return (summ)\n",
    "\n"
   ]
  },
  {
   "cell_type": "code",
   "execution_count": 16,
   "id": "ac7182c5",
   "metadata": {},
   "outputs": [],
   "source": [
    "def Frobenius_norm(number):\n",
    "    num=number\n",
    "    abs_val=num.abs()\n",
    "    power_abs=abs_val**2\n",
    "    sum1=power_abs.sum()\n",
    "    total_sum=Sum_new(sum1)\n",
    "    return(math.sqrt(total_sum))"
   ]
  },
  {
   "cell_type": "code",
   "execution_count": 17,
   "id": "7ab26717",
   "metadata": {},
   "outputs": [
    {
     "data": {
      "text/plain": [
       "(18.533481931649014, 64.9340549279942)"
      ]
     },
     "execution_count": 17,
     "metadata": {},
     "output_type": "execute_result"
    }
   ],
   "source": [
    "numerator=Frobenius_norm(new_df-complete_df)\n",
    "denominator=Frobenius_norm(complete_df)\n",
    "numerator, denominator"
   ]
  },
  {
   "cell_type": "code",
   "execution_count": 18,
   "id": "895364b7",
   "metadata": {},
   "outputs": [
    {
     "data": {
      "text/plain": [
       "0.28542006120210595"
      ]
     },
     "execution_count": 18,
     "metadata": {},
     "output_type": "execute_result"
    }
   ],
   "source": [
    "NRMS=numerator/denominator\n",
    "NRMS\n"
   ]
  },
  {
   "cell_type": "code",
   "execution_count": 19,
   "id": "84845123",
   "metadata": {},
   "outputs": [
    {
     "data": {
      "text/plain": [
       "column 1    0.12305\n",
       "column 2   -1.03610\n",
       "Name: 66, dtype: float64"
      ]
     },
     "execution_count": 19,
     "metadata": {},
     "output_type": "execute_result"
    }
   ],
   "source": [
    "new_df.iloc[66,:]"
   ]
  },
  {
   "cell_type": "code",
   "execution_count": 20,
   "id": "bfe943bf",
   "metadata": {},
   "outputs": [
    {
     "data": {
      "text/html": [
       "<div>\n",
       "<style scoped>\n",
       "    .dataframe tbody tr th:only-of-type {\n",
       "        vertical-align: middle;\n",
       "    }\n",
       "\n",
       "    .dataframe tbody tr th {\n",
       "        vertical-align: top;\n",
       "    }\n",
       "\n",
       "    .dataframe thead th {\n",
       "        text-align: right;\n",
       "    }\n",
       "</style>\n",
       "<table border=\"1\" class=\"dataframe\">\n",
       "  <thead>\n",
       "    <tr style=\"text-align: right;\">\n",
       "      <th></th>\n",
       "      <th>column 1</th>\n",
       "      <th>column 2</th>\n",
       "    </tr>\n",
       "  </thead>\n",
       "  <tbody>\n",
       "    <tr>\n",
       "      <th>0</th>\n",
       "      <td>-0.458660</td>\n",
       "      <td>-1.235200</td>\n",
       "    </tr>\n",
       "    <tr>\n",
       "      <th>1</th>\n",
       "      <td>0.243480</td>\n",
       "      <td>-0.873130</td>\n",
       "    </tr>\n",
       "    <tr>\n",
       "      <th>2</th>\n",
       "      <td>0.250710</td>\n",
       "      <td>-0.808030</td>\n",
       "    </tr>\n",
       "    <tr>\n",
       "      <th>3</th>\n",
       "      <td>0.214620</td>\n",
       "      <td>-0.951980</td>\n",
       "    </tr>\n",
       "    <tr>\n",
       "      <th>4</th>\n",
       "      <td>0.128290</td>\n",
       "      <td>-1.031400</td>\n",
       "    </tr>\n",
       "    <tr>\n",
       "      <th>...</th>\n",
       "      <td>...</td>\n",
       "      <td>...</td>\n",
       "    </tr>\n",
       "    <tr>\n",
       "      <th>3995</th>\n",
       "      <td>0.892650</td>\n",
       "      <td>0.278030</td>\n",
       "    </tr>\n",
       "    <tr>\n",
       "      <th>3996</th>\n",
       "      <td>0.747410</td>\n",
       "      <td>0.428530</td>\n",
       "    </tr>\n",
       "    <tr>\n",
       "      <th>3997</th>\n",
       "      <td>1.076600</td>\n",
       "      <td>0.085708</td>\n",
       "    </tr>\n",
       "    <tr>\n",
       "      <th>3998</th>\n",
       "      <td>-0.150157</td>\n",
       "      <td>0.351420</td>\n",
       "    </tr>\n",
       "    <tr>\n",
       "      <th>3999</th>\n",
       "      <td>0.333360</td>\n",
       "      <td>0.425210</td>\n",
       "    </tr>\n",
       "  </tbody>\n",
       "</table>\n",
       "<p>4000 rows × 2 columns</p>\n",
       "</div>"
      ],
      "text/plain": [
       "      column 1  column 2\n",
       "0    -0.458660 -1.235200\n",
       "1     0.243480 -0.873130\n",
       "2     0.250710 -0.808030\n",
       "3     0.214620 -0.951980\n",
       "4     0.128290 -1.031400\n",
       "...        ...       ...\n",
       "3995  0.892650  0.278030\n",
       "3996  0.747410  0.428530\n",
       "3997  1.076600  0.085708\n",
       "3998 -0.150157  0.351420\n",
       "3999  0.333360  0.425210\n",
       "\n",
       "[4000 rows x 2 columns]"
      ]
     },
     "execution_count": 20,
     "metadata": {},
     "output_type": "execute_result"
    }
   ],
   "source": [
    "imputations[-1]\n"
   ]
  },
  {
   "cell_type": "code",
   "execution_count": 21,
   "id": "1c8a41f8",
   "metadata": {},
   "outputs": [],
   "source": [
    "imputations[-1].to_excel(\"CNP_NL_5(imp).xlsx\", index=False, header=False)"
   ]
  },
  {
   "cell_type": "code",
   "execution_count": null,
   "id": "4c2b2be6",
   "metadata": {},
   "outputs": [],
   "source": []
  },
  {
   "cell_type": "code",
   "execution_count": null,
   "id": "6f6ad3b4",
   "metadata": {},
   "outputs": [],
   "source": []
  }
 ],
 "metadata": {
  "kernelspec": {
   "display_name": "Python 3 (ipykernel)",
   "language": "python",
   "name": "python3"
  },
  "language_info": {
   "codemirror_mode": {
    "name": "ipython",
    "version": 3
   },
   "file_extension": ".py",
   "mimetype": "text/x-python",
   "name": "python",
   "nbconvert_exporter": "python",
   "pygments_lexer": "ipython3",
   "version": "3.9.7"
  }
 },
 "nbformat": 4,
 "nbformat_minor": 5
}
