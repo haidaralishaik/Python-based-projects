{
 "cells": [
  {
   "cell_type": "code",
   "execution_count": 1,
   "id": "48128b60",
   "metadata": {},
   "outputs": [],
   "source": [
    "from sklearn.preprocessing import MinMaxScaler\n",
    "import numpy as np\n",
    "import pandas as pd\n",
    "import tensorflow as tf\n",
    "import MIDASpy as md\n",
    "import math\n"
   ]
  },
  {
   "cell_type": "code",
   "execution_count": 2,
   "id": "f638e7f0",
   "metadata": {
    "scrolled": true
   },
   "outputs": [
    {
     "data": {
      "text/html": [
       "<div>\n",
       "<style scoped>\n",
       "    .dataframe tbody tr th:only-of-type {\n",
       "        vertical-align: middle;\n",
       "    }\n",
       "\n",
       "    .dataframe tbody tr th {\n",
       "        vertical-align: top;\n",
       "    }\n",
       "\n",
       "    .dataframe thead th {\n",
       "        text-align: right;\n",
       "    }\n",
       "</style>\n",
       "<table border=\"1\" class=\"dataframe\">\n",
       "  <thead>\n",
       "    <tr style=\"text-align: right;\">\n",
       "      <th></th>\n",
       "      <th>column 1</th>\n",
       "      <th>column 2</th>\n",
       "    </tr>\n",
       "  </thead>\n",
       "  <tbody>\n",
       "    <tr>\n",
       "      <th>0</th>\n",
       "      <td>-0.45866</td>\n",
       "      <td>-1.235200</td>\n",
       "    </tr>\n",
       "    <tr>\n",
       "      <th>1</th>\n",
       "      <td>0.24348</td>\n",
       "      <td>-0.873130</td>\n",
       "    </tr>\n",
       "    <tr>\n",
       "      <th>2</th>\n",
       "      <td>0.25071</td>\n",
       "      <td>-0.808030</td>\n",
       "    </tr>\n",
       "    <tr>\n",
       "      <th>3</th>\n",
       "      <td>0.21462</td>\n",
       "      <td>-0.951980</td>\n",
       "    </tr>\n",
       "    <tr>\n",
       "      <th>4</th>\n",
       "      <td>0.12829</td>\n",
       "      <td>-1.031400</td>\n",
       "    </tr>\n",
       "    <tr>\n",
       "      <th>...</th>\n",
       "      <td>...</td>\n",
       "      <td>...</td>\n",
       "    </tr>\n",
       "    <tr>\n",
       "      <th>3995</th>\n",
       "      <td>0.89265</td>\n",
       "      <td>0.278030</td>\n",
       "    </tr>\n",
       "    <tr>\n",
       "      <th>3996</th>\n",
       "      <td>0.74741</td>\n",
       "      <td>0.428530</td>\n",
       "    </tr>\n",
       "    <tr>\n",
       "      <th>3997</th>\n",
       "      <td>1.07660</td>\n",
       "      <td>0.085708</td>\n",
       "    </tr>\n",
       "    <tr>\n",
       "      <th>3998</th>\n",
       "      <td>0.70388</td>\n",
       "      <td>0.351420</td>\n",
       "    </tr>\n",
       "    <tr>\n",
       "      <th>3999</th>\n",
       "      <td>0.33336</td>\n",
       "      <td>0.425210</td>\n",
       "    </tr>\n",
       "  </tbody>\n",
       "</table>\n",
       "<p>4000 rows × 2 columns</p>\n",
       "</div>"
      ],
      "text/plain": [
       "      column 1  column 2\n",
       "0     -0.45866 -1.235200\n",
       "1      0.24348 -0.873130\n",
       "2      0.25071 -0.808030\n",
       "3      0.21462 -0.951980\n",
       "4      0.12829 -1.031400\n",
       "...        ...       ...\n",
       "3995   0.89265  0.278030\n",
       "3996   0.74741  0.428530\n",
       "3997   1.07660  0.085708\n",
       "3998   0.70388  0.351420\n",
       "3999   0.33336  0.425210\n",
       "\n",
       "[4000 rows x 2 columns]"
      ]
     },
     "execution_count": 2,
     "metadata": {},
     "output_type": "execute_result"
    }
   ],
   "source": [
    "column_names=['column 1','column 2']\n",
    "df=pd.read_excel(r'C:\\Users\\furqz\\OneDrive\\Desktop\\Data mining stiff\\incomplete\\Incomplete Datasets Without Labels\\CNP\\CNP_NL_1.xlsx', header=None,names=column_names)\n",
    "df"
   ]
  },
  {
   "cell_type": "code",
   "execution_count": 3,
   "id": "585cc6f7",
   "metadata": {},
   "outputs": [
    {
     "name": "stdout",
     "output_type": "stream",
     "text": [
      "dataType\tcolumn_names\tNumber of Nulls\n",
      "float64\t\tcolumn 1\t0\n",
      "float64\t\tcolumn 2\t80\n"
     ]
    }
   ],
   "source": [
    "print('dataType',end='\\t')\n",
    "print('column_names',end='\\t')\n",
    "print('Number of Nulls')\n",
    "for name in column_names:\n",
    "    print(df[name].dtype,end='\\t\\t')\n",
    "    print(name,end='\\t')\n",
    "    print(df[name].isnull().sum())"
   ]
  },
  {
   "cell_type": "code",
   "execution_count": 4,
   "id": "75bd9c64",
   "metadata": {},
   "outputs": [
    {
     "data": {
      "text/html": [
       "<div>\n",
       "<style scoped>\n",
       "    .dataframe tbody tr th:only-of-type {\n",
       "        vertical-align: middle;\n",
       "    }\n",
       "\n",
       "    .dataframe tbody tr th {\n",
       "        vertical-align: top;\n",
       "    }\n",
       "\n",
       "    .dataframe thead th {\n",
       "        text-align: right;\n",
       "    }\n",
       "</style>\n",
       "<table border=\"1\" class=\"dataframe\">\n",
       "  <thead>\n",
       "    <tr style=\"text-align: right;\">\n",
       "      <th></th>\n",
       "      <th>column 1</th>\n",
       "      <th>column 2</th>\n",
       "    </tr>\n",
       "  </thead>\n",
       "  <tbody>\n",
       "    <tr>\n",
       "      <th>count</th>\n",
       "      <td>4000.000000</td>\n",
       "      <td>3920.000000</td>\n",
       "    </tr>\n",
       "    <tr>\n",
       "      <th>mean</th>\n",
       "      <td>0.006711</td>\n",
       "      <td>0.003085</td>\n",
       "    </tr>\n",
       "    <tr>\n",
       "      <th>std</th>\n",
       "      <td>0.726242</td>\n",
       "      <td>0.721533</td>\n",
       "    </tr>\n",
       "    <tr>\n",
       "      <th>min</th>\n",
       "      <td>-1.714600</td>\n",
       "      <td>-1.376500</td>\n",
       "    </tr>\n",
       "    <tr>\n",
       "      <th>25%</th>\n",
       "      <td>-0.500103</td>\n",
       "      <td>-0.516975</td>\n",
       "    </tr>\n",
       "    <tr>\n",
       "      <th>50%</th>\n",
       "      <td>0.013352</td>\n",
       "      <td>0.004026</td>\n",
       "    </tr>\n",
       "    <tr>\n",
       "      <th>75%</th>\n",
       "      <td>0.553305</td>\n",
       "      <td>0.520205</td>\n",
       "    </tr>\n",
       "    <tr>\n",
       "      <th>max</th>\n",
       "      <td>1.363900</td>\n",
       "      <td>1.344400</td>\n",
       "    </tr>\n",
       "  </tbody>\n",
       "</table>\n",
       "</div>"
      ],
      "text/plain": [
       "          column 1     column 2\n",
       "count  4000.000000  3920.000000\n",
       "mean      0.006711     0.003085\n",
       "std       0.726242     0.721533\n",
       "min      -1.714600    -1.376500\n",
       "25%      -0.500103    -0.516975\n",
       "50%       0.013352     0.004026\n",
       "75%       0.553305     0.520205\n",
       "max       1.363900     1.344400"
      ]
     },
     "execution_count": 4,
     "metadata": {},
     "output_type": "execute_result"
    }
   ],
   "source": [
    "df.describe()"
   ]
  },
  {
   "cell_type": "code",
   "execution_count": 5,
   "id": "56182ba1",
   "metadata": {
    "scrolled": true
   },
   "outputs": [
    {
     "data": {
      "text/plain": [
       "<AxesSubplot:>"
      ]
     },
     "execution_count": 5,
     "metadata": {},
     "output_type": "execute_result"
    },
    {
     "data": {
      "image/png": "[encoded data removed]",
      "text/plain": [
       "<Figure size 1080x360 with 1 Axes>"
      ]
     },
     "metadata": {
      "needs_background": "light"
     },
     "output_type": "display_data"
    }
   ],
   "source": [
    "df.boxplot(return_type='axes', figsize=(15,5))"
   ]
  },
  {
   "cell_type": "code",
   "execution_count": 6,
   "id": "856e9b6c",
   "metadata": {},
   "outputs": [
    {
     "data": {
      "text/plain": [
       "column 1    0.006711\n",
       "column 2    0.003085\n",
       "dtype: float64"
      ]
     },
     "execution_count": 6,
     "metadata": {},
     "output_type": "execute_result"
    }
   ],
   "source": [
    "df.mean()"
   ]
  },
  {
   "cell_type": "code",
   "execution_count": 7,
   "id": "18c4a9dd",
   "metadata": {},
   "outputs": [
    {
     "data": {
      "text/html": [
       "<div>\n",
       "<style scoped>\n",
       "    .dataframe tbody tr th:only-of-type {\n",
       "        vertical-align: middle;\n",
       "    }\n",
       "\n",
       "    .dataframe tbody tr th {\n",
       "        vertical-align: top;\n",
       "    }\n",
       "\n",
       "    .dataframe thead th {\n",
       "        text-align: right;\n",
       "    }\n",
       "</style>\n",
       "<table border=\"1\" class=\"dataframe\">\n",
       "  <thead>\n",
       "    <tr style=\"text-align: right;\">\n",
       "      <th></th>\n",
       "      <th>column 1</th>\n",
       "      <th>column 2</th>\n",
       "    </tr>\n",
       "  </thead>\n",
       "  <tbody>\n",
       "    <tr>\n",
       "      <th>column 1</th>\n",
       "      <td>1.000000</td>\n",
       "      <td>0.006305</td>\n",
       "    </tr>\n",
       "    <tr>\n",
       "      <th>column 2</th>\n",
       "      <td>0.006305</td>\n",
       "      <td>1.000000</td>\n",
       "    </tr>\n",
       "  </tbody>\n",
       "</table>\n",
       "</div>"
      ],
      "text/plain": [
       "          column 1  column 2\n",
       "column 1  1.000000  0.006305\n",
       "column 2  0.006305  1.000000"
      ]
     },
     "execution_count": 7,
     "metadata": {},
     "output_type": "execute_result"
    }
   ],
   "source": [
    "corr=df.corr()\n",
    "corr"
   ]
  },
  {
   "cell_type": "code",
   "execution_count": 8,
   "id": "ea626871",
   "metadata": {},
   "outputs": [],
   "source": [
    "tf.compat.v1.reset_default_graph()\n",
    "import tensorflow.compat.v1 as tf\n",
    "tf.reset_default_graph()\n"
   ]
  },
  {
   "cell_type": "code",
   "execution_count": 11,
   "id": "2830e6e4",
   "metadata": {
    "scrolled": false
   },
   "outputs": [
    {
     "name": "stdout",
     "output_type": "stream",
     "text": [
      "Size index: [2]\n",
      "\n",
      "Computation graph constructed\n",
      "\n",
      "Model initialised\n",
      "\n",
      "Epoch: 0 , loss: 1.4217069096565247\n",
      "Epoch: 1 , loss: 1.4218551292419435\n",
      "Epoch: 2 , loss: 1.4038243680000304\n",
      "Epoch: 3 , loss: 1.3746226582527161\n",
      "Epoch: 4 , loss: 1.352316442012787\n",
      "Epoch: 5 , loss: 1.3511238827705383\n",
      "Epoch: 6 , loss: 1.3360105900764465\n",
      "Epoch: 7 , loss: 1.3417283492088319\n",
      "Epoch: 8 , loss: 1.340574197769165\n",
      "Epoch: 9 , loss: 1.3389917211532594\n",
      "Epoch: 10 , loss: 1.337153847694397\n",
      "Epoch: 11 , loss: 1.332426426410675\n",
      "Epoch: 12 , loss: 1.3336551451683045\n",
      "Epoch: 13 , loss: 1.3275335454940795\n",
      "Epoch: 14 , loss: 1.3304984941482545\n",
      "Epoch: 15 , loss: 1.3318544096946716\n",
      "Epoch: 16 , loss: 1.3320349364280701\n",
      "Epoch: 17 , loss: 1.3350982661247253\n",
      "Epoch: 18 , loss: 1.3319101133346558\n",
      "Epoch: 19 , loss: 1.3263442344665528\n",
      "Epoch: 20 , loss: 1.3265855102539061\n",
      "Epoch: 21 , loss: 1.3309996161460877\n",
      "Epoch: 22 , loss: 1.3322919793128967\n",
      "Epoch: 23 , loss: 1.327385461807251\n",
      "Epoch: 24 , loss: 1.3331302814483643\n",
      "Epoch: 25 , loss: 1.3288691048622132\n",
      "Epoch: 26 , loss: 1.3332619562149048\n",
      "Epoch: 27 , loss: 1.3284259552955628\n",
      "Epoch: 28 , loss: 1.3303778791427612\n",
      "Epoch: 29 , loss: 1.3299713153839112\n",
      "Epoch: 30 , loss: 1.327037627696991\n",
      "Epoch: 31 , loss: 1.3307711782455445\n",
      "Epoch: 32 , loss: 1.3362455110549927\n",
      "Epoch: 33 , loss: 1.331535755634308\n",
      "Epoch: 34 , loss: 1.3274107103347779\n",
      "Epoch: 35 , loss: 1.3276758251190186\n",
      "Epoch: 36 , loss: 1.3361991767883301\n",
      "Epoch: 37 , loss: 1.3311107182502746\n",
      "Epoch: 38 , loss: 1.340086793422699\n",
      "Epoch: 39 , loss: 1.3419925999641418\n",
      "Epoch: 40 , loss: 1.3347611832618713\n",
      "Epoch: 41 , loss: 1.3321869773864745\n",
      "Epoch: 42 , loss: 1.331355218887329\n",
      "Epoch: 43 , loss: 1.337913233757019\n",
      "Epoch: 44 , loss: 1.3331457042694093\n",
      "Epoch: 45 , loss: 1.3397469353675842\n",
      "Epoch: 46 , loss: 1.334861517906189\n",
      "Epoch: 47 , loss: 1.336158456802368\n",
      "Epoch: 48 , loss: 1.334110426902771\n",
      "Epoch: 49 , loss: 1.3353696584701538\n",
      "Epoch: 50 , loss: 1.3291711959838868\n",
      "Epoch: 51 , loss: 1.333913954257965\n",
      "Epoch: 52 , loss: 1.3272570757865905\n",
      "Epoch: 53 , loss: 1.333932183742523\n",
      "Epoch: 54 , loss: 1.3362829351425172\n",
      "Epoch: 55 , loss: 1.336843719959259\n",
      "Epoch: 56 , loss: 1.3316856970787048\n",
      "Epoch: 57 , loss: 1.3424608979225159\n",
      "Epoch: 58 , loss: 1.339651969909668\n",
      "Epoch: 59 , loss: 1.337616630077362\n",
      "Epoch: 60 , loss: 1.3353011589050292\n",
      "Epoch: 61 , loss: 1.3358299813270569\n",
      "Epoch: 62 , loss: 1.3360213103294372\n",
      "Epoch: 63 , loss: 1.3444217777252196\n",
      "Epoch: 64 , loss: 1.3384356036186218\n",
      "Epoch: 65 , loss: 1.3362851138114928\n",
      "Epoch: 66 , loss: 1.3389035630226136\n",
      "Epoch: 67 , loss: 1.3437162914276124\n",
      "Epoch: 68 , loss: 1.3373749160766601\n",
      "Epoch: 69 , loss: 1.3392147512435912\n",
      "Epoch: 70 , loss: 1.3366330904960633\n",
      "Epoch: 71 , loss: 1.3400467410087586\n",
      "Epoch: 72 , loss: 1.3342606887817383\n",
      "Epoch: 73 , loss: 1.3386560935974121\n",
      "Epoch: 74 , loss: 1.3451788902282715\n",
      "Epoch: 75 , loss: 1.3401894106864929\n",
      "Epoch: 76 , loss: 1.3382575869560243\n",
      "Epoch: 77 , loss: 1.3394749932289123\n",
      "Epoch: 78 , loss: 1.3386255888938903\n",
      "Epoch: 79 , loss: 1.34355712890625\n",
      "Epoch: 80 , loss: 1.3384563403129577\n",
      "Epoch: 81 , loss: 1.34104558467865\n",
      "Epoch: 82 , loss: 1.3390054507255553\n",
      "Epoch: 83 , loss: 1.3401071500778199\n",
      "Epoch: 84 , loss: 1.3438765292167663\n",
      "Epoch: 85 , loss: 1.3396612153053284\n",
      "Epoch: 86 , loss: 1.3416038694381713\n",
      "Epoch: 87 , loss: 1.3345412921905517\n",
      "Epoch: 88 , loss: 1.3405457963943481\n",
      "Epoch: 89 , loss: 1.3428999719619752\n",
      "Epoch: 90 , loss: 1.3407987217903137\n",
      "Epoch: 91 , loss: 1.3341147079467774\n",
      "Epoch: 92 , loss: 1.3359136090278625\n",
      "Epoch: 93 , loss: 1.3429361939430238\n",
      "Epoch: 94 , loss: 1.338737620830536\n",
      "Epoch: 95 , loss: 1.3357992548942565\n",
      "Epoch: 96 , loss: 1.3368533816337584\n",
      "Epoch: 97 , loss: 1.3364252915382386\n",
      "Epoch: 98 , loss: 1.33555473279953\n",
      "Epoch: 99 , loss: 1.3347077383995056\n",
      "Epoch: 100 , loss: 1.3423418068885804\n",
      "Epoch: 101 , loss: 1.3362808809280395\n",
      "Epoch: 102 , loss: 1.33621107006073\n",
      "Epoch: 103 , loss: 1.3375735726356506\n",
      "Epoch: 104 , loss: 1.3401502122879028\n",
      "Epoch: 105 , loss: 1.3382891340255738\n",
      "Epoch: 106 , loss: 1.3439500679969787\n",
      "Epoch: 107 , loss: 1.3365232009887695\n",
      "Epoch: 108 , loss: 1.3400287132263184\n",
      "Epoch: 109 , loss: 1.3433933000564575\n",
      "Epoch: 110 , loss: 1.3436917123794556\n",
      "Epoch: 111 , loss: 1.3342842841148377\n",
      "Epoch: 112 , loss: 1.3322217092514037\n",
      "Epoch: 113 , loss: 1.3425508937835693\n",
      "Epoch: 114 , loss: 1.3392543997764588\n",
      "Epoch: 115 , loss: 1.3477175016403198\n",
      "Epoch: 116 , loss: 1.3405731616020202\n",
      "Epoch: 117 , loss: 1.3394318704605102\n",
      "Epoch: 118 , loss: 1.3428562850952148\n",
      "Epoch: 119 , loss: 1.3336773481369018\n",
      "Epoch: 120 , loss: 1.342012260913849\n",
      "Epoch: 121 , loss: 1.3391222372055054\n",
      "Epoch: 122 , loss: 1.343486569881439\n",
      "Epoch: 123 , loss: 1.3449439253807067\n",
      "Epoch: 124 , loss: 1.3379354948997497\n",
      "Epoch: 125 , loss: 1.3438707547187805\n",
      "Epoch: 126 , loss: 1.3399774994850158\n",
      "Epoch: 127 , loss: 1.3409224781990052\n",
      "Epoch: 128 , loss: 1.3406658816337584\n",
      "Epoch: 129 , loss: 1.3396895475387574\n",
      "Epoch: 130 , loss: 1.3413983464241028\n",
      "Epoch: 131 , loss: 1.345935839176178\n",
      "Epoch: 132 , loss: 1.3420429339408875\n",
      "Epoch: 133 , loss: 1.3412629132270812\n",
      "Epoch: 134 , loss: 1.3366691279411316\n",
      "Epoch: 135 , loss: 1.3401176080703736\n",
      "Epoch: 136 , loss: 1.3402963614463805\n",
      "Epoch: 137 , loss: 1.3416403937339783\n",
      "Epoch: 138 , loss: 1.3353202657699585\n",
      "Epoch: 139 , loss: 1.339518753528595\n",
      "Epoch: 140 , loss: 1.3368095417022705\n",
      "Epoch: 141 , loss: 1.3413411478996278\n",
      "Epoch: 142 , loss: 1.3354701776504516\n",
      "Epoch: 143 , loss: 1.3414777927398682\n",
      "Epoch: 144 , loss: 1.3356831641197204\n",
      "Epoch: 145 , loss: 1.3339219036102294\n",
      "Epoch: 146 , loss: 1.3349140501022339\n",
      "Epoch: 147 , loss: 1.3363668818473815\n",
      "Epoch: 148 , loss: 1.3394580898284911\n",
      "Epoch: 149 , loss: 1.341642161846161\n",
      "Epoch: 150 , loss: 1.3385359945297242\n",
      "Epoch: 151 , loss: 1.3429038591384888\n",
      "Epoch: 152 , loss: 1.3367388606071473\n",
      "Epoch: 153 , loss: 1.3374125943183899\n",
      "Epoch: 154 , loss: 1.342914640903473\n",
      "Epoch: 155 , loss: 1.345295102596283\n",
      "Epoch: 156 , loss: 1.3341444792747497\n",
      "Epoch: 157 , loss: 1.3384173722267152\n",
      "Epoch: 158 , loss: 1.3315083436965942\n",
      "Epoch: 159 , loss: 1.3441338214874268\n",
      "Epoch: 160 , loss: 1.3393688559532166\n",
      "Epoch: 161 , loss: 1.3403389530181884\n",
      "Epoch: 162 , loss: 1.3336065630912781\n",
      "Epoch: 163 , loss: 1.3394611988067626\n",
      "Epoch: 164 , loss: 1.340300311088562\n",
      "Epoch: 165 , loss: 1.3450190696716309\n",
      "Epoch: 166 , loss: 1.3365366406440735\n",
      "Epoch: 167 , loss: 1.3417276887893677\n",
      "Epoch: 168 , loss: 1.3448792052268983\n",
      "Epoch: 169 , loss: 1.3406615209579469\n",
      "Epoch: 170 , loss: 1.3333734273910522\n",
      "Epoch: 171 , loss: 1.3362551240921021\n",
      "Epoch: 172 , loss: 1.341628765106201\n",
      "Epoch: 173 , loss: 1.3367676610946655\n",
      "Epoch: 174 , loss: 1.3395034036636353\n",
      "Epoch: 175 , loss: 1.3387990384101867\n",
      "Epoch: 176 , loss: 1.3403358993530274\n",
      "Epoch: 177 , loss: 1.3419680976867676\n",
      "Epoch: 178 , loss: 1.337599702835083\n",
      "Epoch: 179 , loss: 1.3406795539855958\n",
      "Epoch: 180 , loss: 1.3348862533569337\n",
      "Epoch: 181 , loss: 1.3403227200508119\n",
      "Epoch: 182 , loss: 1.3359593768119813\n",
      "Epoch: 183 , loss: 1.336974305152893\n",
      "Epoch: 184 , loss: 1.3406611790657044\n",
      "Epoch: 185 , loss: 1.3410786528587342\n",
      "Epoch: 186 , loss: 1.344719762325287\n",
      "Epoch: 187 , loss: 1.3408134269714356\n",
      "Epoch: 188 , loss: 1.3452783517837525\n",
      "Epoch: 189 , loss: 1.342170473098755\n",
      "Epoch: 190 , loss: 1.3344415321350098\n",
      "Epoch: 191 , loss: 1.3406836929321289\n",
      "Epoch: 192 , loss: 1.3485902576446533\n",
      "Epoch: 193 , loss: 1.3395298309326171\n",
      "Epoch: 194 , loss: 1.3432242302894593\n",
      "Epoch: 195 , loss: 1.3416168494224547\n",
      "Epoch: 196 , loss: 1.343441909790039\n",
      "Epoch: 197 , loss: 1.3401529331207276\n",
      "Epoch: 198 , loss: 1.3405095448493958\n",
      "Epoch: 199 , loss: 1.3414609298706055\n",
      "Epoch: 200 , loss: 1.3360396718978882\n",
      "Epoch: 201 , loss: 1.3460260910987853\n",
      "Epoch: 202 , loss: 1.3409740223884583\n",
      "Epoch: 203 , loss: 1.3417377738952636\n",
      "Epoch: 204 , loss: 1.3363160061836243\n",
      "Epoch: 205 , loss: 1.339289942741394\n",
      "Epoch: 206 , loss: 1.3361759753227234\n",
      "Epoch: 207 , loss: 1.3398153200149536\n",
      "Epoch: 208 , loss: 1.338407253742218\n",
      "Epoch: 209 , loss: 1.3370857434272767\n",
      "Epoch: 210 , loss: 1.3358088145256042\n",
      "Epoch: 211 , loss: 1.3379294486045838\n",
      "Epoch: 212 , loss: 1.3338569173812866\n",
      "Epoch: 213 , loss: 1.3418297519683837\n",
      "Epoch: 214 , loss: 1.3441646184921265\n",
      "Epoch: 215 , loss: 1.3416277437210082\n",
      "Epoch: 216 , loss: 1.3374022431373596\n",
      "Epoch: 217 , loss: 1.3396656761169434\n"
     ]
    },
    {
     "name": "stdout",
     "output_type": "stream",
     "text": [
      "Epoch: 218 , loss: 1.3381129932403564\n",
      "Epoch: 219 , loss: 1.3410554242134094\n",
      "Epoch: 220 , loss: 1.3425504546165465\n",
      "Epoch: 221 , loss: 1.3427427802085876\n",
      "Epoch: 222 , loss: 1.3371988067626952\n",
      "Epoch: 223 , loss: 1.34491441655159\n",
      "Epoch: 224 , loss: 1.3408555231094361\n",
      "Epoch: 225 , loss: 1.3417352166175842\n",
      "Epoch: 226 , loss: 1.33967089176178\n",
      "Epoch: 227 , loss: 1.3400369710922242\n",
      "Epoch: 228 , loss: 1.3421110010147095\n",
      "Epoch: 229 , loss: 1.3387300267219544\n",
      "Epoch: 230 , loss: 1.3399327759742736\n",
      "Epoch: 231 , loss: 1.3380577731132508\n",
      "Epoch: 232 , loss: 1.344125235080719\n",
      "Epoch: 233 , loss: 1.3410243802070618\n",
      "Epoch: 234 , loss: 1.3419226508140565\n",
      "Epoch: 235 , loss: 1.3348899269104004\n",
      "Epoch: 236 , loss: 1.3389256134033203\n",
      "Epoch: 237 , loss: 1.3416465754508973\n",
      "Epoch: 238 , loss: 1.3389242849349976\n",
      "Epoch: 239 , loss: 1.346323356628418\n",
      "Epoch: 240 , loss: 1.338273895740509\n",
      "Epoch: 241 , loss: 1.3444574480056763\n",
      "Epoch: 242 , loss: 1.3457281908988952\n",
      "Epoch: 243 , loss: 1.3404052901268004\n",
      "Epoch: 244 , loss: 1.3420959787368774\n",
      "Epoch: 245 , loss: 1.337096007823944\n",
      "Epoch: 246 , loss: 1.342346344947815\n",
      "Epoch: 247 , loss: 1.3376102223396302\n",
      "Epoch: 248 , loss: 1.339841356754303\n",
      "Epoch: 249 , loss: 1.340820650100708\n",
      "Epoch: 250 , loss: 1.3402051610946655\n",
      "Epoch: 251 , loss: 1.33621572971344\n",
      "Epoch: 252 , loss: 1.339620916366577\n",
      "Epoch: 253 , loss: 1.3405334916114806\n",
      "Epoch: 254 , loss: 1.3349278378486633\n",
      "Epoch: 255 , loss: 1.3477341122627258\n",
      "Epoch: 256 , loss: 1.338200044631958\n",
      "Epoch: 257 , loss: 1.3395609097480774\n",
      "Epoch: 258 , loss: 1.334877610206604\n",
      "Epoch: 259 , loss: 1.3388180890083312\n",
      "Epoch: 260 , loss: 1.3399671940803528\n",
      "Epoch: 261 , loss: 1.334756711959839\n",
      "Epoch: 262 , loss: 1.332425142765045\n",
      "Epoch: 263 , loss: 1.343934932231903\n",
      "Epoch: 264 , loss: 1.3371145644187927\n",
      "Epoch: 265 , loss: 1.3438317279815675\n",
      "Epoch: 266 , loss: 1.34263028049469\n",
      "Epoch: 267 , loss: 1.3417899928092956\n",
      "Epoch: 268 , loss: 1.344033290863037\n",
      "Epoch: 269 , loss: 1.3424064826965332\n",
      "Epoch: 270 , loss: 1.3381796145439149\n",
      "Epoch: 271 , loss: 1.3444098467826844\n",
      "Epoch: 272 , loss: 1.3361948618888855\n",
      "Epoch: 273 , loss: 1.3445647521018982\n",
      "Epoch: 274 , loss: 1.340815366268158\n",
      "Epoch: 275 , loss: 1.340713931083679\n",
      "Epoch: 276 , loss: 1.334559322834015\n",
      "Epoch: 277 , loss: 1.3400094747543334\n",
      "Epoch: 278 , loss: 1.3441719574928284\n",
      "Epoch: 279 , loss: 1.3386592407226563\n",
      "Epoch: 280 , loss: 1.3401990990638732\n",
      "Epoch: 281 , loss: 1.3406207995414734\n",
      "Epoch: 282 , loss: 1.3416587147712709\n",
      "Epoch: 283 , loss: 1.3445433747768403\n",
      "Epoch: 284 , loss: 1.3413054280281067\n",
      "Epoch: 285 , loss: 1.3425146160125732\n",
      "Epoch: 286 , loss: 1.341242253780365\n",
      "Epoch: 287 , loss: 1.3356285486221313\n",
      "Epoch: 288 , loss: 1.3366361141204834\n",
      "Epoch: 289 , loss: 1.3366038174629211\n",
      "Epoch: 290 , loss: 1.3385178151130677\n",
      "Epoch: 291 , loss: 1.3343444418907167\n",
      "Epoch: 292 , loss: 1.3428207044601441\n",
      "Epoch: 293 , loss: 1.3431696314811707\n",
      "Epoch: 294 , loss: 1.343172924041748\n",
      "Epoch: 295 , loss: 1.3400987524986268\n",
      "Epoch: 296 , loss: 1.339405156135559\n",
      "Epoch: 297 , loss: 1.3434149045944215\n",
      "Epoch: 298 , loss: 1.3368775000572204\n",
      "Epoch: 299 , loss: 1.333264353275299\n",
      "Training complete. Saving file...\n",
      "Model saved in file: tmp/MIDAS\n"
     ]
    },
    {
     "data": {
      "text/plain": [
       "<MIDASpy.midas_base.Midas at 0x21a24e894f0>"
      ]
     },
     "execution_count": 11,
     "metadata": {},
     "output_type": "execute_result"
    }
   ],
   "source": [
    "imputer = md.Midas(layer_structure = [2,2+100,2+100+100,2+100+100+100,2+100+100+100+100,2+100+100+100+100+100,2+100+100+100+100,2+100+100+100,2+100+100,2+100,2], vae_layer = False, seed = 100)\n",
    "imputer.build_model(df)\n",
    "imputer.train_model(training_epochs=300)\n"
   ]
  },
  {
   "cell_type": "code",
   "execution_count": 12,
   "id": "6f0fef50",
   "metadata": {},
   "outputs": [
    {
     "name": "stdout",
     "output_type": "stream",
     "text": [
      "INFO:tensorflow:Restoring parameters from tmp/MIDAS\n",
      "Model restored.\n"
     ]
    },
    {
     "data": {
      "text/plain": [
       "(4000, 2)"
      ]
     },
     "execution_count": 12,
     "metadata": {},
     "output_type": "execute_result"
    }
   ],
   "source": [
    "imputations=imputer.generate_samples(m=15).output_list\n",
    "np.shape(imputations[-1])"
   ]
  },
  {
   "cell_type": "code",
   "execution_count": 13,
   "id": "7842db79",
   "metadata": {},
   "outputs": [
    {
     "data": {
      "text/plain": [
       "column 1    0.025127\n",
       "column 2   -1.258200\n",
       "Name: 21, dtype: float64"
      ]
     },
     "execution_count": 13,
     "metadata": {},
     "output_type": "execute_result"
    }
   ],
   "source": [
    "new_df=imputations[-1]\n",
    "new_df.iloc[21,:]\n"
   ]
  },
  {
   "cell_type": "code",
   "execution_count": 14,
   "id": "a254172c",
   "metadata": {},
   "outputs": [],
   "source": [
    "complete_df=pd.read_excel(r'C:\\Users\\furqz\\OneDrive\\Desktop\\Data mining stiff\\complete\\Original Datasets Without Labels\\CNP.xlsx', header=None,names=column_names)"
   ]
  },
  {
   "cell_type": "code",
   "execution_count": 15,
   "id": "0a697afe",
   "metadata": {},
   "outputs": [
    {
     "data": {
      "text/html": [
       "<div>\n",
       "<style scoped>\n",
       "    .dataframe tbody tr th:only-of-type {\n",
       "        vertical-align: middle;\n",
       "    }\n",
       "\n",
       "    .dataframe tbody tr th {\n",
       "        vertical-align: top;\n",
       "    }\n",
       "\n",
       "    .dataframe thead th {\n",
       "        text-align: right;\n",
       "    }\n",
       "</style>\n",
       "<table border=\"1\" class=\"dataframe\">\n",
       "  <thead>\n",
       "    <tr style=\"text-align: right;\">\n",
       "      <th></th>\n",
       "      <th>column 1</th>\n",
       "      <th>column 2</th>\n",
       "    </tr>\n",
       "  </thead>\n",
       "  <tbody>\n",
       "    <tr>\n",
       "      <th>0</th>\n",
       "      <td>0.0</td>\n",
       "      <td>0.0</td>\n",
       "    </tr>\n",
       "    <tr>\n",
       "      <th>1</th>\n",
       "      <td>0.0</td>\n",
       "      <td>0.0</td>\n",
       "    </tr>\n",
       "    <tr>\n",
       "      <th>2</th>\n",
       "      <td>0.0</td>\n",
       "      <td>0.0</td>\n",
       "    </tr>\n",
       "    <tr>\n",
       "      <th>3</th>\n",
       "      <td>0.0</td>\n",
       "      <td>0.0</td>\n",
       "    </tr>\n",
       "    <tr>\n",
       "      <th>4</th>\n",
       "      <td>0.0</td>\n",
       "      <td>0.0</td>\n",
       "    </tr>\n",
       "    <tr>\n",
       "      <th>...</th>\n",
       "      <td>...</td>\n",
       "      <td>...</td>\n",
       "    </tr>\n",
       "    <tr>\n",
       "      <th>3995</th>\n",
       "      <td>0.0</td>\n",
       "      <td>0.0</td>\n",
       "    </tr>\n",
       "    <tr>\n",
       "      <th>3996</th>\n",
       "      <td>0.0</td>\n",
       "      <td>0.0</td>\n",
       "    </tr>\n",
       "    <tr>\n",
       "      <th>3997</th>\n",
       "      <td>0.0</td>\n",
       "      <td>0.0</td>\n",
       "    </tr>\n",
       "    <tr>\n",
       "      <th>3998</th>\n",
       "      <td>0.0</td>\n",
       "      <td>0.0</td>\n",
       "    </tr>\n",
       "    <tr>\n",
       "      <th>3999</th>\n",
       "      <td>0.0</td>\n",
       "      <td>0.0</td>\n",
       "    </tr>\n",
       "  </tbody>\n",
       "</table>\n",
       "<p>4000 rows × 2 columns</p>\n",
       "</div>"
      ],
      "text/plain": [
       "      column 1  column 2\n",
       "0          0.0       0.0\n",
       "1          0.0       0.0\n",
       "2          0.0       0.0\n",
       "3          0.0       0.0\n",
       "4          0.0       0.0\n",
       "...        ...       ...\n",
       "3995       0.0       0.0\n",
       "3996       0.0       0.0\n",
       "3997       0.0       0.0\n",
       "3998       0.0       0.0\n",
       "3999       0.0       0.0\n",
       "\n",
       "[4000 rows x 2 columns]"
      ]
     },
     "execution_count": 15,
     "metadata": {},
     "output_type": "execute_result"
    }
   ],
   "source": [
    "new_df-complete_df"
   ]
  },
  {
   "cell_type": "markdown",
   "id": "34858b00",
   "metadata": {},
   "source": [
    "Calculating NRMSE Value"
   ]
  },
  {
   "cell_type": "code",
   "execution_count": 16,
   "id": "b0e8d66c",
   "metadata": {},
   "outputs": [],
   "source": [
    "\n",
    "def Sum_new(sum):\n",
    "    summ=0\n",
    "    for n in sum:\n",
    "        summ=summ+n\n",
    "    return (summ)\n",
    "\n"
   ]
  },
  {
   "cell_type": "code",
   "execution_count": 17,
   "id": "ac7182c5",
   "metadata": {},
   "outputs": [],
   "source": [
    "def Frobenius_norm(number):\n",
    "    num=number\n",
    "    abs_val=num.abs()\n",
    "    power_abs=abs_val**2\n",
    "    sum1=power_abs.sum()\n",
    "    total_sum=Sum_new(sum1)\n",
    "    return(math.sqrt(total_sum))"
   ]
  },
  {
   "cell_type": "code",
   "execution_count": 18,
   "id": "7ab26717",
   "metadata": {},
   "outputs": [
    {
     "data": {
      "text/plain": [
       "(8.071030376419628, 64.9340549279942)"
      ]
     },
     "execution_count": 18,
     "metadata": {},
     "output_type": "execute_result"
    }
   ],
   "source": [
    "numerator=Frobenius_norm(new_df-complete_df)\n",
    "denominator=Frobenius_norm(complete_df)\n",
    "numerator, denominator"
   ]
  },
  {
   "cell_type": "code",
   "execution_count": 19,
   "id": "895364b7",
   "metadata": {},
   "outputs": [
    {
     "data": {
      "text/plain": [
       "0.12429580110728719"
      ]
     },
     "execution_count": 19,
     "metadata": {},
     "output_type": "execute_result"
    }
   ],
   "source": [
    "NRMS=numerator/denominator\n",
    "NRMS\n"
   ]
  },
  {
   "cell_type": "code",
   "execution_count": 20,
   "id": "84845123",
   "metadata": {},
   "outputs": [
    {
     "data": {
      "text/plain": [
       "column 1    0.12305\n",
       "column 2   -1.03610\n",
       "Name: 66, dtype: float64"
      ]
     },
     "execution_count": 20,
     "metadata": {},
     "output_type": "execute_result"
    }
   ],
   "source": [
    "new_df.iloc[66,:]"
   ]
  },
  {
   "cell_type": "code",
   "execution_count": 21,
   "id": "bfe943bf",
   "metadata": {},
   "outputs": [
    {
     "data": {
      "text/html": [
       "<div>\n",
       "<style scoped>\n",
       "    .dataframe tbody tr th:only-of-type {\n",
       "        vertical-align: middle;\n",
       "    }\n",
       "\n",
       "    .dataframe tbody tr th {\n",
       "        vertical-align: top;\n",
       "    }\n",
       "\n",
       "    .dataframe thead th {\n",
       "        text-align: right;\n",
       "    }\n",
       "</style>\n",
       "<table border=\"1\" class=\"dataframe\">\n",
       "  <thead>\n",
       "    <tr style=\"text-align: right;\">\n",
       "      <th></th>\n",
       "      <th>column 1</th>\n",
       "      <th>column 2</th>\n",
       "    </tr>\n",
       "  </thead>\n",
       "  <tbody>\n",
       "    <tr>\n",
       "      <th>0</th>\n",
       "      <td>-0.45866</td>\n",
       "      <td>-1.235200</td>\n",
       "    </tr>\n",
       "    <tr>\n",
       "      <th>1</th>\n",
       "      <td>0.24348</td>\n",
       "      <td>-0.873130</td>\n",
       "    </tr>\n",
       "    <tr>\n",
       "      <th>2</th>\n",
       "      <td>0.25071</td>\n",
       "      <td>-0.808030</td>\n",
       "    </tr>\n",
       "    <tr>\n",
       "      <th>3</th>\n",
       "      <td>0.21462</td>\n",
       "      <td>-0.951980</td>\n",
       "    </tr>\n",
       "    <tr>\n",
       "      <th>4</th>\n",
       "      <td>0.12829</td>\n",
       "      <td>-1.031400</td>\n",
       "    </tr>\n",
       "    <tr>\n",
       "      <th>...</th>\n",
       "      <td>...</td>\n",
       "      <td>...</td>\n",
       "    </tr>\n",
       "    <tr>\n",
       "      <th>3995</th>\n",
       "      <td>0.89265</td>\n",
       "      <td>0.278030</td>\n",
       "    </tr>\n",
       "    <tr>\n",
       "      <th>3996</th>\n",
       "      <td>0.74741</td>\n",
       "      <td>0.428530</td>\n",
       "    </tr>\n",
       "    <tr>\n",
       "      <th>3997</th>\n",
       "      <td>1.07660</td>\n",
       "      <td>0.085708</td>\n",
       "    </tr>\n",
       "    <tr>\n",
       "      <th>3998</th>\n",
       "      <td>0.70388</td>\n",
       "      <td>0.351420</td>\n",
       "    </tr>\n",
       "    <tr>\n",
       "      <th>3999</th>\n",
       "      <td>0.33336</td>\n",
       "      <td>0.425210</td>\n",
       "    </tr>\n",
       "  </tbody>\n",
       "</table>\n",
       "<p>4000 rows × 2 columns</p>\n",
       "</div>"
      ],
      "text/plain": [
       "      column 1  column 2\n",
       "0     -0.45866 -1.235200\n",
       "1      0.24348 -0.873130\n",
       "2      0.25071 -0.808030\n",
       "3      0.21462 -0.951980\n",
       "4      0.12829 -1.031400\n",
       "...        ...       ...\n",
       "3995   0.89265  0.278030\n",
       "3996   0.74741  0.428530\n",
       "3997   1.07660  0.085708\n",
       "3998   0.70388  0.351420\n",
       "3999   0.33336  0.425210\n",
       "\n",
       "[4000 rows x 2 columns]"
      ]
     },
     "execution_count": 21,
     "metadata": {},
     "output_type": "execute_result"
    }
   ],
   "source": [
    "imputations[-1]\n"
   ]
  },
  {
   "cell_type": "code",
   "execution_count": 22,
   "id": "1c8a41f8",
   "metadata": {},
   "outputs": [],
   "source": [
    "imputations[-1].to_excel(\"CNP_NL_1(imp).xlsx\", index=False, header=False)"
   ]
  },
  {
   "cell_type": "code",
   "execution_count": null,
   "id": "4c2b2be6",
   "metadata": {},
   "outputs": [],
   "source": []
  },
  {
   "cell_type": "code",
   "execution_count": null,
   "id": "6f6ad3b4",
   "metadata": {},
   "outputs": [],
   "source": []
  }
 ],
 "metadata": {
  "kernelspec": {
   "display_name": "Python 3 (ipykernel)",
   "language": "python",
   "name": "python3"
  },
  "language_info": {
   "codemirror_mode": {
    "name": "ipython",
    "version": 3
   },
   "file_extension": ".py",
   "mimetype": "text/x-python",
   "name": "python",
   "nbconvert_exporter": "python",
   "pygments_lexer": "ipython3",
   "version": "3.9.7"
  }
 },
 "nbformat": 4,
 "nbformat_minor": 5
}
