{
 "cells": [
  {
   "cell_type": "code",
   "execution_count": null,
   "id": "public-lemon",
   "metadata": {},
   "outputs": [],
   "source": [
    "from sklearn.preprocessing import MinMaxScaler\n",
    "import numpy as np\n",
    "import pandas as pd\n",
    "import tensorflow as tf\n",
    "import MIDASpy as md\n"
   ]
  },
  {
   "cell_type": "code",
   "execution_count": null,
   "id": "diagnostic-skiing",
   "metadata": {},
   "outputs": [],
   "source": []
  },
  {
   "cell_type": "code",
   "execution_count": null,
   "id": "supreme-workstation",
   "metadata": {},
   "outputs": [],
   "source": [
    "import tensorflow as tf\n",
    "tf.compat.v1.reset_default_graph()"
   ]
  },
  {
   "cell_type": "code",
   "execution_count": null,
   "id": "hindu-pencil",
   "metadata": {},
   "outputs": [],
   "source": [
    "from tensorflow.python.framework import ops\n",
    "ops.reset_default_graph()"
   ]
  },
  {
   "cell_type": "code",
   "execution_count": null,
   "id": "electoral-alpha",
   "metadata": {},
   "outputs": [],
   "source": [
    "column_names=['Column 1','Column 2','Column 3','Column 4','Column 5','Column 6','Column 7','Column 8','Column 9']\n",
    "df=pd.read_excel(r'D:\\windsor university\\Data Mining\\Incomplete Datasets Without Labels\\TTTTEG\\TTTTEG_AN_10.xlsx',header=None,names=column_names)\n",
    "df"
   ]
  },
  {
   "cell_type": "code",
   "execution_count": null,
   "id": "governing-particular",
   "metadata": {},
   "outputs": [],
   "source": [
    "import tensorflow as tf\n",
    "tf.compat.v1.reset_default_graph()"
   ]
  },
  {
   "cell_type": "code",
   "execution_count": null,
   "id": "following-tokyo",
   "metadata": {},
   "outputs": [],
   "source": [
    "import tensorflow.compat.v1 as tf\n",
    "tf.reset_default_graph()"
   ]
  },
  {
   "cell_type": "code",
   "execution_count": null,
   "id": "suburban-pricing",
   "metadata": {},
   "outputs": [],
   "source": [
    "categorical = ['Column 1','Column 2','Column 3','Column 4','Column 5','Column 6','Column 7','Column 8','Column 9']\n",
    "data_cat, cat_cols_list = md.cat_conv(df[categorical])\n",
    "\n",
    "df.drop(categorical, axis = 1, inplace = True)\n",
    "constructor_list = [df]\n",
    "constructor_list.append(data_cat)\n",
    "data_in = pd.concat(constructor_list, axis=1)\n",
    "\n",
    "na_loc = data_in.isnull()\n",
    "data_in[na_loc] = np.nan"
   ]
  },
  {
   "cell_type": "code",
   "execution_count": null,
   "id": "white-overhead",
   "metadata": {},
   "outputs": [],
   "source": [
    "print(data_in.head())"
   ]
  },
  {
   "cell_type": "code",
   "execution_count": null,
   "id": "comfortable-validation",
   "metadata": {},
   "outputs": [],
   "source": [
    "imputer = md.Midas(layer_structure = [27,27+20,27+20+20,27+20+20+20,27+20+20,27+20,27], vae_layer = False, seed = 100, input_drop = 0.5)\n",
    "imputer.build_model(data_in,softmax_columns = cat_cols_list)\n",
    "imputer.train_model(training_epochs = 100)\n"
   ]
  },
  {
   "cell_type": "code",
   "execution_count": null,
   "id": "copyrighted-tribune",
   "metadata": {},
   "outputs": [],
   "source": [
    "imputations = imputer.generate_samples(m=10).output_list "
   ]
  },
  {
   "cell_type": "code",
   "execution_count": null,
   "id": "western-executive",
   "metadata": {},
   "outputs": [],
   "source": [
    "np.shape(imputations[-1])"
   ]
  },
  {
   "cell_type": "code",
   "execution_count": null,
   "id": "miniature-payment",
   "metadata": {},
   "outputs": [],
   "source": [
    "new_df=imputations[-1]"
   ]
  },
  {
   "cell_type": "code",
   "execution_count": null,
   "id": "intimate-treatment",
   "metadata": {},
   "outputs": [],
   "source": [
    "complete_df=pd.read_excel(r'D:\\windsor university\\Data Mining\\Original Datasets Without Labels\\TTTTEG.xlsx',header=None,names=column_names)\n",
    "complete_df"
   ]
  },
  {
   "cell_type": "code",
   "execution_count": null,
   "id": "optimum-reducing",
   "metadata": {},
   "outputs": [],
   "source": [
    "flat_cats = [cat for variable in cat_cols_list for cat in variable]\n",
    "\n",
    "for i in range(len(imputations)):\n",
    "    tmp_cat = [imputations[i][x].idxmax(axis=1) for x in cat_cols_list]\n",
    "    cat_df = pd.DataFrame({categorical[i]:tmp_cat[i] for i in range(len(categorical))})\n",
    "    imputations[i] = pd.concat([imputations[i], cat_df], axis = 1).drop(flat_cats, axis = 1)"
   ]
  },
  {
   "cell_type": "code",
   "execution_count": null,
   "id": "enormous-native",
   "metadata": {},
   "outputs": [],
   "source": [
    "print(imputations[-1].columns)"
   ]
  },
  {
   "cell_type": "code",
   "execution_count": null,
   "id": "operating-petersburg",
   "metadata": {},
   "outputs": [],
   "source": [
    "new_df=imputations[-1]\n",
    "new_df"
   ]
  },
  {
   "cell_type": "code",
   "execution_count": null,
   "id": "terminal-indianapolis",
   "metadata": {},
   "outputs": [],
   "source": [
    "new_df.columns"
   ]
  },
  {
   "cell_type": "code",
   "execution_count": null,
   "id": "small-horse",
   "metadata": {},
   "outputs": [],
   "source": [
    "def replace_column_values(dataframe):\n",
    "    \n",
    "    for col_name in dataframe.columns:\n",
    "        data_list=dataframe[col_name]\n",
    "        for index, data in enumerate(data_list):\n",
    "            data=data.replace(col_name+'_','')\n",
    "            data_list[index]=data\n",
    "        dataframe[col_name]=data_list    \n",
    "    return(dataframe)            "
   ]
  },
  {
   "cell_type": "code",
   "execution_count": null,
   "id": "identified-intervention",
   "metadata": {
    "scrolled": false
   },
   "outputs": [],
   "source": [
    "mod_df=replace_column_values(new_df)\n",
    "mod_df"
   ]
  },
  {
   "cell_type": "code",
   "execution_count": null,
   "id": "silver-intranet",
   "metadata": {},
   "outputs": [],
   "source": [
    "mod_df.dtypes"
   ]
  },
  {
   "cell_type": "markdown",
   "id": "detected-science",
   "metadata": {},
   "source": [
    "calculating AE"
   ]
  },
  {
   "cell_type": "code",
   "execution_count": null,
   "id": "still-chicago",
   "metadata": {},
   "outputs": [],
   "source": [
    "copy_est_df=mod_df.astype('string')"
   ]
  },
  {
   "cell_type": "code",
   "execution_count": null,
   "id": "proprietary-possible",
   "metadata": {},
   "outputs": [],
   "source": [
    "m=copy_est_df.astype('string')\n",
    "m"
   ]
  },
  {
   "cell_type": "code",
   "execution_count": null,
   "id": "informal-classroom",
   "metadata": {},
   "outputs": [],
   "source": [
    "# I function\n",
    "def I_function(copy_est_df,original_df):\n",
    "    for col_name in copy_est_df.columns:\n",
    "        #copy_est_df[col_name] = copy_est_df[col_name].astype('string')\n",
    "        #original_df[col_name] = original_df[col_name].astype('string')\n",
    "        est_data_list=copy_est_df[col_name].astype('string')\n",
    "        #print(est_data_list.dtypes)\n",
    "        org_data_list=original_df[col_name].astype('string')\n",
    "        for index, data in enumerate(est_data_list):\n",
    "            if est_data_list[index]==org_data_list[index]:\n",
    "                est_data_list[index]='0'\n",
    "            else:\n",
    "                est_data_list[index]='1'\n",
    "            \n",
    "        copy_est_df[col_name]=est_data_list\n",
    "    return(copy_est_df.astype('int64'))  "
   ]
  },
  {
   "cell_type": "code",
   "execution_count": null,
   "id": "afraid-maintenance",
   "metadata": {
    "scrolled": false
   },
   "outputs": [],
   "source": [
    "#copy_est_df=I_function(copy_est_df,complete_df)\n",
    "#copy_est_df"
   ]
  },
  {
   "cell_type": "code",
   "execution_count": null,
   "id": "geographic-people",
   "metadata": {},
   "outputs": [],
   "source": [
    "#copy_est_df.astype('int64')"
   ]
  },
  {
   "cell_type": "code",
   "execution_count": null,
   "id": "running-excess",
   "metadata": {},
   "outputs": [],
   "source": [
    "def Sum_new(sum):\n",
    "    summ=0\n",
    "    for n in sum:\n",
    "        summ=summ+n\n",
    "    return (summ)"
   ]
  },
  {
   "cell_type": "code",
   "execution_count": null,
   "id": "after-identifier",
   "metadata": {},
   "outputs": [],
   "source": [
    "\n",
    "#copy_est_df.astype('int64').sum()"
   ]
  },
  {
   "cell_type": "markdown",
   "id": "prospective-agency",
   "metadata": {},
   "source": [
    "𝐴𝐸 = (1 /𝑛) ∑ 𝐼(𝑥̂𝑖 = 𝑥𝑖)"
   ]
  },
  {
   "cell_type": "code",
   "execution_count": null,
   "id": "buried-psychiatry",
   "metadata": {},
   "outputs": [],
   "source": [
    "def AE(copy_est_df,original_df):\n",
    "    copy_est_df=I_function(copy_est_df,original_df)\n",
    "    total_sum=copy_est_df.astype('int64').sum()\n",
    "    final_sum=Sum_new(total_sum)\n",
    "    ae=final_sum/(958*9)\n",
    "    return(ae)"
   ]
  },
  {
   "cell_type": "code",
   "execution_count": null,
   "id": "scenic-commission",
   "metadata": {},
   "outputs": [],
   "source": [
    "AE(copy_est_df,complete_df)"
   ]
  },
  {
   "cell_type": "code",
   "execution_count": null,
   "id": "difficult-fifth",
   "metadata": {},
   "outputs": [],
   "source": []
  },
  {
   "cell_type": "code",
   "execution_count": null,
   "id": "variable-fiber",
   "metadata": {},
   "outputs": [],
   "source": []
  },
  {
   "cell_type": "code",
   "execution_count": null,
   "id": "convinced-tournament",
   "metadata": {},
   "outputs": [],
   "source": [
    "#imputations[-1]"
   ]
  },
  {
   "cell_type": "code",
   "execution_count": null,
   "id": "italic-claim",
   "metadata": {},
   "outputs": [],
   "source": [
    "mod_df.to_csv(\"TTTTEG_AN_10(imputed).csv\", index=False,header=False)"
   ]
  },
  {
   "cell_type": "code",
   "execution_count": null,
   "id": "enclosed-essex",
   "metadata": {},
   "outputs": [],
   "source": []
  },
  {
   "cell_type": "code",
   "execution_count": null,
   "id": "supported-afghanistan",
   "metadata": {},
   "outputs": [],
   "source": []
  }
 ],
 "metadata": {
  "kernelspec": {
   "display_name": "Python 3",
   "language": "python",
   "name": "python3"
  },
  "language_info": {
   "codemirror_mode": {
    "name": "ipython",
    "version": 3
   },
   "file_extension": ".py",
   "mimetype": "text/x-python",
   "name": "python",
   "nbconvert_exporter": "python",
   "pygments_lexer": "ipython3",
   "version": "3.8.5"
  }
 },
 "nbformat": 4,
 "nbformat_minor": 5
}
