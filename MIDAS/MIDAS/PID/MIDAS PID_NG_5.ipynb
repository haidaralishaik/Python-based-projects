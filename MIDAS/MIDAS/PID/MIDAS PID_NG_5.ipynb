{
 "cells": [
  {
   "cell_type": "code",
   "execution_count": 4,
   "id": "48128b60",
   "metadata": {},
   "outputs": [],
   "source": [
    "from sklearn.preprocessing import MinMaxScaler\n",
    "import numpy as np\n",
    "import pandas as pd\n",
    "import tensorflow as tf\n",
    "import MIDASpy as md\n",
    "import math\n"
   ]
  },
  {
   "cell_type": "code",
   "execution_count": null,
   "id": "f638e7f0",
   "metadata": {
    "scrolled": true
   },
   "outputs": [
    {
     "data": {
      "text/html": [
       "<div>\n",
       "<style scoped>\n",
       "    .dataframe tbody tr th:only-of-type {\n",
       "        vertical-align: middle;\n",
       "    }\n",
       "\n",
       "    .dataframe tbody tr th {\n",
       "        vertical-align: top;\n",
       "    }\n",
       "\n",
       "    .dataframe thead th {\n",
       "        text-align: right;\n",
       "    }\n",
       "</style>\n",
       "<table border=\"1\" class=\"dataframe\">\n",
       "  <thead>\n",
       "    <tr style=\"text-align: right;\">\n",
       "      <th></th>\n",
       "      <th>column 1</th>\n",
       "      <th>column 2</th>\n",
       "      <th>column 3</th>\n",
       "      <th>column 4</th>\n",
       "      <th>column 5</th>\n",
       "      <th>column 6</th>\n",
       "      <th>column 7</th>\n",
       "      <th>column 8</th>\n",
       "    </tr>\n",
       "  </thead>\n",
       "  <tbody>\n",
       "    <tr>\n",
       "      <th>0</th>\n",
       "      <td>6.0</td>\n",
       "      <td>148.0</td>\n",
       "      <td>72.0</td>\n",
       "      <td>35</td>\n",
       "      <td>0.0</td>\n",
       "      <td>33.6</td>\n",
       "      <td>0.627</td>\n",
       "      <td>50.0</td>\n",
       "    </tr>\n",
       "    <tr>\n",
       "      <th>1</th>\n",
       "      <td>1.0</td>\n",
       "      <td>85.0</td>\n",
       "      <td>66.0</td>\n",
       "      <td>29</td>\n",
       "      <td>0.0</td>\n",
       "      <td>26.6</td>\n",
       "      <td>0.351</td>\n",
       "      <td>31.0</td>\n",
       "    </tr>\n",
       "    <tr>\n",
       "      <th>2</th>\n",
       "      <td>8.0</td>\n",
       "      <td>183.0</td>\n",
       "      <td>64.0</td>\n",
       "      <td>0</td>\n",
       "      <td>0.0</td>\n",
       "      <td>23.3</td>\n",
       "      <td>0.672</td>\n",
       "      <td>32.0</td>\n",
       "    </tr>\n",
       "    <tr>\n",
       "      <th>3</th>\n",
       "      <td>1.0</td>\n",
       "      <td>89.0</td>\n",
       "      <td>66.0</td>\n",
       "      <td>23</td>\n",
       "      <td>94.0</td>\n",
       "      <td>28.1</td>\n",
       "      <td>0.167</td>\n",
       "      <td>21.0</td>\n",
       "    </tr>\n",
       "    <tr>\n",
       "      <th>4</th>\n",
       "      <td>0.0</td>\n",
       "      <td>NaN</td>\n",
       "      <td>40.0</td>\n",
       "      <td>35</td>\n",
       "      <td>NaN</td>\n",
       "      <td>43.1</td>\n",
       "      <td>2.288</td>\n",
       "      <td>33.0</td>\n",
       "    </tr>\n",
       "    <tr>\n",
       "      <th>...</th>\n",
       "      <td>...</td>\n",
       "      <td>...</td>\n",
       "      <td>...</td>\n",
       "      <td>...</td>\n",
       "      <td>...</td>\n",
       "      <td>...</td>\n",
       "      <td>...</td>\n",
       "      <td>...</td>\n",
       "    </tr>\n",
       "    <tr>\n",
       "      <th>763</th>\n",
       "      <td>NaN</td>\n",
       "      <td>101.0</td>\n",
       "      <td>76.0</td>\n",
       "      <td>48</td>\n",
       "      <td>180.0</td>\n",
       "      <td>32.9</td>\n",
       "      <td>0.171</td>\n",
       "      <td>63.0</td>\n",
       "    </tr>\n",
       "    <tr>\n",
       "      <th>764</th>\n",
       "      <td>2.0</td>\n",
       "      <td>122.0</td>\n",
       "      <td>70.0</td>\n",
       "      <td>27</td>\n",
       "      <td>0.0</td>\n",
       "      <td>36.8</td>\n",
       "      <td>0.340</td>\n",
       "      <td>27.0</td>\n",
       "    </tr>\n",
       "    <tr>\n",
       "      <th>765</th>\n",
       "      <td>5.0</td>\n",
       "      <td>121.0</td>\n",
       "      <td>72.0</td>\n",
       "      <td>23</td>\n",
       "      <td>112.0</td>\n",
       "      <td>26.2</td>\n",
       "      <td>0.245</td>\n",
       "      <td>30.0</td>\n",
       "    </tr>\n",
       "    <tr>\n",
       "      <th>766</th>\n",
       "      <td>1.0</td>\n",
       "      <td>126.0</td>\n",
       "      <td>60.0</td>\n",
       "      <td>0</td>\n",
       "      <td>0.0</td>\n",
       "      <td>30.1</td>\n",
       "      <td>0.349</td>\n",
       "      <td>47.0</td>\n",
       "    </tr>\n",
       "    <tr>\n",
       "      <th>767</th>\n",
       "      <td>NaN</td>\n",
       "      <td>93.0</td>\n",
       "      <td>70.0</td>\n",
       "      <td>31</td>\n",
       "      <td>0.0</td>\n",
       "      <td>30.4</td>\n",
       "      <td>0.315</td>\n",
       "      <td>23.0</td>\n",
       "    </tr>\n",
       "  </tbody>\n",
       "</table>\n",
       "<p>768 rows × 8 columns</p>\n",
       "</div>"
      ],
      "text/plain": [
       "     column 1  column 2  column 3  column 4  column 5  column 6  column 7  \\\n",
       "0         6.0     148.0      72.0        35       0.0      33.6     0.627   \n",
       "1         1.0      85.0      66.0        29       0.0      26.6     0.351   \n",
       "2         8.0     183.0      64.0         0       0.0      23.3     0.672   \n",
       "3         1.0      89.0      66.0        23      94.0      28.1     0.167   \n",
       "4         0.0       NaN      40.0        35       NaN      43.1     2.288   \n",
       "..        ...       ...       ...       ...       ...       ...       ...   \n",
       "763       NaN     101.0      76.0        48     180.0      32.9     0.171   \n",
       "764       2.0     122.0      70.0        27       0.0      36.8     0.340   \n",
       "765       5.0     121.0      72.0        23     112.0      26.2     0.245   \n",
       "766       1.0     126.0      60.0         0       0.0      30.1     0.349   \n",
       "767       NaN      93.0      70.0        31       0.0      30.4     0.315   \n",
       "\n",
       "     column 8  \n",
       "0        50.0  \n",
       "1        31.0  \n",
       "2        32.0  \n",
       "3        21.0  \n",
       "4        33.0  \n",
       "..        ...  \n",
       "763      63.0  \n",
       "764      27.0  \n",
       "765      30.0  \n",
       "766      47.0  \n",
       "767      23.0  \n",
       "\n",
       "[768 rows x 8 columns]"
      ]
     },
     "execution_count": 5,
     "metadata": {},
     "output_type": "execute_result"
    }
   ],
   "source": [
    "column_names=['column 1','column 2','column 3','column 4','column 5','column 6','column 7','column 8',]\n",
    "df=pd.read_excel(r'C:\\Users\\furqz\\OneDrive\\Desktop\\Data mining stiff\\incomplete\\Incomplete Datasets Without Labels\\PID\\PID_NG_5.xlsx', header=None,names=column_names)\n",
    "df"
   ]
  },
  {
   "cell_type": "code",
   "execution_count": 2,
   "id": "585cc6f7",
   "metadata": {},
   "outputs": [
    {
     "name": "stdout",
     "output_type": "stream",
     "text": [
      "dataType\tcolumn_names\tNumber of Nulls\n"
     ]
    },
    {
     "ename": "NameError",
     "evalue": "name 'df' is not defined",
     "output_type": "error",
     "traceback": [
      "\u001b[1;31m---------------------------------------------------------------------------\u001b[0m",
      "\u001b[1;31mNameError\u001b[0m                                 Traceback (most recent call last)",
      "\u001b[1;32m~\\AppData\\Local\\Temp/ipykernel_24024/1653043272.py\u001b[0m in \u001b[0;36m<module>\u001b[1;34m\u001b[0m\n\u001b[0;32m      3\u001b[0m \u001b[0mprint\u001b[0m\u001b[1;33m(\u001b[0m\u001b[1;34m'Number of Nulls'\u001b[0m\u001b[1;33m)\u001b[0m\u001b[1;33m\u001b[0m\u001b[1;33m\u001b[0m\u001b[0m\n\u001b[0;32m      4\u001b[0m \u001b[1;32mfor\u001b[0m \u001b[0mname\u001b[0m \u001b[1;32min\u001b[0m \u001b[0mcolumn_names\u001b[0m\u001b[1;33m:\u001b[0m\u001b[1;33m\u001b[0m\u001b[1;33m\u001b[0m\u001b[0m\n\u001b[1;32m----> 5\u001b[1;33m     \u001b[0mprint\u001b[0m\u001b[1;33m(\u001b[0m\u001b[0mdf\u001b[0m\u001b[1;33m[\u001b[0m\u001b[0mname\u001b[0m\u001b[1;33m]\u001b[0m\u001b[1;33m.\u001b[0m\u001b[0mdtype\u001b[0m\u001b[1;33m,\u001b[0m\u001b[0mend\u001b[0m\u001b[1;33m=\u001b[0m\u001b[1;34m'\\t\\t'\u001b[0m\u001b[1;33m)\u001b[0m\u001b[1;33m\u001b[0m\u001b[1;33m\u001b[0m\u001b[0m\n\u001b[0m\u001b[0;32m      6\u001b[0m     \u001b[0mprint\u001b[0m\u001b[1;33m(\u001b[0m\u001b[0mname\u001b[0m\u001b[1;33m,\u001b[0m\u001b[0mend\u001b[0m\u001b[1;33m=\u001b[0m\u001b[1;34m'\\t'\u001b[0m\u001b[1;33m)\u001b[0m\u001b[1;33m\u001b[0m\u001b[1;33m\u001b[0m\u001b[0m\n\u001b[0;32m      7\u001b[0m     \u001b[0mprint\u001b[0m\u001b[1;33m(\u001b[0m\u001b[0mdf\u001b[0m\u001b[1;33m[\u001b[0m\u001b[0mname\u001b[0m\u001b[1;33m]\u001b[0m\u001b[1;33m.\u001b[0m\u001b[0misnull\u001b[0m\u001b[1;33m(\u001b[0m\u001b[1;33m)\u001b[0m\u001b[1;33m.\u001b[0m\u001b[0msum\u001b[0m\u001b[1;33m(\u001b[0m\u001b[1;33m)\u001b[0m\u001b[1;33m)\u001b[0m\u001b[1;33m\u001b[0m\u001b[1;33m\u001b[0m\u001b[0m\n",
      "\u001b[1;31mNameError\u001b[0m: name 'df' is not defined"
     ]
    }
   ],
   "source": [
    "print('dataType',end='\\t')\n",
    "print('column_names',end='\\t')\n",
    "print('Number of Nulls')\n",
    "for name in column_names:\n",
    "    print(df[name].dtype,end='\\t\\t')\n",
    "    print(name,end='\\t')\n",
    "    print(df[name].isnull().sum())"
   ]
  },
  {
   "cell_type": "code",
   "execution_count": 3,
   "id": "75bd9c64",
   "metadata": {},
   "outputs": [
    {
     "ename": "NameError",
     "evalue": "name 'df' is not defined",
     "output_type": "error",
     "traceback": [
      "\u001b[1;31m---------------------------------------------------------------------------\u001b[0m",
      "\u001b[1;31mNameError\u001b[0m                                 Traceback (most recent call last)",
      "\u001b[1;32m~\\AppData\\Local\\Temp/ipykernel_24024/3627053830.py\u001b[0m in \u001b[0;36m<module>\u001b[1;34m\u001b[0m\n\u001b[1;32m----> 1\u001b[1;33m \u001b[0mdf\u001b[0m\u001b[1;33m.\u001b[0m\u001b[0mdescribe\u001b[0m\u001b[1;33m(\u001b[0m\u001b[1;33m)\u001b[0m\u001b[1;33m\u001b[0m\u001b[1;33m\u001b[0m\u001b[0m\n\u001b[0m",
      "\u001b[1;31mNameError\u001b[0m: name 'df' is not defined"
     ]
    }
   ],
   "source": [
    "df.describe()"
   ]
  },
  {
   "cell_type": "code",
   "execution_count": 5,
   "id": "56182ba1",
   "metadata": {
    "scrolled": true
   },
   "outputs": [
    {
     "data": {
      "text/plain": [
       "<AxesSubplot:>"
      ]
     },
     "execution_count": 5,
     "metadata": {},
     "output_type": "execute_result"
    },
    {
     "data": {
      "image/png": "[encoded data removed]",
      "text/plain": [
       "<Figure size 1080x360 with 1 Axes>"
      ]
     },
     "metadata": {
      "needs_background": "light"
     },
     "output_type": "display_data"
    }
   ],
   "source": [
    "df.boxplot(return_type='axes', figsize=(15,5))"
   ]
  },
  {
   "cell_type": "code",
   "execution_count": 6,
   "id": "856e9b6c",
   "metadata": {},
   "outputs": [
    {
     "data": {
      "text/plain": [
       "column 1      3.846457\n",
       "column 2    120.894531\n",
       "column 3     69.144928\n",
       "column 4     20.600000\n",
       "column 5     80.316273\n",
       "column 6     31.960714\n",
       "column 7      0.471799\n",
       "column 8     33.203412\n",
       "dtype: float64"
      ]
     },
     "execution_count": 6,
     "metadata": {},
     "output_type": "execute_result"
    }
   ],
   "source": [
    "df.mean()"
   ]
  },
  {
   "cell_type": "code",
   "execution_count": 7,
   "id": "18c4a9dd",
   "metadata": {},
   "outputs": [
    {
     "data": {
      "text/html": [
       "<div>\n",
       "<style scoped>\n",
       "    .dataframe tbody tr th:only-of-type {\n",
       "        vertical-align: middle;\n",
       "    }\n",
       "\n",
       "    .dataframe tbody tr th {\n",
       "        vertical-align: top;\n",
       "    }\n",
       "\n",
       "    .dataframe thead th {\n",
       "        text-align: right;\n",
       "    }\n",
       "</style>\n",
       "<table border=\"1\" class=\"dataframe\">\n",
       "  <thead>\n",
       "    <tr style=\"text-align: right;\">\n",
       "      <th></th>\n",
       "      <th>column 1</th>\n",
       "      <th>column 2</th>\n",
       "      <th>column 3</th>\n",
       "      <th>column 4</th>\n",
       "      <th>column 5</th>\n",
       "      <th>column 6</th>\n",
       "      <th>column 7</th>\n",
       "      <th>column 8</th>\n",
       "    </tr>\n",
       "  </thead>\n",
       "  <tbody>\n",
       "    <tr>\n",
       "      <th>column 1</th>\n",
       "      <td>1.000000</td>\n",
       "      <td>0.126677</td>\n",
       "      <td>0.134372</td>\n",
       "      <td>-0.082638</td>\n",
       "      <td>-0.072802</td>\n",
       "      <td>0.017321</td>\n",
       "      <td>-0.028048</td>\n",
       "      <td>0.541052</td>\n",
       "    </tr>\n",
       "    <tr>\n",
       "      <th>column 2</th>\n",
       "      <td>0.126677</td>\n",
       "      <td>1.000000</td>\n",
       "      <td>0.150369</td>\n",
       "      <td>0.059185</td>\n",
       "      <td>0.334767</td>\n",
       "      <td>0.222223</td>\n",
       "      <td>0.135080</td>\n",
       "      <td>0.263549</td>\n",
       "    </tr>\n",
       "    <tr>\n",
       "      <th>column 3</th>\n",
       "      <td>0.134372</td>\n",
       "      <td>0.150369</td>\n",
       "      <td>1.000000</td>\n",
       "      <td>0.207120</td>\n",
       "      <td>0.089914</td>\n",
       "      <td>0.277567</td>\n",
       "      <td>0.053501</td>\n",
       "      <td>0.235697</td>\n",
       "    </tr>\n",
       "    <tr>\n",
       "      <th>column 4</th>\n",
       "      <td>-0.082638</td>\n",
       "      <td>0.059185</td>\n",
       "      <td>0.207120</td>\n",
       "      <td>1.000000</td>\n",
       "      <td>0.440056</td>\n",
       "      <td>0.386268</td>\n",
       "      <td>0.179073</td>\n",
       "      <td>-0.117582</td>\n",
       "    </tr>\n",
       "    <tr>\n",
       "      <th>column 5</th>\n",
       "      <td>-0.072802</td>\n",
       "      <td>0.334767</td>\n",
       "      <td>0.089914</td>\n",
       "      <td>0.440056</td>\n",
       "      <td>1.000000</td>\n",
       "      <td>0.190305</td>\n",
       "      <td>0.177058</td>\n",
       "      <td>-0.042287</td>\n",
       "    </tr>\n",
       "    <tr>\n",
       "      <th>column 6</th>\n",
       "      <td>0.017321</td>\n",
       "      <td>0.222223</td>\n",
       "      <td>0.277567</td>\n",
       "      <td>0.386268</td>\n",
       "      <td>0.190305</td>\n",
       "      <td>1.000000</td>\n",
       "      <td>0.139418</td>\n",
       "      <td>0.033547</td>\n",
       "    </tr>\n",
       "    <tr>\n",
       "      <th>column 7</th>\n",
       "      <td>-0.028048</td>\n",
       "      <td>0.135080</td>\n",
       "      <td>0.053501</td>\n",
       "      <td>0.179073</td>\n",
       "      <td>0.177058</td>\n",
       "      <td>0.139418</td>\n",
       "      <td>1.000000</td>\n",
       "      <td>0.028578</td>\n",
       "    </tr>\n",
       "    <tr>\n",
       "      <th>column 8</th>\n",
       "      <td>0.541052</td>\n",
       "      <td>0.263549</td>\n",
       "      <td>0.235697</td>\n",
       "      <td>-0.117582</td>\n",
       "      <td>-0.042287</td>\n",
       "      <td>0.033547</td>\n",
       "      <td>0.028578</td>\n",
       "      <td>1.000000</td>\n",
       "    </tr>\n",
       "  </tbody>\n",
       "</table>\n",
       "</div>"
      ],
      "text/plain": [
       "          column 1  column 2  column 3  column 4  column 5  column 6  \\\n",
       "column 1  1.000000  0.126677  0.134372 -0.082638 -0.072802  0.017321   \n",
       "column 2  0.126677  1.000000  0.150369  0.059185  0.334767  0.222223   \n",
       "column 3  0.134372  0.150369  1.000000  0.207120  0.089914  0.277567   \n",
       "column 4 -0.082638  0.059185  0.207120  1.000000  0.440056  0.386268   \n",
       "column 5 -0.072802  0.334767  0.089914  0.440056  1.000000  0.190305   \n",
       "column 6  0.017321  0.222223  0.277567  0.386268  0.190305  1.000000   \n",
       "column 7 -0.028048  0.135080  0.053501  0.179073  0.177058  0.139418   \n",
       "column 8  0.541052  0.263549  0.235697 -0.117582 -0.042287  0.033547   \n",
       "\n",
       "          column 7  column 8  \n",
       "column 1 -0.028048  0.541052  \n",
       "column 2  0.135080  0.263549  \n",
       "column 3  0.053501  0.235697  \n",
       "column 4  0.179073 -0.117582  \n",
       "column 5  0.177058 -0.042287  \n",
       "column 6  0.139418  0.033547  \n",
       "column 7  1.000000  0.028578  \n",
       "column 8  0.028578  1.000000  "
      ]
     },
     "execution_count": 7,
     "metadata": {},
     "output_type": "execute_result"
    }
   ],
   "source": [
    "corr=df.corr()\n",
    "corr"
   ]
  },
  {
   "cell_type": "code",
   "execution_count": 8,
   "id": "ea626871",
   "metadata": {},
   "outputs": [],
   "source": [
    "tf.compat.v1.reset_default_graph()\n",
    "import tensorflow.compat.v1 as tf\n",
    "tf.reset_default_graph()\n"
   ]
  },
  {
   "cell_type": "code",
   "execution_count": null,
   "id": "2830e6e4",
   "metadata": {
    "scrolled": false
   },
   "outputs": [
    {
     "name": "stdout",
     "output_type": "stream",
     "text": [
      "Size index: [8]\n",
      "\n",
      "Computation graph constructed\n",
      "\n",
      "Model initialised\n",
      "\n",
      "Epoch: 0 , loss: 428.0092690785726\n",
      "Epoch: 1 , loss: 426.78084500630695\n",
      "Epoch: 2 , loss: 425.4674580891927\n",
      "Epoch: 3 , loss: 425.922061920166\n",
      "Epoch: 4 , loss: 425.1769390106201\n",
      "Epoch: 5 , loss: 423.7259324391683\n",
      "Epoch: 6 , loss: 422.13330523173016\n",
      "Epoch: 7 , loss: 418.99338785807294\n",
      "Epoch: 8 , loss: 419.5705871582031\n",
      "Epoch: 9 , loss: 415.345500310262\n",
      "Epoch: 10 , loss: 415.15232912699383\n",
      "Epoch: 11 , loss: 407.26321347554523\n",
      "Epoch: 12 , loss: 402.0545069376628\n",
      "Epoch: 13 , loss: 395.7085545857747\n",
      "Epoch: 14 , loss: 382.3149420420329\n",
      "Epoch: 15 , loss: 380.1022179921468\n",
      "Epoch: 16 , loss: 368.6085548400879\n",
      "Epoch: 17 , loss: 364.3349787394206\n",
      "Epoch: 18 , loss: 354.77147420247394\n",
      "Epoch: 19 , loss: 354.9518292744954\n",
      "Epoch: 20 , loss: 340.76019287109375\n",
      "Epoch: 21 , loss: 339.4724079767863\n",
      "Epoch: 22 , loss: 333.64999198913574\n",
      "Epoch: 23 , loss: 327.27328395843506\n",
      "Epoch: 24 , loss: 323.73206329345703\n",
      "Epoch: 25 , loss: 327.18057982126874\n",
      "Epoch: 26 , loss: 323.1655689875285\n",
      "Epoch: 27 , loss: 323.9090061187744\n",
      "Epoch: 28 , loss: 316.2238594690959\n",
      "Epoch: 29 , loss: 313.4275385538737\n",
      "Epoch: 30 , loss: 315.2808205286662\n",
      "Epoch: 31 , loss: 321.24082310994464\n",
      "Epoch: 32 , loss: 319.3034995396932\n",
      "Epoch: 33 , loss: 310.5565716425578\n",
      "Epoch: 34 , loss: 324.10633023579913\n",
      "Epoch: 35 , loss: 323.0112002690633\n",
      "Epoch: 36 , loss: 324.687780380249\n"
     ]
    }
   ],
   "source": [
    "imputer = md.Midas(layer_structure = [8,8+18,8+18+18,8+18+18+18,8+18+18+18+18,8+18+18+18+18+18,8+18+18+18+18+18+18,8+18+18+18+18+18,8+18+18+18+18,8+18+18+18,8+18+18,8+18,8], vae_layer = False, seed = 8)\n",
    "imputer.build_model(df)\n",
    "imputer.train_model(training_epochs=100)\n"
   ]
  },
  {
   "cell_type": "code",
   "execution_count": null,
   "id": "6f0fef50",
   "metadata": {},
   "outputs": [],
   "source": [
    "imputations=imputer.generate_samples(m=15).output_list\n",
    "np.shape(imputations[-1])"
   ]
  },
  {
   "cell_type": "code",
   "execution_count": null,
   "id": "7842db79",
   "metadata": {},
   "outputs": [],
   "source": [
    "new_df=imputations[-1]\n",
    "new_df.iloc[21,:]\n"
   ]
  },
  {
   "cell_type": "code",
   "execution_count": null,
   "id": "a254172c",
   "metadata": {},
   "outputs": [],
   "source": [
    "complete_df=pd.read_excel(r'C:\\Users\\furqz\\OneDrive\\Desktop\\Data mining stiff\\complete\\Original Datasets Without Labels\\PID.xlsx', header=None,names=column_names)"
   ]
  },
  {
   "cell_type": "code",
   "execution_count": null,
   "id": "0a697afe",
   "metadata": {},
   "outputs": [],
   "source": [
    "new_df-complete_df"
   ]
  },
  {
   "cell_type": "markdown",
   "id": "34858b00",
   "metadata": {},
   "source": [
    "Calculating NRMSE Value"
   ]
  },
  {
   "cell_type": "code",
   "execution_count": null,
   "id": "b0e8d66c",
   "metadata": {},
   "outputs": [],
   "source": [
    "\n",
    "def Sum_new(sum):\n",
    "    summ=0\n",
    "    for n in sum:\n",
    "        summ=summ+n\n",
    "    return (summ)\n",
    "\n"
   ]
  },
  {
   "cell_type": "code",
   "execution_count": null,
   "id": "ac7182c5",
   "metadata": {},
   "outputs": [],
   "source": [
    "def Frobenius_norm(number):\n",
    "    num=number\n",
    "    abs_val=num.abs()\n",
    "    power_abs=abs_val**2\n",
    "    sum1=power_abs.sum()\n",
    "    total_sum=Sum_new(sum1)\n",
    "    return(math.sqrt(total_sum))"
   ]
  },
  {
   "cell_type": "code",
   "execution_count": null,
   "id": "7ab26717",
   "metadata": {},
   "outputs": [],
   "source": [
    "numerator=Frobenius_norm(new_df-complete_df)\n",
    "denominator=Frobenius_norm(complete_df)\n",
    "numerator, denominator"
   ]
  },
  {
   "cell_type": "code",
   "execution_count": null,
   "id": "895364b7",
   "metadata": {},
   "outputs": [],
   "source": [
    "NRMS=numerator/denominator\n",
    "NRMS\n"
   ]
  },
  {
   "cell_type": "code",
   "execution_count": null,
   "id": "84845123",
   "metadata": {},
   "outputs": [],
   "source": [
    "new_df.iloc[66,:]"
   ]
  },
  {
   "cell_type": "code",
   "execution_count": null,
   "id": "bfe943bf",
   "metadata": {},
   "outputs": [],
   "source": [
    "imputations[-1]\n"
   ]
  },
  {
   "cell_type": "code",
   "execution_count": null,
   "id": "1c8a41f8",
   "metadata": {},
   "outputs": [],
   "source": [
    "imputations[-1].to_excel(\"PID_NG_1.xlsx\", index=False, header=False)"
   ]
  },
  {
   "cell_type": "code",
   "execution_count": null,
   "id": "4c2b2be6",
   "metadata": {},
   "outputs": [],
   "source": []
  },
  {
   "cell_type": "code",
   "execution_count": null,
   "id": "6f6ad3b4",
   "metadata": {},
   "outputs": [],
   "source": []
  }
 ],
 "metadata": {
  "kernelspec": {
   "display_name": "Python 3 (ipykernel)",
   "language": "python",
   "name": "python3"
  },
  "language_info": {
   "codemirror_mode": {
    "name": "ipython",
    "version": 3
   },
   "file_extension": ".py",
   "mimetype": "text/x-python",
   "name": "python",
   "nbconvert_exporter": "python",
   "pygments_lexer": "ipython3",
   "version": "3.9.7"
  }
 },
 "nbformat": 4,
 "nbformat_minor": 5
}
