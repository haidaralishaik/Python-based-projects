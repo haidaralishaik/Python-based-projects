{
 "cells": [
  {
   "cell_type": "code",
   "execution_count": 36,
   "id": "public-lemon",
   "metadata": {},
   "outputs": [],
   "source": [
    "from sklearn.preprocessing import MinMaxScaler\n",
    "import numpy as np\n",
    "import pandas as pd\n",
    "import tensorflow as tf\n",
    "import MIDASpy as md\n"
   ]
  },
  {
   "cell_type": "code",
   "execution_count": 37,
   "id": "electoral-alpha",
   "metadata": {},
   "outputs": [
    {
     "ename": "PermissionError",
     "evalue": "[Errno 13] Permission denied: 'C:\\\\Users\\\\furqz\\\\OneDrive\\\\Desktop\\\\Data mining stiff\\\\incomplete\\\\Incomplete Datasets Without Labels\\\\HOV\\\\HOV_AG_1.xlsx'",
     "output_type": "error",
     "traceback": [
      "\u001b[1;31m---------------------------------------------------------------------------\u001b[0m",
      "\u001b[1;31mPermissionError\u001b[0m                           Traceback (most recent call last)",
      "\u001b[1;32m~\\AppData\\Local\\Temp/ipykernel_16256/372416407.py\u001b[0m in \u001b[0;36m<module>\u001b[1;34m\u001b[0m\n\u001b[0;32m      1\u001b[0m \u001b[0mcolumn_names\u001b[0m\u001b[1;33m=\u001b[0m\u001b[1;33m[\u001b[0m\u001b[1;34m'Column 1'\u001b[0m\u001b[1;33m,\u001b[0m\u001b[1;34m'Column 2'\u001b[0m\u001b[1;33m,\u001b[0m\u001b[1;34m'Column 3'\u001b[0m\u001b[1;33m,\u001b[0m\u001b[1;34m'Column 4'\u001b[0m\u001b[1;33m,\u001b[0m\u001b[1;34m'Column 5'\u001b[0m\u001b[1;33m,\u001b[0m\u001b[1;34m'Column 6'\u001b[0m\u001b[1;33m,\u001b[0m\u001b[1;34m'Column 7'\u001b[0m\u001b[1;33m,\u001b[0m\u001b[1;34m'Column 8'\u001b[0m\u001b[1;33m,\u001b[0m\u001b[1;34m'Column 9'\u001b[0m\u001b[1;33m,\u001b[0m\u001b[1;34m'Column 10'\u001b[0m\u001b[1;33m,\u001b[0m\u001b[1;34m'Column 11'\u001b[0m\u001b[1;33m,\u001b[0m\u001b[1;34m'Column 12'\u001b[0m\u001b[1;33m,\u001b[0m\u001b[1;34m'Column 13'\u001b[0m\u001b[1;33m,\u001b[0m\u001b[1;34m'Column 14'\u001b[0m\u001b[1;33m,\u001b[0m\u001b[1;34m'Column 15'\u001b[0m\u001b[1;33m,\u001b[0m\u001b[1;34m'Column 16'\u001b[0m\u001b[1;33m]\u001b[0m\u001b[1;33m\u001b[0m\u001b[1;33m\u001b[0m\u001b[0m\n\u001b[1;32m----> 2\u001b[1;33m \u001b[0mdf\u001b[0m\u001b[1;33m=\u001b[0m\u001b[0mpd\u001b[0m\u001b[1;33m.\u001b[0m\u001b[0mread_excel\u001b[0m\u001b[1;33m(\u001b[0m\u001b[1;34mr'C:\\Users\\furqz\\OneDrive\\Desktop\\Data mining stiff\\incomplete\\Incomplete Datasets Without Labels\\HOV\\HOV_AG_1.xlsx'\u001b[0m\u001b[1;33m,\u001b[0m\u001b[0mheader\u001b[0m\u001b[1;33m=\u001b[0m\u001b[1;32mNone\u001b[0m\u001b[1;33m,\u001b[0m\u001b[0mnames\u001b[0m\u001b[1;33m=\u001b[0m\u001b[0mcolumn_names\u001b[0m\u001b[1;33m)\u001b[0m\u001b[1;33m\u001b[0m\u001b[1;33m\u001b[0m\u001b[0m\n\u001b[0m\u001b[0;32m      3\u001b[0m \u001b[0mdf\u001b[0m\u001b[1;33m\u001b[0m\u001b[1;33m\u001b[0m\u001b[0m\n",
      "\u001b[1;32m~\\anaconda3\\lib\\site-packages\\pandas\\util\\_decorators.py\u001b[0m in \u001b[0;36mwrapper\u001b[1;34m(*args, **kwargs)\u001b[0m\n\u001b[0;32m    309\u001b[0m                     \u001b[0mstacklevel\u001b[0m\u001b[1;33m=\u001b[0m\u001b[0mstacklevel\u001b[0m\u001b[1;33m,\u001b[0m\u001b[1;33m\u001b[0m\u001b[1;33m\u001b[0m\u001b[0m\n\u001b[0;32m    310\u001b[0m                 )\n\u001b[1;32m--> 311\u001b[1;33m             \u001b[1;32mreturn\u001b[0m \u001b[0mfunc\u001b[0m\u001b[1;33m(\u001b[0m\u001b[1;33m*\u001b[0m\u001b[0margs\u001b[0m\u001b[1;33m,\u001b[0m \u001b[1;33m**\u001b[0m\u001b[0mkwargs\u001b[0m\u001b[1;33m)\u001b[0m\u001b[1;33m\u001b[0m\u001b[1;33m\u001b[0m\u001b[0m\n\u001b[0m\u001b[0;32m    312\u001b[0m \u001b[1;33m\u001b[0m\u001b[0m\n\u001b[0;32m    313\u001b[0m         \u001b[1;32mreturn\u001b[0m \u001b[0mwrapper\u001b[0m\u001b[1;33m\u001b[0m\u001b[1;33m\u001b[0m\u001b[0m\n",
      "\u001b[1;32m~\\anaconda3\\lib\\site-packages\\pandas\\io\\excel\\_base.py\u001b[0m in \u001b[0;36mread_excel\u001b[1;34m(io, sheet_name, header, names, index_col, usecols, squeeze, dtype, engine, converters, true_values, false_values, skiprows, nrows, na_values, keep_default_na, na_filter, verbose, parse_dates, date_parser, thousands, comment, skipfooter, convert_float, mangle_dupe_cols, storage_options)\u001b[0m\n\u001b[0;32m    362\u001b[0m     \u001b[1;32mif\u001b[0m \u001b[1;32mnot\u001b[0m \u001b[0misinstance\u001b[0m\u001b[1;33m(\u001b[0m\u001b[0mio\u001b[0m\u001b[1;33m,\u001b[0m \u001b[0mExcelFile\u001b[0m\u001b[1;33m)\u001b[0m\u001b[1;33m:\u001b[0m\u001b[1;33m\u001b[0m\u001b[1;33m\u001b[0m\u001b[0m\n\u001b[0;32m    363\u001b[0m         \u001b[0mshould_close\u001b[0m \u001b[1;33m=\u001b[0m \u001b[1;32mTrue\u001b[0m\u001b[1;33m\u001b[0m\u001b[1;33m\u001b[0m\u001b[0m\n\u001b[1;32m--> 364\u001b[1;33m         \u001b[0mio\u001b[0m \u001b[1;33m=\u001b[0m \u001b[0mExcelFile\u001b[0m\u001b[1;33m(\u001b[0m\u001b[0mio\u001b[0m\u001b[1;33m,\u001b[0m \u001b[0mstorage_options\u001b[0m\u001b[1;33m=\u001b[0m\u001b[0mstorage_options\u001b[0m\u001b[1;33m,\u001b[0m \u001b[0mengine\u001b[0m\u001b[1;33m=\u001b[0m\u001b[0mengine\u001b[0m\u001b[1;33m)\u001b[0m\u001b[1;33m\u001b[0m\u001b[1;33m\u001b[0m\u001b[0m\n\u001b[0m\u001b[0;32m    365\u001b[0m     \u001b[1;32melif\u001b[0m \u001b[0mengine\u001b[0m \u001b[1;32mand\u001b[0m \u001b[0mengine\u001b[0m \u001b[1;33m!=\u001b[0m \u001b[0mio\u001b[0m\u001b[1;33m.\u001b[0m\u001b[0mengine\u001b[0m\u001b[1;33m:\u001b[0m\u001b[1;33m\u001b[0m\u001b[1;33m\u001b[0m\u001b[0m\n\u001b[0;32m    366\u001b[0m         raise ValueError(\n",
      "\u001b[1;32m~\\anaconda3\\lib\\site-packages\\pandas\\io\\excel\\_base.py\u001b[0m in \u001b[0;36m__init__\u001b[1;34m(self, path_or_buffer, engine, storage_options)\u001b[0m\n\u001b[0;32m   1189\u001b[0m                 \u001b[0mext\u001b[0m \u001b[1;33m=\u001b[0m \u001b[1;34m\"xls\"\u001b[0m\u001b[1;33m\u001b[0m\u001b[1;33m\u001b[0m\u001b[0m\n\u001b[0;32m   1190\u001b[0m             \u001b[1;32melse\u001b[0m\u001b[1;33m:\u001b[0m\u001b[1;33m\u001b[0m\u001b[1;33m\u001b[0m\u001b[0m\n\u001b[1;32m-> 1191\u001b[1;33m                 ext = inspect_excel_format(\n\u001b[0m\u001b[0;32m   1192\u001b[0m                     \u001b[0mcontent_or_path\u001b[0m\u001b[1;33m=\u001b[0m\u001b[0mpath_or_buffer\u001b[0m\u001b[1;33m,\u001b[0m \u001b[0mstorage_options\u001b[0m\u001b[1;33m=\u001b[0m\u001b[0mstorage_options\u001b[0m\u001b[1;33m\u001b[0m\u001b[1;33m\u001b[0m\u001b[0m\n\u001b[0;32m   1193\u001b[0m                 )\n",
      "\u001b[1;32m~\\anaconda3\\lib\\site-packages\\pandas\\io\\excel\\_base.py\u001b[0m in \u001b[0;36minspect_excel_format\u001b[1;34m(content_or_path, storage_options)\u001b[0m\n\u001b[0;32m   1068\u001b[0m         \u001b[0mcontent_or_path\u001b[0m \u001b[1;33m=\u001b[0m \u001b[0mBytesIO\u001b[0m\u001b[1;33m(\u001b[0m\u001b[0mcontent_or_path\u001b[0m\u001b[1;33m)\u001b[0m\u001b[1;33m\u001b[0m\u001b[1;33m\u001b[0m\u001b[0m\n\u001b[0;32m   1069\u001b[0m \u001b[1;33m\u001b[0m\u001b[0m\n\u001b[1;32m-> 1070\u001b[1;33m     with get_handle(\n\u001b[0m\u001b[0;32m   1071\u001b[0m         \u001b[0mcontent_or_path\u001b[0m\u001b[1;33m,\u001b[0m \u001b[1;34m\"rb\"\u001b[0m\u001b[1;33m,\u001b[0m \u001b[0mstorage_options\u001b[0m\u001b[1;33m=\u001b[0m\u001b[0mstorage_options\u001b[0m\u001b[1;33m,\u001b[0m \u001b[0mis_text\u001b[0m\u001b[1;33m=\u001b[0m\u001b[1;32mFalse\u001b[0m\u001b[1;33m\u001b[0m\u001b[1;33m\u001b[0m\u001b[0m\n\u001b[0;32m   1072\u001b[0m     ) as handle:\n",
      "\u001b[1;32m~\\anaconda3\\lib\\site-packages\\pandas\\io\\common.py\u001b[0m in \u001b[0;36mget_handle\u001b[1;34m(path_or_buf, mode, encoding, compression, memory_map, is_text, errors, storage_options)\u001b[0m\n\u001b[0;32m    709\u001b[0m         \u001b[1;32melse\u001b[0m\u001b[1;33m:\u001b[0m\u001b[1;33m\u001b[0m\u001b[1;33m\u001b[0m\u001b[0m\n\u001b[0;32m    710\u001b[0m             \u001b[1;31m# Binary mode\u001b[0m\u001b[1;33m\u001b[0m\u001b[1;33m\u001b[0m\u001b[0m\n\u001b[1;32m--> 711\u001b[1;33m             \u001b[0mhandle\u001b[0m \u001b[1;33m=\u001b[0m \u001b[0mopen\u001b[0m\u001b[1;33m(\u001b[0m\u001b[0mhandle\u001b[0m\u001b[1;33m,\u001b[0m \u001b[0mioargs\u001b[0m\u001b[1;33m.\u001b[0m\u001b[0mmode\u001b[0m\u001b[1;33m)\u001b[0m\u001b[1;33m\u001b[0m\u001b[1;33m\u001b[0m\u001b[0m\n\u001b[0m\u001b[0;32m    712\u001b[0m         \u001b[0mhandles\u001b[0m\u001b[1;33m.\u001b[0m\u001b[0mappend\u001b[0m\u001b[1;33m(\u001b[0m\u001b[0mhandle\u001b[0m\u001b[1;33m)\u001b[0m\u001b[1;33m\u001b[0m\u001b[1;33m\u001b[0m\u001b[0m\n\u001b[0;32m    713\u001b[0m \u001b[1;33m\u001b[0m\u001b[0m\n",
      "\u001b[1;31mPermissionError\u001b[0m: [Errno 13] Permission denied: 'C:\\\\Users\\\\furqz\\\\OneDrive\\\\Desktop\\\\Data mining stiff\\\\incomplete\\\\Incomplete Datasets Without Labels\\\\HOV\\\\HOV_AG_1.xlsx'"
     ]
    }
   ],
   "source": [
    "column_names=['Column 1','Column 2','Column 3','Column 4','Column 5','Column 6','Column 7','Column 8','Column 9','Column 10','Column 11','Column 12','Column 13','Column 14','Column 15','Column 16']\n",
    "df=pd.read_excel(r'C:\\Users\\furqz\\OneDrive\\Desktop\\Data mining stiff\\incomplete\\Incomplete Datasets Without Labels\\HOV\\HOV_AG_1.xlsx',header=None,names=column_names)\n",
    "df"
   ]
  },
  {
   "cell_type": "code",
   "execution_count": null,
   "id": "hindu-pencil",
   "metadata": {},
   "outputs": [],
   "source": [
    "from tensorflow.python.framework import ops\n",
    "ops.reset_default_graph()"
   ]
  },
  {
   "cell_type": "code",
   "execution_count": null,
   "id": "governing-particular",
   "metadata": {},
   "outputs": [],
   "source": [
    "import tensorflow as tf\n",
    "tf.compat.v1.reset_default_graph()"
   ]
  },
  {
   "cell_type": "code",
   "execution_count": null,
   "id": "supreme-workstation",
   "metadata": {},
   "outputs": [],
   "source": [
    "import tensorflow as tf\n",
    "tf.compat.v1.reset_default_graph()"
   ]
  },
  {
   "cell_type": "code",
   "execution_count": null,
   "id": "following-tokyo",
   "metadata": {},
   "outputs": [],
   "source": [
    "import tensorflow.compat.v1 as tf\n",
    "tf.reset_default_graph()"
   ]
  },
  {
   "cell_type": "code",
   "execution_count": null,
   "id": "suburban-pricing",
   "metadata": {},
   "outputs": [],
   "source": [
    "categorical = ['Column 1','Column 2','Column 3','Column 4','Column 5','Column 6','Column 7','Column 8','Column 9','Column 10','Column 11','Column 12','Column 13','Column 14','Column 15','Column 16']\n",
    "data_cat, cat_cols_list = md.cat_conv(df[categorical])\n",
    "\n",
    "df.drop(categorical, axis = 1, inplace = True)\n",
    "constructor_list = [df]\n",
    "constructor_list.append(data_cat)\n",
    "data_in = pd.concat(constructor_list, axis=1)\n",
    "\n",
    "na_loc = data_in.isnull()\n",
    "data_in[na_loc] = np.nan"
   ]
  },
  {
   "cell_type": "code",
   "execution_count": null,
   "id": "white-overhead",
   "metadata": {},
   "outputs": [],
   "source": [
    "print(data_in.head())"
   ]
  },
  {
   "cell_type": "code",
   "execution_count": null,
   "id": "comfortable-validation",
   "metadata": {},
   "outputs": [],
   "source": [
    "imputer = md.Midas(layer_structure = [16,16+15,16+15+15,16+15+15+15,16+15+15,16+15,16], vae_layer = False, seed = 100, input_drop = 0.5)\n",
    "imputer.build_model(data_in,softmax_columns = cat_cols_list)\n",
    "imputer.train_model(training_epochs = 100)\n"
   ]
  },
  {
   "cell_type": "code",
   "execution_count": null,
   "id": "copyrighted-tribune",
   "metadata": {},
   "outputs": [],
   "source": [
    "imputations = imputer.generate_samples(m=10).output_list "
   ]
  },
  {
   "cell_type": "code",
   "execution_count": null,
   "id": "western-executive",
   "metadata": {},
   "outputs": [],
   "source": [
    "np.shape(imputations[-1])"
   ]
  },
  {
   "cell_type": "code",
   "execution_count": null,
   "id": "miniature-payment",
   "metadata": {},
   "outputs": [],
   "source": [
    "new_df=imputations[-1]"
   ]
  },
  {
   "cell_type": "code",
   "execution_count": null,
   "id": "intimate-treatment",
   "metadata": {},
   "outputs": [],
   "source": [
    "complete_df=pd.read_excel(r'C:\\Users\\furqz\\OneDrive\\Desktop\\Data mining stiff\\complete\\Original Datasets Without Labels\\HOV.xlsx',header=None,names=column_names)\n",
    "complete_df"
   ]
  },
  {
   "cell_type": "code",
   "execution_count": null,
   "id": "optimum-reducing",
   "metadata": {},
   "outputs": [],
   "source": [
    "flat_cats = [cat for variable in cat_cols_list for cat in variable]\n",
    "\n",
    "for i in range(len(imputations)):\n",
    "    tmp_cat = [imputations[i][x].idxmax(axis=1) for x in cat_cols_list]\n",
    "    cat_df = pd.DataFrame({categorical[i]:tmp_cat[i] for i in range(len(categorical))})\n",
    "    imputations[i] = pd.concat([imputations[i], cat_df], axis = 1).drop(flat_cats, axis = 1)"
   ]
  },
  {
   "cell_type": "code",
   "execution_count": null,
   "id": "enormous-native",
   "metadata": {},
   "outputs": [],
   "source": [
    "print(imputations[-1].columns)"
   ]
  },
  {
   "cell_type": "code",
   "execution_count": null,
   "id": "operating-petersburg",
   "metadata": {},
   "outputs": [],
   "source": [
    "new_df=imputations[-1]\n",
    "new_df"
   ]
  },
  {
   "cell_type": "code",
   "execution_count": null,
   "id": "terminal-indianapolis",
   "metadata": {},
   "outputs": [],
   "source": [
    "new_df.columns"
   ]
  },
  {
   "cell_type": "code",
   "execution_count": null,
   "id": "small-horse",
   "metadata": {},
   "outputs": [],
   "source": [
    "def replace_column_values(dataframe):\n",
    "    \n",
    "    for col_name in dataframe.columns:\n",
    "        data_list=dataframe[col_name]\n",
    "        for index, data in enumerate(data_list):\n",
    "            data=data.replace(col_name+'_','')\n",
    "            data_list[index]=data\n",
    "        dataframe[col_name]=data_list    \n",
    "    return(dataframe)            "
   ]
  },
  {
   "cell_type": "code",
   "execution_count": null,
   "id": "identified-intervention",
   "metadata": {
    "scrolled": false
   },
   "outputs": [],
   "source": [
    "mod_df=replace_column_values(new_df)\n",
    "mod_df"
   ]
  },
  {
   "cell_type": "code",
   "execution_count": null,
   "id": "silver-intranet",
   "metadata": {},
   "outputs": [],
   "source": [
    "mod_df.dtypes"
   ]
  },
  {
   "cell_type": "markdown",
   "id": "detected-science",
   "metadata": {},
   "source": [
    "calculating AE"
   ]
  },
  {
   "cell_type": "code",
   "execution_count": null,
   "id": "still-chicago",
   "metadata": {},
   "outputs": [],
   "source": [
    "copy_est_df=mod_df.astype('string')"
   ]
  },
  {
   "cell_type": "code",
   "execution_count": null,
   "id": "proprietary-possible",
   "metadata": {},
   "outputs": [],
   "source": [
    "m=copy_est_df.astype('string')\n",
    "m"
   ]
  },
  {
   "cell_type": "code",
   "execution_count": null,
   "id": "informal-classroom",
   "metadata": {},
   "outputs": [],
   "source": [
    "# I function\n",
    "def I_function(copy_est_df,original_df):\n",
    "    for col_name in copy_est_df.columns:\n",
    "        #copy_est_df[col_name] = copy_est_df[col_name].astype('string')\n",
    "        #original_df[col_name] = original_df[col_name].astype('string')\n",
    "        est_data_list=copy_est_df[col_name].astype('string')\n",
    "        #print(est_data_list.dtypes)\n",
    "        org_data_list=original_df[col_name].astype('string')\n",
    "        for index, data in enumerate(est_data_list):\n",
    "            if est_data_list[index]==org_data_list[index]:\n",
    "                est_data_list[index]='0'\n",
    "            else:\n",
    "                est_data_list[index]='1'\n",
    "            \n",
    "        copy_est_df[col_name]=est_data_list\n",
    "    return(copy_est_df.astype('int64'))  "
   ]
  },
  {
   "cell_type": "code",
   "execution_count": null,
   "id": "running-excess",
   "metadata": {},
   "outputs": [],
   "source": [
    "def Sum_new(sum):\n",
    "    summ=0\n",
    "    for n in sum:\n",
    "        summ=summ+n\n",
    "    return (summ)"
   ]
  },
  {
   "cell_type": "markdown",
   "id": "prospective-agency",
   "metadata": {},
   "source": [
    "𝐴𝐸 = (1 /𝑛) ∑ 𝐼(𝑥̂𝑖 = 𝑥𝑖)"
   ]
  },
  {
   "cell_type": "code",
   "execution_count": null,
   "id": "buried-psychiatry",
   "metadata": {},
   "outputs": [],
   "source": [
    "def AE(copy_est_df,original_df):\n",
    "    copy_est_df=I_function(copy_est_df,original_df)\n",
    "    total_sum=copy_est_df.astype('int64').sum()\n",
    "    final_sum=Sum_new(total_sum)\n",
    "    ae=final_sum/(232*16)\n",
    "    return(ae)"
   ]
  },
  {
   "cell_type": "code",
   "execution_count": null,
   "id": "scenic-commission",
   "metadata": {},
   "outputs": [],
   "source": [
    "AE(copy_est_df,complete_df)"
   ]
  },
  {
   "cell_type": "code",
   "execution_count": null,
   "id": "italic-claim",
   "metadata": {},
   "outputs": [],
   "source": [
    "mod_df.to_excel(\"HOV_C_20(imp).xlsx\", index=False,header=False)"
   ]
  },
  {
   "cell_type": "code",
   "execution_count": null,
   "id": "24894e35",
   "metadata": {},
   "outputs": [],
   "source": []
  }
 ],
 "metadata": {
  "kernelspec": {
   "display_name": "Python 3 (ipykernel)",
   "language": "python",
   "name": "python3"
  },
  "language_info": {
   "codemirror_mode": {
    "name": "ipython",
    "version": 3
   },
   "file_extension": ".py",
   "mimetype": "text/x-python",
   "name": "python",
   "nbconvert_exporter": "python",
   "pygments_lexer": "ipython3",
   "version": "3.9.7"
  }
 },
 "nbformat": 4,
 "nbformat_minor": 5
}
