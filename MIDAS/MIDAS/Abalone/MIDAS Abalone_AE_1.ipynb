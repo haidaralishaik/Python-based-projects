{
 "cells": [
  {
   "cell_type": "code",
   "execution_count": 35,
   "id": "48128b60",
   "metadata": {},
   "outputs": [],
   "source": [
    "from sklearn.preprocessing import MinMaxScaler\n",
    "import numpy as np\n",
    "import pandas as pd\n",
    "import tensorflow as tf\n",
    "import MIDASpy as md\n"
   ]
  },
  {
   "cell_type": "code",
   "execution_count": 36,
   "id": "f638e7f0",
   "metadata": {
    "scrolled": false
   },
   "outputs": [
    {
     "data": {
      "text/html": [
       "<div>\n",
       "<style scoped>\n",
       "    .dataframe tbody tr th:only-of-type {\n",
       "        vertical-align: middle;\n",
       "    }\n",
       "\n",
       "    .dataframe tbody tr th {\n",
       "        vertical-align: top;\n",
       "    }\n",
       "\n",
       "    .dataframe thead th {\n",
       "        text-align: right;\n",
       "    }\n",
       "</style>\n",
       "<table border=\"1\" class=\"dataframe\">\n",
       "  <thead>\n",
       "    <tr style=\"text-align: right;\">\n",
       "      <th></th>\n",
       "      <th>column 1</th>\n",
       "      <th>column 2</th>\n",
       "      <th>column 3</th>\n",
       "      <th>column 4</th>\n",
       "      <th>column 5</th>\n",
       "      <th>column 6</th>\n",
       "      <th>column 7</th>\n",
       "      <th>column 8</th>\n",
       "    </tr>\n",
       "  </thead>\n",
       "  <tbody>\n",
       "    <tr>\n",
       "      <th>0</th>\n",
       "      <td>0.58</td>\n",
       "      <td>0.61</td>\n",
       "      <td>0.47</td>\n",
       "      <td>0.13</td>\n",
       "      <td>0.5</td>\n",
       "      <td>0.0</td>\n",
       "      <td>0.48</td>\n",
       "      <td>0.22</td>\n",
       "    </tr>\n",
       "    <tr>\n",
       "      <th>1</th>\n",
       "      <td>0.43</td>\n",
       "      <td>0.67</td>\n",
       "      <td>0.48</td>\n",
       "      <td>0.27</td>\n",
       "      <td>0.5</td>\n",
       "      <td>0.0</td>\n",
       "      <td>0.53</td>\n",
       "      <td>0.22</td>\n",
       "    </tr>\n",
       "    <tr>\n",
       "      <th>2</th>\n",
       "      <td>0.64</td>\n",
       "      <td>0.62</td>\n",
       "      <td>0.49</td>\n",
       "      <td>0.15</td>\n",
       "      <td>0.5</td>\n",
       "      <td>0.0</td>\n",
       "      <td>0.53</td>\n",
       "      <td>0.22</td>\n",
       "    </tr>\n",
       "    <tr>\n",
       "      <th>3</th>\n",
       "      <td>0.58</td>\n",
       "      <td>0.44</td>\n",
       "      <td>0.57</td>\n",
       "      <td>0.13</td>\n",
       "      <td>0.5</td>\n",
       "      <td>0.0</td>\n",
       "      <td>0.54</td>\n",
       "      <td>0.22</td>\n",
       "    </tr>\n",
       "    <tr>\n",
       "      <th>4</th>\n",
       "      <td>0.42</td>\n",
       "      <td>0.44</td>\n",
       "      <td>0.48</td>\n",
       "      <td>0.54</td>\n",
       "      <td>0.5</td>\n",
       "      <td>0.0</td>\n",
       "      <td>0.48</td>\n",
       "      <td>0.22</td>\n",
       "    </tr>\n",
       "    <tr>\n",
       "      <th>...</th>\n",
       "      <td>...</td>\n",
       "      <td>...</td>\n",
       "      <td>...</td>\n",
       "      <td>...</td>\n",
       "      <td>...</td>\n",
       "      <td>...</td>\n",
       "      <td>...</td>\n",
       "      <td>...</td>\n",
       "    </tr>\n",
       "    <tr>\n",
       "      <th>1479</th>\n",
       "      <td>0.82</td>\n",
       "      <td>0.63</td>\n",
       "      <td>0.47</td>\n",
       "      <td>0.18</td>\n",
       "      <td>0.5</td>\n",
       "      <td>0.0</td>\n",
       "      <td>0.50</td>\n",
       "      <td>0.22</td>\n",
       "    </tr>\n",
       "    <tr>\n",
       "      <th>1480</th>\n",
       "      <td>0.35</td>\n",
       "      <td>0.29</td>\n",
       "      <td>0.46</td>\n",
       "      <td>0.14</td>\n",
       "      <td>0.5</td>\n",
       "      <td>0.0</td>\n",
       "      <td>0.54</td>\n",
       "      <td>0.66</td>\n",
       "    </tr>\n",
       "    <tr>\n",
       "      <th>1481</th>\n",
       "      <td>0.41</td>\n",
       "      <td>0.47</td>\n",
       "      <td>0.50</td>\n",
       "      <td>0.14</td>\n",
       "      <td>0.5</td>\n",
       "      <td>0.0</td>\n",
       "      <td>0.53</td>\n",
       "      <td>0.37</td>\n",
       "    </tr>\n",
       "    <tr>\n",
       "      <th>1482</th>\n",
       "      <td>0.51</td>\n",
       "      <td>0.45</td>\n",
       "      <td>0.62</td>\n",
       "      <td>0.25</td>\n",
       "      <td>0.5</td>\n",
       "      <td>0.0</td>\n",
       "      <td>0.59</td>\n",
       "      <td>0.22</td>\n",
       "    </tr>\n",
       "    <tr>\n",
       "      <th>1483</th>\n",
       "      <td>0.67</td>\n",
       "      <td>0.57</td>\n",
       "      <td>0.36</td>\n",
       "      <td>0.19</td>\n",
       "      <td>0.5</td>\n",
       "      <td>0.0</td>\n",
       "      <td>0.56</td>\n",
       "      <td>0.22</td>\n",
       "    </tr>\n",
       "  </tbody>\n",
       "</table>\n",
       "<p>1484 rows × 8 columns</p>\n",
       "</div>"
      ],
      "text/plain": [
       "      column 1  column 2  column 3  column 4  column 5  column 6  column 7  \\\n",
       "0         0.58      0.61      0.47      0.13       0.5       0.0      0.48   \n",
       "1         0.43      0.67      0.48      0.27       0.5       0.0      0.53   \n",
       "2         0.64      0.62      0.49      0.15       0.5       0.0      0.53   \n",
       "3         0.58      0.44      0.57      0.13       0.5       0.0      0.54   \n",
       "4         0.42      0.44      0.48      0.54       0.5       0.0      0.48   \n",
       "...        ...       ...       ...       ...       ...       ...       ...   \n",
       "1479      0.82      0.63      0.47      0.18       0.5       0.0      0.50   \n",
       "1480      0.35      0.29      0.46      0.14       0.5       0.0      0.54   \n",
       "1481      0.41      0.47      0.50      0.14       0.5       0.0      0.53   \n",
       "1482      0.51      0.45      0.62      0.25       0.5       0.0      0.59   \n",
       "1483      0.67      0.57      0.36      0.19       0.5       0.0      0.56   \n",
       "\n",
       "      column 8  \n",
       "0         0.22  \n",
       "1         0.22  \n",
       "2         0.22  \n",
       "3         0.22  \n",
       "4         0.22  \n",
       "...        ...  \n",
       "1479      0.22  \n",
       "1480      0.66  \n",
       "1481      0.37  \n",
       "1482      0.22  \n",
       "1483      0.22  \n",
       "\n",
       "[1484 rows x 8 columns]"
      ]
     },
     "execution_count": 36,
     "metadata": {},
     "output_type": "execute_result"
    }
   ],
   "source": [
    "column_names=['column 1','column 2','column 3','column 4','column 5','column 6','column 7','column 8']\n",
    "df=pd.read_excel(r'C:\\Users\\furqz\\OneDrive\\Desktop\\Data mining stiff\\incomplete\\Incomplete Datasets Without Labels\\Yeast\\Yeast_AE_1.xlsx', header=None,names=column_names)\n",
    "df"
   ]
  },
  {
   "cell_type": "code",
   "execution_count": 37,
   "id": "f4a8effb",
   "metadata": {},
   "outputs": [
    {
     "data": {
      "text/plain": [
       "array([0.58, 0.43, 0.64, 0.42, 0.51, 0.5 , 0.48, 0.55, 0.4 , 0.6 , 0.66,\n",
       "       0.46, 0.47, 0.61, 0.45, 0.73, 0.57, 0.63, 0.53, 0.38, 0.33, 0.78,\n",
       "       0.74, 0.59, 0.86, 0.79, 0.41, 0.37,  nan, 0.54, 0.34, 0.81, 0.49,\n",
       "       0.67, 0.28, 0.39, 0.8 , 0.69, 0.36, 0.44, 0.65, 0.3 , 0.35, 0.62,\n",
       "       0.29, 0.26, 0.71, 0.31, 0.21, 0.24, 0.32, 0.75, 0.72, 0.52, 0.77,\n",
       "       0.7 , 0.56, 0.82, 0.2 , 0.27, 0.83, 0.92, 0.25, 0.91, 0.84, 0.23,\n",
       "       0.17, 0.85, 0.89, 0.68, 0.87, 0.76, 0.94, 0.18, 0.11, 0.9 , 0.88,\n",
       "       0.95, 0.97, 0.19, 1.  , 0.22])"
      ]
     },
     "execution_count": 37,
     "metadata": {},
     "output_type": "execute_result"
    }
   ],
   "source": [
    "df['column 1'].unique()"
   ]
  },
  {
   "cell_type": "code",
   "execution_count": 38,
   "id": "585cc6f7",
   "metadata": {},
   "outputs": [
    {
     "name": "stdout",
     "output_type": "stream",
     "text": [
      "dataType\tcolumn_names\tNumber of Nulls\n",
      "float64\t\tcolumn 1\t42\n",
      "float64\t\tcolumn 2\t14\n",
      "float64\t\tcolumn 3\t28\n",
      "float64\t\tcolumn 4\t7\n",
      "float64\t\tcolumn 5\t0\n",
      "float64\t\tcolumn 6\t0\n",
      "float64\t\tcolumn 7\t14\n",
      "float64\t\tcolumn 8\t7\n"
     ]
    }
   ],
   "source": [
    "print('dataType',end='\\t')\n",
    "print('column_names',end='\\t')\n",
    "print('Number of Nulls')\n",
    "for name in column_names:\n",
    "    print(df[name].dtype,end='\\t\\t')\n",
    "    print(name,end='\\t')\n",
    "    print(df[name].isnull().sum())"
   ]
  },
  {
   "cell_type": "code",
   "execution_count": 39,
   "id": "75bd9c64",
   "metadata": {},
   "outputs": [
    {
     "data": {
      "text/html": [
       "<div>\n",
       "<style scoped>\n",
       "    .dataframe tbody tr th:only-of-type {\n",
       "        vertical-align: middle;\n",
       "    }\n",
       "\n",
       "    .dataframe tbody tr th {\n",
       "        vertical-align: top;\n",
       "    }\n",
       "\n",
       "    .dataframe thead th {\n",
       "        text-align: right;\n",
       "    }\n",
       "</style>\n",
       "<table border=\"1\" class=\"dataframe\">\n",
       "  <thead>\n",
       "    <tr style=\"text-align: right;\">\n",
       "      <th></th>\n",
       "      <th>column 1</th>\n",
       "      <th>column 2</th>\n",
       "      <th>column 3</th>\n",
       "      <th>column 4</th>\n",
       "      <th>column 5</th>\n",
       "      <th>column 6</th>\n",
       "      <th>column 7</th>\n",
       "      <th>column 8</th>\n",
       "    </tr>\n",
       "  </thead>\n",
       "  <tbody>\n",
       "    <tr>\n",
       "      <th>count</th>\n",
       "      <td>1442.000000</td>\n",
       "      <td>1470.000000</td>\n",
       "      <td>1456.000000</td>\n",
       "      <td>1477.000000</td>\n",
       "      <td>1484.000000</td>\n",
       "      <td>1484.000000</td>\n",
       "      <td>1470.000000</td>\n",
       "      <td>1477.000000</td>\n",
       "    </tr>\n",
       "    <tr>\n",
       "      <th>mean</th>\n",
       "      <td>0.500305</td>\n",
       "      <td>0.499605</td>\n",
       "      <td>0.499760</td>\n",
       "      <td>0.261605</td>\n",
       "      <td>0.504717</td>\n",
       "      <td>0.007500</td>\n",
       "      <td>0.499939</td>\n",
       "      <td>0.276412</td>\n",
       "    </tr>\n",
       "    <tr>\n",
       "      <th>std</th>\n",
       "      <td>0.137664</td>\n",
       "      <td>0.123532</td>\n",
       "      <td>0.086689</td>\n",
       "      <td>0.137244</td>\n",
       "      <td>0.048351</td>\n",
       "      <td>0.075683</td>\n",
       "      <td>0.057894</td>\n",
       "      <td>0.106681</td>\n",
       "    </tr>\n",
       "    <tr>\n",
       "      <th>min</th>\n",
       "      <td>0.110000</td>\n",
       "      <td>0.130000</td>\n",
       "      <td>0.210000</td>\n",
       "      <td>0.000000</td>\n",
       "      <td>0.500000</td>\n",
       "      <td>0.000000</td>\n",
       "      <td>0.000000</td>\n",
       "      <td>0.000000</td>\n",
       "    </tr>\n",
       "    <tr>\n",
       "      <th>25%</th>\n",
       "      <td>0.410000</td>\n",
       "      <td>0.420000</td>\n",
       "      <td>0.457500</td>\n",
       "      <td>0.170000</td>\n",
       "      <td>0.500000</td>\n",
       "      <td>0.000000</td>\n",
       "      <td>0.480000</td>\n",
       "      <td>0.220000</td>\n",
       "    </tr>\n",
       "    <tr>\n",
       "      <th>50%</th>\n",
       "      <td>0.485000</td>\n",
       "      <td>0.490000</td>\n",
       "      <td>0.510000</td>\n",
       "      <td>0.220000</td>\n",
       "      <td>0.500000</td>\n",
       "      <td>0.000000</td>\n",
       "      <td>0.510000</td>\n",
       "      <td>0.220000</td>\n",
       "    </tr>\n",
       "    <tr>\n",
       "      <th>75%</th>\n",
       "      <td>0.580000</td>\n",
       "      <td>0.570000</td>\n",
       "      <td>0.550000</td>\n",
       "      <td>0.320000</td>\n",
       "      <td>0.500000</td>\n",
       "      <td>0.000000</td>\n",
       "      <td>0.530000</td>\n",
       "      <td>0.300000</td>\n",
       "    </tr>\n",
       "    <tr>\n",
       "      <th>max</th>\n",
       "      <td>1.000000</td>\n",
       "      <td>1.000000</td>\n",
       "      <td>1.000000</td>\n",
       "      <td>1.000000</td>\n",
       "      <td>1.000000</td>\n",
       "      <td>0.830000</td>\n",
       "      <td>0.730000</td>\n",
       "      <td>1.000000</td>\n",
       "    </tr>\n",
       "  </tbody>\n",
       "</table>\n",
       "</div>"
      ],
      "text/plain": [
       "          column 1     column 2     column 3     column 4     column 5  \\\n",
       "count  1442.000000  1470.000000  1456.000000  1477.000000  1484.000000   \n",
       "mean      0.500305     0.499605     0.499760     0.261605     0.504717   \n",
       "std       0.137664     0.123532     0.086689     0.137244     0.048351   \n",
       "min       0.110000     0.130000     0.210000     0.000000     0.500000   \n",
       "25%       0.410000     0.420000     0.457500     0.170000     0.500000   \n",
       "50%       0.485000     0.490000     0.510000     0.220000     0.500000   \n",
       "75%       0.580000     0.570000     0.550000     0.320000     0.500000   \n",
       "max       1.000000     1.000000     1.000000     1.000000     1.000000   \n",
       "\n",
       "          column 6     column 7     column 8  \n",
       "count  1484.000000  1470.000000  1477.000000  \n",
       "mean      0.007500     0.499939     0.276412  \n",
       "std       0.075683     0.057894     0.106681  \n",
       "min       0.000000     0.000000     0.000000  \n",
       "25%       0.000000     0.480000     0.220000  \n",
       "50%       0.000000     0.510000     0.220000  \n",
       "75%       0.000000     0.530000     0.300000  \n",
       "max       0.830000     0.730000     1.000000  "
      ]
     },
     "execution_count": 39,
     "metadata": {},
     "output_type": "execute_result"
    }
   ],
   "source": [
    "df.describe()"
   ]
  },
  {
   "cell_type": "code",
   "execution_count": 40,
   "id": "56182ba1",
   "metadata": {
    "scrolled": true
   },
   "outputs": [
    {
     "data": {
      "text/plain": [
       "<AxesSubplot:>"
      ]
     },
     "execution_count": 40,
     "metadata": {},
     "output_type": "execute_result"
    },
    {
     "data": {
      "image/png": "[encoded data removed]",
      "text/plain": [
       "<Figure size 1080x360 with 1 Axes>"
      ]
     },
     "metadata": {
      "needs_background": "light"
     },
     "output_type": "display_data"
    }
   ],
   "source": [
    "df.boxplot(return_type='axes', figsize=(15,5))"
   ]
  },
  {
   "cell_type": "code",
   "execution_count": 41,
   "id": "bb17f41c",
   "metadata": {},
   "outputs": [],
   "source": [
    "outliers = []\n",
    "def detect_outliers_iqr(data):\n",
    "    data = sorted(data)\n",
    "    q1 = np.percentile(data, 25)\n",
    "    q3 = np.percentile(data, 75)\n",
    "    # print(q1, q3)\n",
    "    IQR = q3-q1\n",
    "    lwr_bound = q1-(1.5*IQR)\n",
    "    upr_bound = q3+(1.5*IQR)\n",
    "    # print(lwr_bound, upr_bound)\n",
    "    for i in data: \n",
    "        if (i<lwr_bound or i>upr_bound):\n",
    "            outliers.append(i)\n",
    "    return outliers# Driver code\n"
   ]
  },
  {
   "cell_type": "code",
   "execution_count": 28,
   "id": "940e3bb0",
   "metadata": {},
   "outputs": [
    {
     "name": "stdout",
     "output_type": "stream",
     "text": [
      "Outliers from IQR method:  []\n"
     ]
    },
    {
     "data": {
      "text/plain": [
       "0"
      ]
     },
     "execution_count": 28,
     "metadata": {},
     "output_type": "execute_result"
    }
   ],
   "source": [
    "outliers_list = detect_outliers_iqr(df['column 1'])\n",
    "print(\"Outliers from IQR method: \", outliers_list)\n",
    "len(outliers_list)"
   ]
  },
  {
   "cell_type": "code",
   "execution_count": null,
   "id": "f9153604",
   "metadata": {},
   "outputs": [],
   "source": []
  },
  {
   "cell_type": "code",
   "execution_count": 29,
   "id": "2d5e6268",
   "metadata": {},
   "outputs": [
    {
     "name": "stdout",
     "output_type": "stream",
     "text": [
      "Outliers from IQR method:  []\n"
     ]
    },
    {
     "data": {
      "text/plain": [
       "0"
      ]
     },
     "execution_count": 29,
     "metadata": {},
     "output_type": "execute_result"
    }
   ],
   "source": [
    "outliers_list = detect_outliers_iqr(df['column 2'])\n",
    "print(\"Outliers from IQR method: \", outliers_list)\n",
    "len(outliers_list)"
   ]
  },
  {
   "cell_type": "code",
   "execution_count": 30,
   "id": "5cecfd5e",
   "metadata": {},
   "outputs": [
    {
     "name": "stdout",
     "output_type": "stream",
     "text": [
      "Outliers from IQR method:  []\n"
     ]
    },
    {
     "data": {
      "text/plain": [
       "0"
      ]
     },
     "execution_count": 30,
     "metadata": {},
     "output_type": "execute_result"
    }
   ],
   "source": [
    "outliers_list = detect_outliers_iqr(df['column 3'])\n",
    "print(\"Outliers from IQR method: \", outliers_list)\n",
    "len(outliers_list)"
   ]
  },
  {
   "cell_type": "code",
   "execution_count": 31,
   "id": "e1d02d65",
   "metadata": {},
   "outputs": [
    {
     "name": "stdout",
     "output_type": "stream",
     "text": [
      "Outliers from IQR method:  []\n"
     ]
    },
    {
     "data": {
      "text/plain": [
       "0"
      ]
     },
     "execution_count": 31,
     "metadata": {},
     "output_type": "execute_result"
    }
   ],
   "source": [
    "outliers_list = detect_outliers_iqr(df['column 4'])\n",
    "print(\"Outliers from IQR method: \", outliers_list)\n",
    "len(outliers_list)"
   ]
  },
  {
   "cell_type": "code",
   "execution_count": 32,
   "id": "35f93c70",
   "metadata": {},
   "outputs": [
    {
     "name": "stdout",
     "output_type": "stream",
     "text": [
      "Outliers from IQR method:  [1.0, 1.0, 1.0, 1.0, 1.0, 1.0, 1.0, 1.0, 1.0, 1.0, 1.0, 1.0, 1.0, 1.0]\n"
     ]
    },
    {
     "data": {
      "text/plain": [
       "14"
      ]
     },
     "execution_count": 32,
     "metadata": {},
     "output_type": "execute_result"
    }
   ],
   "source": [
    "outliers_list = detect_outliers_iqr(df['column 5'])\n",
    "print(\"Outliers from IQR method: \", outliers_list)\n",
    "len(outliers_list)"
   ]
  },
  {
   "cell_type": "code",
   "execution_count": 42,
   "id": "1cdd9617",
   "metadata": {},
   "outputs": [
    {
     "data": {
      "text/html": [
       "<div>\n",
       "<style scoped>\n",
       "    .dataframe tbody tr th:only-of-type {\n",
       "        vertical-align: middle;\n",
       "    }\n",
       "\n",
       "    .dataframe tbody tr th {\n",
       "        vertical-align: top;\n",
       "    }\n",
       "\n",
       "    .dataframe thead th {\n",
       "        text-align: right;\n",
       "    }\n",
       "</style>\n",
       "<table border=\"1\" class=\"dataframe\">\n",
       "  <thead>\n",
       "    <tr style=\"text-align: right;\">\n",
       "      <th></th>\n",
       "      <th>column 1</th>\n",
       "      <th>column 2</th>\n",
       "      <th>column 3</th>\n",
       "      <th>column 4</th>\n",
       "      <th>column 5</th>\n",
       "      <th>column 6</th>\n",
       "      <th>column 7</th>\n",
       "      <th>column 8</th>\n",
       "    </tr>\n",
       "  </thead>\n",
       "  <tbody>\n",
       "  </tbody>\n",
       "</table>\n",
       "</div>"
      ],
      "text/plain": [
       "Empty DataFrame\n",
       "Columns: [column 1, column 2, column 3, column 4, column 5, column 6, column 7, column 8]\n",
       "Index: []"
      ]
     },
     "execution_count": 42,
     "metadata": {},
     "output_type": "execute_result"
    }
   ],
   "source": [
    "data = sorted(df['column 5'])\n",
    "q1 = np.percentile(data, 25)\n",
    "q3 = np.percentile(data, 75)\n",
    "# print(q1, q3)\n",
    "IQR = q3-q1\n",
    "lwr_bound = q1-(1.5*IQR)\n",
    "upr_bound = q3+(1.5*IQR)\n",
    "new_df=df[df['column 5']<upr_bound]\n",
    "new_df"
   ]
  },
  {
   "cell_type": "code",
   "execution_count": null,
   "id": "fcdee18e",
   "metadata": {},
   "outputs": [],
   "source": []
  },
  {
   "cell_type": "code",
   "execution_count": 18,
   "id": "b3655daf",
   "metadata": {},
   "outputs": [
    {
     "data": {
      "text/plain": [
       "(0, 8)"
      ]
     },
     "execution_count": 18,
     "metadata": {},
     "output_type": "execute_result"
    }
   ],
   "source": [
    "data = sorted(df['column 5'])\n",
    "q1 = np.percentile(data, 25)\n",
    "q3 = np.percentile(data, 75)\n",
    "# print(q1, q3)\n",
    "IQR = q3-q1\n",
    "lwr_bound = q1-(1.5*IQR)\n",
    "upr_bound = q3+(1.5*IQR)\n",
    "new_df=df[df['column 5']<upr_bound]\n",
    "new_df.shape"
   ]
  },
  {
   "cell_type": "code",
   "execution_count": null,
   "id": "de30293b",
   "metadata": {},
   "outputs": [],
   "source": []
  },
  {
   "cell_type": "code",
   "execution_count": null,
   "id": "2f7db766",
   "metadata": {},
   "outputs": [],
   "source": [
    "outliers_list = detect_outliers_iqr(df['column 6'])\n",
    "print(\"Outliers from IQR method: \", outliers_list)\n",
    "len(outliers_list)"
   ]
  },
  {
   "cell_type": "code",
   "execution_count": null,
   "id": "7b3dd6db",
   "metadata": {},
   "outputs": [],
   "source": [
    "outliers_list = detect_outliers_iqr(df['column 7'])\n",
    "print(\"Outliers from IQR method: \", outliers_list)\n",
    "len(outliers_list)"
   ]
  },
  {
   "cell_type": "code",
   "execution_count": null,
   "id": "e1e1198e",
   "metadata": {},
   "outputs": [],
   "source": [
    "outliers_list = detect_outliers_iqr(df['column 8'])\n",
    "print(\"Outliers from IQR method: \", outliers_list)\n",
    "len(outliers_list)"
   ]
  },
  {
   "cell_type": "code",
   "execution_count": null,
   "id": "94bb1669",
   "metadata": {},
   "outputs": [],
   "source": []
  },
  {
   "cell_type": "code",
   "execution_count": null,
   "id": "b63792af",
   "metadata": {},
   "outputs": [],
   "source": [
    "#scaler=MinMaxScaler(feature_range=(-1,1))\n",
    "#scaler.fit(df)\n",
    "#df=pd.DataFrame(scaler.transform(df),columns=column_names[1:])\n",
    "#df"
   ]
  },
  {
   "cell_type": "code",
   "execution_count": null,
   "id": "9319adc1",
   "metadata": {},
   "outputs": [],
   "source": [
    "#df.boxplot(return_type='axes', figsize=(15,5))"
   ]
  },
  {
   "cell_type": "code",
   "execution_count": null,
   "id": "e0e89bee",
   "metadata": {},
   "outputs": [],
   "source": []
  },
  {
   "cell_type": "code",
   "execution_count": null,
   "id": "75383763",
   "metadata": {},
   "outputs": [],
   "source": []
  },
  {
   "cell_type": "code",
   "execution_count": null,
   "id": "ce5cf651",
   "metadata": {},
   "outputs": [],
   "source": []
  },
  {
   "cell_type": "code",
   "execution_count": null,
   "id": "856e9b6c",
   "metadata": {},
   "outputs": [],
   "source": [
    "df.mean()"
   ]
  },
  {
   "cell_type": "code",
   "execution_count": null,
   "id": "18c4a9dd",
   "metadata": {},
   "outputs": [],
   "source": [
    "corr=df.corr()\n",
    "corr"
   ]
  },
  {
   "cell_type": "code",
   "execution_count": null,
   "id": "5bdbbb5c",
   "metadata": {},
   "outputs": [],
   "source": [
    "#column_names=['column 1','column 2','column 3','column 4','column 5','column 6','column 7','column 8','column 9','column 10','column 11','column 12']\n",
    "#df = pd.read_excel(r'C:\\Users\\furqz\\OneDrive\\Desktop\\Data mining stiff\\incomplete\\Incomplete Datasets Without Labels\\4-gauss\\4-gauss_AE_1.xlsx', header=None,names=column_names)\n"
   ]
  },
  {
   "cell_type": "code",
   "execution_count": null,
   "id": "5526c6bb",
   "metadata": {},
   "outputs": [],
   "source": [
    "df['column 1']"
   ]
  },
  {
   "cell_type": "code",
   "execution_count": null,
   "id": "839bbc1b",
   "metadata": {},
   "outputs": [],
   "source": [
    "categorical = ['column 1']\n",
    "data_cat, cat_cols_list = md.cat_conv(df[categorical])\n",
    "\n",
    "df.drop(categorical, axis = 1, inplace = True)\n",
    "constructor_list = [df]\n",
    "constructor_list.append(data_cat)\n",
    "data_in = pd.concat(constructor_list, axis=1) #for \n",
    "\n",
    "na_loc = data_in.isnull()\n",
    "data_in[na_loc] = np.nan"
   ]
  },
  {
   "cell_type": "code",
   "execution_count": null,
   "id": "41e303b6",
   "metadata": {},
   "outputs": [],
   "source": [
    "cat_cols_list"
   ]
  },
  {
   "cell_type": "code",
   "execution_count": null,
   "id": "183277a0",
   "metadata": {},
   "outputs": [],
   "source": [
    "print(data_in.head())"
   ]
  },
  {
   "cell_type": "code",
   "execution_count": null,
   "id": "7c4ecf78",
   "metadata": {},
   "outputs": [],
   "source": []
  },
  {
   "cell_type": "code",
   "execution_count": null,
   "id": "e24fd724",
   "metadata": {},
   "outputs": [],
   "source": []
  },
  {
   "cell_type": "code",
   "execution_count": null,
   "id": "ea626871",
   "metadata": {},
   "outputs": [],
   "source": [
    "tf.compat.v1.reset_default_graph()\n",
    "import tensorflow.compat.v1 as tf\n",
    "tf.reset_default_graph()\n"
   ]
  },
  {
   "cell_type": "code",
   "execution_count": null,
   "id": "2830e6e4",
   "metadata": {
    "scrolled": false
   },
   "outputs": [],
   "source": [
    "imputer = md.Midas(layer_structure = [12,12+15,12+15+15,12+15+15+15,12+15+15+15+15,12+15+15+15+15+15,12+15+15+15+15,12+15+15+15,12+15+15,12+15,12], vae_layer = False, seed = 100)\n",
    "imputer.build_model(data_in,softmax_columns = cat_cols_list)\n",
    "imputer.train_model(training_epochs=100)\n"
   ]
  },
  {
   "cell_type": "code",
   "execution_count": null,
   "id": "6f0fef50",
   "metadata": {},
   "outputs": [],
   "source": [
    "imputations=imputer.generate_samples(m=15).output_list\n",
    "np.shape(imputations[-1])"
   ]
  },
  {
   "cell_type": "code",
   "execution_count": null,
   "id": "7842db79",
   "metadata": {},
   "outputs": [],
   "source": [
    "new_df=imputations[-1]\n",
    "new_df.iloc[21,:]\n"
   ]
  },
  {
   "cell_type": "code",
   "execution_count": null,
   "id": "a254172c",
   "metadata": {},
   "outputs": [],
   "source": [
    "complete_df=pd.read_excel(r'C:\\Users\\furqz\\OneDrive\\Desktop\\Data mining stiff\\complete\\Original Datasets Without Labels\\Abalone.xlsx', header=None,names=column_names)"
   ]
  },
  {
   "cell_type": "code",
   "execution_count": null,
   "id": "0a697afe",
   "metadata": {},
   "outputs": [],
   "source": [
    "new_df-complete_df"
   ]
  },
  {
   "cell_type": "code",
   "execution_count": null,
   "id": "ac87932a",
   "metadata": {},
   "outputs": [],
   "source": [
    "numerator=np.linalg.norm(new_df-complete_df, 'fro')\n",
    "numerator"
   ]
  },
  {
   "cell_type": "code",
   "execution_count": null,
   "id": "30cae335",
   "metadata": {},
   "outputs": [],
   "source": [
    "denominator=np.linalg.norm(complete_df, 'fro')\n",
    "denominator"
   ]
  },
  {
   "cell_type": "code",
   "execution_count": null,
   "id": "9e0c3aac",
   "metadata": {},
   "outputs": [],
   "source": [
    "nrmse=numerator/denominator\n",
    "nrmse"
   ]
  },
  {
   "cell_type": "code",
   "execution_count": null,
   "id": "84845123",
   "metadata": {},
   "outputs": [],
   "source": [
    "new_df.iloc[66,:]"
   ]
  },
  {
   "cell_type": "code",
   "execution_count": null,
   "id": "bfe943bf",
   "metadata": {},
   "outputs": [],
   "source": [
    "imputations[-1]\n"
   ]
  },
  {
   "cell_type": "code",
   "execution_count": null,
   "id": "1c8a41f8",
   "metadata": {},
   "outputs": [],
   "source": [
    "imputations[-1].to_excel(\"4-gauss_AE_5(imp).xlsx\", index=False, header=False)"
   ]
  },
  {
   "cell_type": "code",
   "execution_count": null,
   "id": "4c2b2be6",
   "metadata": {},
   "outputs": [],
   "source": []
  }
 ],
 "metadata": {
  "kernelspec": {
   "display_name": "Python 3 (ipykernel)",
   "language": "python",
   "name": "python3"
  },
  "language_info": {
   "codemirror_mode": {
    "name": "ipython",
    "version": 3
   },
   "file_extension": ".py",
   "mimetype": "text/x-python",
   "name": "python",
   "nbconvert_exporter": "python",
   "pygments_lexer": "ipython3",
   "version": "3.9.7"
  }
 },
 "nbformat": 4,
 "nbformat_minor": 5
}
