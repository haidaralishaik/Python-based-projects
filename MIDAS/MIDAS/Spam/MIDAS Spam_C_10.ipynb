{
 "cells": [
  {
   "cell_type": "code",
   "execution_count": 1,
   "id": "48128b60",
   "metadata": {},
   "outputs": [],
   "source": [
    "from sklearn.preprocessing import MinMaxScaler\n",
    "import numpy as np\n",
    "import pandas as pd\n",
    "import tensorflow as tf\n",
    "import MIDASpy as md\n",
    "import math\n"
   ]
  },
  {
   "cell_type": "code",
   "execution_count": 2,
   "id": "f638e7f0",
   "metadata": {
    "scrolled": true
   },
   "outputs": [
    {
     "data": {
      "text/plain": [
       "(      column 1  column 2  column 3  column 4  column 5  column 6  column 7  \\\n",
       " 0         0.00      0.64      0.64       0.0      0.32      0.00      0.00   \n",
       " 1         0.21      0.28      0.50       NaN      0.14      0.28       NaN   \n",
       " 2         0.00      0.00      0.00       0.0      0.63      0.00      0.31   \n",
       " 3         0.00      0.00      0.00       0.0      1.85      0.00      0.00   \n",
       " 4         0.00      0.00      0.00       0.0      1.92      0.00       NaN   \n",
       " ...        ...       ...       ...       ...       ...       ...       ...   \n",
       " 4592      0.00      0.00      0.64       0.0      0.00      0.00      0.00   \n",
       " 4593       NaN      0.00      0.00       0.0      0.00      0.00      0.00   \n",
       " 4594      0.00      0.00      0.00       0.0       NaN      0.00      0.00   \n",
       " 4595      0.17      0.00      0.68       0.0      0.34      0.34      0.00   \n",
       " 4596      0.00      0.00      1.25       0.0      2.50       NaN      0.00   \n",
       " \n",
       "       column 8  column 9  column 10  ...  column 48  column 49  column 50  \\\n",
       " 0         0.00      0.00       0.00  ...        0.0        0.0      0.000   \n",
       " 1         0.07      0.00       0.94  ...        0.0        0.0      0.132   \n",
       " 2         0.63      0.31       0.63  ...        NaN        NaN      0.135   \n",
       " 3         1.85       NaN       0.00  ...        0.0        0.0      0.223   \n",
       " 4         0.00      0.00       0.64  ...        0.0        0.0      0.054   \n",
       " ...        ...       ...        ...  ...        ...        ...        ...   \n",
       " 4592      0.00      0.00       0.00  ...        0.0        0.0      0.348   \n",
       " 4593      0.00       NaN       0.00  ...        0.0        0.0      0.000   \n",
       " 4594      0.00      0.00       0.00  ...        0.0        0.0        NaN   \n",
       " 4595       NaN       NaN        NaN  ...        0.0        0.0      0.032   \n",
       " 4596      0.00      0.00       0.00  ...        0.0        0.0        NaN   \n",
       " \n",
       "       column 51  column 52  column 53  column 54  column 55  column 56  \\\n",
       " 0           0.0      0.778      0.000      0.000      3.756       61.0   \n",
       " 1           NaN      0.372        NaN      0.048      5.114      101.0   \n",
       " 2           0.0      0.135      0.000      0.000      3.537       40.0   \n",
       " 3           NaN      0.000        NaN      0.000      3.000       15.0   \n",
       " 4           0.0      0.164      0.054      0.000      1.671        4.0   \n",
       " ...         ...        ...        ...        ...        ...        ...   \n",
       " 4592        0.0      1.160      0.000      0.000        NaN       15.0   \n",
       " 4593        NaN      0.000      0.000      0.000      3.043       15.0   \n",
       " 4594        0.0      0.000      0.000      0.409        NaN       12.0   \n",
       " 4595        0.0      0.065      0.000      0.000      1.189        5.0   \n",
       " 4596        NaN      0.000      0.000      0.000      1.285        4.0   \n",
       " \n",
       "       column 57  \n",
       " 0         278.0  \n",
       " 1        1028.0  \n",
       " 2         191.0  \n",
       " 3          54.0  \n",
       " 4         112.0  \n",
       " ...         ...  \n",
       " 4592      103.0  \n",
       " 4593       70.0  \n",
       " 4594       68.0  \n",
       " 4595       69.0  \n",
       " 4596       27.0  \n",
       " \n",
       " [4597 rows x 57 columns],)"
      ]
     },
     "execution_count": 2,
     "metadata": {},
     "output_type": "execute_result"
    }
   ],
   "source": [
    "column_names=['column 1','column 2','column 3','column 4','column 5','column 6','column 7','column 8','column 9','column 10','column 11','column 12','column 13','column 14','column 15','column 16','column 17','column 18','column 19','column 20','column 21','column 22','column 23','column 24','column 25','column 26','column 27','column 28','column 29','column 30','column 31','column 32','column 33','column 34','column 35','column 36','column 37','column 38','column 39','column 40','column 41','column 42','column 43','column 44','column 45','column 46','column 47','column 48','column 49','column 50','column 51','column 52','column 53','column 54','column 55','column 56','column 57']\n",
    "df=pd.read_excel(r'C:\\Users\\Jaber Shahnawaz\\Downloads\\Incomplete Datasets\\Incomplete Datasets Without Labels\\Spam\\Spam_C_10.xlsx', header=None,names=column_names),\n",
    "df"
   ]
  },
  {
   "cell_type": "code",
   "execution_count": 3,
   "id": "585cc6f7",
   "metadata": {},
   "outputs": [
    {
     "name": "stdout",
     "output_type": "stream",
     "text": [
      "dataType\tcolumn_names\tNumber of Nulls\n"
     ]
    },
    {
     "ename": "TypeError",
     "evalue": "tuple indices must be integers or slices, not str",
     "output_type": "error",
     "traceback": [
      "\u001b[1;31m---------------------------------------------------------------------------\u001b[0m",
      "\u001b[1;31mTypeError\u001b[0m                                 Traceback (most recent call last)",
      "\u001b[1;32mC:\\Users\\JABERS~1\\AppData\\Local\\Temp/ipykernel_4172/1653043272.py\u001b[0m in \u001b[0;36m<module>\u001b[1;34m\u001b[0m\n\u001b[0;32m      3\u001b[0m \u001b[0mprint\u001b[0m\u001b[1;33m(\u001b[0m\u001b[1;34m'Number of Nulls'\u001b[0m\u001b[1;33m)\u001b[0m\u001b[1;33m\u001b[0m\u001b[1;33m\u001b[0m\u001b[0m\n\u001b[0;32m      4\u001b[0m \u001b[1;32mfor\u001b[0m \u001b[0mname\u001b[0m \u001b[1;32min\u001b[0m \u001b[0mcolumn_names\u001b[0m\u001b[1;33m:\u001b[0m\u001b[1;33m\u001b[0m\u001b[1;33m\u001b[0m\u001b[0m\n\u001b[1;32m----> 5\u001b[1;33m     \u001b[0mprint\u001b[0m\u001b[1;33m(\u001b[0m\u001b[0mdf\u001b[0m\u001b[1;33m[\u001b[0m\u001b[0mname\u001b[0m\u001b[1;33m]\u001b[0m\u001b[1;33m.\u001b[0m\u001b[0mdtype\u001b[0m\u001b[1;33m,\u001b[0m\u001b[0mend\u001b[0m\u001b[1;33m=\u001b[0m\u001b[1;34m'\\t\\t'\u001b[0m\u001b[1;33m)\u001b[0m\u001b[1;33m\u001b[0m\u001b[1;33m\u001b[0m\u001b[0m\n\u001b[0m\u001b[0;32m      6\u001b[0m     \u001b[0mprint\u001b[0m\u001b[1;33m(\u001b[0m\u001b[0mname\u001b[0m\u001b[1;33m,\u001b[0m\u001b[0mend\u001b[0m\u001b[1;33m=\u001b[0m\u001b[1;34m'\\t'\u001b[0m\u001b[1;33m)\u001b[0m\u001b[1;33m\u001b[0m\u001b[1;33m\u001b[0m\u001b[0m\n\u001b[0;32m      7\u001b[0m     \u001b[0mprint\u001b[0m\u001b[1;33m(\u001b[0m\u001b[0mdf\u001b[0m\u001b[1;33m[\u001b[0m\u001b[0mname\u001b[0m\u001b[1;33m]\u001b[0m\u001b[1;33m.\u001b[0m\u001b[0misnull\u001b[0m\u001b[1;33m(\u001b[0m\u001b[1;33m)\u001b[0m\u001b[1;33m.\u001b[0m\u001b[0msum\u001b[0m\u001b[1;33m(\u001b[0m\u001b[1;33m)\u001b[0m\u001b[1;33m)\u001b[0m\u001b[1;33m\u001b[0m\u001b[1;33m\u001b[0m\u001b[0m\n",
      "\u001b[1;31mTypeError\u001b[0m: tuple indices must be integers or slices, not str"
     ]
    }
   ],
   "source": [
    "print('dataType',end='\\t')\n",
    "print('column_names',end='\\t')\n",
    "print('Number of Nulls')\n",
    "for name in column_names:\n",
    "    print(df[name].dtype,end='\\t\\t')\n",
    "    print(name,end='\\t')\n",
    "    print(df[name].isnull().sum())"
   ]
  },
  {
   "cell_type": "code",
   "execution_count": null,
   "id": "75bd9c64",
   "metadata": {},
   "outputs": [],
   "source": [
    "df.describe()"
   ]
  },
  {
   "cell_type": "code",
   "execution_count": null,
   "id": "56182ba1",
   "metadata": {
    "scrolled": false
   },
   "outputs": [],
   "source": [
    "df.boxplot(return_type='axes', figsize=(15,5))"
   ]
  },
  {
   "cell_type": "code",
   "execution_count": null,
   "id": "856e9b6c",
   "metadata": {},
   "outputs": [],
   "source": [
    "df.mean()"
   ]
  },
  {
   "cell_type": "code",
   "execution_count": null,
   "id": "18c4a9dd",
   "metadata": {},
   "outputs": [],
   "source": [
    "corr=df.corr()\n",
    "corr"
   ]
  },
  {
   "cell_type": "code",
   "execution_count": null,
   "id": "ea626871",
   "metadata": {},
   "outputs": [],
   "source": [
    "tf.compat.v1.reset_default_graph()\n",
    "import tensorflow.compat.v1 as tf\n",
    "tf.reset_default_graph()\n"
   ]
  },
  {
   "cell_type": "code",
   "execution_count": null,
   "id": "2830e6e4",
   "metadata": {
    "scrolled": false
   },
   "outputs": [],
   "source": [
    "imputer = md.Midas(layer_structure = [17,17+4,17+4+4,17+4+4+4,17+4+4,17+4,17], vae_layer = False, seed = 40)\n",
    "imputer.build_model(df)\n",
    "imputer.train_model(training_epochs=100)\n"
   ]
  },
  {
   "cell_type": "code",
   "execution_count": null,
   "id": "6f0fef50",
   "metadata": {},
   "outputs": [],
   "source": [
    "imputations=imputer.generate_samples(m=15).output_list\n",
    "np.shape(imputations[-1])"
   ]
  },
  {
   "cell_type": "code",
   "execution_count": null,
   "id": "7842db79",
   "metadata": {},
   "outputs": [],
   "source": [
    "new_df=imputations[-1]\n",
    "new_df.iloc[21,:]\n"
   ]
  },
  {
   "cell_type": "code",
   "execution_count": null,
   "id": "a254172c",
   "metadata": {},
   "outputs": [],
   "source": [
    "complete_df=pd.read_excel(r'C:\\Users\\Jaber Shahnawaz\\Downloads\\Original Datasets (1)\\Original Datasets Without Labels\\Spam.xlsx', header=None,names=column_names)"
   ]
  },
  {
   "cell_type": "code",
   "execution_count": null,
   "id": "0a697afe",
   "metadata": {},
   "outputs": [],
   "source": [
    "new_df-complete_df"
   ]
  },
  {
   "cell_type": "markdown",
   "id": "b4a4024f",
   "metadata": {},
   "source": [
    "Calculating NRMSE Value"
   ]
  },
  {
   "cell_type": "code",
   "execution_count": null,
   "id": "b0a1ddd7",
   "metadata": {},
   "outputs": [],
   "source": [
    "\n",
    "def Sum_new(sum):\n",
    "    summ=0\n",
    "    for n in sum:\n",
    "        summ=summ+n\n",
    "    return (summ)\n",
    "\n"
   ]
  },
  {
   "cell_type": "code",
   "execution_count": null,
   "id": "335450db",
   "metadata": {},
   "outputs": [],
   "source": [
    "def Frobenius_norm(number):\n",
    "    num=number\n",
    "    abs_val=num.abs()\n",
    "    power_abs=abs_val**2\n",
    "    sum1=power_abs.sum()\n",
    "    total_sum=Sum_new(sum1)\n",
    "    return(math.sqrt(total_sum))"
   ]
  },
  {
   "cell_type": "code",
   "execution_count": null,
   "id": "28857c9a",
   "metadata": {},
   "outputs": [],
   "source": [
    "numerator=Frobenius_norm(new_df-complete_df)\n",
    "numerator"
   ]
  },
  {
   "cell_type": "code",
   "execution_count": null,
   "id": "53a8606f",
   "metadata": {},
   "outputs": [],
   "source": [
    "denominator=Frobenius_norm(complete_df)\n",
    "denominator"
   ]
  },
  {
   "cell_type": "code",
   "execution_count": null,
   "id": "998aacba",
   "metadata": {},
   "outputs": [],
   "source": [
    "NRMS=numerator/denominator\n",
    "NRMS\n"
   ]
  },
  {
   "cell_type": "code",
   "execution_count": null,
   "id": "84845123",
   "metadata": {},
   "outputs": [],
   "source": [
    "new_df.iloc[66,:]"
   ]
  },
  {
   "cell_type": "code",
   "execution_count": null,
   "id": "bfe943bf",
   "metadata": {},
   "outputs": [],
   "source": [
    "imputations[-1]\n"
   ]
  },
  {
   "cell_type": "code",
   "execution_count": null,
   "id": "1c8a41f8",
   "metadata": {},
   "outputs": [],
   "source": [
    "imputations[-1].to_excel(\"Spam_C_10(imp).xlsx\", index=False, header=False)"
   ]
  }
 ],
 "metadata": {
  "kernelspec": {
   "display_name": "Python 3 (ipykernel)",
   "language": "python",
   "name": "python3"
  },
  "language_info": {
   "codemirror_mode": {
    "name": "ipython",
    "version": 3
   },
   "file_extension": ".py",
   "mimetype": "text/x-python",
   "name": "python",
   "nbconvert_exporter": "python",
   "pygments_lexer": "ipython3",
   "version": "3.9.7"
  }
 },
 "nbformat": 4,
 "nbformat_minor": 5
}
