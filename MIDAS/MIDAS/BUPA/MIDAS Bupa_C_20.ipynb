{
 "cells": [
  {
   "cell_type": "code",
   "execution_count": 22,
   "id": "48128b60",
   "metadata": {},
   "outputs": [],
   "source": [
    "from sklearn.preprocessing import MinMaxScaler\n",
    "import numpy as np\n",
    "import pandas as pd\n",
    "import tensorflow as tf\n",
    "import MIDASpy as md\n",
    "import math\n"
   ]
  },
  {
   "cell_type": "code",
   "execution_count": 23,
   "id": "f638e7f0",
   "metadata": {
    "scrolled": false
   },
   "outputs": [
    {
     "data": {
      "text/html": [
       "<div>\n",
       "<style scoped>\n",
       "    .dataframe tbody tr th:only-of-type {\n",
       "        vertical-align: middle;\n",
       "    }\n",
       "\n",
       "    .dataframe tbody tr th {\n",
       "        vertical-align: top;\n",
       "    }\n",
       "\n",
       "    .dataframe thead th {\n",
       "        text-align: right;\n",
       "    }\n",
       "</style>\n",
       "<table border=\"1\" class=\"dataframe\">\n",
       "  <thead>\n",
       "    <tr style=\"text-align: right;\">\n",
       "      <th></th>\n",
       "      <th>column 1</th>\n",
       "      <th>column 2</th>\n",
       "      <th>column 3</th>\n",
       "      <th>column 4</th>\n",
       "      <th>column 5</th>\n",
       "      <th>column 6</th>\n",
       "    </tr>\n",
       "  </thead>\n",
       "  <tbody>\n",
       "    <tr>\n",
       "      <th>0</th>\n",
       "      <td>85.0</td>\n",
       "      <td>NaN</td>\n",
       "      <td>NaN</td>\n",
       "      <td>27.0</td>\n",
       "      <td>31.0</td>\n",
       "      <td>0.0</td>\n",
       "    </tr>\n",
       "    <tr>\n",
       "      <th>1</th>\n",
       "      <td>85.0</td>\n",
       "      <td>64.0</td>\n",
       "      <td>59.0</td>\n",
       "      <td>32.0</td>\n",
       "      <td>NaN</td>\n",
       "      <td>NaN</td>\n",
       "    </tr>\n",
       "    <tr>\n",
       "      <th>2</th>\n",
       "      <td>86.0</td>\n",
       "      <td>54.0</td>\n",
       "      <td>33.0</td>\n",
       "      <td>16.0</td>\n",
       "      <td>54.0</td>\n",
       "      <td>0.0</td>\n",
       "    </tr>\n",
       "    <tr>\n",
       "      <th>3</th>\n",
       "      <td>91.0</td>\n",
       "      <td>78.0</td>\n",
       "      <td>34.0</td>\n",
       "      <td>24.0</td>\n",
       "      <td>36.0</td>\n",
       "      <td>0.0</td>\n",
       "    </tr>\n",
       "    <tr>\n",
       "      <th>4</th>\n",
       "      <td>98.0</td>\n",
       "      <td>55.0</td>\n",
       "      <td>13.0</td>\n",
       "      <td>17.0</td>\n",
       "      <td>17.0</td>\n",
       "      <td>NaN</td>\n",
       "    </tr>\n",
       "    <tr>\n",
       "      <th>...</th>\n",
       "      <td>...</td>\n",
       "      <td>...</td>\n",
       "      <td>...</td>\n",
       "      <td>...</td>\n",
       "      <td>...</td>\n",
       "      <td>...</td>\n",
       "    </tr>\n",
       "    <tr>\n",
       "      <th>340</th>\n",
       "      <td>NaN</td>\n",
       "      <td>54.0</td>\n",
       "      <td>25.0</td>\n",
       "      <td>22.0</td>\n",
       "      <td>35.0</td>\n",
       "      <td>4.0</td>\n",
       "    </tr>\n",
       "    <tr>\n",
       "      <th>341</th>\n",
       "      <td>89.0</td>\n",
       "      <td>48.0</td>\n",
       "      <td>NaN</td>\n",
       "      <td>22.0</td>\n",
       "      <td>14.0</td>\n",
       "      <td>4.0</td>\n",
       "    </tr>\n",
       "    <tr>\n",
       "      <th>342</th>\n",
       "      <td>85.0</td>\n",
       "      <td>NaN</td>\n",
       "      <td>NaN</td>\n",
       "      <td>23.0</td>\n",
       "      <td>34.0</td>\n",
       "      <td>4.0</td>\n",
       "    </tr>\n",
       "    <tr>\n",
       "      <th>343</th>\n",
       "      <td>95.0</td>\n",
       "      <td>93.0</td>\n",
       "      <td>21.0</td>\n",
       "      <td>27.0</td>\n",
       "      <td>47.0</td>\n",
       "      <td>6.0</td>\n",
       "    </tr>\n",
       "    <tr>\n",
       "      <th>344</th>\n",
       "      <td>NaN</td>\n",
       "      <td>93.0</td>\n",
       "      <td>35.0</td>\n",
       "      <td>NaN</td>\n",
       "      <td>NaN</td>\n",
       "      <td>NaN</td>\n",
       "    </tr>\n",
       "  </tbody>\n",
       "</table>\n",
       "<p>345 rows × 6 columns</p>\n",
       "</div>"
      ],
      "text/plain": [
       "     column 1  column 2  column 3  column 4  column 5  column 6\n",
       "0        85.0       NaN       NaN      27.0      31.0       0.0\n",
       "1        85.0      64.0      59.0      32.0       NaN       NaN\n",
       "2        86.0      54.0      33.0      16.0      54.0       0.0\n",
       "3        91.0      78.0      34.0      24.0      36.0       0.0\n",
       "4        98.0      55.0      13.0      17.0      17.0       NaN\n",
       "..        ...       ...       ...       ...       ...       ...\n",
       "340       NaN      54.0      25.0      22.0      35.0       4.0\n",
       "341      89.0      48.0       NaN      22.0      14.0       4.0\n",
       "342      85.0       NaN       NaN      23.0      34.0       4.0\n",
       "343      95.0      93.0      21.0      27.0      47.0       6.0\n",
       "344       NaN      93.0      35.0       NaN       NaN       NaN\n",
       "\n",
       "[345 rows x 6 columns]"
      ]
     },
     "execution_count": 23,
     "metadata": {},
     "output_type": "execute_result"
    }
   ],
   "source": [
    "column_names=['column 1','column 2','column 3','column 4','column 5','column 6']\n",
    "df=pd.read_excel(r'C:\\Users\\Jaber Shahnawaz\\Downloads\\Incomplete Datasets\\Incomplete Datasets Without Labels\\Bupa\\Bupa_C_20.xlsx', header=None,names=column_names)\n",
    "df"
   ]
  },
  {
   "cell_type": "code",
   "execution_count": 24,
   "id": "585cc6f7",
   "metadata": {},
   "outputs": [
    {
     "name": "stdout",
     "output_type": "stream",
     "text": [
      "dataType\tcolumn_names\tNumber of Nulls\n",
      "float64\t\tcolumn 1\t68\n",
      "float64\t\tcolumn 2\t69\n",
      "float64\t\tcolumn 3\t65\n",
      "float64\t\tcolumn 4\t76\n",
      "float64\t\tcolumn 5\t63\n",
      "float64\t\tcolumn 6\t73\n"
     ]
    }
   ],
   "source": [
    "print('dataType',end='\\t')\n",
    "print('column_names',end='\\t')\n",
    "print('Number of Nulls')\n",
    "for name in column_names:\n",
    "    print(df[name].dtype,end='\\t\\t')\n",
    "    print(name,end='\\t')\n",
    "    print(df[name].isnull().sum())"
   ]
  },
  {
   "cell_type": "code",
   "execution_count": 25,
   "id": "75bd9c64",
   "metadata": {},
   "outputs": [
    {
     "data": {
      "text/html": [
       "<div>\n",
       "<style scoped>\n",
       "    .dataframe tbody tr th:only-of-type {\n",
       "        vertical-align: middle;\n",
       "    }\n",
       "\n",
       "    .dataframe tbody tr th {\n",
       "        vertical-align: top;\n",
       "    }\n",
       "\n",
       "    .dataframe thead th {\n",
       "        text-align: right;\n",
       "    }\n",
       "</style>\n",
       "<table border=\"1\" class=\"dataframe\">\n",
       "  <thead>\n",
       "    <tr style=\"text-align: right;\">\n",
       "      <th></th>\n",
       "      <th>column 1</th>\n",
       "      <th>column 2</th>\n",
       "      <th>column 3</th>\n",
       "      <th>column 4</th>\n",
       "      <th>column 5</th>\n",
       "      <th>column 6</th>\n",
       "    </tr>\n",
       "  </thead>\n",
       "  <tbody>\n",
       "    <tr>\n",
       "      <th>count</th>\n",
       "      <td>277.000000</td>\n",
       "      <td>276.000000</td>\n",
       "      <td>280.000000</td>\n",
       "      <td>269.000000</td>\n",
       "      <td>282.000000</td>\n",
       "      <td>272.000000</td>\n",
       "    </tr>\n",
       "    <tr>\n",
       "      <th>mean</th>\n",
       "      <td>90.111913</td>\n",
       "      <td>70.072464</td>\n",
       "      <td>30.639286</td>\n",
       "      <td>24.349442</td>\n",
       "      <td>39.265957</td>\n",
       "      <td>3.441176</td>\n",
       "    </tr>\n",
       "    <tr>\n",
       "      <th>std</th>\n",
       "      <td>4.493768</td>\n",
       "      <td>18.804888</td>\n",
       "      <td>20.581908</td>\n",
       "      <td>9.198303</td>\n",
       "      <td>41.196563</td>\n",
       "      <td>3.231281</td>\n",
       "    </tr>\n",
       "    <tr>\n",
       "      <th>min</th>\n",
       "      <td>65.000000</td>\n",
       "      <td>23.000000</td>\n",
       "      <td>4.000000</td>\n",
       "      <td>5.000000</td>\n",
       "      <td>5.000000</td>\n",
       "      <td>0.000000</td>\n",
       "    </tr>\n",
       "    <tr>\n",
       "      <th>25%</th>\n",
       "      <td>87.000000</td>\n",
       "      <td>57.000000</td>\n",
       "      <td>19.000000</td>\n",
       "      <td>19.000000</td>\n",
       "      <td>15.000000</td>\n",
       "      <td>0.500000</td>\n",
       "    </tr>\n",
       "    <tr>\n",
       "      <th>50%</th>\n",
       "      <td>90.000000</td>\n",
       "      <td>67.000000</td>\n",
       "      <td>26.000000</td>\n",
       "      <td>22.000000</td>\n",
       "      <td>26.000000</td>\n",
       "      <td>3.000000</td>\n",
       "    </tr>\n",
       "    <tr>\n",
       "      <th>75%</th>\n",
       "      <td>92.000000</td>\n",
       "      <td>80.000000</td>\n",
       "      <td>34.000000</td>\n",
       "      <td>27.000000</td>\n",
       "      <td>48.000000</td>\n",
       "      <td>5.000000</td>\n",
       "    </tr>\n",
       "    <tr>\n",
       "      <th>max</th>\n",
       "      <td>102.000000</td>\n",
       "      <td>138.000000</td>\n",
       "      <td>155.000000</td>\n",
       "      <td>78.000000</td>\n",
       "      <td>297.000000</td>\n",
       "      <td>20.000000</td>\n",
       "    </tr>\n",
       "  </tbody>\n",
       "</table>\n",
       "</div>"
      ],
      "text/plain": [
       "         column 1    column 2    column 3    column 4    column 5    column 6\n",
       "count  277.000000  276.000000  280.000000  269.000000  282.000000  272.000000\n",
       "mean    90.111913   70.072464   30.639286   24.349442   39.265957    3.441176\n",
       "std      4.493768   18.804888   20.581908    9.198303   41.196563    3.231281\n",
       "min     65.000000   23.000000    4.000000    5.000000    5.000000    0.000000\n",
       "25%     87.000000   57.000000   19.000000   19.000000   15.000000    0.500000\n",
       "50%     90.000000   67.000000   26.000000   22.000000   26.000000    3.000000\n",
       "75%     92.000000   80.000000   34.000000   27.000000   48.000000    5.000000\n",
       "max    102.000000  138.000000  155.000000   78.000000  297.000000   20.000000"
      ]
     },
     "execution_count": 25,
     "metadata": {},
     "output_type": "execute_result"
    }
   ],
   "source": [
    "df.describe()"
   ]
  },
  {
   "cell_type": "code",
   "execution_count": 26,
   "id": "56182ba1",
   "metadata": {
    "scrolled": false
   },
   "outputs": [
    {
     "data": {
      "text/plain": [
       "<AxesSubplot:>"
      ]
     },
     "execution_count": 26,
     "metadata": {},
     "output_type": "execute_result"
    },
    {
     "data": {
      "image/png": "[encoded data removed]",
      "text/plain": [
       "<Figure size 1080x360 with 1 Axes>"
      ]
     },
     "metadata": {
      "needs_background": "light"
     },
     "output_type": "display_data"
    }
   ],
   "source": [
    "df.boxplot(return_type='axes', figsize=(15,5\n",
    "                                       ))"
   ]
  },
  {
   "cell_type": "code",
   "execution_count": 27,
   "id": "856e9b6c",
   "metadata": {},
   "outputs": [
    {
     "data": {
      "text/plain": [
       "column 1    90.111913\n",
       "column 2    70.072464\n",
       "column 3    30.639286\n",
       "column 4    24.349442\n",
       "column 5    39.265957\n",
       "column 6     3.441176\n",
       "dtype: float64"
      ]
     },
     "execution_count": 27,
     "metadata": {},
     "output_type": "execute_result"
    }
   ],
   "source": [
    "df.mean()"
   ]
  },
  {
   "cell_type": "code",
   "execution_count": 28,
   "id": "18c4a9dd",
   "metadata": {},
   "outputs": [
    {
     "data": {
      "text/html": [
       "<div>\n",
       "<style scoped>\n",
       "    .dataframe tbody tr th:only-of-type {\n",
       "        vertical-align: middle;\n",
       "    }\n",
       "\n",
       "    .dataframe tbody tr th {\n",
       "        vertical-align: top;\n",
       "    }\n",
       "\n",
       "    .dataframe thead th {\n",
       "        text-align: right;\n",
       "    }\n",
       "</style>\n",
       "<table border=\"1\" class=\"dataframe\">\n",
       "  <thead>\n",
       "    <tr style=\"text-align: right;\">\n",
       "      <th></th>\n",
       "      <th>column 1</th>\n",
       "      <th>column 2</th>\n",
       "      <th>column 3</th>\n",
       "      <th>column 4</th>\n",
       "      <th>column 5</th>\n",
       "      <th>column 6</th>\n",
       "    </tr>\n",
       "  </thead>\n",
       "  <tbody>\n",
       "    <tr>\n",
       "      <th>column 1</th>\n",
       "      <td>1.000000</td>\n",
       "      <td>0.068095</td>\n",
       "      <td>0.179836</td>\n",
       "      <td>0.209261</td>\n",
       "      <td>0.241900</td>\n",
       "      <td>0.347557</td>\n",
       "    </tr>\n",
       "    <tr>\n",
       "      <th>column 2</th>\n",
       "      <td>0.068095</td>\n",
       "      <td>1.000000</td>\n",
       "      <td>0.033101</td>\n",
       "      <td>0.178480</td>\n",
       "      <td>0.091948</td>\n",
       "      <td>0.140972</td>\n",
       "    </tr>\n",
       "    <tr>\n",
       "      <th>column 3</th>\n",
       "      <td>0.179836</td>\n",
       "      <td>0.033101</td>\n",
       "      <td>1.000000</td>\n",
       "      <td>0.636739</td>\n",
       "      <td>0.550933</td>\n",
       "      <td>0.257774</td>\n",
       "    </tr>\n",
       "    <tr>\n",
       "      <th>column 4</th>\n",
       "      <td>0.209261</td>\n",
       "      <td>0.178480</td>\n",
       "      <td>0.636739</td>\n",
       "      <td>1.000000</td>\n",
       "      <td>0.559387</td>\n",
       "      <td>0.311039</td>\n",
       "    </tr>\n",
       "    <tr>\n",
       "      <th>column 5</th>\n",
       "      <td>0.241900</td>\n",
       "      <td>0.091948</td>\n",
       "      <td>0.550933</td>\n",
       "      <td>0.559387</td>\n",
       "      <td>1.000000</td>\n",
       "      <td>0.344116</td>\n",
       "    </tr>\n",
       "    <tr>\n",
       "      <th>column 6</th>\n",
       "      <td>0.347557</td>\n",
       "      <td>0.140972</td>\n",
       "      <td>0.257774</td>\n",
       "      <td>0.311039</td>\n",
       "      <td>0.344116</td>\n",
       "      <td>1.000000</td>\n",
       "    </tr>\n",
       "  </tbody>\n",
       "</table>\n",
       "</div>"
      ],
      "text/plain": [
       "          column 1  column 2  column 3  column 4  column 5  column 6\n",
       "column 1  1.000000  0.068095  0.179836  0.209261  0.241900  0.347557\n",
       "column 2  0.068095  1.000000  0.033101  0.178480  0.091948  0.140972\n",
       "column 3  0.179836  0.033101  1.000000  0.636739  0.550933  0.257774\n",
       "column 4  0.209261  0.178480  0.636739  1.000000  0.559387  0.311039\n",
       "column 5  0.241900  0.091948  0.550933  0.559387  1.000000  0.344116\n",
       "column 6  0.347557  0.140972  0.257774  0.311039  0.344116  1.000000"
      ]
     },
     "execution_count": 28,
     "metadata": {},
     "output_type": "execute_result"
    }
   ],
   "source": [
    "corr=df.corr()\n",
    "corr"
   ]
  },
  {
   "cell_type": "code",
   "execution_count": 29,
   "id": "ea626871",
   "metadata": {},
   "outputs": [],
   "source": [
    "tf.compat.v1.reset_default_graph()\n",
    "import tensorflow.compat.v1 as tf\n",
    "tf.reset_default_graph()\n"
   ]
  },
  {
   "cell_type": "code",
   "execution_count": 30,
   "id": "2830e6e4",
   "metadata": {
    "scrolled": false
   },
   "outputs": [
    {
     "name": "stdout",
     "output_type": "stream",
     "text": [
      "Size index: [6]\n",
      "\n",
      "Computation graph constructed\n",
      "\n",
      "Model initialised\n",
      "\n",
      "Epoch: 0 , loss: 226.6168903169178\n",
      "Epoch: 1 , loss: 227.099610828218\n",
      "Epoch: 2 , loss: 225.72528439476378\n",
      "Epoch: 3 , loss: 225.6438228062221\n",
      "Epoch: 4 , loss: 225.3929145449684\n",
      "Epoch: 5 , loss: 226.45343598865327\n",
      "Epoch: 6 , loss: 227.02887616838728\n",
      "Epoch: 7 , loss: 227.88777451288132\n",
      "Epoch: 8 , loss: 227.52633303687685\n",
      "Epoch: 9 , loss: 226.16889444986978\n",
      "Epoch: 10 , loss: 228.66482398623512\n",
      "Epoch: 11 , loss: 226.2791028703962\n",
      "Epoch: 12 , loss: 225.86267453148253\n",
      "Epoch: 13 , loss: 227.348384312221\n",
      "Epoch: 14 , loss: 225.69729468936012\n",
      "Epoch: 15 , loss: 228.02813502720423\n",
      "Epoch: 16 , loss: 225.41380455380394\n",
      "Epoch: 17 , loss: 228.5586911156064\n",
      "Epoch: 18 , loss: 227.6154545375279\n",
      "Epoch: 19 , loss: 226.5675775437128\n",
      "Epoch: 20 , loss: 227.62301926385788\n",
      "Epoch: 21 , loss: 227.84415472121466\n",
      "Epoch: 22 , loss: 227.87306794666108\n",
      "Epoch: 23 , loss: 228.20162527901786\n",
      "Epoch: 24 , loss: 225.58771405901228\n",
      "Epoch: 25 , loss: 227.56206766764322\n",
      "Epoch: 26 , loss: 226.16051083519346\n",
      "Epoch: 27 , loss: 225.7408650716146\n",
      "Epoch: 28 , loss: 227.61958966936385\n",
      "Epoch: 29 , loss: 227.13062177385603\n",
      "Epoch: 30 , loss: 224.58219110398065\n",
      "Epoch: 31 , loss: 226.6559099469866\n",
      "Epoch: 32 , loss: 225.82705906459265\n",
      "Epoch: 33 , loss: 227.10328093029204\n",
      "Epoch: 34 , loss: 226.3549601236979\n",
      "Epoch: 35 , loss: 226.23065694173178\n",
      "Epoch: 36 , loss: 226.48493303571428\n",
      "Epoch: 37 , loss: 225.56788780575707\n",
      "Epoch: 38 , loss: 227.06513105119978\n",
      "Epoch: 39 , loss: 224.96047174362909\n",
      "Epoch: 40 , loss: 226.3998819986979\n",
      "Epoch: 41 , loss: 226.28245108468192\n",
      "Epoch: 42 , loss: 227.73966907319567\n",
      "Epoch: 43 , loss: 227.67947387695312\n",
      "Epoch: 44 , loss: 227.3732641310919\n",
      "Epoch: 45 , loss: 226.23247709728423\n",
      "Epoch: 46 , loss: 227.09781101771765\n",
      "Epoch: 47 , loss: 224.79210190545945\n",
      "Epoch: 48 , loss: 227.238041469029\n",
      "Epoch: 49 , loss: 226.22742789132255\n",
      "Epoch: 50 , loss: 225.99648248581659\n",
      "Epoch: 51 , loss: 227.35300772530692\n",
      "Epoch: 52 , loss: 227.598141624814\n",
      "Epoch: 53 , loss: 225.91090683710007\n",
      "Epoch: 54 , loss: 226.28788030715216\n",
      "Epoch: 55 , loss: 227.07564508347284\n",
      "Epoch: 56 , loss: 228.22647094726562\n",
      "Epoch: 57 , loss: 227.95630972726005\n",
      "Epoch: 58 , loss: 229.42445373535156\n",
      "Epoch: 59 , loss: 227.71168663388207\n",
      "Epoch: 60 , loss: 226.12584213983445\n",
      "Epoch: 61 , loss: 226.07328651064918\n",
      "Epoch: 62 , loss: 225.9075164794922\n",
      "Epoch: 63 , loss: 224.11988830566406\n",
      "Epoch: 64 , loss: 228.1338864281064\n",
      "Epoch: 65 , loss: 225.00470043364027\n",
      "Epoch: 66 , loss: 227.3040037609282\n",
      "Epoch: 67 , loss: 224.21773056756882\n",
      "Epoch: 68 , loss: 225.01039704822358\n",
      "Epoch: 69 , loss: 227.70523652576264\n",
      "Epoch: 70 , loss: 228.10493759881882\n",
      "Epoch: 71 , loss: 226.07053556896392\n",
      "Epoch: 72 , loss: 226.6810259137835\n",
      "Epoch: 73 , loss: 226.73949614025298\n",
      "Epoch: 74 , loss: 226.1386515299479\n",
      "Epoch: 75 , loss: 226.38741193498885\n",
      "Epoch: 76 , loss: 226.3650389171782\n",
      "Epoch: 77 , loss: 226.04179237002418\n",
      "Epoch: 78 , loss: 226.538571312314\n",
      "Epoch: 79 , loss: 225.14245532807848\n",
      "Epoch: 80 , loss: 227.38072495233445\n",
      "Epoch: 81 , loss: 225.09368169875373\n",
      "Epoch: 82 , loss: 226.52104840959822\n",
      "Epoch: 83 , loss: 227.0370141892206\n",
      "Epoch: 84 , loss: 226.72593761625745\n",
      "Epoch: 85 , loss: 227.58923921130952\n",
      "Epoch: 86 , loss: 224.70374625069755\n",
      "Epoch: 87 , loss: 227.33465285528274\n",
      "Epoch: 88 , loss: 227.80650765555245\n",
      "Epoch: 89 , loss: 227.4730035691034\n",
      "Epoch: 90 , loss: 228.4210393996466\n",
      "Epoch: 91 , loss: 227.07676914760046\n",
      "Epoch: 92 , loss: 227.3661135718936\n",
      "Epoch: 93 , loss: 226.47340974353608\n",
      "Epoch: 94 , loss: 224.6306893484933\n",
      "Epoch: 95 , loss: 225.97801717122397\n",
      "Epoch: 96 , loss: 224.30114237467447\n",
      "Epoch: 97 , loss: 227.20539056687127\n",
      "Epoch: 98 , loss: 225.66251845586868\n",
      "Epoch: 99 , loss: 227.60021754673548\n",
      "Training complete. Saving file...\n",
      "Model saved in file: tmp/MIDAS\n"
     ]
    },
    {
     "data": {
      "text/plain": [
       "<MIDASpy.midas_base.Midas at 0x26418e5a4f0>"
      ]
     },
     "execution_count": 30,
     "metadata": {},
     "output_type": "execute_result"
    }
   ],
   "source": [
    "imputer = md.Midas(layer_structure = [6,6+14,6+14+14,6+14+14+14,6+14+14+14+14,6+14+14+14,6+14+14,6+14,6], vae_layer = False, seed = 140)\n",
    "imputer.build_model(df)\n",
    "imputer.train_model(training_epochs=100)\n"
   ]
  },
  {
   "cell_type": "code",
   "execution_count": 31,
   "id": "6f0fef50",
   "metadata": {},
   "outputs": [
    {
     "name": "stdout",
     "output_type": "stream",
     "text": [
      "INFO:tensorflow:Restoring parameters from tmp/MIDAS\n",
      "Model restored.\n"
     ]
    },
    {
     "data": {
      "text/plain": [
       "(345, 6)"
      ]
     },
     "execution_count": 31,
     "metadata": {},
     "output_type": "execute_result"
    }
   ],
   "source": [
    "imputations=imputer.generate_samples(m=15).output_list\n",
    "np.shape(imputations[-1])"
   ]
  },
  {
   "cell_type": "code",
   "execution_count": 32,
   "id": "7842db79",
   "metadata": {
    "scrolled": true
   },
   "outputs": [
    {
     "data": {
      "text/plain": [
       "column 1    90.000000\n",
       "column 2    47.000000\n",
       "column 3     0.037231\n",
       "column 4    15.000000\n",
       "column 5    18.000000\n",
       "column 6     0.037078\n",
       "Name: 21, dtype: float64"
      ]
     },
     "execution_count": 32,
     "metadata": {},
     "output_type": "execute_result"
    }
   ],
   "source": [
    "new_df=imputations[-1]\n",
    "new_df.iloc[21,:]\n"
   ]
  },
  {
   "cell_type": "code",
   "execution_count": 33,
   "id": "a254172c",
   "metadata": {},
   "outputs": [],
   "source": [
    "complete_df=pd.read_excel(r'C:\\Users\\Jaber Shahnawaz\\Downloads\\Original Datasets (1)\\Original Datasets Without Labels\\Bupa.xlsx', header=None,names=column_names)"
   ]
  },
  {
   "cell_type": "code",
   "execution_count": 34,
   "id": "0a697afe",
   "metadata": {},
   "outputs": [
    {
     "data": {
      "text/html": [
       "<div>\n",
       "<style scoped>\n",
       "    .dataframe tbody tr th:only-of-type {\n",
       "        vertical-align: middle;\n",
       "    }\n",
       "\n",
       "    .dataframe tbody tr th {\n",
       "        vertical-align: top;\n",
       "    }\n",
       "\n",
       "    .dataframe thead th {\n",
       "        text-align: right;\n",
       "    }\n",
       "</style>\n",
       "<table border=\"1\" class=\"dataframe\">\n",
       "  <thead>\n",
       "    <tr style=\"text-align: right;\">\n",
       "      <th></th>\n",
       "      <th>column 1</th>\n",
       "      <th>column 2</th>\n",
       "      <th>column 3</th>\n",
       "      <th>column 4</th>\n",
       "      <th>column 5</th>\n",
       "      <th>column 6</th>\n",
       "    </tr>\n",
       "  </thead>\n",
       "  <tbody>\n",
       "    <tr>\n",
       "      <th>0</th>\n",
       "      <td>0.000000</td>\n",
       "      <td>-91.96122</td>\n",
       "      <td>-44.961462</td>\n",
       "      <td>0.000000</td>\n",
       "      <td>0.000000</td>\n",
       "      <td>0.000000</td>\n",
       "    </tr>\n",
       "    <tr>\n",
       "      <th>1</th>\n",
       "      <td>0.000000</td>\n",
       "      <td>0.00000</td>\n",
       "      <td>0.000000</td>\n",
       "      <td>0.000000</td>\n",
       "      <td>-22.961516</td>\n",
       "      <td>0.038460</td>\n",
       "    </tr>\n",
       "    <tr>\n",
       "      <th>2</th>\n",
       "      <td>0.000000</td>\n",
       "      <td>0.00000</td>\n",
       "      <td>0.000000</td>\n",
       "      <td>0.000000</td>\n",
       "      <td>0.000000</td>\n",
       "      <td>0.000000</td>\n",
       "    </tr>\n",
       "    <tr>\n",
       "      <th>3</th>\n",
       "      <td>0.000000</td>\n",
       "      <td>0.00000</td>\n",
       "      <td>0.000000</td>\n",
       "      <td>0.000000</td>\n",
       "      <td>0.000000</td>\n",
       "      <td>0.000000</td>\n",
       "    </tr>\n",
       "    <tr>\n",
       "      <th>4</th>\n",
       "      <td>0.000000</td>\n",
       "      <td>0.00000</td>\n",
       "      <td>0.000000</td>\n",
       "      <td>0.000000</td>\n",
       "      <td>0.000000</td>\n",
       "      <td>0.040472</td>\n",
       "    </tr>\n",
       "    <tr>\n",
       "      <th>...</th>\n",
       "      <td>...</td>\n",
       "      <td>...</td>\n",
       "      <td>...</td>\n",
       "      <td>...</td>\n",
       "      <td>...</td>\n",
       "      <td>...</td>\n",
       "    </tr>\n",
       "    <tr>\n",
       "      <th>340</th>\n",
       "      <td>-90.956641</td>\n",
       "      <td>0.00000</td>\n",
       "      <td>0.000000</td>\n",
       "      <td>0.000000</td>\n",
       "      <td>0.000000</td>\n",
       "      <td>0.000000</td>\n",
       "    </tr>\n",
       "    <tr>\n",
       "      <th>341</th>\n",
       "      <td>0.000000</td>\n",
       "      <td>0.00000</td>\n",
       "      <td>-31.960948</td>\n",
       "      <td>0.000000</td>\n",
       "      <td>0.000000</td>\n",
       "      <td>0.000000</td>\n",
       "    </tr>\n",
       "    <tr>\n",
       "      <th>342</th>\n",
       "      <td>0.000000</td>\n",
       "      <td>-51.95535</td>\n",
       "      <td>-21.955508</td>\n",
       "      <td>0.000000</td>\n",
       "      <td>0.000000</td>\n",
       "      <td>0.000000</td>\n",
       "    </tr>\n",
       "    <tr>\n",
       "      <th>343</th>\n",
       "      <td>0.000000</td>\n",
       "      <td>0.00000</td>\n",
       "      <td>0.000000</td>\n",
       "      <td>0.000000</td>\n",
       "      <td>0.000000</td>\n",
       "      <td>0.000000</td>\n",
       "    </tr>\n",
       "    <tr>\n",
       "      <th>344</th>\n",
       "      <td>-90.961574</td>\n",
       "      <td>0.00000</td>\n",
       "      <td>0.000000</td>\n",
       "      <td>-33.961532</td>\n",
       "      <td>-36.961696</td>\n",
       "      <td>-9.961771</td>\n",
       "    </tr>\n",
       "  </tbody>\n",
       "</table>\n",
       "<p>345 rows × 6 columns</p>\n",
       "</div>"
      ],
      "text/plain": [
       "      column 1  column 2   column 3   column 4   column 5  column 6\n",
       "0     0.000000 -91.96122 -44.961462   0.000000   0.000000  0.000000\n",
       "1     0.000000   0.00000   0.000000   0.000000 -22.961516  0.038460\n",
       "2     0.000000   0.00000   0.000000   0.000000   0.000000  0.000000\n",
       "3     0.000000   0.00000   0.000000   0.000000   0.000000  0.000000\n",
       "4     0.000000   0.00000   0.000000   0.000000   0.000000  0.040472\n",
       "..         ...       ...        ...        ...        ...       ...\n",
       "340 -90.956641   0.00000   0.000000   0.000000   0.000000  0.000000\n",
       "341   0.000000   0.00000 -31.960948   0.000000   0.000000  0.000000\n",
       "342   0.000000 -51.95535 -21.955508   0.000000   0.000000  0.000000\n",
       "343   0.000000   0.00000   0.000000   0.000000   0.000000  0.000000\n",
       "344 -90.961574   0.00000   0.000000 -33.961532 -36.961696 -9.961771\n",
       "\n",
       "[345 rows x 6 columns]"
      ]
     },
     "execution_count": 34,
     "metadata": {},
     "output_type": "execute_result"
    }
   ],
   "source": [
    "new_df-complete_df"
   ]
  },
  {
   "cell_type": "markdown",
   "id": "b4a4024f",
   "metadata": {},
   "source": [
    "Calculating NRMSE Value"
   ]
  },
  {
   "cell_type": "code",
   "execution_count": 35,
   "id": "b0a1ddd7",
   "metadata": {},
   "outputs": [],
   "source": [
    "\n",
    "def Sum_new(sum):\n",
    "    summ=0\n",
    "    for n in sum:\n",
    "        summ=summ+n\n",
    "    return (summ)\n",
    "\n"
   ]
  },
  {
   "cell_type": "code",
   "execution_count": 36,
   "id": "335450db",
   "metadata": {},
   "outputs": [],
   "source": [
    "def Frobenius_norm(number):\n",
    "    num=number\n",
    "    abs_val=num.abs()\n",
    "    power_abs=abs_val**2\n",
    "    sum1=power_abs.sum()\n",
    "    total_sum=Sum_new(sum1)\n",
    "    return(math.sqrt(total_sum))"
   ]
  },
  {
   "cell_type": "code",
   "execution_count": 37,
   "id": "28857c9a",
   "metadata": {},
   "outputs": [
    {
     "data": {
      "text/plain": [
       "1076.8072080519528"
      ]
     },
     "execution_count": 37,
     "metadata": {},
     "output_type": "execute_result"
    }
   ],
   "source": [
    "numerator=Frobenius_norm(new_df-complete_df)\n",
    "numerator"
   ]
  },
  {
   "cell_type": "code",
   "execution_count": 38,
   "id": "53a8606f",
   "metadata": {},
   "outputs": [
    {
     "data": {
      "text/plain": [
       "2519.762091944396"
      ]
     },
     "execution_count": 38,
     "metadata": {},
     "output_type": "execute_result"
    }
   ],
   "source": [
    "denominator=Frobenius_norm(complete_df)\n",
    "denominator"
   ]
  },
  {
   "cell_type": "code",
   "execution_count": 39,
   "id": "998aacba",
   "metadata": {},
   "outputs": [
    {
     "data": {
      "text/plain": [
       "0.42734479238912004"
      ]
     },
     "execution_count": 39,
     "metadata": {},
     "output_type": "execute_result"
    }
   ],
   "source": [
    "NRMS=numerator/denominator\n",
    "NRMS\n"
   ]
  },
  {
   "cell_type": "code",
   "execution_count": 40,
   "id": "84845123",
   "metadata": {},
   "outputs": [
    {
     "data": {
      "text/plain": [
       "column 1    86.000000\n",
       "column 2    54.000000\n",
       "column 3     0.039748\n",
       "column 4    21.000000\n",
       "column 5     0.039712\n",
       "column 6     2.000000\n",
       "Name: 66, dtype: float64"
      ]
     },
     "execution_count": 40,
     "metadata": {},
     "output_type": "execute_result"
    }
   ],
   "source": [
    "new_df.iloc[66,:]"
   ]
  },
  {
   "cell_type": "code",
   "execution_count": 41,
   "id": "bfe943bf",
   "metadata": {},
   "outputs": [
    {
     "data": {
      "text/html": [
       "<div>\n",
       "<style scoped>\n",
       "    .dataframe tbody tr th:only-of-type {\n",
       "        vertical-align: middle;\n",
       "    }\n",
       "\n",
       "    .dataframe tbody tr th {\n",
       "        vertical-align: top;\n",
       "    }\n",
       "\n",
       "    .dataframe thead th {\n",
       "        text-align: right;\n",
       "    }\n",
       "</style>\n",
       "<table border=\"1\" class=\"dataframe\">\n",
       "  <thead>\n",
       "    <tr style=\"text-align: right;\">\n",
       "      <th></th>\n",
       "      <th>column 1</th>\n",
       "      <th>column 2</th>\n",
       "      <th>column 3</th>\n",
       "      <th>column 4</th>\n",
       "      <th>column 5</th>\n",
       "      <th>column 6</th>\n",
       "    </tr>\n",
       "  </thead>\n",
       "  <tbody>\n",
       "    <tr>\n",
       "      <th>0</th>\n",
       "      <td>85.000000</td>\n",
       "      <td>0.03878</td>\n",
       "      <td>0.038538</td>\n",
       "      <td>27.000000</td>\n",
       "      <td>31.000000</td>\n",
       "      <td>0.000000</td>\n",
       "    </tr>\n",
       "    <tr>\n",
       "      <th>1</th>\n",
       "      <td>85.000000</td>\n",
       "      <td>64.00000</td>\n",
       "      <td>59.000000</td>\n",
       "      <td>32.000000</td>\n",
       "      <td>0.038484</td>\n",
       "      <td>0.038460</td>\n",
       "    </tr>\n",
       "    <tr>\n",
       "      <th>2</th>\n",
       "      <td>86.000000</td>\n",
       "      <td>54.00000</td>\n",
       "      <td>33.000000</td>\n",
       "      <td>16.000000</td>\n",
       "      <td>54.000000</td>\n",
       "      <td>0.000000</td>\n",
       "    </tr>\n",
       "    <tr>\n",
       "      <th>3</th>\n",
       "      <td>91.000000</td>\n",
       "      <td>78.00000</td>\n",
       "      <td>34.000000</td>\n",
       "      <td>24.000000</td>\n",
       "      <td>36.000000</td>\n",
       "      <td>0.000000</td>\n",
       "    </tr>\n",
       "    <tr>\n",
       "      <th>4</th>\n",
       "      <td>98.000000</td>\n",
       "      <td>55.00000</td>\n",
       "      <td>13.000000</td>\n",
       "      <td>17.000000</td>\n",
       "      <td>17.000000</td>\n",
       "      <td>0.040472</td>\n",
       "    </tr>\n",
       "    <tr>\n",
       "      <th>...</th>\n",
       "      <td>...</td>\n",
       "      <td>...</td>\n",
       "      <td>...</td>\n",
       "      <td>...</td>\n",
       "      <td>...</td>\n",
       "      <td>...</td>\n",
       "    </tr>\n",
       "    <tr>\n",
       "      <th>340</th>\n",
       "      <td>0.043359</td>\n",
       "      <td>54.00000</td>\n",
       "      <td>25.000000</td>\n",
       "      <td>22.000000</td>\n",
       "      <td>35.000000</td>\n",
       "      <td>4.000000</td>\n",
       "    </tr>\n",
       "    <tr>\n",
       "      <th>341</th>\n",
       "      <td>89.000000</td>\n",
       "      <td>48.00000</td>\n",
       "      <td>0.039052</td>\n",
       "      <td>22.000000</td>\n",
       "      <td>14.000000</td>\n",
       "      <td>4.000000</td>\n",
       "    </tr>\n",
       "    <tr>\n",
       "      <th>342</th>\n",
       "      <td>85.000000</td>\n",
       "      <td>0.04465</td>\n",
       "      <td>0.044492</td>\n",
       "      <td>23.000000</td>\n",
       "      <td>34.000000</td>\n",
       "      <td>4.000000</td>\n",
       "    </tr>\n",
       "    <tr>\n",
       "      <th>343</th>\n",
       "      <td>95.000000</td>\n",
       "      <td>93.00000</td>\n",
       "      <td>21.000000</td>\n",
       "      <td>27.000000</td>\n",
       "      <td>47.000000</td>\n",
       "      <td>6.000000</td>\n",
       "    </tr>\n",
       "    <tr>\n",
       "      <th>344</th>\n",
       "      <td>0.038426</td>\n",
       "      <td>93.00000</td>\n",
       "      <td>35.000000</td>\n",
       "      <td>0.038468</td>\n",
       "      <td>0.038304</td>\n",
       "      <td>0.038229</td>\n",
       "    </tr>\n",
       "  </tbody>\n",
       "</table>\n",
       "<p>345 rows × 6 columns</p>\n",
       "</div>"
      ],
      "text/plain": [
       "      column 1  column 2   column 3   column 4   column 5  column 6\n",
       "0    85.000000   0.03878   0.038538  27.000000  31.000000  0.000000\n",
       "1    85.000000  64.00000  59.000000  32.000000   0.038484  0.038460\n",
       "2    86.000000  54.00000  33.000000  16.000000  54.000000  0.000000\n",
       "3    91.000000  78.00000  34.000000  24.000000  36.000000  0.000000\n",
       "4    98.000000  55.00000  13.000000  17.000000  17.000000  0.040472\n",
       "..         ...       ...        ...        ...        ...       ...\n",
       "340   0.043359  54.00000  25.000000  22.000000  35.000000  4.000000\n",
       "341  89.000000  48.00000   0.039052  22.000000  14.000000  4.000000\n",
       "342  85.000000   0.04465   0.044492  23.000000  34.000000  4.000000\n",
       "343  95.000000  93.00000  21.000000  27.000000  47.000000  6.000000\n",
       "344   0.038426  93.00000  35.000000   0.038468   0.038304  0.038229\n",
       "\n",
       "[345 rows x 6 columns]"
      ]
     },
     "execution_count": 41,
     "metadata": {},
     "output_type": "execute_result"
    }
   ],
   "source": [
    "imputations[-1]\n"
   ]
  },
  {
   "cell_type": "code",
   "execution_count": 42,
   "id": "1c8a41f8",
   "metadata": {},
   "outputs": [],
   "source": [
    "imputations[-1].to_excel(\"Bupa_C_20(imp).xlsx\", index=False, header=False)"
   ]
  },
  {
   "cell_type": "code",
   "execution_count": null,
   "id": "ebf2f6d0",
   "metadata": {},
   "outputs": [],
   "source": []
  },
  {
   "cell_type": "code",
   "execution_count": null,
   "id": "9e923f9e",
   "metadata": {},
   "outputs": [],
   "source": []
  },
  {
   "cell_type": "code",
   "execution_count": null,
   "id": "b6783c29",
   "metadata": {},
   "outputs": [],
   "source": []
  },
  {
   "cell_type": "code",
   "execution_count": null,
   "id": "c3ea890a",
   "metadata": {},
   "outputs": [],
   "source": []
  },
  {
   "cell_type": "code",
   "execution_count": null,
   "id": "3c97865e",
   "metadata": {},
   "outputs": [],
   "source": []
  },
  {
   "cell_type": "code",
   "execution_count": null,
   "id": "ac6bff21",
   "metadata": {},
   "outputs": [],
   "source": []
  },
  {
   "cell_type": "code",
   "execution_count": null,
   "id": "dacc5117",
   "metadata": {},
   "outputs": [],
   "source": []
  },
  {
   "cell_type": "code",
   "execution_count": null,
   "id": "8f07cbe5",
   "metadata": {},
   "outputs": [],
   "source": []
  },
  {
   "cell_type": "code",
   "execution_count": null,
   "id": "458593b4",
   "metadata": {},
   "outputs": [],
   "source": []
  },
  {
   "cell_type": "code",
   "execution_count": null,
   "id": "52582321",
   "metadata": {},
   "outputs": [],
   "source": []
  },
  {
   "cell_type": "code",
   "execution_count": null,
   "id": "d941cc59",
   "metadata": {},
   "outputs": [],
   "source": []
  },
  {
   "cell_type": "code",
   "execution_count": null,
   "id": "71d8d6af",
   "metadata": {},
   "outputs": [],
   "source": []
  }
 ],
 "metadata": {
  "kernelspec": {
   "display_name": "Python 3 (ipykernel)",
   "language": "python",
   "name": "python3"
  },
  "language_info": {
   "codemirror_mode": {
    "name": "ipython",
    "version": 3
   },
   "file_extension": ".py",
   "mimetype": "text/x-python",
   "name": "python",
   "nbconvert_exporter": "python",
   "pygments_lexer": "ipython3",
   "version": "3.9.7"
  }
 },
 "nbformat": 4,
 "nbformat_minor": 5
}
