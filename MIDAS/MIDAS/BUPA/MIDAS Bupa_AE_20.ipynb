{
 "cells": [
  {
   "cell_type": "code",
   "execution_count": 42,
   "id": "48128b60",
   "metadata": {},
   "outputs": [],
   "source": [
    "from sklearn.preprocessing import MinMaxScaler\n",
    "import numpy as np\n",
    "import pandas as pd\n",
    "import tensorflow as tf\n",
    "import MIDASpy as md\n",
    "import math\n"
   ]
  },
  {
   "cell_type": "code",
   "execution_count": 43,
   "id": "f638e7f0",
   "metadata": {
    "scrolled": false
   },
   "outputs": [
    {
     "data": {
      "text/html": [
       "<div>\n",
       "<style scoped>\n",
       "    .dataframe tbody tr th:only-of-type {\n",
       "        vertical-align: middle;\n",
       "    }\n",
       "\n",
       "    .dataframe tbody tr th {\n",
       "        vertical-align: top;\n",
       "    }\n",
       "\n",
       "    .dataframe thead th {\n",
       "        text-align: right;\n",
       "    }\n",
       "</style>\n",
       "<table border=\"1\" class=\"dataframe\">\n",
       "  <thead>\n",
       "    <tr style=\"text-align: right;\">\n",
       "      <th></th>\n",
       "      <th>column 1</th>\n",
       "      <th>column 2</th>\n",
       "      <th>column 3</th>\n",
       "      <th>column 4</th>\n",
       "      <th>column 5</th>\n",
       "      <th>column 6</th>\n",
       "    </tr>\n",
       "  </thead>\n",
       "  <tbody>\n",
       "    <tr>\n",
       "      <th>0</th>\n",
       "      <td>85.0</td>\n",
       "      <td>92</td>\n",
       "      <td>45.0</td>\n",
       "      <td>27.0</td>\n",
       "      <td>31.0</td>\n",
       "      <td>0.0</td>\n",
       "    </tr>\n",
       "    <tr>\n",
       "      <th>1</th>\n",
       "      <td>85.0</td>\n",
       "      <td>64</td>\n",
       "      <td>NaN</td>\n",
       "      <td>NaN</td>\n",
       "      <td>23.0</td>\n",
       "      <td>NaN</td>\n",
       "    </tr>\n",
       "    <tr>\n",
       "      <th>2</th>\n",
       "      <td>86.0</td>\n",
       "      <td>54</td>\n",
       "      <td>33.0</td>\n",
       "      <td>16.0</td>\n",
       "      <td>54.0</td>\n",
       "      <td>0.0</td>\n",
       "    </tr>\n",
       "    <tr>\n",
       "      <th>3</th>\n",
       "      <td>91.0</td>\n",
       "      <td>78</td>\n",
       "      <td>34.0</td>\n",
       "      <td>24.0</td>\n",
       "      <td>36.0</td>\n",
       "      <td>0.0</td>\n",
       "    </tr>\n",
       "    <tr>\n",
       "      <th>4</th>\n",
       "      <td>NaN</td>\n",
       "      <td>55</td>\n",
       "      <td>NaN</td>\n",
       "      <td>NaN</td>\n",
       "      <td>17.0</td>\n",
       "      <td>0.0</td>\n",
       "    </tr>\n",
       "    <tr>\n",
       "      <th>...</th>\n",
       "      <td>...</td>\n",
       "      <td>...</td>\n",
       "      <td>...</td>\n",
       "      <td>...</td>\n",
       "      <td>...</td>\n",
       "      <td>...</td>\n",
       "    </tr>\n",
       "    <tr>\n",
       "      <th>340</th>\n",
       "      <td>91.0</td>\n",
       "      <td>54</td>\n",
       "      <td>25.0</td>\n",
       "      <td>22.0</td>\n",
       "      <td>35.0</td>\n",
       "      <td>4.0</td>\n",
       "    </tr>\n",
       "    <tr>\n",
       "      <th>341</th>\n",
       "      <td>89.0</td>\n",
       "      <td>48</td>\n",
       "      <td>NaN</td>\n",
       "      <td>NaN</td>\n",
       "      <td>14.0</td>\n",
       "      <td>NaN</td>\n",
       "    </tr>\n",
       "    <tr>\n",
       "      <th>342</th>\n",
       "      <td>85.0</td>\n",
       "      <td>52</td>\n",
       "      <td>22.0</td>\n",
       "      <td>23.0</td>\n",
       "      <td>34.0</td>\n",
       "      <td>4.0</td>\n",
       "    </tr>\n",
       "    <tr>\n",
       "      <th>343</th>\n",
       "      <td>95.0</td>\n",
       "      <td>93</td>\n",
       "      <td>21.0</td>\n",
       "      <td>NaN</td>\n",
       "      <td>NaN</td>\n",
       "      <td>NaN</td>\n",
       "    </tr>\n",
       "    <tr>\n",
       "      <th>344</th>\n",
       "      <td>91.0</td>\n",
       "      <td>93</td>\n",
       "      <td>NaN</td>\n",
       "      <td>NaN</td>\n",
       "      <td>37.0</td>\n",
       "      <td>NaN</td>\n",
       "    </tr>\n",
       "  </tbody>\n",
       "</table>\n",
       "<p>345 rows × 6 columns</p>\n",
       "</div>"
      ],
      "text/plain": [
       "     column 1  column 2  column 3  column 4  column 5  column 6\n",
       "0        85.0        92      45.0      27.0      31.0       0.0\n",
       "1        85.0        64       NaN       NaN      23.0       NaN\n",
       "2        86.0        54      33.0      16.0      54.0       0.0\n",
       "3        91.0        78      34.0      24.0      36.0       0.0\n",
       "4         NaN        55       NaN       NaN      17.0       0.0\n",
       "..        ...       ...       ...       ...       ...       ...\n",
       "340      91.0        54      25.0      22.0      35.0       4.0\n",
       "341      89.0        48       NaN       NaN      14.0       NaN\n",
       "342      85.0        52      22.0      23.0      34.0       4.0\n",
       "343      95.0        93      21.0       NaN       NaN       NaN\n",
       "344      91.0        93       NaN       NaN      37.0       NaN\n",
       "\n",
       "[345 rows x 6 columns]"
      ]
     },
     "execution_count": 43,
     "metadata": {},
     "output_type": "execute_result"
    }
   ],
   "source": [
    "column_names=['column 1','column 2','column 3','column 4','column 5','column 6']\n",
    "df=pd.read_excel(r'C:\\Users\\Jaber Shahnawaz\\Downloads\\Incomplete Datasets\\Incomplete Datasets Without Labels\\Bupa\\Bupa_AE_20.xlsx', header=None,names=column_names)\n",
    "df"
   ]
  },
  {
   "cell_type": "code",
   "execution_count": 44,
   "id": "585cc6f7",
   "metadata": {},
   "outputs": [
    {
     "name": "stdout",
     "output_type": "stream",
     "text": [
      "dataType\tcolumn_names\tNumber of Nulls\n",
      "float64\t\tcolumn 1\t22\n",
      "int64\t\tcolumn 2\t0\n",
      "float64\t\tcolumn 3\t44\n",
      "float64\t\tcolumn 4\t134\n",
      "float64\t\tcolumn 5\t90\n",
      "float64\t\tcolumn 6\t112\n"
     ]
    }
   ],
   "source": [
    "print('dataType',end='\\t')\n",
    "print('column_names',end='\\t')\n",
    "print('Number of Nulls')\n",
    "for name in column_names:\n",
    "    print(df[name].dtype,end='\\t\\t')\n",
    "    print(name,end='\\t')\n",
    "    print(df[name].isnull().sum())"
   ]
  },
  {
   "cell_type": "code",
   "execution_count": 45,
   "id": "75bd9c64",
   "metadata": {},
   "outputs": [
    {
     "data": {
      "text/html": [
       "<div>\n",
       "<style scoped>\n",
       "    .dataframe tbody tr th:only-of-type {\n",
       "        vertical-align: middle;\n",
       "    }\n",
       "\n",
       "    .dataframe tbody tr th {\n",
       "        vertical-align: top;\n",
       "    }\n",
       "\n",
       "    .dataframe thead th {\n",
       "        text-align: right;\n",
       "    }\n",
       "</style>\n",
       "<table border=\"1\" class=\"dataframe\">\n",
       "  <thead>\n",
       "    <tr style=\"text-align: right;\">\n",
       "      <th></th>\n",
       "      <th>column 1</th>\n",
       "      <th>column 2</th>\n",
       "      <th>column 3</th>\n",
       "      <th>column 4</th>\n",
       "      <th>column 5</th>\n",
       "      <th>column 6</th>\n",
       "    </tr>\n",
       "  </thead>\n",
       "  <tbody>\n",
       "    <tr>\n",
       "      <th>count</th>\n",
       "      <td>323.000000</td>\n",
       "      <td>345.000000</td>\n",
       "      <td>301.000000</td>\n",
       "      <td>211.000000</td>\n",
       "      <td>255.000000</td>\n",
       "      <td>233.000000</td>\n",
       "    </tr>\n",
       "    <tr>\n",
       "      <th>mean</th>\n",
       "      <td>90.170279</td>\n",
       "      <td>69.869565</td>\n",
       "      <td>30.604651</td>\n",
       "      <td>24.350711</td>\n",
       "      <td>37.227451</td>\n",
       "      <td>3.227468</td>\n",
       "    </tr>\n",
       "    <tr>\n",
       "      <th>std</th>\n",
       "      <td>4.449731</td>\n",
       "      <td>18.347670</td>\n",
       "      <td>18.919651</td>\n",
       "      <td>9.409227</td>\n",
       "      <td>36.842013</td>\n",
       "      <td>2.923555</td>\n",
       "    </tr>\n",
       "    <tr>\n",
       "      <th>min</th>\n",
       "      <td>65.000000</td>\n",
       "      <td>23.000000</td>\n",
       "      <td>4.000000</td>\n",
       "      <td>5.000000</td>\n",
       "      <td>5.000000</td>\n",
       "      <td>0.000000</td>\n",
       "    </tr>\n",
       "    <tr>\n",
       "      <th>25%</th>\n",
       "      <td>87.000000</td>\n",
       "      <td>57.000000</td>\n",
       "      <td>20.000000</td>\n",
       "      <td>19.000000</td>\n",
       "      <td>15.000000</td>\n",
       "      <td>0.500000</td>\n",
       "    </tr>\n",
       "    <tr>\n",
       "      <th>50%</th>\n",
       "      <td>90.000000</td>\n",
       "      <td>67.000000</td>\n",
       "      <td>26.000000</td>\n",
       "      <td>23.000000</td>\n",
       "      <td>24.000000</td>\n",
       "      <td>2.000000</td>\n",
       "    </tr>\n",
       "    <tr>\n",
       "      <th>75%</th>\n",
       "      <td>93.000000</td>\n",
       "      <td>80.000000</td>\n",
       "      <td>34.000000</td>\n",
       "      <td>27.000000</td>\n",
       "      <td>42.500000</td>\n",
       "      <td>5.000000</td>\n",
       "    </tr>\n",
       "    <tr>\n",
       "      <th>max</th>\n",
       "      <td>103.000000</td>\n",
       "      <td>138.000000</td>\n",
       "      <td>155.000000</td>\n",
       "      <td>82.000000</td>\n",
       "      <td>225.000000</td>\n",
       "      <td>16.000000</td>\n",
       "    </tr>\n",
       "  </tbody>\n",
       "</table>\n",
       "</div>"
      ],
      "text/plain": [
       "         column 1    column 2    column 3    column 4    column 5    column 6\n",
       "count  323.000000  345.000000  301.000000  211.000000  255.000000  233.000000\n",
       "mean    90.170279   69.869565   30.604651   24.350711   37.227451    3.227468\n",
       "std      4.449731   18.347670   18.919651    9.409227   36.842013    2.923555\n",
       "min     65.000000   23.000000    4.000000    5.000000    5.000000    0.000000\n",
       "25%     87.000000   57.000000   20.000000   19.000000   15.000000    0.500000\n",
       "50%     90.000000   67.000000   26.000000   23.000000   24.000000    2.000000\n",
       "75%     93.000000   80.000000   34.000000   27.000000   42.500000    5.000000\n",
       "max    103.000000  138.000000  155.000000   82.000000  225.000000   16.000000"
      ]
     },
     "execution_count": 45,
     "metadata": {},
     "output_type": "execute_result"
    }
   ],
   "source": [
    "df.describe()"
   ]
  },
  {
   "cell_type": "code",
   "execution_count": 46,
   "id": "56182ba1",
   "metadata": {
    "scrolled": false
   },
   "outputs": [
    {
     "data": {
      "text/plain": [
       "<AxesSubplot:>"
      ]
     },
     "execution_count": 46,
     "metadata": {},
     "output_type": "execute_result"
    },
    {
     "data": {
      "image/png": "[encoded data removed]",
      "text/plain": [
       "<Figure size 1080x360 with 1 Axes>"
      ]
     },
     "metadata": {
      "needs_background": "light"
     },
     "output_type": "display_data"
    }
   ],
   "source": [
    "df.boxplot(return_type='axes', figsize=(15,5))"
   ]
  },
  {
   "cell_type": "code",
   "execution_count": 47,
   "id": "856e9b6c",
   "metadata": {},
   "outputs": [
    {
     "data": {
      "text/plain": [
       "column 1    90.170279\n",
       "column 2    69.869565\n",
       "column 3    30.604651\n",
       "column 4    24.350711\n",
       "column 5    37.227451\n",
       "column 6     3.227468\n",
       "dtype: float64"
      ]
     },
     "execution_count": 47,
     "metadata": {},
     "output_type": "execute_result"
    }
   ],
   "source": [
    "df.mean()"
   ]
  },
  {
   "cell_type": "code",
   "execution_count": 48,
   "id": "18c4a9dd",
   "metadata": {},
   "outputs": [
    {
     "data": {
      "text/html": [
       "<div>\n",
       "<style scoped>\n",
       "    .dataframe tbody tr th:only-of-type {\n",
       "        vertical-align: middle;\n",
       "    }\n",
       "\n",
       "    .dataframe tbody tr th {\n",
       "        vertical-align: top;\n",
       "    }\n",
       "\n",
       "    .dataframe thead th {\n",
       "        text-align: right;\n",
       "    }\n",
       "</style>\n",
       "<table border=\"1\" class=\"dataframe\">\n",
       "  <thead>\n",
       "    <tr style=\"text-align: right;\">\n",
       "      <th></th>\n",
       "      <th>column 1</th>\n",
       "      <th>column 2</th>\n",
       "      <th>column 3</th>\n",
       "      <th>column 4</th>\n",
       "      <th>column 5</th>\n",
       "      <th>column 6</th>\n",
       "    </tr>\n",
       "  </thead>\n",
       "  <tbody>\n",
       "    <tr>\n",
       "      <th>column 1</th>\n",
       "      <td>1.000000</td>\n",
       "      <td>0.040580</td>\n",
       "      <td>0.127129</td>\n",
       "      <td>0.115800</td>\n",
       "      <td>0.183127</td>\n",
       "      <td>0.266539</td>\n",
       "    </tr>\n",
       "    <tr>\n",
       "      <th>column 2</th>\n",
       "      <td>0.040580</td>\n",
       "      <td>1.000000</td>\n",
       "      <td>0.043610</td>\n",
       "      <td>-0.016260</td>\n",
       "      <td>0.127573</td>\n",
       "      <td>-0.019902</td>\n",
       "    </tr>\n",
       "    <tr>\n",
       "      <th>column 3</th>\n",
       "      <td>0.127129</td>\n",
       "      <td>0.043610</td>\n",
       "      <td>1.000000</td>\n",
       "      <td>0.809136</td>\n",
       "      <td>0.502798</td>\n",
       "      <td>0.068654</td>\n",
       "    </tr>\n",
       "    <tr>\n",
       "      <th>column 4</th>\n",
       "      <td>0.115800</td>\n",
       "      <td>-0.016260</td>\n",
       "      <td>0.809136</td>\n",
       "      <td>1.000000</td>\n",
       "      <td>0.496779</td>\n",
       "      <td>0.198436</td>\n",
       "    </tr>\n",
       "    <tr>\n",
       "      <th>column 5</th>\n",
       "      <td>0.183127</td>\n",
       "      <td>0.127573</td>\n",
       "      <td>0.502798</td>\n",
       "      <td>0.496779</td>\n",
       "      <td>1.000000</td>\n",
       "      <td>0.305776</td>\n",
       "    </tr>\n",
       "    <tr>\n",
       "      <th>column 6</th>\n",
       "      <td>0.266539</td>\n",
       "      <td>-0.019902</td>\n",
       "      <td>0.068654</td>\n",
       "      <td>0.198436</td>\n",
       "      <td>0.305776</td>\n",
       "      <td>1.000000</td>\n",
       "    </tr>\n",
       "  </tbody>\n",
       "</table>\n",
       "</div>"
      ],
      "text/plain": [
       "          column 1  column 2  column 3  column 4  column 5  column 6\n",
       "column 1  1.000000  0.040580  0.127129  0.115800  0.183127  0.266539\n",
       "column 2  0.040580  1.000000  0.043610 -0.016260  0.127573 -0.019902\n",
       "column 3  0.127129  0.043610  1.000000  0.809136  0.502798  0.068654\n",
       "column 4  0.115800 -0.016260  0.809136  1.000000  0.496779  0.198436\n",
       "column 5  0.183127  0.127573  0.502798  0.496779  1.000000  0.305776\n",
       "column 6  0.266539 -0.019902  0.068654  0.198436  0.305776  1.000000"
      ]
     },
     "execution_count": 48,
     "metadata": {},
     "output_type": "execute_result"
    }
   ],
   "source": [
    "corr=df.corr()\n",
    "corr"
   ]
  },
  {
   "cell_type": "code",
   "execution_count": 49,
   "id": "ea626871",
   "metadata": {},
   "outputs": [],
   "source": [
    "tf.compat.v1.reset_default_graph()\n",
    "import tensorflow.compat.v1 as tf\n",
    "tf.reset_default_graph()\n"
   ]
  },
  {
   "cell_type": "code",
   "execution_count": 50,
   "id": "2830e6e4",
   "metadata": {
    "scrolled": false
   },
   "outputs": [
    {
     "name": "stdout",
     "output_type": "stream",
     "text": [
      "Size index: [6]\n",
      "\n",
      "Computation graph constructed\n",
      "\n",
      "Model initialised\n",
      "\n",
      "Epoch: 0 , loss: 241.08938743954613\n",
      "Epoch: 1 , loss: 239.7389664422898\n",
      "Epoch: 2 , loss: 242.6268107096354\n",
      "Epoch: 3 , loss: 240.44547889346168\n",
      "Epoch: 4 , loss: 240.58929806663878\n",
      "Epoch: 5 , loss: 241.64530872163317\n",
      "Epoch: 6 , loss: 241.8459269205729\n",
      "Epoch: 7 , loss: 241.74955168224517\n",
      "Epoch: 8 , loss: 243.03398786272322\n",
      "Epoch: 9 , loss: 241.45595368884858\n",
      "Epoch: 10 , loss: 243.33705575125558\n",
      "Epoch: 11 , loss: 242.35346112932478\n",
      "Epoch: 12 , loss: 242.96961248488654\n",
      "Epoch: 13 , loss: 242.41981288364954\n",
      "Epoch: 14 , loss: 241.8080524262928\n",
      "Epoch: 15 , loss: 241.86553955078125\n",
      "Epoch: 16 , loss: 241.51662263416108\n",
      "Epoch: 17 , loss: 239.50590006510416\n",
      "Epoch: 18 , loss: 236.98524693080358\n",
      "Epoch: 19 , loss: 228.36455717540923\n",
      "Epoch: 20 , loss: 216.0425727480934\n",
      "Epoch: 21 , loss: 205.3387196858724\n",
      "Epoch: 22 , loss: 199.59105718703498\n",
      "Epoch: 23 , loss: 189.56159464518228\n",
      "Epoch: 24 , loss: 185.30746241978235\n",
      "Epoch: 25 , loss: 183.70373753138952\n",
      "Epoch: 26 , loss: 180.10127694266183\n",
      "Epoch: 27 , loss: 183.25410752069382\n",
      "Epoch: 28 , loss: 174.17781866164435\n",
      "Epoch: 29 , loss: 174.44659569149925\n",
      "Epoch: 30 , loss: 177.42206537155877\n",
      "Epoch: 31 , loss: 176.2611127580915\n",
      "Epoch: 32 , loss: 174.67775689987909\n",
      "Epoch: 33 , loss: 179.4961170014881\n",
      "Epoch: 34 , loss: 169.59915597098214\n",
      "Epoch: 35 , loss: 169.78040640694755\n",
      "Epoch: 36 , loss: 170.93427167619978\n",
      "Epoch: 37 , loss: 171.85044134230841\n",
      "Epoch: 38 , loss: 174.40603855678015\n",
      "Epoch: 39 , loss: 169.51701136997767\n",
      "Epoch: 40 , loss: 168.06736028762091\n",
      "Epoch: 41 , loss: 167.03875223795572\n",
      "Epoch: 42 , loss: 172.30860501243956\n",
      "Epoch: 43 , loss: 169.85809471493675\n",
      "Epoch: 44 , loss: 170.20692589169457\n",
      "Epoch: 45 , loss: 170.24420819963728\n",
      "Epoch: 46 , loss: 176.6389399937221\n",
      "Epoch: 47 , loss: 166.65888141450426\n",
      "Epoch: 48 , loss: 171.69190906343005\n",
      "Epoch: 49 , loss: 175.15526399158296\n",
      "Epoch: 50 , loss: 171.6373087565104\n",
      "Epoch: 51 , loss: 180.1064656575521\n",
      "Epoch: 52 , loss: 170.85572451636904\n",
      "Epoch: 53 , loss: 177.90454610188803\n",
      "Epoch: 54 , loss: 174.6083526611328\n",
      "Epoch: 55 , loss: 176.66643851143974\n",
      "Epoch: 56 , loss: 175.67959594726562\n",
      "Epoch: 57 , loss: 182.44794355119978\n",
      "Epoch: 58 , loss: 179.16816856747582\n",
      "Epoch: 59 , loss: 174.75119309198288\n",
      "Epoch: 60 , loss: 181.6454874674479\n",
      "Epoch: 61 , loss: 171.88657161167689\n",
      "Epoch: 62 , loss: 172.46710386730376\n",
      "Epoch: 63 , loss: 182.06723167782738\n",
      "Epoch: 64 , loss: 180.14016614641463\n",
      "Epoch: 65 , loss: 183.13842192150298\n",
      "Epoch: 66 , loss: 185.74934605189733\n",
      "Epoch: 67 , loss: 181.05663553873697\n",
      "Epoch: 68 , loss: 177.36467924572173\n",
      "Epoch: 69 , loss: 178.41902451288132\n",
      "Epoch: 70 , loss: 177.91534133184524\n",
      "Epoch: 71 , loss: 180.63650658017113\n",
      "Epoch: 72 , loss: 187.5548567998977\n",
      "Epoch: 73 , loss: 181.84768894740515\n",
      "Epoch: 74 , loss: 179.7452189127604\n",
      "Epoch: 75 , loss: 184.49055698939733\n",
      "Epoch: 76 , loss: 189.27198646182106\n",
      "Epoch: 77 , loss: 192.07472301664808\n",
      "Epoch: 78 , loss: 195.52022806803384\n",
      "Epoch: 79 , loss: 185.81718953450522\n",
      "Epoch: 80 , loss: 188.0492902483259\n",
      "Epoch: 81 , loss: 191.69088381812685\n",
      "Epoch: 82 , loss: 192.62203252883185\n",
      "Epoch: 83 , loss: 193.2348930722191\n",
      "Epoch: 84 , loss: 191.56178356352308\n",
      "Epoch: 85 , loss: 191.66382998511904\n",
      "Epoch: 86 , loss: 196.02431306384858\n",
      "Epoch: 87 , loss: 194.8709745861235\n",
      "Epoch: 88 , loss: 199.9934270949591\n",
      "Epoch: 89 , loss: 194.68973359607514\n",
      "Epoch: 90 , loss: 201.42102777390252\n",
      "Epoch: 91 , loss: 196.66816057477678\n",
      "Epoch: 92 , loss: 195.50382196335565\n",
      "Epoch: 93 , loss: 195.212155296689\n",
      "Epoch: 94 , loss: 193.88228861490884\n",
      "Epoch: 95 , loss: 198.12723722912017\n",
      "Epoch: 96 , loss: 199.89608401343935\n",
      "Epoch: 97 , loss: 203.97214544387091\n",
      "Epoch: 98 , loss: 201.74131992885046\n",
      "Epoch: 99 , loss: 206.84388369605654\n",
      "Training complete. Saving file...\n",
      "Model saved in file: tmp/MIDAS\n"
     ]
    },
    {
     "data": {
      "text/plain": [
       "<MIDASpy.midas_base.Midas at 0x1d70dc92490>"
      ]
     },
     "execution_count": 50,
     "metadata": {},
     "output_type": "execute_result"
    }
   ],
   "source": [
    "imputer = md.Midas(layer_structure = [6,6+54,6+54+54,6+54+54+54,6+54+54+54+54,6+54+54+54,6+54+54,6+54,6], vae_layer = False, seed = 540)\n",
    "imputer.build_model(df)\n",
    "imputer.train_model(training_epochs=100)\n"
   ]
  },
  {
   "cell_type": "code",
   "execution_count": 51,
   "id": "6f0fef50",
   "metadata": {},
   "outputs": [
    {
     "name": "stdout",
     "output_type": "stream",
     "text": [
      "INFO:tensorflow:Restoring parameters from tmp/MIDAS\n",
      "Model restored.\n"
     ]
    },
    {
     "data": {
      "text/plain": [
       "(345, 6)"
      ]
     },
     "execution_count": 51,
     "metadata": {},
     "output_type": "execute_result"
    }
   ],
   "source": [
    "imputations=imputer.generate_samples(m=15).output_list\n",
    "np.shape(imputations[-1])"
   ]
  },
  {
   "cell_type": "code",
   "execution_count": 52,
   "id": "7842db79",
   "metadata": {
    "scrolled": true
   },
   "outputs": [
    {
     "data": {
      "text/plain": [
       "column 1    90.0\n",
       "column 2    47.0\n",
       "column 3    28.0\n",
       "column 4    15.0\n",
       "column 5    18.0\n",
       "column 6     0.5\n",
       "Name: 21, dtype: float64"
      ]
     },
     "execution_count": 52,
     "metadata": {},
     "output_type": "execute_result"
    }
   ],
   "source": [
    "new_df=imputations[-1]\n",
    "new_df.iloc[21,:]\n"
   ]
  },
  {
   "cell_type": "code",
   "execution_count": 53,
   "id": "a254172c",
   "metadata": {},
   "outputs": [],
   "source": [
    "complete_df=pd.read_excel(r'C:\\Users\\Jaber Shahnawaz\\Downloads\\Original Datasets (1)\\Original Datasets Without Labels\\Bupa.xlsx', header=None,names=column_names)"
   ]
  },
  {
   "cell_type": "code",
   "execution_count": 54,
   "id": "0a697afe",
   "metadata": {},
   "outputs": [
    {
     "data": {
      "text/html": [
       "<div>\n",
       "<style scoped>\n",
       "    .dataframe tbody tr th:only-of-type {\n",
       "        vertical-align: middle;\n",
       "    }\n",
       "\n",
       "    .dataframe tbody tr th {\n",
       "        vertical-align: top;\n",
       "    }\n",
       "\n",
       "    .dataframe thead th {\n",
       "        text-align: right;\n",
       "    }\n",
       "</style>\n",
       "<table border=\"1\" class=\"dataframe\">\n",
       "  <thead>\n",
       "    <tr style=\"text-align: right;\">\n",
       "      <th></th>\n",
       "      <th>column 1</th>\n",
       "      <th>column 2</th>\n",
       "      <th>column 3</th>\n",
       "      <th>column 4</th>\n",
       "      <th>column 5</th>\n",
       "      <th>column 6</th>\n",
       "    </tr>\n",
       "  </thead>\n",
       "  <tbody>\n",
       "    <tr>\n",
       "      <th>0</th>\n",
       "      <td>0.000000</td>\n",
       "      <td>0</td>\n",
       "      <td>0.000000</td>\n",
       "      <td>0.000000</td>\n",
       "      <td>0.00000</td>\n",
       "      <td>0.000000</td>\n",
       "    </tr>\n",
       "    <tr>\n",
       "      <th>1</th>\n",
       "      <td>0.000000</td>\n",
       "      <td>0</td>\n",
       "      <td>-45.491250</td>\n",
       "      <td>-20.511744</td>\n",
       "      <td>0.00000</td>\n",
       "      <td>2.330969</td>\n",
       "    </tr>\n",
       "    <tr>\n",
       "      <th>2</th>\n",
       "      <td>0.000000</td>\n",
       "      <td>0</td>\n",
       "      <td>0.000000</td>\n",
       "      <td>0.000000</td>\n",
       "      <td>0.00000</td>\n",
       "      <td>0.000000</td>\n",
       "    </tr>\n",
       "    <tr>\n",
       "      <th>3</th>\n",
       "      <td>0.000000</td>\n",
       "      <td>0</td>\n",
       "      <td>0.000000</td>\n",
       "      <td>0.000000</td>\n",
       "      <td>0.00000</td>\n",
       "      <td>0.000000</td>\n",
       "    </tr>\n",
       "    <tr>\n",
       "      <th>4</th>\n",
       "      <td>-84.997232</td>\n",
       "      <td>0</td>\n",
       "      <td>-4.131068</td>\n",
       "      <td>-9.419639</td>\n",
       "      <td>0.00000</td>\n",
       "      <td>0.000000</td>\n",
       "    </tr>\n",
       "    <tr>\n",
       "      <th>...</th>\n",
       "      <td>...</td>\n",
       "      <td>...</td>\n",
       "      <td>...</td>\n",
       "      <td>...</td>\n",
       "      <td>...</td>\n",
       "      <td>...</td>\n",
       "    </tr>\n",
       "    <tr>\n",
       "      <th>340</th>\n",
       "      <td>0.000000</td>\n",
       "      <td>0</td>\n",
       "      <td>0.000000</td>\n",
       "      <td>0.000000</td>\n",
       "      <td>0.00000</td>\n",
       "      <td>0.000000</td>\n",
       "    </tr>\n",
       "    <tr>\n",
       "      <th>341</th>\n",
       "      <td>0.000000</td>\n",
       "      <td>0</td>\n",
       "      <td>-31.813992</td>\n",
       "      <td>-21.813145</td>\n",
       "      <td>0.00000</td>\n",
       "      <td>-3.858961</td>\n",
       "    </tr>\n",
       "    <tr>\n",
       "      <th>342</th>\n",
       "      <td>0.000000</td>\n",
       "      <td>0</td>\n",
       "      <td>0.000000</td>\n",
       "      <td>0.000000</td>\n",
       "      <td>0.00000</td>\n",
       "      <td>0.000000</td>\n",
       "    </tr>\n",
       "    <tr>\n",
       "      <th>343</th>\n",
       "      <td>0.000000</td>\n",
       "      <td>0</td>\n",
       "      <td>0.000000</td>\n",
       "      <td>-20.197202</td>\n",
       "      <td>-39.21357</td>\n",
       "      <td>-4.575824</td>\n",
       "    </tr>\n",
       "    <tr>\n",
       "      <th>344</th>\n",
       "      <td>0.000000</td>\n",
       "      <td>0</td>\n",
       "      <td>-34.888231</td>\n",
       "      <td>-33.887974</td>\n",
       "      <td>0.00000</td>\n",
       "      <td>-9.914368</td>\n",
       "    </tr>\n",
       "  </tbody>\n",
       "</table>\n",
       "<p>345 rows × 6 columns</p>\n",
       "</div>"
      ],
      "text/plain": [
       "      column 1  column 2   column 3   column 4  column 5  column 6\n",
       "0     0.000000         0   0.000000   0.000000   0.00000  0.000000\n",
       "1     0.000000         0 -45.491250 -20.511744   0.00000  2.330969\n",
       "2     0.000000         0   0.000000   0.000000   0.00000  0.000000\n",
       "3     0.000000         0   0.000000   0.000000   0.00000  0.000000\n",
       "4   -84.997232         0  -4.131068  -9.419639   0.00000  0.000000\n",
       "..         ...       ...        ...        ...       ...       ...\n",
       "340   0.000000         0   0.000000   0.000000   0.00000  0.000000\n",
       "341   0.000000         0 -31.813992 -21.813145   0.00000 -3.858961\n",
       "342   0.000000         0   0.000000   0.000000   0.00000  0.000000\n",
       "343   0.000000         0   0.000000 -20.197202 -39.21357 -4.575824\n",
       "344   0.000000         0 -34.888231 -33.887974   0.00000 -9.914368\n",
       "\n",
       "[345 rows x 6 columns]"
      ]
     },
     "execution_count": 54,
     "metadata": {},
     "output_type": "execute_result"
    }
   ],
   "source": [
    "new_df-complete_df"
   ]
  },
  {
   "cell_type": "markdown",
   "id": "b4a4024f",
   "metadata": {},
   "source": [
    "Calculating NRMSE Value"
   ]
  },
  {
   "cell_type": "code",
   "execution_count": 55,
   "id": "b0a1ddd7",
   "metadata": {},
   "outputs": [],
   "source": [
    "\n",
    "def Sum_new(sum):\n",
    "    summ=0\n",
    "    for n in sum:\n",
    "        summ=summ+n\n",
    "    return (summ)\n",
    "\n"
   ]
  },
  {
   "cell_type": "code",
   "execution_count": 56,
   "id": "335450db",
   "metadata": {},
   "outputs": [],
   "source": [
    "def Frobenius_norm(number):\n",
    "    num=number\n",
    "    abs_val=num.abs()\n",
    "    power_abs=abs_val**2\n",
    "    sum1=power_abs.sum()\n",
    "    total_sum=Sum_new(sum1)\n",
    "    return(math.sqrt(total_sum))"
   ]
  },
  {
   "cell_type": "code",
   "execution_count": 57,
   "id": "28857c9a",
   "metadata": {},
   "outputs": [
    {
     "data": {
      "text/plain": [
       "737.4812945958244"
      ]
     },
     "execution_count": 57,
     "metadata": {},
     "output_type": "execute_result"
    }
   ],
   "source": [
    "numerator=Frobenius_norm(new_df-complete_df)\n",
    "numerator"
   ]
  },
  {
   "cell_type": "code",
   "execution_count": 58,
   "id": "53a8606f",
   "metadata": {},
   "outputs": [
    {
     "data": {
      "text/plain": [
       "2519.762091944396"
      ]
     },
     "execution_count": 58,
     "metadata": {},
     "output_type": "execute_result"
    }
   ],
   "source": [
    "denominator=Frobenius_norm(complete_df)\n",
    "denominator"
   ]
  },
  {
   "cell_type": "code",
   "execution_count": 59,
   "id": "998aacba",
   "metadata": {},
   "outputs": [
    {
     "data": {
      "text/plain": [
       "0.29267893860040595"
      ]
     },
     "execution_count": 59,
     "metadata": {},
     "output_type": "execute_result"
    }
   ],
   "source": [
    "NRMS=numerator/denominator\n",
    "NRMS\n"
   ]
  },
  {
   "cell_type": "code",
   "execution_count": 30,
   "id": "84845123",
   "metadata": {},
   "outputs": [
    {
     "data": {
      "text/plain": [
       "column 1    86.000000\n",
       "column 2    54.000000\n",
       "column 3    20.000000\n",
       "column 4     0.036757\n",
       "column 5     0.036862\n",
       "column 6     0.037731\n",
       "Name: 66, dtype: float64"
      ]
     },
     "execution_count": 30,
     "metadata": {},
     "output_type": "execute_result"
    }
   ],
   "source": [
    "new_df.iloc[66,:]"
   ]
  },
  {
   "cell_type": "code",
   "execution_count": 31,
   "id": "bfe943bf",
   "metadata": {},
   "outputs": [
    {
     "data": {
      "text/html": [
       "<div>\n",
       "<style scoped>\n",
       "    .dataframe tbody tr th:only-of-type {\n",
       "        vertical-align: middle;\n",
       "    }\n",
       "\n",
       "    .dataframe tbody tr th {\n",
       "        vertical-align: top;\n",
       "    }\n",
       "\n",
       "    .dataframe thead th {\n",
       "        text-align: right;\n",
       "    }\n",
       "</style>\n",
       "<table border=\"1\" class=\"dataframe\">\n",
       "  <thead>\n",
       "    <tr style=\"text-align: right;\">\n",
       "      <th></th>\n",
       "      <th>column 1</th>\n",
       "      <th>column 2</th>\n",
       "      <th>column 3</th>\n",
       "      <th>column 4</th>\n",
       "      <th>column 5</th>\n",
       "      <th>column 6</th>\n",
       "    </tr>\n",
       "  </thead>\n",
       "  <tbody>\n",
       "    <tr>\n",
       "      <th>0</th>\n",
       "      <td>85.000000</td>\n",
       "      <td>92</td>\n",
       "      <td>45.000000</td>\n",
       "      <td>27.000000</td>\n",
       "      <td>31.000000</td>\n",
       "      <td>0.000000</td>\n",
       "    </tr>\n",
       "    <tr>\n",
       "      <th>1</th>\n",
       "      <td>85.000000</td>\n",
       "      <td>64</td>\n",
       "      <td>0.039643</td>\n",
       "      <td>0.038691</td>\n",
       "      <td>23.000000</td>\n",
       "      <td>0.039779</td>\n",
       "    </tr>\n",
       "    <tr>\n",
       "      <th>2</th>\n",
       "      <td>86.000000</td>\n",
       "      <td>54</td>\n",
       "      <td>33.000000</td>\n",
       "      <td>16.000000</td>\n",
       "      <td>54.000000</td>\n",
       "      <td>0.000000</td>\n",
       "    </tr>\n",
       "    <tr>\n",
       "      <th>3</th>\n",
       "      <td>91.000000</td>\n",
       "      <td>78</td>\n",
       "      <td>34.000000</td>\n",
       "      <td>24.000000</td>\n",
       "      <td>36.000000</td>\n",
       "      <td>0.000000</td>\n",
       "    </tr>\n",
       "    <tr>\n",
       "      <th>4</th>\n",
       "      <td>0.035614</td>\n",
       "      <td>55</td>\n",
       "      <td>0.037632</td>\n",
       "      <td>0.036715</td>\n",
       "      <td>17.000000</td>\n",
       "      <td>0.000000</td>\n",
       "    </tr>\n",
       "    <tr>\n",
       "      <th>...</th>\n",
       "      <td>...</td>\n",
       "      <td>...</td>\n",
       "      <td>...</td>\n",
       "      <td>...</td>\n",
       "      <td>...</td>\n",
       "      <td>...</td>\n",
       "    </tr>\n",
       "    <tr>\n",
       "      <th>340</th>\n",
       "      <td>91.000000</td>\n",
       "      <td>54</td>\n",
       "      <td>25.000000</td>\n",
       "      <td>22.000000</td>\n",
       "      <td>35.000000</td>\n",
       "      <td>4.000000</td>\n",
       "    </tr>\n",
       "    <tr>\n",
       "      <th>341</th>\n",
       "      <td>89.000000</td>\n",
       "      <td>48</td>\n",
       "      <td>0.039467</td>\n",
       "      <td>0.038527</td>\n",
       "      <td>14.000000</td>\n",
       "      <td>0.039190</td>\n",
       "    </tr>\n",
       "    <tr>\n",
       "      <th>342</th>\n",
       "      <td>85.000000</td>\n",
       "      <td>52</td>\n",
       "      <td>22.000000</td>\n",
       "      <td>23.000000</td>\n",
       "      <td>34.000000</td>\n",
       "      <td>4.000000</td>\n",
       "    </tr>\n",
       "    <tr>\n",
       "      <th>343</th>\n",
       "      <td>95.000000</td>\n",
       "      <td>93</td>\n",
       "      <td>21.000000</td>\n",
       "      <td>0.039627</td>\n",
       "      <td>0.039765</td>\n",
       "      <td>0.040398</td>\n",
       "    </tr>\n",
       "    <tr>\n",
       "      <th>344</th>\n",
       "      <td>91.000000</td>\n",
       "      <td>93</td>\n",
       "      <td>0.039014</td>\n",
       "      <td>0.038108</td>\n",
       "      <td>37.000000</td>\n",
       "      <td>0.038967</td>\n",
       "    </tr>\n",
       "  </tbody>\n",
       "</table>\n",
       "<p>345 rows × 6 columns</p>\n",
       "</div>"
      ],
      "text/plain": [
       "      column 1  column 2   column 3   column 4   column 5  column 6\n",
       "0    85.000000        92  45.000000  27.000000  31.000000  0.000000\n",
       "1    85.000000        64   0.039643   0.038691  23.000000  0.039779\n",
       "2    86.000000        54  33.000000  16.000000  54.000000  0.000000\n",
       "3    91.000000        78  34.000000  24.000000  36.000000  0.000000\n",
       "4     0.035614        55   0.037632   0.036715  17.000000  0.000000\n",
       "..         ...       ...        ...        ...        ...       ...\n",
       "340  91.000000        54  25.000000  22.000000  35.000000  4.000000\n",
       "341  89.000000        48   0.039467   0.038527  14.000000  0.039190\n",
       "342  85.000000        52  22.000000  23.000000  34.000000  4.000000\n",
       "343  95.000000        93  21.000000   0.039627   0.039765  0.040398\n",
       "344  91.000000        93   0.039014   0.038108  37.000000  0.038967\n",
       "\n",
       "[345 rows x 6 columns]"
      ]
     },
     "execution_count": 31,
     "metadata": {},
     "output_type": "execute_result"
    }
   ],
   "source": [
    "imputations[-1]\n"
   ]
  },
  {
   "cell_type": "code",
   "execution_count": 32,
   "id": "1c8a41f8",
   "metadata": {},
   "outputs": [],
   "source": [
    "imputations[-1].to_excel(\"Bupa_AE_20(imp).xlsx\", index=False, header=False)"
   ]
  },
  {
   "cell_type": "code",
   "execution_count": null,
   "id": "ebf2f6d0",
   "metadata": {},
   "outputs": [],
   "source": []
  },
  {
   "cell_type": "code",
   "execution_count": null,
   "id": "846bac8d",
   "metadata": {},
   "outputs": [],
   "source": []
  }
 ],
 "metadata": {
  "kernelspec": {
   "display_name": "Python 3 (ipykernel)",
   "language": "python",
   "name": "python3"
  },
  "language_info": {
   "codemirror_mode": {
    "name": "ipython",
    "version": 3
   },
   "file_extension": ".py",
   "mimetype": "text/x-python",
   "name": "python",
   "nbconvert_exporter": "python",
   "pygments_lexer": "ipython3",
   "version": "3.9.7"
  }
 },
 "nbformat": 4,
 "nbformat_minor": 5
}
