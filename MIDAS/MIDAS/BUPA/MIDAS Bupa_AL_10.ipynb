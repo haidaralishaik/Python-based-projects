{
 "cells": [
  {
   "cell_type": "code",
   "execution_count": 1,
   "id": "48128b60",
   "metadata": {},
   "outputs": [],
   "source": [
    "from sklearn.preprocessing import MinMaxScaler\n",
    "import numpy as np\n",
    "import pandas as pd\n",
    "import tensorflow as tf\n",
    "import MIDASpy as md\n",
    "import math\n"
   ]
  },
  {
   "cell_type": "code",
   "execution_count": 2,
   "id": "f638e7f0",
   "metadata": {
    "scrolled": false
   },
   "outputs": [
    {
     "data": {
      "text/html": [
       "<div>\n",
       "<style scoped>\n",
       "    .dataframe tbody tr th:only-of-type {\n",
       "        vertical-align: middle;\n",
       "    }\n",
       "\n",
       "    .dataframe tbody tr th {\n",
       "        vertical-align: top;\n",
       "    }\n",
       "\n",
       "    .dataframe thead th {\n",
       "        text-align: right;\n",
       "    }\n",
       "</style>\n",
       "<table border=\"1\" class=\"dataframe\">\n",
       "  <thead>\n",
       "    <tr style=\"text-align: right;\">\n",
       "      <th></th>\n",
       "      <th>column 1</th>\n",
       "      <th>column 2</th>\n",
       "      <th>column 3</th>\n",
       "      <th>column 4</th>\n",
       "      <th>column 5</th>\n",
       "      <th>column 6</th>\n",
       "    </tr>\n",
       "  </thead>\n",
       "  <tbody>\n",
       "    <tr>\n",
       "      <th>0</th>\n",
       "      <td>85</td>\n",
       "      <td>92.0</td>\n",
       "      <td>45.0</td>\n",
       "      <td>27.0</td>\n",
       "      <td>31.0</td>\n",
       "      <td>0.0</td>\n",
       "    </tr>\n",
       "    <tr>\n",
       "      <th>1</th>\n",
       "      <td>85</td>\n",
       "      <td>64.0</td>\n",
       "      <td>59.0</td>\n",
       "      <td>32.0</td>\n",
       "      <td>23.0</td>\n",
       "      <td>0.0</td>\n",
       "    </tr>\n",
       "    <tr>\n",
       "      <th>2</th>\n",
       "      <td>86</td>\n",
       "      <td>54.0</td>\n",
       "      <td>33.0</td>\n",
       "      <td>16.0</td>\n",
       "      <td>54.0</td>\n",
       "      <td>0.0</td>\n",
       "    </tr>\n",
       "    <tr>\n",
       "      <th>3</th>\n",
       "      <td>91</td>\n",
       "      <td>78.0</td>\n",
       "      <td>34.0</td>\n",
       "      <td>24.0</td>\n",
       "      <td>36.0</td>\n",
       "      <td>0.0</td>\n",
       "    </tr>\n",
       "    <tr>\n",
       "      <th>4</th>\n",
       "      <td>98</td>\n",
       "      <td>55.0</td>\n",
       "      <td>NaN</td>\n",
       "      <td>17.0</td>\n",
       "      <td>NaN</td>\n",
       "      <td>NaN</td>\n",
       "    </tr>\n",
       "    <tr>\n",
       "      <th>...</th>\n",
       "      <td>...</td>\n",
       "      <td>...</td>\n",
       "      <td>...</td>\n",
       "      <td>...</td>\n",
       "      <td>...</td>\n",
       "      <td>...</td>\n",
       "    </tr>\n",
       "    <tr>\n",
       "      <th>340</th>\n",
       "      <td>91</td>\n",
       "      <td>54.0</td>\n",
       "      <td>25.0</td>\n",
       "      <td>22.0</td>\n",
       "      <td>35.0</td>\n",
       "      <td>4.0</td>\n",
       "    </tr>\n",
       "    <tr>\n",
       "      <th>341</th>\n",
       "      <td>89</td>\n",
       "      <td>48.0</td>\n",
       "      <td>32.0</td>\n",
       "      <td>22.0</td>\n",
       "      <td>14.0</td>\n",
       "      <td>4.0</td>\n",
       "    </tr>\n",
       "    <tr>\n",
       "      <th>342</th>\n",
       "      <td>85</td>\n",
       "      <td>52.0</td>\n",
       "      <td>22.0</td>\n",
       "      <td>23.0</td>\n",
       "      <td>34.0</td>\n",
       "      <td>4.0</td>\n",
       "    </tr>\n",
       "    <tr>\n",
       "      <th>343</th>\n",
       "      <td>95</td>\n",
       "      <td>93.0</td>\n",
       "      <td>21.0</td>\n",
       "      <td>27.0</td>\n",
       "      <td>47.0</td>\n",
       "      <td>6.0</td>\n",
       "    </tr>\n",
       "    <tr>\n",
       "      <th>344</th>\n",
       "      <td>91</td>\n",
       "      <td>NaN</td>\n",
       "      <td>NaN</td>\n",
       "      <td>34.0</td>\n",
       "      <td>NaN</td>\n",
       "      <td>10.0</td>\n",
       "    </tr>\n",
       "  </tbody>\n",
       "</table>\n",
       "<p>345 rows × 6 columns</p>\n",
       "</div>"
      ],
      "text/plain": [
       "     column 1  column 2  column 3  column 4  column 5  column 6\n",
       "0          85      92.0      45.0      27.0      31.0       0.0\n",
       "1          85      64.0      59.0      32.0      23.0       0.0\n",
       "2          86      54.0      33.0      16.0      54.0       0.0\n",
       "3          91      78.0      34.0      24.0      36.0       0.0\n",
       "4          98      55.0       NaN      17.0       NaN       NaN\n",
       "..        ...       ...       ...       ...       ...       ...\n",
       "340        91      54.0      25.0      22.0      35.0       4.0\n",
       "341        89      48.0      32.0      22.0      14.0       4.0\n",
       "342        85      52.0      22.0      23.0      34.0       4.0\n",
       "343        95      93.0      21.0      27.0      47.0       6.0\n",
       "344        91       NaN       NaN      34.0       NaN      10.0\n",
       "\n",
       "[345 rows x 6 columns]"
      ]
     },
     "execution_count": 2,
     "metadata": {},
     "output_type": "execute_result"
    }
   ],
   "source": [
    "column_names=['column 1','column 2','column 3','column 4','column 5','column 6']\n",
    "df=pd.read_excel(r'C:\\Users\\Jaber Shahnawaz\\Downloads\\Incomplete Datasets\\Incomplete Datasets Without Labels\\Bupa\\Bupa_AL_10.xlsx', header=None,names=column_names)\n",
    "df"
   ]
  },
  {
   "cell_type": "code",
   "execution_count": 3,
   "id": "585cc6f7",
   "metadata": {},
   "outputs": [
    {
     "name": "stdout",
     "output_type": "stream",
     "text": [
      "dataType\tcolumn_names\tNumber of Nulls\n",
      "int64\t\tcolumn 1\t0\n",
      "float64\t\tcolumn 2\t11\n",
      "float64\t\tcolumn 3\t45\n",
      "float64\t\tcolumn 4\t45\n",
      "float64\t\tcolumn 5\t44\n",
      "float64\t\tcolumn 6\t56\n"
     ]
    }
   ],
   "source": [
    "print('dataType',end='\\t')\n",
    "print('column_names',end='\\t')\n",
    "print('Number of Nulls')\n",
    "for name in column_names:\n",
    "    print(df[name].dtype,end='\\t\\t')\n",
    "    print(name,end='\\t')\n",
    "    print(df[name].isnull().sum())"
   ]
  },
  {
   "cell_type": "code",
   "execution_count": 4,
   "id": "75bd9c64",
   "metadata": {},
   "outputs": [
    {
     "data": {
      "text/html": [
       "<div>\n",
       "<style scoped>\n",
       "    .dataframe tbody tr th:only-of-type {\n",
       "        vertical-align: middle;\n",
       "    }\n",
       "\n",
       "    .dataframe tbody tr th {\n",
       "        vertical-align: top;\n",
       "    }\n",
       "\n",
       "    .dataframe thead th {\n",
       "        text-align: right;\n",
       "    }\n",
       "</style>\n",
       "<table border=\"1\" class=\"dataframe\">\n",
       "  <thead>\n",
       "    <tr style=\"text-align: right;\">\n",
       "      <th></th>\n",
       "      <th>column 1</th>\n",
       "      <th>column 2</th>\n",
       "      <th>column 3</th>\n",
       "      <th>column 4</th>\n",
       "      <th>column 5</th>\n",
       "      <th>column 6</th>\n",
       "    </tr>\n",
       "  </thead>\n",
       "  <tbody>\n",
       "    <tr>\n",
       "      <th>count</th>\n",
       "      <td>345.000000</td>\n",
       "      <td>334.000000</td>\n",
       "      <td>300.000000</td>\n",
       "      <td>300.000000</td>\n",
       "      <td>301.000000</td>\n",
       "      <td>289.000000</td>\n",
       "    </tr>\n",
       "    <tr>\n",
       "      <th>mean</th>\n",
       "      <td>90.159420</td>\n",
       "      <td>69.802395</td>\n",
       "      <td>29.813333</td>\n",
       "      <td>24.320000</td>\n",
       "      <td>38.378738</td>\n",
       "      <td>3.340830</td>\n",
       "    </tr>\n",
       "    <tr>\n",
       "      <th>std</th>\n",
       "      <td>4.448096</td>\n",
       "      <td>18.362463</td>\n",
       "      <td>19.492692</td>\n",
       "      <td>9.417354</td>\n",
       "      <td>40.033187</td>\n",
       "      <td>3.125654</td>\n",
       "    </tr>\n",
       "    <tr>\n",
       "      <th>min</th>\n",
       "      <td>65.000000</td>\n",
       "      <td>23.000000</td>\n",
       "      <td>4.000000</td>\n",
       "      <td>5.000000</td>\n",
       "      <td>5.000000</td>\n",
       "      <td>0.000000</td>\n",
       "    </tr>\n",
       "    <tr>\n",
       "      <th>25%</th>\n",
       "      <td>87.000000</td>\n",
       "      <td>57.000000</td>\n",
       "      <td>19.000000</td>\n",
       "      <td>19.000000</td>\n",
       "      <td>15.000000</td>\n",
       "      <td>0.500000</td>\n",
       "    </tr>\n",
       "    <tr>\n",
       "      <th>50%</th>\n",
       "      <td>90.000000</td>\n",
       "      <td>67.000000</td>\n",
       "      <td>26.000000</td>\n",
       "      <td>23.000000</td>\n",
       "      <td>24.000000</td>\n",
       "      <td>3.000000</td>\n",
       "    </tr>\n",
       "    <tr>\n",
       "      <th>75%</th>\n",
       "      <td>93.000000</td>\n",
       "      <td>79.750000</td>\n",
       "      <td>33.000000</td>\n",
       "      <td>27.000000</td>\n",
       "      <td>44.000000</td>\n",
       "      <td>5.000000</td>\n",
       "    </tr>\n",
       "    <tr>\n",
       "      <th>max</th>\n",
       "      <td>103.000000</td>\n",
       "      <td>138.000000</td>\n",
       "      <td>155.000000</td>\n",
       "      <td>82.000000</td>\n",
       "      <td>297.000000</td>\n",
       "      <td>20.000000</td>\n",
       "    </tr>\n",
       "  </tbody>\n",
       "</table>\n",
       "</div>"
      ],
      "text/plain": [
       "         column 1    column 2    column 3    column 4    column 5    column 6\n",
       "count  345.000000  334.000000  300.000000  300.000000  301.000000  289.000000\n",
       "mean    90.159420   69.802395   29.813333   24.320000   38.378738    3.340830\n",
       "std      4.448096   18.362463   19.492692    9.417354   40.033187    3.125654\n",
       "min     65.000000   23.000000    4.000000    5.000000    5.000000    0.000000\n",
       "25%     87.000000   57.000000   19.000000   19.000000   15.000000    0.500000\n",
       "50%     90.000000   67.000000   26.000000   23.000000   24.000000    3.000000\n",
       "75%     93.000000   79.750000   33.000000   27.000000   44.000000    5.000000\n",
       "max    103.000000  138.000000  155.000000   82.000000  297.000000   20.000000"
      ]
     },
     "execution_count": 4,
     "metadata": {},
     "output_type": "execute_result"
    }
   ],
   "source": [
    "df.describe()"
   ]
  },
  {
   "cell_type": "code",
   "execution_count": 5,
   "id": "56182ba1",
   "metadata": {
    "scrolled": false
   },
   "outputs": [
    {
     "data": {
      "text/plain": [
       "<AxesSubplot:>"
      ]
     },
     "execution_count": 5,
     "metadata": {},
     "output_type": "execute_result"
    },
    {
     "data": {
      "image/png": "[encoded data removed]",
      "text/plain": [
       "<Figure size 1080x360 with 1 Axes>"
      ]
     },
     "metadata": {
      "needs_background": "light"
     },
     "output_type": "display_data"
    }
   ],
   "source": [
    "df.boxplot(return_type='axes', figsize=(15,5))"
   ]
  },
  {
   "cell_type": "code",
   "execution_count": 6,
   "id": "856e9b6c",
   "metadata": {},
   "outputs": [
    {
     "data": {
      "text/plain": [
       "column 1    90.159420\n",
       "column 2    69.802395\n",
       "column 3    29.813333\n",
       "column 4    24.320000\n",
       "column 5    38.378738\n",
       "column 6     3.340830\n",
       "dtype: float64"
      ]
     },
     "execution_count": 6,
     "metadata": {},
     "output_type": "execute_result"
    }
   ],
   "source": [
    "df.mean()"
   ]
  },
  {
   "cell_type": "code",
   "execution_count": 7,
   "id": "18c4a9dd",
   "metadata": {},
   "outputs": [
    {
     "data": {
      "text/html": [
       "<div>\n",
       "<style scoped>\n",
       "    .dataframe tbody tr th:only-of-type {\n",
       "        vertical-align: middle;\n",
       "    }\n",
       "\n",
       "    .dataframe tbody tr th {\n",
       "        vertical-align: top;\n",
       "    }\n",
       "\n",
       "    .dataframe thead th {\n",
       "        text-align: right;\n",
       "    }\n",
       "</style>\n",
       "<table border=\"1\" class=\"dataframe\">\n",
       "  <thead>\n",
       "    <tr style=\"text-align: right;\">\n",
       "      <th></th>\n",
       "      <th>column 1</th>\n",
       "      <th>column 2</th>\n",
       "      <th>column 3</th>\n",
       "      <th>column 4</th>\n",
       "      <th>column 5</th>\n",
       "      <th>column 6</th>\n",
       "    </tr>\n",
       "  </thead>\n",
       "  <tbody>\n",
       "    <tr>\n",
       "      <th>column 1</th>\n",
       "      <td>1.000000</td>\n",
       "      <td>0.033218</td>\n",
       "      <td>0.106637</td>\n",
       "      <td>0.136654</td>\n",
       "      <td>0.207532</td>\n",
       "      <td>0.292427</td>\n",
       "    </tr>\n",
       "    <tr>\n",
       "      <th>column 2</th>\n",
       "      <td>0.033218</td>\n",
       "      <td>1.000000</td>\n",
       "      <td>0.033577</td>\n",
       "      <td>0.108316</td>\n",
       "      <td>0.122485</td>\n",
       "      <td>0.097406</td>\n",
       "    </tr>\n",
       "    <tr>\n",
       "      <th>column 3</th>\n",
       "      <td>0.106637</td>\n",
       "      <td>0.033577</td>\n",
       "      <td>1.000000</td>\n",
       "      <td>0.705465</td>\n",
       "      <td>0.442531</td>\n",
       "      <td>0.176434</td>\n",
       "    </tr>\n",
       "    <tr>\n",
       "      <th>column 4</th>\n",
       "      <td>0.136654</td>\n",
       "      <td>0.108316</td>\n",
       "      <td>0.705465</td>\n",
       "      <td>1.000000</td>\n",
       "      <td>0.483395</td>\n",
       "      <td>0.260784</td>\n",
       "    </tr>\n",
       "    <tr>\n",
       "      <th>column 5</th>\n",
       "      <td>0.207532</td>\n",
       "      <td>0.122485</td>\n",
       "      <td>0.442531</td>\n",
       "      <td>0.483395</td>\n",
       "      <td>1.000000</td>\n",
       "      <td>0.276331</td>\n",
       "    </tr>\n",
       "    <tr>\n",
       "      <th>column 6</th>\n",
       "      <td>0.292427</td>\n",
       "      <td>0.097406</td>\n",
       "      <td>0.176434</td>\n",
       "      <td>0.260784</td>\n",
       "      <td>0.276331</td>\n",
       "      <td>1.000000</td>\n",
       "    </tr>\n",
       "  </tbody>\n",
       "</table>\n",
       "</div>"
      ],
      "text/plain": [
       "          column 1  column 2  column 3  column 4  column 5  column 6\n",
       "column 1  1.000000  0.033218  0.106637  0.136654  0.207532  0.292427\n",
       "column 2  0.033218  1.000000  0.033577  0.108316  0.122485  0.097406\n",
       "column 3  0.106637  0.033577  1.000000  0.705465  0.442531  0.176434\n",
       "column 4  0.136654  0.108316  0.705465  1.000000  0.483395  0.260784\n",
       "column 5  0.207532  0.122485  0.442531  0.483395  1.000000  0.276331\n",
       "column 6  0.292427  0.097406  0.176434  0.260784  0.276331  1.000000"
      ]
     },
     "execution_count": 7,
     "metadata": {},
     "output_type": "execute_result"
    }
   ],
   "source": [
    "corr=df.corr()\n",
    "corr"
   ]
  },
  {
   "cell_type": "code",
   "execution_count": 8,
   "id": "ea626871",
   "metadata": {},
   "outputs": [],
   "source": [
    "tf.compat.v1.reset_default_graph()\n",
    "import tensorflow.compat.v1 as tf\n",
    "tf.reset_default_graph()\n"
   ]
  },
  {
   "cell_type": "code",
   "execution_count": 10,
   "id": "2830e6e4",
   "metadata": {
    "scrolled": false
   },
   "outputs": [
    {
     "name": "stdout",
     "output_type": "stream",
     "text": [
      "Size index: [6]\n",
      "\n",
      "Computation graph constructed\n",
      "\n",
      "Model initialised\n",
      "\n",
      "Epoch: 0 , loss: 262.77395920526413\n",
      "Epoch: 1 , loss: 262.66639709472656\n",
      "Epoch: 2 , loss: 261.52527509416853\n",
      "Epoch: 3 , loss: 262.3902507963635\n",
      "Epoch: 4 , loss: 263.0023709251767\n",
      "Epoch: 5 , loss: 262.0187363397507\n",
      "Epoch: 6 , loss: 261.6270047142392\n",
      "Epoch: 7 , loss: 260.92862301781065\n",
      "Epoch: 8 , loss: 261.42393275669644\n",
      "Epoch: 9 , loss: 262.0557505289714\n",
      "Epoch: 10 , loss: 263.3830333891369\n",
      "Epoch: 11 , loss: 262.07828630719865\n",
      "Epoch: 12 , loss: 260.4781901041667\n",
      "Epoch: 13 , loss: 259.87293425060454\n",
      "Epoch: 14 , loss: 261.9863797142392\n",
      "Epoch: 15 , loss: 260.5598435174851\n",
      "Epoch: 16 , loss: 262.16307213192897\n",
      "Epoch: 17 , loss: 261.57582092285156\n",
      "Epoch: 18 , loss: 261.51773143949964\n",
      "Epoch: 19 , loss: 260.49661327543714\n",
      "Epoch: 20 , loss: 260.6152053106399\n",
      "Epoch: 21 , loss: 260.73773484002976\n",
      "Epoch: 22 , loss: 257.4377935500372\n",
      "Epoch: 23 , loss: 252.95457603817894\n",
      "Epoch: 24 , loss: 241.47158668154762\n",
      "Epoch: 25 , loss: 221.8873508998326\n",
      "Epoch: 26 , loss: 199.09995960053942\n",
      "Epoch: 27 , loss: 193.68138921828498\n",
      "Epoch: 28 , loss: 196.9596441359747\n",
      "Epoch: 29 , loss: 184.04853021530877\n",
      "Epoch: 30 , loss: 181.7434823172433\n",
      "Epoch: 31 , loss: 184.46912420363654\n",
      "Epoch: 32 , loss: 180.4176773797898\n",
      "Epoch: 33 , loss: 186.8257562546503\n",
      "Epoch: 34 , loss: 191.416011265346\n",
      "Epoch: 35 , loss: 182.2961156935919\n",
      "Epoch: 36 , loss: 177.19924999418714\n",
      "Epoch: 37 , loss: 173.96012805757067\n",
      "Epoch: 38 , loss: 182.90346345447358\n",
      "Epoch: 39 , loss: 186.8651638939267\n",
      "Epoch: 40 , loss: 182.40028962634858\n",
      "Epoch: 41 , loss: 179.494633265904\n",
      "Epoch: 42 , loss: 191.27405148460753\n",
      "Epoch: 43 , loss: 195.11368233816964\n",
      "Epoch: 44 , loss: 192.08814421154204\n",
      "Epoch: 45 , loss: 193.3956269763765\n",
      "Epoch: 46 , loss: 191.98507327125185\n",
      "Epoch: 47 , loss: 186.6683582124256\n",
      "Epoch: 48 , loss: 191.79651750837053\n",
      "Epoch: 49 , loss: 189.29290117536272\n",
      "Epoch: 50 , loss: 195.16307503836495\n",
      "Epoch: 51 , loss: 197.32183910551527\n",
      "Epoch: 52 , loss: 193.38391621907553\n",
      "Epoch: 53 , loss: 204.23789396740142\n",
      "Epoch: 54 , loss: 205.38779485793341\n",
      "Epoch: 55 , loss: 209.248048328218\n",
      "Epoch: 56 , loss: 207.32808576311385\n",
      "Epoch: 57 , loss: 205.98242986769904\n",
      "Epoch: 58 , loss: 207.88483174641928\n",
      "Epoch: 59 , loss: 207.12927028111048\n",
      "Epoch: 60 , loss: 201.689211890811\n",
      "Epoch: 61 , loss: 210.0626976376488\n",
      "Epoch: 62 , loss: 204.1604730515253\n",
      "Epoch: 63 , loss: 209.7713143484933\n",
      "Epoch: 64 , loss: 206.45874677385603\n",
      "Epoch: 65 , loss: 210.6887693859282\n",
      "Epoch: 66 , loss: 210.2838636125837\n",
      "Epoch: 67 , loss: 214.86680021740142\n",
      "Epoch: 68 , loss: 212.12054225376673\n",
      "Epoch: 69 , loss: 216.65235610235305\n",
      "Epoch: 70 , loss: 214.1389363606771\n",
      "Epoch: 71 , loss: 214.35960969470796\n",
      "Epoch: 72 , loss: 214.86551411946616\n",
      "Epoch: 73 , loss: 216.55254690987724\n",
      "Epoch: 74 , loss: 216.34608386811755\n",
      "Epoch: 75 , loss: 219.23539152599517\n",
      "Epoch: 76 , loss: 218.21355183919272\n",
      "Epoch: 77 , loss: 222.1812024797712\n",
      "Epoch: 78 , loss: 225.7573976062593\n",
      "Epoch: 79 , loss: 223.7511458623977\n",
      "Epoch: 80 , loss: 229.16485087076822\n",
      "Epoch: 81 , loss: 231.05552963983445\n",
      "Epoch: 82 , loss: 234.10697428385416\n",
      "Epoch: 83 , loss: 237.90371558779762\n",
      "Epoch: 84 , loss: 242.2760227748326\n",
      "Epoch: 85 , loss: 247.30330621628534\n",
      "Epoch: 86 , loss: 252.871826171875\n",
      "Epoch: 87 , loss: 256.9488757905506\n",
      "Epoch: 88 , loss: 259.1924096970331\n",
      "Epoch: 89 , loss: 261.20928373790923\n",
      "Epoch: 90 , loss: 259.0735400971912\n",
      "Epoch: 91 , loss: 261.4511246454148\n",
      "Epoch: 92 , loss: 262.13314020066036\n",
      "Epoch: 93 , loss: 260.99300711495533\n",
      "Epoch: 94 , loss: 261.60311235700334\n",
      "Epoch: 95 , loss: 262.5005355108352\n",
      "Epoch: 96 , loss: 261.65093776157926\n",
      "Epoch: 97 , loss: 261.86556134905135\n",
      "Epoch: 98 , loss: 261.3312239873977\n",
      "Epoch: 99 , loss: 259.8123307001023\n",
      "Training complete. Saving file...\n",
      "Model saved in file: tmp/MIDAS\n"
     ]
    },
    {
     "data": {
      "text/plain": [
       "<MIDASpy.midas_base.Midas at 0x2523107b9a0>"
      ]
     },
     "execution_count": 10,
     "metadata": {},
     "output_type": "execute_result"
    }
   ],
   "source": [
    "imputer = md.Midas(layer_structure = [6,6+46,6+46+46,6+46+46+46,6+46+46+46+46,6+46+46+46,6+46+46,6+46,6], vae_layer = False, seed = 460)\n",
    "imputer.build_model(df)\n",
    "imputer.train_model(training_epochs=100)\n"
   ]
  },
  {
   "cell_type": "code",
   "execution_count": 12,
   "id": "6f0fef50",
   "metadata": {},
   "outputs": [
    {
     "name": "stdout",
     "output_type": "stream",
     "text": [
      "INFO:tensorflow:Restoring parameters from tmp/MIDAS\n",
      "Model restored.\n"
     ]
    },
    {
     "data": {
      "text/plain": [
       "(345, 6)"
      ]
     },
     "execution_count": 12,
     "metadata": {},
     "output_type": "execute_result"
    }
   ],
   "source": [
    "imputations=imputer.generate_samples(m=15).output_list\n",
    "np.shape(imputations[-1])"
   ]
  },
  {
   "cell_type": "code",
   "execution_count": 13,
   "id": "7842db79",
   "metadata": {
    "scrolled": true
   },
   "outputs": [
    {
     "data": {
      "text/plain": [
       "column 1    90.0\n",
       "column 2    47.0\n",
       "column 3    28.0\n",
       "column 4    15.0\n",
       "column 5    18.0\n",
       "column 6     0.5\n",
       "Name: 21, dtype: float64"
      ]
     },
     "execution_count": 13,
     "metadata": {},
     "output_type": "execute_result"
    }
   ],
   "source": [
    "new_df=imputations[-1]\n",
    "new_df.iloc[21,:]\n"
   ]
  },
  {
   "cell_type": "code",
   "execution_count": 14,
   "id": "a254172c",
   "metadata": {},
   "outputs": [],
   "source": [
    "complete_df=pd.read_excel(r'C:\\Users\\Jaber Shahnawaz\\Downloads\\Original Datasets (1)\\Original Datasets Without Labels\\Bupa.xlsx', header=None,names=column_names)"
   ]
  },
  {
   "cell_type": "code",
   "execution_count": 15,
   "id": "0a697afe",
   "metadata": {},
   "outputs": [
    {
     "data": {
      "text/html": [
       "<div>\n",
       "<style scoped>\n",
       "    .dataframe tbody tr th:only-of-type {\n",
       "        vertical-align: middle;\n",
       "    }\n",
       "\n",
       "    .dataframe tbody tr th {\n",
       "        vertical-align: top;\n",
       "    }\n",
       "\n",
       "    .dataframe thead th {\n",
       "        text-align: right;\n",
       "    }\n",
       "</style>\n",
       "<table border=\"1\" class=\"dataframe\">\n",
       "  <thead>\n",
       "    <tr style=\"text-align: right;\">\n",
       "      <th></th>\n",
       "      <th>column 1</th>\n",
       "      <th>column 2</th>\n",
       "      <th>column 3</th>\n",
       "      <th>column 4</th>\n",
       "      <th>column 5</th>\n",
       "      <th>column 6</th>\n",
       "    </tr>\n",
       "  </thead>\n",
       "  <tbody>\n",
       "    <tr>\n",
       "      <th>0</th>\n",
       "      <td>0</td>\n",
       "      <td>0.000000</td>\n",
       "      <td>0.000000</td>\n",
       "      <td>0.0</td>\n",
       "      <td>0.000000</td>\n",
       "      <td>0.000000</td>\n",
       "    </tr>\n",
       "    <tr>\n",
       "      <th>1</th>\n",
       "      <td>0</td>\n",
       "      <td>0.000000</td>\n",
       "      <td>0.000000</td>\n",
       "      <td>0.0</td>\n",
       "      <td>0.000000</td>\n",
       "      <td>0.000000</td>\n",
       "    </tr>\n",
       "    <tr>\n",
       "      <th>2</th>\n",
       "      <td>0</td>\n",
       "      <td>0.000000</td>\n",
       "      <td>0.000000</td>\n",
       "      <td>0.0</td>\n",
       "      <td>0.000000</td>\n",
       "      <td>0.000000</td>\n",
       "    </tr>\n",
       "    <tr>\n",
       "      <th>3</th>\n",
       "      <td>0</td>\n",
       "      <td>0.000000</td>\n",
       "      <td>0.000000</td>\n",
       "      <td>0.0</td>\n",
       "      <td>0.000000</td>\n",
       "      <td>0.000000</td>\n",
       "    </tr>\n",
       "    <tr>\n",
       "      <th>4</th>\n",
       "      <td>0</td>\n",
       "      <td>0.000000</td>\n",
       "      <td>-12.940116</td>\n",
       "      <td>0.0</td>\n",
       "      <td>-16.952151</td>\n",
       "      <td>0.031394</td>\n",
       "    </tr>\n",
       "    <tr>\n",
       "      <th>...</th>\n",
       "      <td>...</td>\n",
       "      <td>...</td>\n",
       "      <td>...</td>\n",
       "      <td>...</td>\n",
       "      <td>...</td>\n",
       "      <td>...</td>\n",
       "    </tr>\n",
       "    <tr>\n",
       "      <th>340</th>\n",
       "      <td>0</td>\n",
       "      <td>0.000000</td>\n",
       "      <td>0.000000</td>\n",
       "      <td>0.0</td>\n",
       "      <td>0.000000</td>\n",
       "      <td>0.000000</td>\n",
       "    </tr>\n",
       "    <tr>\n",
       "      <th>341</th>\n",
       "      <td>0</td>\n",
       "      <td>0.000000</td>\n",
       "      <td>0.000000</td>\n",
       "      <td>0.0</td>\n",
       "      <td>0.000000</td>\n",
       "      <td>0.000000</td>\n",
       "    </tr>\n",
       "    <tr>\n",
       "      <th>342</th>\n",
       "      <td>0</td>\n",
       "      <td>0.000000</td>\n",
       "      <td>0.000000</td>\n",
       "      <td>0.0</td>\n",
       "      <td>0.000000</td>\n",
       "      <td>0.000000</td>\n",
       "    </tr>\n",
       "    <tr>\n",
       "      <th>343</th>\n",
       "      <td>0</td>\n",
       "      <td>0.000000</td>\n",
       "      <td>0.000000</td>\n",
       "      <td>0.0</td>\n",
       "      <td>0.000000</td>\n",
       "      <td>0.000000</td>\n",
       "    </tr>\n",
       "    <tr>\n",
       "      <th>344</th>\n",
       "      <td>0</td>\n",
       "      <td>-92.968859</td>\n",
       "      <td>-34.824390</td>\n",
       "      <td>0.0</td>\n",
       "      <td>-36.883653</td>\n",
       "      <td>0.000000</td>\n",
       "    </tr>\n",
       "  </tbody>\n",
       "</table>\n",
       "<p>345 rows × 6 columns</p>\n",
       "</div>"
      ],
      "text/plain": [
       "     column 1   column 2   column 3  column 4   column 5  column 6\n",
       "0           0   0.000000   0.000000       0.0   0.000000  0.000000\n",
       "1           0   0.000000   0.000000       0.0   0.000000  0.000000\n",
       "2           0   0.000000   0.000000       0.0   0.000000  0.000000\n",
       "3           0   0.000000   0.000000       0.0   0.000000  0.000000\n",
       "4           0   0.000000 -12.940116       0.0 -16.952151  0.031394\n",
       "..        ...        ...        ...       ...        ...       ...\n",
       "340         0   0.000000   0.000000       0.0   0.000000  0.000000\n",
       "341         0   0.000000   0.000000       0.0   0.000000  0.000000\n",
       "342         0   0.000000   0.000000       0.0   0.000000  0.000000\n",
       "343         0   0.000000   0.000000       0.0   0.000000  0.000000\n",
       "344         0 -92.968859 -34.824390       0.0 -36.883653  0.000000\n",
       "\n",
       "[345 rows x 6 columns]"
      ]
     },
     "execution_count": 15,
     "metadata": {},
     "output_type": "execute_result"
    }
   ],
   "source": [
    "new_df-complete_df"
   ]
  },
  {
   "cell_type": "markdown",
   "id": "b4a4024f",
   "metadata": {},
   "source": [
    "Calculating NRMSE Value"
   ]
  },
  {
   "cell_type": "code",
   "execution_count": 16,
   "id": "b0a1ddd7",
   "metadata": {},
   "outputs": [],
   "source": [
    "\n",
    "def Sum_new(sum):\n",
    "    summ=0\n",
    "    for n in sum:\n",
    "        summ=summ+n\n",
    "    return (summ)\n",
    "\n"
   ]
  },
  {
   "cell_type": "code",
   "execution_count": 17,
   "id": "335450db",
   "metadata": {},
   "outputs": [],
   "source": [
    "def Frobenius_norm(number):\n",
    "    num=number\n",
    "    abs_val=num.abs()\n",
    "    power_abs=abs_val**2\n",
    "    sum1=power_abs.sum()\n",
    "    total_sum=Sum_new(sum1)\n",
    "    return(math.sqrt(total_sum))"
   ]
  },
  {
   "cell_type": "code",
   "execution_count": 18,
   "id": "28857c9a",
   "metadata": {},
   "outputs": [
    {
     "data": {
      "text/plain": [
       "531.915594288342"
      ]
     },
     "execution_count": 18,
     "metadata": {},
     "output_type": "execute_result"
    }
   ],
   "source": [
    "numerator=Frobenius_norm(new_df-complete_df)\n",
    "numerator"
   ]
  },
  {
   "cell_type": "code",
   "execution_count": 19,
   "id": "53a8606f",
   "metadata": {},
   "outputs": [
    {
     "data": {
      "text/plain": [
       "2519.762091944396"
      ]
     },
     "execution_count": 19,
     "metadata": {},
     "output_type": "execute_result"
    }
   ],
   "source": [
    "denominator=Frobenius_norm(complete_df)\n",
    "denominator"
   ]
  },
  {
   "cell_type": "code",
   "execution_count": 20,
   "id": "998aacba",
   "metadata": {},
   "outputs": [
    {
     "data": {
      "text/plain": [
       "0.21109754606947229"
      ]
     },
     "execution_count": 20,
     "metadata": {},
     "output_type": "execute_result"
    }
   ],
   "source": [
    "NRMS=numerator/denominator\n",
    "NRMS\n"
   ]
  },
  {
   "cell_type": "code",
   "execution_count": 21,
   "id": "84845123",
   "metadata": {},
   "outputs": [
    {
     "data": {
      "text/plain": [
       "column 1    86.000000\n",
       "column 2    54.000000\n",
       "column 3     0.115861\n",
       "column 4     0.054487\n",
       "column 5    16.000000\n",
       "column 6     0.064223\n",
       "Name: 66, dtype: float64"
      ]
     },
     "execution_count": 21,
     "metadata": {},
     "output_type": "execute_result"
    }
   ],
   "source": [
    "new_df.iloc[66,:]"
   ]
  },
  {
   "cell_type": "code",
   "execution_count": 22,
   "id": "bfe943bf",
   "metadata": {},
   "outputs": [
    {
     "data": {
      "text/html": [
       "<div>\n",
       "<style scoped>\n",
       "    .dataframe tbody tr th:only-of-type {\n",
       "        vertical-align: middle;\n",
       "    }\n",
       "\n",
       "    .dataframe tbody tr th {\n",
       "        vertical-align: top;\n",
       "    }\n",
       "\n",
       "    .dataframe thead th {\n",
       "        text-align: right;\n",
       "    }\n",
       "</style>\n",
       "<table border=\"1\" class=\"dataframe\">\n",
       "  <thead>\n",
       "    <tr style=\"text-align: right;\">\n",
       "      <th></th>\n",
       "      <th>column 1</th>\n",
       "      <th>column 2</th>\n",
       "      <th>column 3</th>\n",
       "      <th>column 4</th>\n",
       "      <th>column 5</th>\n",
       "      <th>column 6</th>\n",
       "    </tr>\n",
       "  </thead>\n",
       "  <tbody>\n",
       "    <tr>\n",
       "      <th>0</th>\n",
       "      <td>85</td>\n",
       "      <td>92.000000</td>\n",
       "      <td>45.000000</td>\n",
       "      <td>27.0</td>\n",
       "      <td>31.000000</td>\n",
       "      <td>0.000000</td>\n",
       "    </tr>\n",
       "    <tr>\n",
       "      <th>1</th>\n",
       "      <td>85</td>\n",
       "      <td>64.000000</td>\n",
       "      <td>59.000000</td>\n",
       "      <td>32.0</td>\n",
       "      <td>23.000000</td>\n",
       "      <td>0.000000</td>\n",
       "    </tr>\n",
       "    <tr>\n",
       "      <th>2</th>\n",
       "      <td>86</td>\n",
       "      <td>54.000000</td>\n",
       "      <td>33.000000</td>\n",
       "      <td>16.0</td>\n",
       "      <td>54.000000</td>\n",
       "      <td>0.000000</td>\n",
       "    </tr>\n",
       "    <tr>\n",
       "      <th>3</th>\n",
       "      <td>91</td>\n",
       "      <td>78.000000</td>\n",
       "      <td>34.000000</td>\n",
       "      <td>24.0</td>\n",
       "      <td>36.000000</td>\n",
       "      <td>0.000000</td>\n",
       "    </tr>\n",
       "    <tr>\n",
       "      <th>4</th>\n",
       "      <td>98</td>\n",
       "      <td>55.000000</td>\n",
       "      <td>0.059884</td>\n",
       "      <td>17.0</td>\n",
       "      <td>0.047849</td>\n",
       "      <td>0.031394</td>\n",
       "    </tr>\n",
       "    <tr>\n",
       "      <th>...</th>\n",
       "      <td>...</td>\n",
       "      <td>...</td>\n",
       "      <td>...</td>\n",
       "      <td>...</td>\n",
       "      <td>...</td>\n",
       "      <td>...</td>\n",
       "    </tr>\n",
       "    <tr>\n",
       "      <th>340</th>\n",
       "      <td>91</td>\n",
       "      <td>54.000000</td>\n",
       "      <td>25.000000</td>\n",
       "      <td>22.0</td>\n",
       "      <td>35.000000</td>\n",
       "      <td>4.000000</td>\n",
       "    </tr>\n",
       "    <tr>\n",
       "      <th>341</th>\n",
       "      <td>89</td>\n",
       "      <td>48.000000</td>\n",
       "      <td>32.000000</td>\n",
       "      <td>22.0</td>\n",
       "      <td>14.000000</td>\n",
       "      <td>4.000000</td>\n",
       "    </tr>\n",
       "    <tr>\n",
       "      <th>342</th>\n",
       "      <td>85</td>\n",
       "      <td>52.000000</td>\n",
       "      <td>22.000000</td>\n",
       "      <td>23.0</td>\n",
       "      <td>34.000000</td>\n",
       "      <td>4.000000</td>\n",
       "    </tr>\n",
       "    <tr>\n",
       "      <th>343</th>\n",
       "      <td>95</td>\n",
       "      <td>93.000000</td>\n",
       "      <td>21.000000</td>\n",
       "      <td>27.0</td>\n",
       "      <td>47.000000</td>\n",
       "      <td>6.000000</td>\n",
       "    </tr>\n",
       "    <tr>\n",
       "      <th>344</th>\n",
       "      <td>91</td>\n",
       "      <td>0.031141</td>\n",
       "      <td>0.175610</td>\n",
       "      <td>34.0</td>\n",
       "      <td>0.116347</td>\n",
       "      <td>10.000000</td>\n",
       "    </tr>\n",
       "  </tbody>\n",
       "</table>\n",
       "<p>345 rows × 6 columns</p>\n",
       "</div>"
      ],
      "text/plain": [
       "     column 1   column 2   column 3  column 4   column 5   column 6\n",
       "0          85  92.000000  45.000000      27.0  31.000000   0.000000\n",
       "1          85  64.000000  59.000000      32.0  23.000000   0.000000\n",
       "2          86  54.000000  33.000000      16.0  54.000000   0.000000\n",
       "3          91  78.000000  34.000000      24.0  36.000000   0.000000\n",
       "4          98  55.000000   0.059884      17.0   0.047849   0.031394\n",
       "..        ...        ...        ...       ...        ...        ...\n",
       "340        91  54.000000  25.000000      22.0  35.000000   4.000000\n",
       "341        89  48.000000  32.000000      22.0  14.000000   4.000000\n",
       "342        85  52.000000  22.000000      23.0  34.000000   4.000000\n",
       "343        95  93.000000  21.000000      27.0  47.000000   6.000000\n",
       "344        91   0.031141   0.175610      34.0   0.116347  10.000000\n",
       "\n",
       "[345 rows x 6 columns]"
      ]
     },
     "execution_count": 22,
     "metadata": {},
     "output_type": "execute_result"
    }
   ],
   "source": [
    "imputations[-1]\n"
   ]
  },
  {
   "cell_type": "code",
   "execution_count": 23,
   "id": "1c8a41f8",
   "metadata": {},
   "outputs": [],
   "source": [
    "imputations[-1].to_excel(\"Bupa_AL_10(imp).xlsx\", index=False, header=False)"
   ]
  },
  {
   "cell_type": "code",
   "execution_count": null,
   "id": "ebf2f6d0",
   "metadata": {},
   "outputs": [],
   "source": []
  }
 ],
 "metadata": {
  "kernelspec": {
   "display_name": "Python 3 (ipykernel)",
   "language": "python",
   "name": "python3"
  },
  "language_info": {
   "codemirror_mode": {
    "name": "ipython",
    "version": 3
   },
   "file_extension": ".py",
   "mimetype": "text/x-python",
   "name": "python",
   "nbconvert_exporter": "python",
   "pygments_lexer": "ipython3",
   "version": "3.9.7"
  }
 },
 "nbformat": 4,
 "nbformat_minor": 5
}
