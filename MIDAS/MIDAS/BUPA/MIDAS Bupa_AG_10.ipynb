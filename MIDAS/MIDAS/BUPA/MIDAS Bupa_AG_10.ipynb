{
 "cells": [
  {
   "cell_type": "code",
   "execution_count": 2,
   "id": "48128b60",
   "metadata": {},
   "outputs": [],
   "source": [
    "from sklearn.preprocessing import MinMaxScaler\n",
    "import numpy as np\n",
    "import pandas as pd\n",
    "import tensorflow as tf\n",
    "import MIDASpy as md\n",
    "import math\n"
   ]
  },
  {
   "cell_type": "code",
   "execution_count": 3,
   "id": "f638e7f0",
   "metadata": {
    "scrolled": true
   },
   "outputs": [
    {
     "data": {
      "text/html": [
       "<div>\n",
       "<style scoped>\n",
       "    .dataframe tbody tr th:only-of-type {\n",
       "        vertical-align: middle;\n",
       "    }\n",
       "\n",
       "    .dataframe tbody tr th {\n",
       "        vertical-align: top;\n",
       "    }\n",
       "\n",
       "    .dataframe thead th {\n",
       "        text-align: right;\n",
       "    }\n",
       "</style>\n",
       "<table border=\"1\" class=\"dataframe\">\n",
       "  <thead>\n",
       "    <tr style=\"text-align: right;\">\n",
       "      <th></th>\n",
       "      <th>column 1</th>\n",
       "      <th>column 2</th>\n",
       "      <th>column 3</th>\n",
       "      <th>column 4</th>\n",
       "      <th>column 5</th>\n",
       "      <th>column 6</th>\n",
       "    </tr>\n",
       "  </thead>\n",
       "  <tbody>\n",
       "    <tr>\n",
       "      <th>0</th>\n",
       "      <td>85.0</td>\n",
       "      <td>92</td>\n",
       "      <td>45.0</td>\n",
       "      <td>27.0</td>\n",
       "      <td>31.0</td>\n",
       "      <td>0.0</td>\n",
       "    </tr>\n",
       "    <tr>\n",
       "      <th>1</th>\n",
       "      <td>85.0</td>\n",
       "      <td>64</td>\n",
       "      <td>59.0</td>\n",
       "      <td>32.0</td>\n",
       "      <td>23.0</td>\n",
       "      <td>0.0</td>\n",
       "    </tr>\n",
       "    <tr>\n",
       "      <th>2</th>\n",
       "      <td>86.0</td>\n",
       "      <td>54</td>\n",
       "      <td>33.0</td>\n",
       "      <td>16.0</td>\n",
       "      <td>54.0</td>\n",
       "      <td>0.0</td>\n",
       "    </tr>\n",
       "    <tr>\n",
       "      <th>3</th>\n",
       "      <td>91.0</td>\n",
       "      <td>78</td>\n",
       "      <td>34.0</td>\n",
       "      <td>24.0</td>\n",
       "      <td>36.0</td>\n",
       "      <td>0.0</td>\n",
       "    </tr>\n",
       "    <tr>\n",
       "      <th>4</th>\n",
       "      <td>98.0</td>\n",
       "      <td>55</td>\n",
       "      <td>NaN</td>\n",
       "      <td>NaN</td>\n",
       "      <td>17.0</td>\n",
       "      <td>NaN</td>\n",
       "    </tr>\n",
       "    <tr>\n",
       "      <th>...</th>\n",
       "      <td>...</td>\n",
       "      <td>...</td>\n",
       "      <td>...</td>\n",
       "      <td>...</td>\n",
       "      <td>...</td>\n",
       "      <td>...</td>\n",
       "    </tr>\n",
       "    <tr>\n",
       "      <th>340</th>\n",
       "      <td>NaN</td>\n",
       "      <td>54</td>\n",
       "      <td>NaN</td>\n",
       "      <td>22.0</td>\n",
       "      <td>NaN</td>\n",
       "      <td>4.0</td>\n",
       "    </tr>\n",
       "    <tr>\n",
       "      <th>341</th>\n",
       "      <td>89.0</td>\n",
       "      <td>48</td>\n",
       "      <td>32.0</td>\n",
       "      <td>22.0</td>\n",
       "      <td>14.0</td>\n",
       "      <td>4.0</td>\n",
       "    </tr>\n",
       "    <tr>\n",
       "      <th>342</th>\n",
       "      <td>85.0</td>\n",
       "      <td>52</td>\n",
       "      <td>22.0</td>\n",
       "      <td>23.0</td>\n",
       "      <td>34.0</td>\n",
       "      <td>4.0</td>\n",
       "    </tr>\n",
       "    <tr>\n",
       "      <th>343</th>\n",
       "      <td>95.0</td>\n",
       "      <td>93</td>\n",
       "      <td>NaN</td>\n",
       "      <td>27.0</td>\n",
       "      <td>NaN</td>\n",
       "      <td>NaN</td>\n",
       "    </tr>\n",
       "    <tr>\n",
       "      <th>344</th>\n",
       "      <td>91.0</td>\n",
       "      <td>93</td>\n",
       "      <td>35.0</td>\n",
       "      <td>34.0</td>\n",
       "      <td>37.0</td>\n",
       "      <td>10.0</td>\n",
       "    </tr>\n",
       "  </tbody>\n",
       "</table>\n",
       "<p>345 rows × 6 columns</p>\n",
       "</div>"
      ],
      "text/plain": [
       "     column 1  column 2  column 3  column 4  column 5  column 6\n",
       "0        85.0        92      45.0      27.0      31.0       0.0\n",
       "1        85.0        64      59.0      32.0      23.0       0.0\n",
       "2        86.0        54      33.0      16.0      54.0       0.0\n",
       "3        91.0        78      34.0      24.0      36.0       0.0\n",
       "4        98.0        55       NaN       NaN      17.0       NaN\n",
       "..        ...       ...       ...       ...       ...       ...\n",
       "340       NaN        54       NaN      22.0       NaN       4.0\n",
       "341      89.0        48      32.0      22.0      14.0       4.0\n",
       "342      85.0        52      22.0      23.0      34.0       4.0\n",
       "343      95.0        93       NaN      27.0       NaN       NaN\n",
       "344      91.0        93      35.0      34.0      37.0      10.0\n",
       "\n",
       "[345 rows x 6 columns]"
      ]
     },
     "execution_count": 3,
     "metadata": {},
     "output_type": "execute_result"
    }
   ],
   "source": [
    "column_names=['column 1','column 2','column 3','column 4','column 5','column 6']\n",
    "df=pd.read_excel(r'C:\\Users\\Jaber Shahnawaz\\Downloads\\Incomplete Datasets\\Incomplete Datasets Without Labels\\Bupa\\Bupa_AG_10.xlsx', header=None,names=column_names)\n",
    "df"
   ]
  },
  {
   "cell_type": "code",
   "execution_count": 4,
   "id": "585cc6f7",
   "metadata": {},
   "outputs": [
    {
     "name": "stdout",
     "output_type": "stream",
     "text": [
      "dataType\tcolumn_names\tNumber of Nulls\n",
      "float64\t\tcolumn 1\t11\n",
      "int64\t\tcolumn 2\t0\n",
      "float64\t\tcolumn 3\t67\n",
      "float64\t\tcolumn 4\t45\n",
      "float64\t\tcolumn 5\t22\n",
      "float64\t\tcolumn 6\t56\n"
     ]
    }
   ],
   "source": [
    "print('dataType',end='\\t')\n",
    "print('column_names',end='\\t')\n",
    "print('Number of Nulls')\n",
    "for name in column_names:\n",
    "    print(df[name].dtype,end='\\t\\t')\n",
    "    print(name,end='\\t')\n",
    "    print(df[name].isnull().sum())"
   ]
  },
  {
   "cell_type": "code",
   "execution_count": 5,
   "id": "75bd9c64",
   "metadata": {},
   "outputs": [
    {
     "data": {
      "text/html": [
       "<div>\n",
       "<style scoped>\n",
       "    .dataframe tbody tr th:only-of-type {\n",
       "        vertical-align: middle;\n",
       "    }\n",
       "\n",
       "    .dataframe tbody tr th {\n",
       "        vertical-align: top;\n",
       "    }\n",
       "\n",
       "    .dataframe thead th {\n",
       "        text-align: right;\n",
       "    }\n",
       "</style>\n",
       "<table border=\"1\" class=\"dataframe\">\n",
       "  <thead>\n",
       "    <tr style=\"text-align: right;\">\n",
       "      <th></th>\n",
       "      <th>column 1</th>\n",
       "      <th>column 2</th>\n",
       "      <th>column 3</th>\n",
       "      <th>column 4</th>\n",
       "      <th>column 5</th>\n",
       "      <th>column 6</th>\n",
       "    </tr>\n",
       "  </thead>\n",
       "  <tbody>\n",
       "    <tr>\n",
       "      <th>count</th>\n",
       "      <td>334.000000</td>\n",
       "      <td>345.000000</td>\n",
       "      <td>278.000000</td>\n",
       "      <td>300.000000</td>\n",
       "      <td>323.000000</td>\n",
       "      <td>289.000000</td>\n",
       "    </tr>\n",
       "    <tr>\n",
       "      <th>mean</th>\n",
       "      <td>90.176647</td>\n",
       "      <td>69.869565</td>\n",
       "      <td>29.971223</td>\n",
       "      <td>24.513333</td>\n",
       "      <td>38.130031</td>\n",
       "      <td>3.420415</td>\n",
       "    </tr>\n",
       "    <tr>\n",
       "      <th>std</th>\n",
       "      <td>4.478369</td>\n",
       "      <td>18.347670</td>\n",
       "      <td>17.614378</td>\n",
       "      <td>9.143404</td>\n",
       "      <td>39.797958</td>\n",
       "      <td>3.292283</td>\n",
       "    </tr>\n",
       "    <tr>\n",
       "      <th>min</th>\n",
       "      <td>65.000000</td>\n",
       "      <td>23.000000</td>\n",
       "      <td>4.000000</td>\n",
       "      <td>5.000000</td>\n",
       "      <td>5.000000</td>\n",
       "      <td>0.000000</td>\n",
       "    </tr>\n",
       "    <tr>\n",
       "      <th>25%</th>\n",
       "      <td>87.000000</td>\n",
       "      <td>57.000000</td>\n",
       "      <td>20.000000</td>\n",
       "      <td>19.000000</td>\n",
       "      <td>15.000000</td>\n",
       "      <td>0.500000</td>\n",
       "    </tr>\n",
       "    <tr>\n",
       "      <th>50%</th>\n",
       "      <td>90.000000</td>\n",
       "      <td>67.000000</td>\n",
       "      <td>26.000000</td>\n",
       "      <td>23.000000</td>\n",
       "      <td>24.000000</td>\n",
       "      <td>2.000000</td>\n",
       "    </tr>\n",
       "    <tr>\n",
       "      <th>75%</th>\n",
       "      <td>93.000000</td>\n",
       "      <td>80.000000</td>\n",
       "      <td>33.000000</td>\n",
       "      <td>27.000000</td>\n",
       "      <td>43.500000</td>\n",
       "      <td>6.000000</td>\n",
       "    </tr>\n",
       "    <tr>\n",
       "      <th>max</th>\n",
       "      <td>103.000000</td>\n",
       "      <td>138.000000</td>\n",
       "      <td>155.000000</td>\n",
       "      <td>78.000000</td>\n",
       "      <td>297.000000</td>\n",
       "      <td>20.000000</td>\n",
       "    </tr>\n",
       "  </tbody>\n",
       "</table>\n",
       "</div>"
      ],
      "text/plain": [
       "         column 1    column 2    column 3    column 4    column 5    column 6\n",
       "count  334.000000  345.000000  278.000000  300.000000  323.000000  289.000000\n",
       "mean    90.176647   69.869565   29.971223   24.513333   38.130031    3.420415\n",
       "std      4.478369   18.347670   17.614378    9.143404   39.797958    3.292283\n",
       "min     65.000000   23.000000    4.000000    5.000000    5.000000    0.000000\n",
       "25%     87.000000   57.000000   20.000000   19.000000   15.000000    0.500000\n",
       "50%     90.000000   67.000000   26.000000   23.000000   24.000000    2.000000\n",
       "75%     93.000000   80.000000   33.000000   27.000000   43.500000    6.000000\n",
       "max    103.000000  138.000000  155.000000   78.000000  297.000000   20.000000"
      ]
     },
     "execution_count": 5,
     "metadata": {},
     "output_type": "execute_result"
    }
   ],
   "source": [
    "df.describe()"
   ]
  },
  {
   "cell_type": "code",
   "execution_count": 6,
   "id": "56182ba1",
   "metadata": {
    "scrolled": false
   },
   "outputs": [
    {
     "data": {
      "text/plain": [
       "<AxesSubplot:>"
      ]
     },
     "execution_count": 6,
     "metadata": {},
     "output_type": "execute_result"
    },
    {
     "data": {
      "image/png": "[encoded data removed]",
      "text/plain": [
       "<Figure size 1080x360 with 1 Axes>"
      ]
     },
     "metadata": {
      "needs_background": "light"
     },
     "output_type": "display_data"
    }
   ],
   "source": [
    "df.boxplot(return_type='axes', figsize=(15,5))"
   ]
  },
  {
   "cell_type": "code",
   "execution_count": 7,
   "id": "856e9b6c",
   "metadata": {},
   "outputs": [
    {
     "data": {
      "text/plain": [
       "column 1    90.176647\n",
       "column 2    69.869565\n",
       "column 3    29.971223\n",
       "column 4    24.513333\n",
       "column 5    38.130031\n",
       "column 6     3.420415\n",
       "dtype: float64"
      ]
     },
     "execution_count": 7,
     "metadata": {},
     "output_type": "execute_result"
    }
   ],
   "source": [
    "df.mean()"
   ]
  },
  {
   "cell_type": "code",
   "execution_count": 8,
   "id": "18c4a9dd",
   "metadata": {},
   "outputs": [
    {
     "data": {
      "text/html": [
       "<div>\n",
       "<style scoped>\n",
       "    .dataframe tbody tr th:only-of-type {\n",
       "        vertical-align: middle;\n",
       "    }\n",
       "\n",
       "    .dataframe tbody tr th {\n",
       "        vertical-align: top;\n",
       "    }\n",
       "\n",
       "    .dataframe thead th {\n",
       "        text-align: right;\n",
       "    }\n",
       "</style>\n",
       "<table border=\"1\" class=\"dataframe\">\n",
       "  <thead>\n",
       "    <tr style=\"text-align: right;\">\n",
       "      <th></th>\n",
       "      <th>column 1</th>\n",
       "      <th>column 2</th>\n",
       "      <th>column 3</th>\n",
       "      <th>column 4</th>\n",
       "      <th>column 5</th>\n",
       "      <th>column 6</th>\n",
       "    </tr>\n",
       "  </thead>\n",
       "  <tbody>\n",
       "    <tr>\n",
       "      <th>column 1</th>\n",
       "      <td>1.000000</td>\n",
       "      <td>0.032874</td>\n",
       "      <td>0.114889</td>\n",
       "      <td>0.164139</td>\n",
       "      <td>0.222294</td>\n",
       "      <td>0.328890</td>\n",
       "    </tr>\n",
       "    <tr>\n",
       "      <th>column 2</th>\n",
       "      <td>0.032874</td>\n",
       "      <td>1.000000</td>\n",
       "      <td>0.046044</td>\n",
       "      <td>0.165534</td>\n",
       "      <td>0.131078</td>\n",
       "      <td>0.021562</td>\n",
       "    </tr>\n",
       "    <tr>\n",
       "      <th>column 3</th>\n",
       "      <td>0.114889</td>\n",
       "      <td>0.046044</td>\n",
       "      <td>1.000000</td>\n",
       "      <td>0.676358</td>\n",
       "      <td>0.462205</td>\n",
       "      <td>0.230579</td>\n",
       "    </tr>\n",
       "    <tr>\n",
       "      <th>column 4</th>\n",
       "      <td>0.164139</td>\n",
       "      <td>0.165534</td>\n",
       "      <td>0.676358</td>\n",
       "      <td>1.000000</td>\n",
       "      <td>0.512247</td>\n",
       "      <td>0.292676</td>\n",
       "    </tr>\n",
       "    <tr>\n",
       "      <th>column 5</th>\n",
       "      <td>0.222294</td>\n",
       "      <td>0.131078</td>\n",
       "      <td>0.462205</td>\n",
       "      <td>0.512247</td>\n",
       "      <td>1.000000</td>\n",
       "      <td>0.353744</td>\n",
       "    </tr>\n",
       "    <tr>\n",
       "      <th>column 6</th>\n",
       "      <td>0.328890</td>\n",
       "      <td>0.021562</td>\n",
       "      <td>0.230579</td>\n",
       "      <td>0.292676</td>\n",
       "      <td>0.353744</td>\n",
       "      <td>1.000000</td>\n",
       "    </tr>\n",
       "  </tbody>\n",
       "</table>\n",
       "</div>"
      ],
      "text/plain": [
       "          column 1  column 2  column 3  column 4  column 5  column 6\n",
       "column 1  1.000000  0.032874  0.114889  0.164139  0.222294  0.328890\n",
       "column 2  0.032874  1.000000  0.046044  0.165534  0.131078  0.021562\n",
       "column 3  0.114889  0.046044  1.000000  0.676358  0.462205  0.230579\n",
       "column 4  0.164139  0.165534  0.676358  1.000000  0.512247  0.292676\n",
       "column 5  0.222294  0.131078  0.462205  0.512247  1.000000  0.353744\n",
       "column 6  0.328890  0.021562  0.230579  0.292676  0.353744  1.000000"
      ]
     },
     "execution_count": 8,
     "metadata": {},
     "output_type": "execute_result"
    }
   ],
   "source": [
    "corr=df.corr()\n",
    "corr"
   ]
  },
  {
   "cell_type": "code",
   "execution_count": 10,
   "id": "ea626871",
   "metadata": {},
   "outputs": [],
   "source": [
    "tf.compat.v1.reset_default_graph()\n",
    "import tensorflow.compat.v1 as tf\n",
    "tf.reset_default_graph()\n"
   ]
  },
  {
   "cell_type": "code",
   "execution_count": 9,
   "id": "2830e6e4",
   "metadata": {
    "scrolled": false
   },
   "outputs": [
    {
     "name": "stdout",
     "output_type": "stream",
     "text": [
      "Size index: [6]\n",
      "\n",
      "Computation graph constructed\n",
      "\n",
      "Model initialised\n",
      "\n",
      "Epoch: 0 , loss: 262.73582458496094\n",
      "Epoch: 1 , loss: 262.2922857375372\n",
      "Epoch: 2 , loss: 262.4147055489676\n",
      "Epoch: 3 , loss: 262.51186915806363\n",
      "Epoch: 4 , loss: 263.371581304641\n",
      "Epoch: 5 , loss: 261.4369354248047\n",
      "Epoch: 6 , loss: 261.22255452473956\n",
      "Epoch: 7 , loss: 260.0417182559059\n",
      "Epoch: 8 , loss: 260.97149658203125\n",
      "Epoch: 9 , loss: 261.8801509312221\n",
      "Epoch: 10 , loss: 255.15940929594495\n",
      "Epoch: 11 , loss: 254.82479567754837\n",
      "Epoch: 12 , loss: 246.7123536609468\n",
      "Epoch: 13 , loss: 233.48972938174293\n",
      "Epoch: 14 , loss: 223.83097403390067\n",
      "Epoch: 15 , loss: 223.04896400088356\n",
      "Epoch: 16 , loss: 220.23448544456846\n",
      "Epoch: 17 , loss: 216.10724167596726\n",
      "Epoch: 18 , loss: 210.2555200485956\n",
      "Epoch: 19 , loss: 209.29136657714844\n",
      "Epoch: 20 , loss: 208.17382013230096\n",
      "Epoch: 21 , loss: 204.8301079159691\n",
      "Epoch: 22 , loss: 202.34187534877233\n",
      "Epoch: 23 , loss: 199.43338811965216\n",
      "Epoch: 24 , loss: 199.14397466750373\n",
      "Epoch: 25 , loss: 190.71751621791296\n",
      "Epoch: 26 , loss: 186.58512369791666\n",
      "Epoch: 27 , loss: 186.29896254766555\n",
      "Epoch: 28 , loss: 179.89266095842635\n",
      "Epoch: 29 , loss: 187.72285679408483\n",
      "Epoch: 30 , loss: 177.29409790039062\n",
      "Epoch: 31 , loss: 176.78441002255394\n",
      "Epoch: 32 , loss: 176.90504092261904\n",
      "Epoch: 33 , loss: 173.6682593936012\n",
      "Epoch: 34 , loss: 181.47219993954613\n",
      "Epoch: 35 , loss: 169.73821876162575\n",
      "Epoch: 36 , loss: 173.9399675641741\n",
      "Epoch: 37 , loss: 175.26080758231026\n",
      "Epoch: 38 , loss: 175.9686737060547\n",
      "Epoch: 39 , loss: 185.71171497163317\n",
      "Epoch: 40 , loss: 178.8555217924572\n",
      "Epoch: 41 , loss: 177.24700528099424\n",
      "Epoch: 42 , loss: 173.16704595656623\n",
      "Epoch: 43 , loss: 177.1289102463495\n",
      "Epoch: 44 , loss: 180.8966333298456\n",
      "Epoch: 45 , loss: 177.62600925990515\n",
      "Epoch: 46 , loss: 179.54164850144159\n",
      "Epoch: 47 , loss: 186.28680928548178\n",
      "Epoch: 48 , loss: 187.0415322440011\n",
      "Epoch: 49 , loss: 191.0036366780599\n",
      "Epoch: 50 , loss: 189.05592200869606\n",
      "Epoch: 51 , loss: 187.68877447219123\n",
      "Epoch: 52 , loss: 183.13445318312873\n",
      "Epoch: 53 , loss: 189.60700116838728\n",
      "Epoch: 54 , loss: 190.57621692475817\n",
      "Epoch: 55 , loss: 192.19898332868303\n",
      "Epoch: 56 , loss: 191.3907514299665\n",
      "Epoch: 57 , loss: 188.93628510974702\n",
      "Epoch: 58 , loss: 197.4996584937686\n",
      "Epoch: 59 , loss: 186.71654401506697\n",
      "Epoch: 60 , loss: 191.18474324544272\n",
      "Epoch: 61 , loss: 193.43367149716332\n",
      "Epoch: 62 , loss: 192.44016810825892\n",
      "Epoch: 63 , loss: 194.68050057547433\n",
      "Epoch: 64 , loss: 191.3225337437221\n",
      "Epoch: 65 , loss: 192.5082804361979\n",
      "Epoch: 66 , loss: 196.67986479259673\n",
      "Epoch: 67 , loss: 193.45005871000745\n",
      "Epoch: 68 , loss: 194.29486229306175\n",
      "Epoch: 69 , loss: 195.794187999907\n",
      "Epoch: 70 , loss: 200.45647830054872\n",
      "Epoch: 71 , loss: 199.59423028855096\n",
      "Epoch: 72 , loss: 200.9477771577381\n",
      "Epoch: 73 , loss: 200.3323785691034\n",
      "Epoch: 74 , loss: 198.54380943661644\n",
      "Epoch: 75 , loss: 200.35228692917596\n",
      "Epoch: 76 , loss: 198.25711422874815\n",
      "Epoch: 77 , loss: 196.874878292992\n",
      "Epoch: 78 , loss: 198.95684087844123\n",
      "Epoch: 79 , loss: 197.30821082705543\n",
      "Epoch: 80 , loss: 192.05860464913505\n",
      "Epoch: 81 , loss: 202.6345719837007\n",
      "Epoch: 82 , loss: 203.09538777669272\n",
      "Epoch: 83 , loss: 199.01339612688338\n",
      "Epoch: 84 , loss: 199.77685038248697\n",
      "Epoch: 85 , loss: 199.58431788853235\n",
      "Epoch: 86 , loss: 201.96111842564173\n",
      "Epoch: 87 , loss: 207.9057835170201\n",
      "Epoch: 88 , loss: 203.67291623070128\n",
      "Epoch: 89 , loss: 200.72287786574591\n",
      "Epoch: 90 , loss: 212.29910859607514\n",
      "Epoch: 91 , loss: 211.33560979933966\n",
      "Epoch: 92 , loss: 203.80589294433594\n",
      "Epoch: 93 , loss: 199.40846252441406\n",
      "Epoch: 94 , loss: 205.31524876185827\n",
      "Epoch: 95 , loss: 208.31038266136534\n",
      "Epoch: 96 , loss: 208.66906229654947\n",
      "Epoch: 97 , loss: 201.68583315894716\n",
      "Epoch: 98 , loss: 207.24661109561012\n",
      "Epoch: 99 , loss: 206.89844549269904\n",
      "Training complete. Saving file...\n",
      "Model saved in file: tmp/MIDAS\n"
     ]
    },
    {
     "data": {
      "text/plain": [
       "<MIDASpy.midas_base.Midas at 0x27afb150430>"
      ]
     },
     "execution_count": 9,
     "metadata": {},
     "output_type": "execute_result"
    }
   ],
   "source": [
    "imputer = md.Midas(layer_structure = [6,6+77,6+77+77,6+77+77+77,6+77+77+77+77,6+77+77+77,6+77+77,6+77,6], vae_layer = False, seed = 770)\n",
    "imputer.build_model(df)\n",
    "imputer.train_model(training_epochs=100)\n"
   ]
  },
  {
   "cell_type": "code",
   "execution_count": 10,
   "id": "6f0fef50",
   "metadata": {},
   "outputs": [
    {
     "name": "stdout",
     "output_type": "stream",
     "text": [
      "INFO:tensorflow:Restoring parameters from tmp/MIDAS\n",
      "Model restored.\n"
     ]
    },
    {
     "data": {
      "text/plain": [
       "(345, 6)"
      ]
     },
     "execution_count": 10,
     "metadata": {},
     "output_type": "execute_result"
    }
   ],
   "source": [
    "imputations=imputer.generate_samples(m=15).output_list\n",
    "np.shape(imputations[-1])"
   ]
  },
  {
   "cell_type": "code",
   "execution_count": 11,
   "id": "7842db79",
   "metadata": {},
   "outputs": [
    {
     "data": {
      "text/plain": [
       "column 1    90.0\n",
       "column 2    47.0\n",
       "column 3    28.0\n",
       "column 4    15.0\n",
       "column 5    18.0\n",
       "column 6     0.5\n",
       "Name: 21, dtype: float64"
      ]
     },
     "execution_count": 11,
     "metadata": {},
     "output_type": "execute_result"
    }
   ],
   "source": [
    "new_df=imputations[-1]\n",
    "new_df.iloc[21,:]\n"
   ]
  },
  {
   "cell_type": "code",
   "execution_count": 12,
   "id": "a254172c",
   "metadata": {},
   "outputs": [],
   "source": [
    "complete_df=pd.read_excel(r'C:\\Users\\Jaber Shahnawaz\\Downloads\\Original Datasets (1)\\Original Datasets Without Labels\\Bupa.xlsx', header=None,names=column_names)"
   ]
  },
  {
   "cell_type": "code",
   "execution_count": 13,
   "id": "0a697afe",
   "metadata": {},
   "outputs": [
    {
     "data": {
      "text/html": [
       "<div>\n",
       "<style scoped>\n",
       "    .dataframe tbody tr th:only-of-type {\n",
       "        vertical-align: middle;\n",
       "    }\n",
       "\n",
       "    .dataframe tbody tr th {\n",
       "        vertical-align: top;\n",
       "    }\n",
       "\n",
       "    .dataframe thead th {\n",
       "        text-align: right;\n",
       "    }\n",
       "</style>\n",
       "<table border=\"1\" class=\"dataframe\">\n",
       "  <thead>\n",
       "    <tr style=\"text-align: right;\">\n",
       "      <th></th>\n",
       "      <th>column 1</th>\n",
       "      <th>column 2</th>\n",
       "      <th>column 3</th>\n",
       "      <th>column 4</th>\n",
       "      <th>column 5</th>\n",
       "      <th>column 6</th>\n",
       "    </tr>\n",
       "  </thead>\n",
       "  <tbody>\n",
       "    <tr>\n",
       "      <th>0</th>\n",
       "      <td>0.000000</td>\n",
       "      <td>0</td>\n",
       "      <td>0.000000</td>\n",
       "      <td>0.00000</td>\n",
       "      <td>0.000000</td>\n",
       "      <td>0.000000</td>\n",
       "    </tr>\n",
       "    <tr>\n",
       "      <th>1</th>\n",
       "      <td>0.000000</td>\n",
       "      <td>0</td>\n",
       "      <td>0.000000</td>\n",
       "      <td>0.00000</td>\n",
       "      <td>0.000000</td>\n",
       "      <td>0.000000</td>\n",
       "    </tr>\n",
       "    <tr>\n",
       "      <th>2</th>\n",
       "      <td>0.000000</td>\n",
       "      <td>0</td>\n",
       "      <td>0.000000</td>\n",
       "      <td>0.00000</td>\n",
       "      <td>0.000000</td>\n",
       "      <td>0.000000</td>\n",
       "    </tr>\n",
       "    <tr>\n",
       "      <th>3</th>\n",
       "      <td>0.000000</td>\n",
       "      <td>0</td>\n",
       "      <td>0.000000</td>\n",
       "      <td>0.00000</td>\n",
       "      <td>0.000000</td>\n",
       "      <td>0.000000</td>\n",
       "    </tr>\n",
       "    <tr>\n",
       "      <th>4</th>\n",
       "      <td>0.000000</td>\n",
       "      <td>0</td>\n",
       "      <td>-7.131010</td>\n",
       "      <td>-11.85297</td>\n",
       "      <td>0.000000</td>\n",
       "      <td>0.766887</td>\n",
       "    </tr>\n",
       "    <tr>\n",
       "      <th>...</th>\n",
       "      <td>...</td>\n",
       "      <td>...</td>\n",
       "      <td>...</td>\n",
       "      <td>...</td>\n",
       "      <td>...</td>\n",
       "      <td>...</td>\n",
       "    </tr>\n",
       "    <tr>\n",
       "      <th>340</th>\n",
       "      <td>-62.976776</td>\n",
       "      <td>0</td>\n",
       "      <td>-11.697661</td>\n",
       "      <td>0.00000</td>\n",
       "      <td>-20.602864</td>\n",
       "      <td>0.000000</td>\n",
       "    </tr>\n",
       "    <tr>\n",
       "      <th>341</th>\n",
       "      <td>0.000000</td>\n",
       "      <td>0</td>\n",
       "      <td>0.000000</td>\n",
       "      <td>0.00000</td>\n",
       "      <td>0.000000</td>\n",
       "      <td>0.000000</td>\n",
       "    </tr>\n",
       "    <tr>\n",
       "      <th>342</th>\n",
       "      <td>0.000000</td>\n",
       "      <td>0</td>\n",
       "      <td>0.000000</td>\n",
       "      <td>0.00000</td>\n",
       "      <td>0.000000</td>\n",
       "      <td>0.000000</td>\n",
       "    </tr>\n",
       "    <tr>\n",
       "      <th>343</th>\n",
       "      <td>0.000000</td>\n",
       "      <td>0</td>\n",
       "      <td>-15.081586</td>\n",
       "      <td>0.00000</td>\n",
       "      <td>-40.533648</td>\n",
       "      <td>-5.225294</td>\n",
       "    </tr>\n",
       "    <tr>\n",
       "      <th>344</th>\n",
       "      <td>0.000000</td>\n",
       "      <td>0</td>\n",
       "      <td>0.000000</td>\n",
       "      <td>0.00000</td>\n",
       "      <td>0.000000</td>\n",
       "      <td>0.000000</td>\n",
       "    </tr>\n",
       "  </tbody>\n",
       "</table>\n",
       "<p>345 rows × 6 columns</p>\n",
       "</div>"
      ],
      "text/plain": [
       "      column 1  column 2   column 3  column 4   column 5  column 6\n",
       "0     0.000000         0   0.000000   0.00000   0.000000  0.000000\n",
       "1     0.000000         0   0.000000   0.00000   0.000000  0.000000\n",
       "2     0.000000         0   0.000000   0.00000   0.000000  0.000000\n",
       "3     0.000000         0   0.000000   0.00000   0.000000  0.000000\n",
       "4     0.000000         0  -7.131010 -11.85297   0.000000  0.766887\n",
       "..         ...       ...        ...       ...        ...       ...\n",
       "340 -62.976776         0 -11.697661   0.00000 -20.602864  0.000000\n",
       "341   0.000000         0   0.000000   0.00000   0.000000  0.000000\n",
       "342   0.000000         0   0.000000   0.00000   0.000000  0.000000\n",
       "343   0.000000         0 -15.081586   0.00000 -40.533648 -5.225294\n",
       "344   0.000000         0   0.000000   0.00000   0.000000  0.000000\n",
       "\n",
       "[345 rows x 6 columns]"
      ]
     },
     "execution_count": 13,
     "metadata": {},
     "output_type": "execute_result"
    }
   ],
   "source": [
    "new_df-complete_df"
   ]
  },
  {
   "cell_type": "markdown",
   "id": "b4a4024f",
   "metadata": {},
   "source": [
    "Calculating NRMSE Value"
   ]
  },
  {
   "cell_type": "code",
   "execution_count": 14,
   "id": "b0a1ddd7",
   "metadata": {},
   "outputs": [],
   "source": [
    "\n",
    "def Sum_new(sum):\n",
    "    summ=0\n",
    "    for n in sum:\n",
    "        summ=summ+n\n",
    "    return (summ)\n",
    "\n"
   ]
  },
  {
   "cell_type": "code",
   "execution_count": 15,
   "id": "335450db",
   "metadata": {},
   "outputs": [],
   "source": [
    "def Frobenius_norm(number):\n",
    "    num=number\n",
    "    abs_val=num.abs()\n",
    "    power_abs=abs_val**2\n",
    "    sum1=power_abs.sum()\n",
    "    total_sum=Sum_new(sum1)\n",
    "    return(math.sqrt(total_sum))"
   ]
  },
  {
   "cell_type": "code",
   "execution_count": 16,
   "id": "28857c9a",
   "metadata": {},
   "outputs": [
    {
     "data": {
      "text/plain": [
       "430.5182678964951"
      ]
     },
     "execution_count": 16,
     "metadata": {},
     "output_type": "execute_result"
    }
   ],
   "source": [
    "numerator=Frobenius_norm(new_df-complete_df)\n",
    "numerator"
   ]
  },
  {
   "cell_type": "code",
   "execution_count": 17,
   "id": "53a8606f",
   "metadata": {},
   "outputs": [
    {
     "data": {
      "text/plain": [
       "2519.762091944396"
      ]
     },
     "execution_count": 17,
     "metadata": {},
     "output_type": "execute_result"
    }
   ],
   "source": [
    "denominator=Frobenius_norm(complete_df)\n",
    "denominator"
   ]
  },
  {
   "cell_type": "code",
   "execution_count": 20,
   "id": "998aacba",
   "metadata": {},
   "outputs": [
    {
     "data": {
      "text/plain": [
       "0.17085671273206668"
      ]
     },
     "execution_count": 20,
     "metadata": {},
     "output_type": "execute_result"
    }
   ],
   "source": [
    "NRMS=numerator/denominator\n",
    "NRMS\n"
   ]
  },
  {
   "cell_type": "code",
   "execution_count": 19,
   "id": "84845123",
   "metadata": {},
   "outputs": [
    {
     "data": {
      "text/plain": [
       "column 1    86.0\n",
       "column 2    54.0\n",
       "column 3    20.0\n",
       "column 4    21.0\n",
       "column 5    16.0\n",
       "column 6     2.0\n",
       "Name: 66, dtype: float64"
      ]
     },
     "execution_count": 19,
     "metadata": {},
     "output_type": "execute_result"
    }
   ],
   "source": [
    "new_df.iloc[66,:]"
   ]
  },
  {
   "cell_type": "code",
   "execution_count": 21,
   "id": "bfe943bf",
   "metadata": {},
   "outputs": [
    {
     "data": {
      "text/html": [
       "<div>\n",
       "<style scoped>\n",
       "    .dataframe tbody tr th:only-of-type {\n",
       "        vertical-align: middle;\n",
       "    }\n",
       "\n",
       "    .dataframe tbody tr th {\n",
       "        vertical-align: top;\n",
       "    }\n",
       "\n",
       "    .dataframe thead th {\n",
       "        text-align: right;\n",
       "    }\n",
       "</style>\n",
       "<table border=\"1\" class=\"dataframe\">\n",
       "  <thead>\n",
       "    <tr style=\"text-align: right;\">\n",
       "      <th></th>\n",
       "      <th>column 1</th>\n",
       "      <th>column 2</th>\n",
       "      <th>column 3</th>\n",
       "      <th>column 4</th>\n",
       "      <th>column 5</th>\n",
       "      <th>column 6</th>\n",
       "    </tr>\n",
       "  </thead>\n",
       "  <tbody>\n",
       "    <tr>\n",
       "      <th>0</th>\n",
       "      <td>85</td>\n",
       "      <td>92</td>\n",
       "      <td>45</td>\n",
       "      <td>27.0</td>\n",
       "      <td>31.0</td>\n",
       "      <td>0.0</td>\n",
       "    </tr>\n",
       "    <tr>\n",
       "      <th>1</th>\n",
       "      <td>85</td>\n",
       "      <td>64</td>\n",
       "      <td>59</td>\n",
       "      <td>32.0</td>\n",
       "      <td>23.0</td>\n",
       "      <td>0.0</td>\n",
       "    </tr>\n",
       "    <tr>\n",
       "      <th>2</th>\n",
       "      <td>86</td>\n",
       "      <td>54</td>\n",
       "      <td>33</td>\n",
       "      <td>16.0</td>\n",
       "      <td>54.0</td>\n",
       "      <td>0.0</td>\n",
       "    </tr>\n",
       "    <tr>\n",
       "      <th>3</th>\n",
       "      <td>91</td>\n",
       "      <td>78</td>\n",
       "      <td>34</td>\n",
       "      <td>24.0</td>\n",
       "      <td>36.0</td>\n",
       "      <td>0.0</td>\n",
       "    </tr>\n",
       "    <tr>\n",
       "      <th>4</th>\n",
       "      <td>98</td>\n",
       "      <td>55</td>\n",
       "      <td>13</td>\n",
       "      <td>17.0</td>\n",
       "      <td>17.0</td>\n",
       "      <td>0.0</td>\n",
       "    </tr>\n",
       "    <tr>\n",
       "      <th>...</th>\n",
       "      <td>...</td>\n",
       "      <td>...</td>\n",
       "      <td>...</td>\n",
       "      <td>...</td>\n",
       "      <td>...</td>\n",
       "      <td>...</td>\n",
       "    </tr>\n",
       "    <tr>\n",
       "      <th>340</th>\n",
       "      <td>91</td>\n",
       "      <td>54</td>\n",
       "      <td>25</td>\n",
       "      <td>22.0</td>\n",
       "      <td>35.0</td>\n",
       "      <td>4.0</td>\n",
       "    </tr>\n",
       "    <tr>\n",
       "      <th>341</th>\n",
       "      <td>89</td>\n",
       "      <td>48</td>\n",
       "      <td>32</td>\n",
       "      <td>22.0</td>\n",
       "      <td>14.0</td>\n",
       "      <td>4.0</td>\n",
       "    </tr>\n",
       "    <tr>\n",
       "      <th>342</th>\n",
       "      <td>85</td>\n",
       "      <td>52</td>\n",
       "      <td>22</td>\n",
       "      <td>23.0</td>\n",
       "      <td>34.0</td>\n",
       "      <td>4.0</td>\n",
       "    </tr>\n",
       "    <tr>\n",
       "      <th>343</th>\n",
       "      <td>95</td>\n",
       "      <td>93</td>\n",
       "      <td>21</td>\n",
       "      <td>27.0</td>\n",
       "      <td>47.0</td>\n",
       "      <td>6.0</td>\n",
       "    </tr>\n",
       "    <tr>\n",
       "      <th>344</th>\n",
       "      <td>91</td>\n",
       "      <td>93</td>\n",
       "      <td>35</td>\n",
       "      <td>34.0</td>\n",
       "      <td>37.0</td>\n",
       "      <td>10.0</td>\n",
       "    </tr>\n",
       "  </tbody>\n",
       "</table>\n",
       "<p>345 rows × 6 columns</p>\n",
       "</div>"
      ],
      "text/plain": [
       "     column 1  column 2  column 3  column 4  column 5  column 6\n",
       "0          85        92        45      27.0      31.0       0.0\n",
       "1          85        64        59      32.0      23.0       0.0\n",
       "2          86        54        33      16.0      54.0       0.0\n",
       "3          91        78        34      24.0      36.0       0.0\n",
       "4          98        55        13      17.0      17.0       0.0\n",
       "..        ...       ...       ...       ...       ...       ...\n",
       "340        91        54        25      22.0      35.0       4.0\n",
       "341        89        48        32      22.0      14.0       4.0\n",
       "342        85        52        22      23.0      34.0       4.0\n",
       "343        95        93        21      27.0      47.0       6.0\n",
       "344        91        93        35      34.0      37.0      10.0\n",
       "\n",
       "[345 rows x 6 columns]"
      ]
     },
     "execution_count": 21,
     "metadata": {},
     "output_type": "execute_result"
    }
   ],
   "source": [
    "imputations[-1]\n"
   ]
  },
  {
   "cell_type": "code",
   "execution_count": 21,
   "id": "1c8a41f8",
   "metadata": {},
   "outputs": [],
   "source": [
    "imputations[-1].to_excel(\"Bupa_AG_10(imp).xlsx\", index=False, header=False)"
   ]
  },
  {
   "cell_type": "code",
   "execution_count": null,
   "id": "ebf2f6d0",
   "metadata": {},
   "outputs": [],
   "source": []
  },
  {
   "cell_type": "code",
   "execution_count": null,
   "id": "7d9469d2",
   "metadata": {},
   "outputs": [],
   "source": []
  }
 ],
 "metadata": {
  "kernelspec": {
   "display_name": "Python 3 (ipykernel)",
   "language": "python",
   "name": "python3"
  },
  "language_info": {
   "codemirror_mode": {
    "name": "ipython",
    "version": 3
   },
   "file_extension": ".py",
   "mimetype": "text/x-python",
   "name": "python",
   "nbconvert_exporter": "python",
   "pygments_lexer": "ipython3",
   "version": "3.9.7"
  }
 },
 "nbformat": 4,
 "nbformat_minor": 5
}
