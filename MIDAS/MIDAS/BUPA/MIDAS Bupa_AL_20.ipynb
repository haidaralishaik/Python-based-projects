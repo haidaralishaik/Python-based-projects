{
 "cells": [
  {
   "cell_type": "code",
   "execution_count": 1,
   "id": "48128b60",
   "metadata": {},
   "outputs": [],
   "source": [
    "from sklearn.preprocessing import MinMaxScaler\n",
    "import numpy as np\n",
    "import pandas as pd\n",
    "import tensorflow as tf\n",
    "import MIDASpy as md\n",
    "import math\n"
   ]
  },
  {
   "cell_type": "code",
   "execution_count": 2,
   "id": "f638e7f0",
   "metadata": {
    "scrolled": false
   },
   "outputs": [
    {
     "data": {
      "text/html": [
       "<div>\n",
       "<style scoped>\n",
       "    .dataframe tbody tr th:only-of-type {\n",
       "        vertical-align: middle;\n",
       "    }\n",
       "\n",
       "    .dataframe tbody tr th {\n",
       "        vertical-align: top;\n",
       "    }\n",
       "\n",
       "    .dataframe thead th {\n",
       "        text-align: right;\n",
       "    }\n",
       "</style>\n",
       "<table border=\"1\" class=\"dataframe\">\n",
       "  <thead>\n",
       "    <tr style=\"text-align: right;\">\n",
       "      <th></th>\n",
       "      <th>column 1</th>\n",
       "      <th>column 2</th>\n",
       "      <th>column 3</th>\n",
       "      <th>column 4</th>\n",
       "      <th>column 5</th>\n",
       "      <th>column 6</th>\n",
       "    </tr>\n",
       "  </thead>\n",
       "  <tbody>\n",
       "    <tr>\n",
       "      <th>0</th>\n",
       "      <td>85.0</td>\n",
       "      <td>92</td>\n",
       "      <td>45.0</td>\n",
       "      <td>27.0</td>\n",
       "      <td>31.0</td>\n",
       "      <td>0.0</td>\n",
       "    </tr>\n",
       "    <tr>\n",
       "      <th>1</th>\n",
       "      <td>85.0</td>\n",
       "      <td>64</td>\n",
       "      <td>59.0</td>\n",
       "      <td>32.0</td>\n",
       "      <td>23.0</td>\n",
       "      <td>0.0</td>\n",
       "    </tr>\n",
       "    <tr>\n",
       "      <th>2</th>\n",
       "      <td>86.0</td>\n",
       "      <td>54</td>\n",
       "      <td>NaN</td>\n",
       "      <td>16.0</td>\n",
       "      <td>NaN</td>\n",
       "      <td>NaN</td>\n",
       "    </tr>\n",
       "    <tr>\n",
       "      <th>3</th>\n",
       "      <td>91.0</td>\n",
       "      <td>78</td>\n",
       "      <td>34.0</td>\n",
       "      <td>NaN</td>\n",
       "      <td>NaN</td>\n",
       "      <td>NaN</td>\n",
       "    </tr>\n",
       "    <tr>\n",
       "      <th>4</th>\n",
       "      <td>98.0</td>\n",
       "      <td>55</td>\n",
       "      <td>13.0</td>\n",
       "      <td>17.0</td>\n",
       "      <td>17.0</td>\n",
       "      <td>0.0</td>\n",
       "    </tr>\n",
       "    <tr>\n",
       "      <th>...</th>\n",
       "      <td>...</td>\n",
       "      <td>...</td>\n",
       "      <td>...</td>\n",
       "      <td>...</td>\n",
       "      <td>...</td>\n",
       "      <td>...</td>\n",
       "    </tr>\n",
       "    <tr>\n",
       "      <th>340</th>\n",
       "      <td>91.0</td>\n",
       "      <td>54</td>\n",
       "      <td>25.0</td>\n",
       "      <td>NaN</td>\n",
       "      <td>NaN</td>\n",
       "      <td>NaN</td>\n",
       "    </tr>\n",
       "    <tr>\n",
       "      <th>341</th>\n",
       "      <td>89.0</td>\n",
       "      <td>48</td>\n",
       "      <td>32.0</td>\n",
       "      <td>22.0</td>\n",
       "      <td>14.0</td>\n",
       "      <td>4.0</td>\n",
       "    </tr>\n",
       "    <tr>\n",
       "      <th>342</th>\n",
       "      <td>85.0</td>\n",
       "      <td>52</td>\n",
       "      <td>22.0</td>\n",
       "      <td>23.0</td>\n",
       "      <td>34.0</td>\n",
       "      <td>4.0</td>\n",
       "    </tr>\n",
       "    <tr>\n",
       "      <th>343</th>\n",
       "      <td>95.0</td>\n",
       "      <td>93</td>\n",
       "      <td>21.0</td>\n",
       "      <td>27.0</td>\n",
       "      <td>47.0</td>\n",
       "      <td>6.0</td>\n",
       "    </tr>\n",
       "    <tr>\n",
       "      <th>344</th>\n",
       "      <td>91.0</td>\n",
       "      <td>93</td>\n",
       "      <td>NaN</td>\n",
       "      <td>34.0</td>\n",
       "      <td>NaN</td>\n",
       "      <td>NaN</td>\n",
       "    </tr>\n",
       "  </tbody>\n",
       "</table>\n",
       "<p>345 rows × 6 columns</p>\n",
       "</div>"
      ],
      "text/plain": [
       "     column 1  column 2  column 3  column 4  column 5  column 6\n",
       "0        85.0        92      45.0      27.0      31.0       0.0\n",
       "1        85.0        64      59.0      32.0      23.0       0.0\n",
       "2        86.0        54       NaN      16.0       NaN       NaN\n",
       "3        91.0        78      34.0       NaN       NaN       NaN\n",
       "4        98.0        55      13.0      17.0      17.0       0.0\n",
       "..        ...       ...       ...       ...       ...       ...\n",
       "340      91.0        54      25.0       NaN       NaN       NaN\n",
       "341      89.0        48      32.0      22.0      14.0       4.0\n",
       "342      85.0        52      22.0      23.0      34.0       4.0\n",
       "343      95.0        93      21.0      27.0      47.0       6.0\n",
       "344      91.0        93       NaN      34.0       NaN       NaN\n",
       "\n",
       "[345 rows x 6 columns]"
      ]
     },
     "execution_count": 2,
     "metadata": {},
     "output_type": "execute_result"
    }
   ],
   "source": [
    "column_names=['column 1','column 2','column 3','column 4','column 5','column 6']\n",
    "df=pd.read_excel(r'C:\\Users\\Jaber Shahnawaz\\Downloads\\Incomplete Datasets\\Incomplete Datasets Without Labels\\Bupa\\Bupa_AL_20.xlsx', header=None,names=column_names)\n",
    "df"
   ]
  },
  {
   "cell_type": "code",
   "execution_count": 3,
   "id": "585cc6f7",
   "metadata": {},
   "outputs": [
    {
     "name": "stdout",
     "output_type": "stream",
     "text": [
      "dataType\tcolumn_names\tNumber of Nulls\n",
      "float64\t\tcolumn 1\t22\n",
      "int64\t\tcolumn 2\t0\n",
      "float64\t\tcolumn 3\t68\n",
      "float64\t\tcolumn 4\t66\n",
      "float64\t\tcolumn 5\t134\n",
      "float64\t\tcolumn 6\t112\n"
     ]
    }
   ],
   "source": [
    "print('dataType',end='\\t')\n",
    "print('column_names',end='\\t')\n",
    "print('Number of Nulls')\n",
    "for name in column_names:\n",
    "    print(df[name].dtype,end='\\t\\t')\n",
    "    print(name,end='\\t')\n",
    "    print(df[name].isnull().sum())"
   ]
  },
  {
   "cell_type": "code",
   "execution_count": 4,
   "id": "75bd9c64",
   "metadata": {},
   "outputs": [
    {
     "data": {
      "text/html": [
       "<div>\n",
       "<style scoped>\n",
       "    .dataframe tbody tr th:only-of-type {\n",
       "        vertical-align: middle;\n",
       "    }\n",
       "\n",
       "    .dataframe tbody tr th {\n",
       "        vertical-align: top;\n",
       "    }\n",
       "\n",
       "    .dataframe thead th {\n",
       "        text-align: right;\n",
       "    }\n",
       "</style>\n",
       "<table border=\"1\" class=\"dataframe\">\n",
       "  <thead>\n",
       "    <tr style=\"text-align: right;\">\n",
       "      <th></th>\n",
       "      <th>column 1</th>\n",
       "      <th>column 2</th>\n",
       "      <th>column 3</th>\n",
       "      <th>column 4</th>\n",
       "      <th>column 5</th>\n",
       "      <th>column 6</th>\n",
       "    </tr>\n",
       "  </thead>\n",
       "  <tbody>\n",
       "    <tr>\n",
       "      <th>count</th>\n",
       "      <td>323.000000</td>\n",
       "      <td>345.000000</td>\n",
       "      <td>277.000000</td>\n",
       "      <td>279.000000</td>\n",
       "      <td>211.000000</td>\n",
       "      <td>233.000000</td>\n",
       "    </tr>\n",
       "    <tr>\n",
       "      <th>mean</th>\n",
       "      <td>90.191950</td>\n",
       "      <td>69.869565</td>\n",
       "      <td>29.765343</td>\n",
       "      <td>24.555556</td>\n",
       "      <td>37.246445</td>\n",
       "      <td>3.334764</td>\n",
       "    </tr>\n",
       "    <tr>\n",
       "      <th>std</th>\n",
       "      <td>4.524639</td>\n",
       "      <td>18.347670</td>\n",
       "      <td>17.367485</td>\n",
       "      <td>10.440115</td>\n",
       "      <td>38.480990</td>\n",
       "      <td>3.150594</td>\n",
       "    </tr>\n",
       "    <tr>\n",
       "      <th>min</th>\n",
       "      <td>65.000000</td>\n",
       "      <td>23.000000</td>\n",
       "      <td>4.000000</td>\n",
       "      <td>5.000000</td>\n",
       "      <td>5.000000</td>\n",
       "      <td>0.000000</td>\n",
       "    </tr>\n",
       "    <tr>\n",
       "      <th>25%</th>\n",
       "      <td>87.000000</td>\n",
       "      <td>57.000000</td>\n",
       "      <td>19.000000</td>\n",
       "      <td>19.000000</td>\n",
       "      <td>15.000000</td>\n",
       "      <td>0.500000</td>\n",
       "    </tr>\n",
       "    <tr>\n",
       "      <th>50%</th>\n",
       "      <td>90.000000</td>\n",
       "      <td>67.000000</td>\n",
       "      <td>26.000000</td>\n",
       "      <td>22.000000</td>\n",
       "      <td>23.000000</td>\n",
       "      <td>3.000000</td>\n",
       "    </tr>\n",
       "    <tr>\n",
       "      <th>75%</th>\n",
       "      <td>93.000000</td>\n",
       "      <td>80.000000</td>\n",
       "      <td>34.000000</td>\n",
       "      <td>27.000000</td>\n",
       "      <td>44.000000</td>\n",
       "      <td>5.000000</td>\n",
       "    </tr>\n",
       "    <tr>\n",
       "      <th>max</th>\n",
       "      <td>103.000000</td>\n",
       "      <td>138.000000</td>\n",
       "      <td>154.000000</td>\n",
       "      <td>82.000000</td>\n",
       "      <td>297.000000</td>\n",
       "      <td>16.000000</td>\n",
       "    </tr>\n",
       "  </tbody>\n",
       "</table>\n",
       "</div>"
      ],
      "text/plain": [
       "         column 1    column 2    column 3    column 4    column 5    column 6\n",
       "count  323.000000  345.000000  277.000000  279.000000  211.000000  233.000000\n",
       "mean    90.191950   69.869565   29.765343   24.555556   37.246445    3.334764\n",
       "std      4.524639   18.347670   17.367485   10.440115   38.480990    3.150594\n",
       "min     65.000000   23.000000    4.000000    5.000000    5.000000    0.000000\n",
       "25%     87.000000   57.000000   19.000000   19.000000   15.000000    0.500000\n",
       "50%     90.000000   67.000000   26.000000   22.000000   23.000000    3.000000\n",
       "75%     93.000000   80.000000   34.000000   27.000000   44.000000    5.000000\n",
       "max    103.000000  138.000000  154.000000   82.000000  297.000000   16.000000"
      ]
     },
     "execution_count": 4,
     "metadata": {},
     "output_type": "execute_result"
    }
   ],
   "source": [
    "df.describe()"
   ]
  },
  {
   "cell_type": "code",
   "execution_count": 5,
   "id": "56182ba1",
   "metadata": {
    "scrolled": false
   },
   "outputs": [
    {
     "data": {
      "text/plain": [
       "<AxesSubplot:>"
      ]
     },
     "execution_count": 5,
     "metadata": {},
     "output_type": "execute_result"
    },
    {
     "data": {
      "image/png": "[encoded data removed]",
      "text/plain": [
       "<Figure size 1080x360 with 1 Axes>"
      ]
     },
     "metadata": {
      "needs_background": "light"
     },
     "output_type": "display_data"
    }
   ],
   "source": [
    "df.boxplot(return_type='axes', figsize=(15,5))"
   ]
  },
  {
   "cell_type": "code",
   "execution_count": 6,
   "id": "856e9b6c",
   "metadata": {},
   "outputs": [
    {
     "data": {
      "text/plain": [
       "column 1    90.191950\n",
       "column 2    69.869565\n",
       "column 3    29.765343\n",
       "column 4    24.555556\n",
       "column 5    37.246445\n",
       "column 6     3.334764\n",
       "dtype: float64"
      ]
     },
     "execution_count": 6,
     "metadata": {},
     "output_type": "execute_result"
    }
   ],
   "source": [
    "df.mean()"
   ]
  },
  {
   "cell_type": "code",
   "execution_count": 7,
   "id": "18c4a9dd",
   "metadata": {},
   "outputs": [
    {
     "data": {
      "text/html": [
       "<div>\n",
       "<style scoped>\n",
       "    .dataframe tbody tr th:only-of-type {\n",
       "        vertical-align: middle;\n",
       "    }\n",
       "\n",
       "    .dataframe tbody tr th {\n",
       "        vertical-align: top;\n",
       "    }\n",
       "\n",
       "    .dataframe thead th {\n",
       "        text-align: right;\n",
       "    }\n",
       "</style>\n",
       "<table border=\"1\" class=\"dataframe\">\n",
       "  <thead>\n",
       "    <tr style=\"text-align: right;\">\n",
       "      <th></th>\n",
       "      <th>column 1</th>\n",
       "      <th>column 2</th>\n",
       "      <th>column 3</th>\n",
       "      <th>column 4</th>\n",
       "      <th>column 5</th>\n",
       "      <th>column 6</th>\n",
       "    </tr>\n",
       "  </thead>\n",
       "  <tbody>\n",
       "    <tr>\n",
       "      <th>column 1</th>\n",
       "      <td>1.000000</td>\n",
       "      <td>0.045319</td>\n",
       "      <td>0.099902</td>\n",
       "      <td>0.136210</td>\n",
       "      <td>0.099546</td>\n",
       "      <td>0.295279</td>\n",
       "    </tr>\n",
       "    <tr>\n",
       "      <th>column 2</th>\n",
       "      <td>0.045319</td>\n",
       "      <td>1.000000</td>\n",
       "      <td>0.055097</td>\n",
       "      <td>0.080027</td>\n",
       "      <td>0.020109</td>\n",
       "      <td>0.045965</td>\n",
       "    </tr>\n",
       "    <tr>\n",
       "      <th>column 3</th>\n",
       "      <td>0.099902</td>\n",
       "      <td>0.055097</td>\n",
       "      <td>1.000000</td>\n",
       "      <td>0.748007</td>\n",
       "      <td>0.459434</td>\n",
       "      <td>0.162638</td>\n",
       "    </tr>\n",
       "    <tr>\n",
       "      <th>column 4</th>\n",
       "      <td>0.136210</td>\n",
       "      <td>0.080027</td>\n",
       "      <td>0.748007</td>\n",
       "      <td>1.000000</td>\n",
       "      <td>0.473572</td>\n",
       "      <td>0.221188</td>\n",
       "    </tr>\n",
       "    <tr>\n",
       "      <th>column 5</th>\n",
       "      <td>0.099546</td>\n",
       "      <td>0.020109</td>\n",
       "      <td>0.459434</td>\n",
       "      <td>0.473572</td>\n",
       "      <td>1.000000</td>\n",
       "      <td>0.287875</td>\n",
       "    </tr>\n",
       "    <tr>\n",
       "      <th>column 6</th>\n",
       "      <td>0.295279</td>\n",
       "      <td>0.045965</td>\n",
       "      <td>0.162638</td>\n",
       "      <td>0.221188</td>\n",
       "      <td>0.287875</td>\n",
       "      <td>1.000000</td>\n",
       "    </tr>\n",
       "  </tbody>\n",
       "</table>\n",
       "</div>"
      ],
      "text/plain": [
       "          column 1  column 2  column 3  column 4  column 5  column 6\n",
       "column 1  1.000000  0.045319  0.099902  0.136210  0.099546  0.295279\n",
       "column 2  0.045319  1.000000  0.055097  0.080027  0.020109  0.045965\n",
       "column 3  0.099902  0.055097  1.000000  0.748007  0.459434  0.162638\n",
       "column 4  0.136210  0.080027  0.748007  1.000000  0.473572  0.221188\n",
       "column 5  0.099546  0.020109  0.459434  0.473572  1.000000  0.287875\n",
       "column 6  0.295279  0.045965  0.162638  0.221188  0.287875  1.000000"
      ]
     },
     "execution_count": 7,
     "metadata": {},
     "output_type": "execute_result"
    }
   ],
   "source": [
    "corr=df.corr()\n",
    "corr"
   ]
  },
  {
   "cell_type": "code",
   "execution_count": 8,
   "id": "ea626871",
   "metadata": {},
   "outputs": [],
   "source": [
    "tf.compat.v1.reset_default_graph()\n",
    "import tensorflow.compat.v1 as tf\n",
    "tf.reset_default_graph()\n"
   ]
  },
  {
   "cell_type": "code",
   "execution_count": 9,
   "id": "2830e6e4",
   "metadata": {
    "scrolled": false
   },
   "outputs": [
    {
     "name": "stdout",
     "output_type": "stream",
     "text": [
      "Size index: [6]\n",
      "\n",
      "Computation graph constructed\n",
      "\n",
      "Model initialised\n",
      "\n",
      "Epoch: 0 , loss: 237.39545331682478\n",
      "Epoch: 1 , loss: 237.5873558407738\n",
      "Epoch: 2 , loss: 237.82672627766928\n",
      "Epoch: 3 , loss: 237.2096920921689\n",
      "Epoch: 4 , loss: 236.0373738606771\n",
      "Epoch: 5 , loss: 238.82452392578125\n",
      "Epoch: 6 , loss: 237.73162551153274\n",
      "Epoch: 7 , loss: 236.80227806454613\n",
      "Epoch: 8 , loss: 237.32706124441964\n",
      "Epoch: 9 , loss: 238.21136837913878\n",
      "Epoch: 10 , loss: 238.36158389136904\n",
      "Epoch: 11 , loss: 237.37890842982702\n",
      "Epoch: 12 , loss: 238.7199445452009\n",
      "Epoch: 13 , loss: 238.93342662992933\n",
      "Epoch: 14 , loss: 236.01116362072173\n",
      "Epoch: 15 , loss: 236.9968465169271\n",
      "Epoch: 16 , loss: 238.46954418364027\n",
      "Epoch: 17 , loss: 238.03539530436197\n",
      "Epoch: 18 , loss: 238.0534951346261\n",
      "Epoch: 19 , loss: 237.20461091541108\n",
      "Epoch: 20 , loss: 238.7474568684896\n",
      "Epoch: 21 , loss: 237.80875723702567\n",
      "Epoch: 22 , loss: 237.3266303652809\n",
      "Epoch: 23 , loss: 237.29136948358445\n",
      "Epoch: 24 , loss: 236.41166541689918\n",
      "Epoch: 25 , loss: 234.28902253650483\n",
      "Epoch: 26 , loss: 230.44549269903274\n",
      "Epoch: 27 , loss: 225.02232506161644\n",
      "Epoch: 28 , loss: 213.4826166062128\n",
      "Epoch: 29 , loss: 200.24535624186197\n",
      "Epoch: 30 , loss: 188.28560166131882\n",
      "Epoch: 31 , loss: 181.02173941476005\n",
      "Epoch: 32 , loss: 181.73617553710938\n",
      "Epoch: 33 , loss: 176.29818870907738\n",
      "Epoch: 34 , loss: 174.20125761486236\n",
      "Epoch: 35 , loss: 173.5071774437314\n",
      "Epoch: 36 , loss: 167.74562218075707\n",
      "Epoch: 37 , loss: 166.3365195138114\n",
      "Epoch: 38 , loss: 169.44500296456474\n",
      "Epoch: 39 , loss: 169.88492547898065\n",
      "Epoch: 40 , loss: 167.7171129499163\n",
      "Epoch: 41 , loss: 163.62370154971168\n",
      "Epoch: 42 , loss: 165.46620468866257\n",
      "Epoch: 43 , loss: 167.91108921595983\n",
      "Epoch: 44 , loss: 167.80430058070593\n",
      "Epoch: 45 , loss: 164.597900390625\n",
      "Epoch: 46 , loss: 170.27756027948288\n",
      "Epoch: 47 , loss: 177.4384249732608\n",
      "Epoch: 48 , loss: 179.33603995186942\n",
      "Epoch: 49 , loss: 175.38932436988466\n",
      "Epoch: 50 , loss: 177.32685997372582\n",
      "Epoch: 51 , loss: 183.3076658703032\n",
      "Epoch: 52 , loss: 181.18045806884766\n",
      "Epoch: 53 , loss: 179.19146946498327\n",
      "Epoch: 54 , loss: 181.14363170805433\n",
      "Epoch: 55 , loss: 188.381833031064\n",
      "Epoch: 56 , loss: 188.38808114188058\n",
      "Epoch: 57 , loss: 194.52987670898438\n",
      "Epoch: 58 , loss: 189.3320094517299\n",
      "Epoch: 59 , loss: 193.30484880719865\n",
      "Epoch: 60 , loss: 190.59927876790366\n",
      "Epoch: 61 , loss: 194.26822262718565\n",
      "Epoch: 62 , loss: 199.71575055803572\n",
      "Epoch: 63 , loss: 196.3886973063151\n",
      "Epoch: 64 , loss: 200.55969964890252\n",
      "Epoch: 65 , loss: 203.04954092843192\n",
      "Epoch: 66 , loss: 202.29071335565476\n",
      "Epoch: 67 , loss: 206.9291476295108\n",
      "Epoch: 68 , loss: 212.9951411655971\n",
      "Epoch: 69 , loss: 215.37036205473402\n",
      "Epoch: 70 , loss: 218.3275873093378\n",
      "Epoch: 71 , loss: 221.97797212146577\n",
      "Epoch: 72 , loss: 227.92227245512464\n",
      "Epoch: 73 , loss: 233.0204336983817\n",
      "Epoch: 74 , loss: 233.51863970075334\n",
      "Epoch: 75 , loss: 235.81793794177827\n",
      "Epoch: 76 , loss: 237.49253627232142\n",
      "Epoch: 77 , loss: 235.62428429013207\n",
      "Epoch: 78 , loss: 238.29061889648438\n",
      "Epoch: 79 , loss: 238.29124305361793\n",
      "Epoch: 80 , loss: 237.48075067429315\n",
      "Epoch: 81 , loss: 237.1422838483538\n",
      "Epoch: 82 , loss: 238.629147484189\n",
      "Epoch: 83 , loss: 237.83721778506325\n",
      "Epoch: 84 , loss: 238.87573896135603\n",
      "Epoch: 85 , loss: 237.69336736769904\n",
      "Epoch: 86 , loss: 236.16781034923736\n",
      "Epoch: 87 , loss: 238.18333653041296\n",
      "Epoch: 88 , loss: 237.13689458937873\n",
      "Epoch: 89 , loss: 238.62140183221726\n",
      "Epoch: 90 , loss: 238.75964573451452\n",
      "Epoch: 91 , loss: 237.41775658017113\n",
      "Epoch: 92 , loss: 238.02294994535902\n",
      "Epoch: 93 , loss: 237.38686043875558\n",
      "Epoch: 94 , loss: 238.25128682454428\n",
      "Epoch: 95 , loss: 237.00113060360863\n",
      "Epoch: 96 , loss: 238.98736790248327\n",
      "Epoch: 97 , loss: 237.64063589913505\n",
      "Epoch: 98 , loss: 238.58747355143228\n",
      "Epoch: 99 , loss: 238.10188802083334\n",
      "Training complete. Saving file...\n",
      "Model saved in file: tmp/MIDAS\n"
     ]
    },
    {
     "data": {
      "text/plain": [
       "<MIDASpy.midas_base.Midas at 0x1ec15d21ee0>"
      ]
     },
     "execution_count": 9,
     "metadata": {},
     "output_type": "execute_result"
    }
   ],
   "source": [
    "imputer = md.Midas(layer_structure = [6,6+38,6+38+38,6+38+38+38,6+38+38+38+38,6+38+38+38,6+38+38,6+38,6], vae_layer = False, seed = 380)\n",
    "imputer.build_model(df)\n",
    "imputer.train_model(training_epochs=100)\n"
   ]
  },
  {
   "cell_type": "code",
   "execution_count": 10,
   "id": "6f0fef50",
   "metadata": {},
   "outputs": [
    {
     "name": "stdout",
     "output_type": "stream",
     "text": [
      "INFO:tensorflow:Restoring parameters from tmp/MIDAS\n",
      "Model restored.\n"
     ]
    },
    {
     "data": {
      "text/plain": [
       "(345, 6)"
      ]
     },
     "execution_count": 10,
     "metadata": {},
     "output_type": "execute_result"
    }
   ],
   "source": [
    "imputations=imputer.generate_samples(m=15).output_list\n",
    "np.shape(imputations[-1])"
   ]
  },
  {
   "cell_type": "code",
   "execution_count": 11,
   "id": "7842db79",
   "metadata": {
    "scrolled": true
   },
   "outputs": [
    {
     "data": {
      "text/plain": [
       "column 1    90.000000\n",
       "column 2    47.000000\n",
       "column 3    28.000000\n",
       "column 4     0.042040\n",
       "column 5     0.040730\n",
       "column 6     0.042088\n",
       "Name: 21, dtype: float64"
      ]
     },
     "execution_count": 11,
     "metadata": {},
     "output_type": "execute_result"
    }
   ],
   "source": [
    "new_df=imputations[-1]\n",
    "new_df.iloc[21,:]\n"
   ]
  },
  {
   "cell_type": "code",
   "execution_count": 12,
   "id": "a254172c",
   "metadata": {},
   "outputs": [],
   "source": [
    "complete_df=pd.read_excel(r'C:\\Users\\Jaber Shahnawaz\\Downloads\\Original Datasets (1)\\Original Datasets Without Labels\\Bupa.xlsx', header=None,names=column_names)"
   ]
  },
  {
   "cell_type": "code",
   "execution_count": 13,
   "id": "0a697afe",
   "metadata": {},
   "outputs": [
    {
     "data": {
      "text/html": [
       "<div>\n",
       "<style scoped>\n",
       "    .dataframe tbody tr th:only-of-type {\n",
       "        vertical-align: middle;\n",
       "    }\n",
       "\n",
       "    .dataframe tbody tr th {\n",
       "        vertical-align: top;\n",
       "    }\n",
       "\n",
       "    .dataframe thead th {\n",
       "        text-align: right;\n",
       "    }\n",
       "</style>\n",
       "<table border=\"1\" class=\"dataframe\">\n",
       "  <thead>\n",
       "    <tr style=\"text-align: right;\">\n",
       "      <th></th>\n",
       "      <th>column 1</th>\n",
       "      <th>column 2</th>\n",
       "      <th>column 3</th>\n",
       "      <th>column 4</th>\n",
       "      <th>column 5</th>\n",
       "      <th>column 6</th>\n",
       "    </tr>\n",
       "  </thead>\n",
       "  <tbody>\n",
       "    <tr>\n",
       "      <th>0</th>\n",
       "      <td>0.0</td>\n",
       "      <td>0</td>\n",
       "      <td>0.000000</td>\n",
       "      <td>0.000000</td>\n",
       "      <td>0.000000</td>\n",
       "      <td>0.000000</td>\n",
       "    </tr>\n",
       "    <tr>\n",
       "      <th>1</th>\n",
       "      <td>0.0</td>\n",
       "      <td>0</td>\n",
       "      <td>0.000000</td>\n",
       "      <td>0.000000</td>\n",
       "      <td>0.000000</td>\n",
       "      <td>0.000000</td>\n",
       "    </tr>\n",
       "    <tr>\n",
       "      <th>2</th>\n",
       "      <td>0.0</td>\n",
       "      <td>0</td>\n",
       "      <td>-32.947909</td>\n",
       "      <td>0.000000</td>\n",
       "      <td>-53.949714</td>\n",
       "      <td>0.052046</td>\n",
       "    </tr>\n",
       "    <tr>\n",
       "      <th>3</th>\n",
       "      <td>0.0</td>\n",
       "      <td>0</td>\n",
       "      <td>0.000000</td>\n",
       "      <td>-23.956096</td>\n",
       "      <td>-35.957651</td>\n",
       "      <td>0.043636</td>\n",
       "    </tr>\n",
       "    <tr>\n",
       "      <th>4</th>\n",
       "      <td>0.0</td>\n",
       "      <td>0</td>\n",
       "      <td>0.000000</td>\n",
       "      <td>0.000000</td>\n",
       "      <td>0.000000</td>\n",
       "      <td>0.000000</td>\n",
       "    </tr>\n",
       "    <tr>\n",
       "      <th>...</th>\n",
       "      <td>...</td>\n",
       "      <td>...</td>\n",
       "      <td>...</td>\n",
       "      <td>...</td>\n",
       "      <td>...</td>\n",
       "      <td>...</td>\n",
       "    </tr>\n",
       "    <tr>\n",
       "      <th>340</th>\n",
       "      <td>0.0</td>\n",
       "      <td>0</td>\n",
       "      <td>0.000000</td>\n",
       "      <td>-21.950737</td>\n",
       "      <td>-34.952631</td>\n",
       "      <td>-3.951731</td>\n",
       "    </tr>\n",
       "    <tr>\n",
       "      <th>341</th>\n",
       "      <td>0.0</td>\n",
       "      <td>0</td>\n",
       "      <td>0.000000</td>\n",
       "      <td>0.000000</td>\n",
       "      <td>0.000000</td>\n",
       "      <td>0.000000</td>\n",
       "    </tr>\n",
       "    <tr>\n",
       "      <th>342</th>\n",
       "      <td>0.0</td>\n",
       "      <td>0</td>\n",
       "      <td>0.000000</td>\n",
       "      <td>0.000000</td>\n",
       "      <td>0.000000</td>\n",
       "      <td>0.000000</td>\n",
       "    </tr>\n",
       "    <tr>\n",
       "      <th>343</th>\n",
       "      <td>0.0</td>\n",
       "      <td>0</td>\n",
       "      <td>0.000000</td>\n",
       "      <td>0.000000</td>\n",
       "      <td>0.000000</td>\n",
       "      <td>0.000000</td>\n",
       "    </tr>\n",
       "    <tr>\n",
       "      <th>344</th>\n",
       "      <td>0.0</td>\n",
       "      <td>0</td>\n",
       "      <td>-34.950513</td>\n",
       "      <td>0.000000</td>\n",
       "      <td>-36.952205</td>\n",
       "      <td>-9.950446</td>\n",
       "    </tr>\n",
       "  </tbody>\n",
       "</table>\n",
       "<p>345 rows × 6 columns</p>\n",
       "</div>"
      ],
      "text/plain": [
       "     column 1  column 2   column 3   column 4   column 5  column 6\n",
       "0         0.0         0   0.000000   0.000000   0.000000  0.000000\n",
       "1         0.0         0   0.000000   0.000000   0.000000  0.000000\n",
       "2         0.0         0 -32.947909   0.000000 -53.949714  0.052046\n",
       "3         0.0         0   0.000000 -23.956096 -35.957651  0.043636\n",
       "4         0.0         0   0.000000   0.000000   0.000000  0.000000\n",
       "..        ...       ...        ...        ...        ...       ...\n",
       "340       0.0         0   0.000000 -21.950737 -34.952631 -3.951731\n",
       "341       0.0         0   0.000000   0.000000   0.000000  0.000000\n",
       "342       0.0         0   0.000000   0.000000   0.000000  0.000000\n",
       "343       0.0         0   0.000000   0.000000   0.000000  0.000000\n",
       "344       0.0         0 -34.950513   0.000000 -36.952205 -9.950446\n",
       "\n",
       "[345 rows x 6 columns]"
      ]
     },
     "execution_count": 13,
     "metadata": {},
     "output_type": "execute_result"
    }
   ],
   "source": [
    "new_df-complete_df"
   ]
  },
  {
   "cell_type": "markdown",
   "id": "b4a4024f",
   "metadata": {},
   "source": [
    "\n",
    "Calculating NRMSE Value"
   ]
  },
  {
   "cell_type": "code",
   "execution_count": 14,
   "id": "b0a1ddd7",
   "metadata": {},
   "outputs": [],
   "source": [
    "\n",
    "def Sum_new(sum):\n",
    "    summ=0\n",
    "    for n in sum:\n",
    "        summ=summ+n\n",
    "    return (summ)\n",
    "\n"
   ]
  },
  {
   "cell_type": "code",
   "execution_count": 15,
   "id": "335450db",
   "metadata": {},
   "outputs": [],
   "source": [
    "def Frobenius_norm(number):\n",
    "    num=number\n",
    "    abs_val=num.abs()\n",
    "    power_abs=abs_val**2\n",
    "    sum1=power_abs.sum()\n",
    "    total_sum=Sum_new(sum1)\n",
    "    return(math.sqrt(total_sum))"
   ]
  },
  {
   "cell_type": "code",
   "execution_count": 16,
   "id": "28857c9a",
   "metadata": {},
   "outputs": [
    {
     "data": {
      "text/plain": [
       "882.2219591711483"
      ]
     },
     "execution_count": 16,
     "metadata": {},
     "output_type": "execute_result"
    }
   ],
   "source": [
    "numerator=Frobenius_norm(new_df-complete_df)\n",
    "numerator"
   ]
  },
  {
   "cell_type": "code",
   "execution_count": 17,
   "id": "53a8606f",
   "metadata": {},
   "outputs": [
    {
     "data": {
      "text/plain": [
       "2519.762091944396"
      ]
     },
     "execution_count": 17,
     "metadata": {},
     "output_type": "execute_result"
    }
   ],
   "source": [
    "denominator=Frobenius_norm(complete_df)\n",
    "denominator"
   ]
  },
  {
   "cell_type": "code",
   "execution_count": 18,
   "id": "998aacba",
   "metadata": {},
   "outputs": [
    {
     "data": {
      "text/plain": [
       "0.35012113325761407"
      ]
     },
     "execution_count": 18,
     "metadata": {},
     "output_type": "execute_result"
    }
   ],
   "source": [
    "NRMS=numerator/denominator\n",
    "NRMS\n"
   ]
  },
  {
   "cell_type": "code",
   "execution_count": 19,
   "id": "84845123",
   "metadata": {},
   "outputs": [
    {
     "data": {
      "text/plain": [
       "column 1    86.0\n",
       "column 2    54.0\n",
       "column 3    20.0\n",
       "column 4    21.0\n",
       "column 5    16.0\n",
       "column 6     2.0\n",
       "Name: 66, dtype: float64"
      ]
     },
     "execution_count": 19,
     "metadata": {},
     "output_type": "execute_result"
    }
   ],
   "source": [
    "new_df.iloc[66,:]"
   ]
  },
  {
   "cell_type": "code",
   "execution_count": 20,
   "id": "bfe943bf",
   "metadata": {},
   "outputs": [
    {
     "data": {
      "text/html": [
       "<div>\n",
       "<style scoped>\n",
       "    .dataframe tbody tr th:only-of-type {\n",
       "        vertical-align: middle;\n",
       "    }\n",
       "\n",
       "    .dataframe tbody tr th {\n",
       "        vertical-align: top;\n",
       "    }\n",
       "\n",
       "    .dataframe thead th {\n",
       "        text-align: right;\n",
       "    }\n",
       "</style>\n",
       "<table border=\"1\" class=\"dataframe\">\n",
       "  <thead>\n",
       "    <tr style=\"text-align: right;\">\n",
       "      <th></th>\n",
       "      <th>column 1</th>\n",
       "      <th>column 2</th>\n",
       "      <th>column 3</th>\n",
       "      <th>column 4</th>\n",
       "      <th>column 5</th>\n",
       "      <th>column 6</th>\n",
       "    </tr>\n",
       "  </thead>\n",
       "  <tbody>\n",
       "    <tr>\n",
       "      <th>0</th>\n",
       "      <td>85.0</td>\n",
       "      <td>92</td>\n",
       "      <td>45.000000</td>\n",
       "      <td>27.000000</td>\n",
       "      <td>31.000000</td>\n",
       "      <td>0.000000</td>\n",
       "    </tr>\n",
       "    <tr>\n",
       "      <th>1</th>\n",
       "      <td>85.0</td>\n",
       "      <td>64</td>\n",
       "      <td>59.000000</td>\n",
       "      <td>32.000000</td>\n",
       "      <td>23.000000</td>\n",
       "      <td>0.000000</td>\n",
       "    </tr>\n",
       "    <tr>\n",
       "      <th>2</th>\n",
       "      <td>86.0</td>\n",
       "      <td>54</td>\n",
       "      <td>14.293367</td>\n",
       "      <td>16.000000</td>\n",
       "      <td>18.868593</td>\n",
       "      <td>1.615984</td>\n",
       "    </tr>\n",
       "    <tr>\n",
       "      <th>3</th>\n",
       "      <td>91.0</td>\n",
       "      <td>78</td>\n",
       "      <td>34.000000</td>\n",
       "      <td>13.358221</td>\n",
       "      <td>17.484917</td>\n",
       "      <td>1.617923</td>\n",
       "    </tr>\n",
       "    <tr>\n",
       "      <th>4</th>\n",
       "      <td>98.0</td>\n",
       "      <td>55</td>\n",
       "      <td>13.000000</td>\n",
       "      <td>17.000000</td>\n",
       "      <td>17.000000</td>\n",
       "      <td>0.000000</td>\n",
       "    </tr>\n",
       "    <tr>\n",
       "      <th>...</th>\n",
       "      <td>...</td>\n",
       "      <td>...</td>\n",
       "      <td>...</td>\n",
       "      <td>...</td>\n",
       "      <td>...</td>\n",
       "      <td>...</td>\n",
       "    </tr>\n",
       "    <tr>\n",
       "      <th>340</th>\n",
       "      <td>91.0</td>\n",
       "      <td>54</td>\n",
       "      <td>25.000000</td>\n",
       "      <td>68.751282</td>\n",
       "      <td>87.756462</td>\n",
       "      <td>7.900461</td>\n",
       "    </tr>\n",
       "    <tr>\n",
       "      <th>341</th>\n",
       "      <td>89.0</td>\n",
       "      <td>48</td>\n",
       "      <td>32.000000</td>\n",
       "      <td>22.000000</td>\n",
       "      <td>14.000000</td>\n",
       "      <td>4.000000</td>\n",
       "    </tr>\n",
       "    <tr>\n",
       "      <th>342</th>\n",
       "      <td>85.0</td>\n",
       "      <td>52</td>\n",
       "      <td>22.000000</td>\n",
       "      <td>23.000000</td>\n",
       "      <td>34.000000</td>\n",
       "      <td>4.000000</td>\n",
       "    </tr>\n",
       "    <tr>\n",
       "      <th>343</th>\n",
       "      <td>95.0</td>\n",
       "      <td>93</td>\n",
       "      <td>21.000000</td>\n",
       "      <td>27.000000</td>\n",
       "      <td>47.000000</td>\n",
       "      <td>6.000000</td>\n",
       "    </tr>\n",
       "    <tr>\n",
       "      <th>344</th>\n",
       "      <td>91.0</td>\n",
       "      <td>93</td>\n",
       "      <td>11.241491</td>\n",
       "      <td>34.000000</td>\n",
       "      <td>15.817751</td>\n",
       "      <td>1.701290</td>\n",
       "    </tr>\n",
       "  </tbody>\n",
       "</table>\n",
       "<p>345 rows × 6 columns</p>\n",
       "</div>"
      ],
      "text/plain": [
       "     column 1  column 2   column 3   column 4   column 5  column 6\n",
       "0        85.0        92  45.000000  27.000000  31.000000  0.000000\n",
       "1        85.0        64  59.000000  32.000000  23.000000  0.000000\n",
       "2        86.0        54  14.293367  16.000000  18.868593  1.615984\n",
       "3        91.0        78  34.000000  13.358221  17.484917  1.617923\n",
       "4        98.0        55  13.000000  17.000000  17.000000  0.000000\n",
       "..        ...       ...        ...        ...        ...       ...\n",
       "340      91.0        54  25.000000  68.751282  87.756462  7.900461\n",
       "341      89.0        48  32.000000  22.000000  14.000000  4.000000\n",
       "342      85.0        52  22.000000  23.000000  34.000000  4.000000\n",
       "343      95.0        93  21.000000  27.000000  47.000000  6.000000\n",
       "344      91.0        93  11.241491  34.000000  15.817751  1.701290\n",
       "\n",
       "[345 rows x 6 columns]"
      ]
     },
     "execution_count": 20,
     "metadata": {},
     "output_type": "execute_result"
    }
   ],
   "source": [
    "imputations[-1]\n"
   ]
  },
  {
   "cell_type": "code",
   "execution_count": 21,
   "id": "1c8a41f8",
   "metadata": {},
   "outputs": [],
   "source": [
    "imputations[-1].to_excel(\"Bupa_AL_20(imp).xlsx\", index=False, header=False)"
   ]
  },
  {
   "cell_type": "code",
   "execution_count": null,
   "id": "ebf2f6d0",
   "metadata": {},
   "outputs": [],
   "source": []
  }
 ],
 "metadata": {
  "kernelspec": {
   "display_name": "Python 3 (ipykernel)",
   "language": "python",
   "name": "python3"
  },
  "language_info": {
   "codemirror_mode": {
    "name": "ipython",
    "version": 3
   },
   "file_extension": ".py",
   "mimetype": "text/x-python",
   "name": "python",
   "nbconvert_exporter": "python",
   "pygments_lexer": "ipython3",
   "version": "3.9.7"
  }
 },
 "nbformat": 4,
 "nbformat_minor": 5
}
