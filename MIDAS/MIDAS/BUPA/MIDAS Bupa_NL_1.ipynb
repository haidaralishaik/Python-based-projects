{
 "cells": [
  {
   "cell_type": "code",
   "execution_count": 22,
   "id": "48128b60",
   "metadata": {},
   "outputs": [],
   "source": [
    "from sklearn.preprocessing import MinMaxScaler\n",
    "import numpy as np\n",
    "import pandas as pd\n",
    "import tensorflow as tf\n",
    "import MIDASpy as md\n",
    "import math\n"
   ]
  },
  {
   "cell_type": "code",
   "execution_count": 23,
   "id": "f638e7f0",
   "metadata": {
    "scrolled": false
   },
   "outputs": [
    {
     "data": {
      "text/html": [
       "<div>\n",
       "<style scoped>\n",
       "    .dataframe tbody tr th:only-of-type {\n",
       "        vertical-align: middle;\n",
       "    }\n",
       "\n",
       "    .dataframe tbody tr th {\n",
       "        vertical-align: top;\n",
       "    }\n",
       "\n",
       "    .dataframe thead th {\n",
       "        text-align: right;\n",
       "    }\n",
       "</style>\n",
       "<table border=\"1\" class=\"dataframe\">\n",
       "  <thead>\n",
       "    <tr style=\"text-align: right;\">\n",
       "      <th></th>\n",
       "      <th>column 1</th>\n",
       "      <th>column 2</th>\n",
       "      <th>column 3</th>\n",
       "      <th>column 4</th>\n",
       "      <th>column 5</th>\n",
       "      <th>column 6</th>\n",
       "    </tr>\n",
       "  </thead>\n",
       "  <tbody>\n",
       "    <tr>\n",
       "      <th>0</th>\n",
       "      <td>85.0</td>\n",
       "      <td>92</td>\n",
       "      <td>45.0</td>\n",
       "      <td>27</td>\n",
       "      <td>31</td>\n",
       "      <td>NaN</td>\n",
       "    </tr>\n",
       "    <tr>\n",
       "      <th>1</th>\n",
       "      <td>85.0</td>\n",
       "      <td>64</td>\n",
       "      <td>59.0</td>\n",
       "      <td>32</td>\n",
       "      <td>23</td>\n",
       "      <td>0.0</td>\n",
       "    </tr>\n",
       "    <tr>\n",
       "      <th>2</th>\n",
       "      <td>86.0</td>\n",
       "      <td>54</td>\n",
       "      <td>33.0</td>\n",
       "      <td>16</td>\n",
       "      <td>54</td>\n",
       "      <td>0.0</td>\n",
       "    </tr>\n",
       "    <tr>\n",
       "      <th>3</th>\n",
       "      <td>91.0</td>\n",
       "      <td>78</td>\n",
       "      <td>34.0</td>\n",
       "      <td>24</td>\n",
       "      <td>36</td>\n",
       "      <td>0.0</td>\n",
       "    </tr>\n",
       "    <tr>\n",
       "      <th>4</th>\n",
       "      <td>98.0</td>\n",
       "      <td>55</td>\n",
       "      <td>13.0</td>\n",
       "      <td>17</td>\n",
       "      <td>17</td>\n",
       "      <td>0.0</td>\n",
       "    </tr>\n",
       "    <tr>\n",
       "      <th>...</th>\n",
       "      <td>...</td>\n",
       "      <td>...</td>\n",
       "      <td>...</td>\n",
       "      <td>...</td>\n",
       "      <td>...</td>\n",
       "      <td>...</td>\n",
       "    </tr>\n",
       "    <tr>\n",
       "      <th>340</th>\n",
       "      <td>91.0</td>\n",
       "      <td>54</td>\n",
       "      <td>25.0</td>\n",
       "      <td>22</td>\n",
       "      <td>35</td>\n",
       "      <td>4.0</td>\n",
       "    </tr>\n",
       "    <tr>\n",
       "      <th>341</th>\n",
       "      <td>89.0</td>\n",
       "      <td>48</td>\n",
       "      <td>32.0</td>\n",
       "      <td>22</td>\n",
       "      <td>14</td>\n",
       "      <td>4.0</td>\n",
       "    </tr>\n",
       "    <tr>\n",
       "      <th>342</th>\n",
       "      <td>85.0</td>\n",
       "      <td>52</td>\n",
       "      <td>22.0</td>\n",
       "      <td>23</td>\n",
       "      <td>34</td>\n",
       "      <td>4.0</td>\n",
       "    </tr>\n",
       "    <tr>\n",
       "      <th>343</th>\n",
       "      <td>95.0</td>\n",
       "      <td>93</td>\n",
       "      <td>21.0</td>\n",
       "      <td>27</td>\n",
       "      <td>47</td>\n",
       "      <td>6.0</td>\n",
       "    </tr>\n",
       "    <tr>\n",
       "      <th>344</th>\n",
       "      <td>91.0</td>\n",
       "      <td>93</td>\n",
       "      <td>35.0</td>\n",
       "      <td>34</td>\n",
       "      <td>37</td>\n",
       "      <td>10.0</td>\n",
       "    </tr>\n",
       "  </tbody>\n",
       "</table>\n",
       "<p>345 rows × 6 columns</p>\n",
       "</div>"
      ],
      "text/plain": [
       "     column 1  column 2  column 3  column 4  column 5  column 6\n",
       "0        85.0        92      45.0        27        31       NaN\n",
       "1        85.0        64      59.0        32        23       0.0\n",
       "2        86.0        54      33.0        16        54       0.0\n",
       "3        91.0        78      34.0        24        36       0.0\n",
       "4        98.0        55      13.0        17        17       0.0\n",
       "..        ...       ...       ...       ...       ...       ...\n",
       "340      91.0        54      25.0        22        35       4.0\n",
       "341      89.0        48      32.0        22        14       4.0\n",
       "342      85.0        52      22.0        23        34       4.0\n",
       "343      95.0        93      21.0        27        47       6.0\n",
       "344      91.0        93      35.0        34        37      10.0\n",
       "\n",
       "[345 rows x 6 columns]"
      ]
     },
     "execution_count": 23,
     "metadata": {},
     "output_type": "execute_result"
    }
   ],
   "source": [
    "column_names=['column 1','column 2','column 3','column 4','column 5','column 6']\n",
    "df=pd.read_excel(r'C:\\Users\\Jaber Shahnawaz\\Downloads\\Incomplete Datasets\\Incomplete Datasets Without Labels\\Bupa\\Bupa_NL_1.xlsx', header=None,names=column_names)\n",
    "df"
   ]
  },
  {
   "cell_type": "code",
   "execution_count": 24,
   "id": "585cc6f7",
   "metadata": {},
   "outputs": [
    {
     "name": "stdout",
     "output_type": "stream",
     "text": [
      "dataType\tcolumn_names\tNumber of Nulls\n",
      "float64\t\tcolumn 1\t3\n",
      "int64\t\tcolumn 2\t0\n",
      "float64\t\tcolumn 3\t9\n",
      "int64\t\tcolumn 4\t0\n",
      "int64\t\tcolumn 5\t0\n",
      "float64\t\tcolumn 6\t6\n"
     ]
    }
   ],
   "source": [
    "print('dataType',end='\\t')\n",
    "print('column_names',end='\\t')\n",
    "print('Number of Nulls')\n",
    "for name in column_names:\n",
    "    print(df[name].dtype,end='\\t\\t')\n",
    "    print(name,end='\\t')\n",
    "    print(df[name].isnull().sum())"
   ]
  },
  {
   "cell_type": "code",
   "execution_count": 25,
   "id": "75bd9c64",
   "metadata": {},
   "outputs": [
    {
     "data": {
      "text/html": [
       "<div>\n",
       "<style scoped>\n",
       "    .dataframe tbody tr th:only-of-type {\n",
       "        vertical-align: middle;\n",
       "    }\n",
       "\n",
       "    .dataframe tbody tr th {\n",
       "        vertical-align: top;\n",
       "    }\n",
       "\n",
       "    .dataframe thead th {\n",
       "        text-align: right;\n",
       "    }\n",
       "</style>\n",
       "<table border=\"1\" class=\"dataframe\">\n",
       "  <thead>\n",
       "    <tr style=\"text-align: right;\">\n",
       "      <th></th>\n",
       "      <th>column 1</th>\n",
       "      <th>column 2</th>\n",
       "      <th>column 3</th>\n",
       "      <th>column 4</th>\n",
       "      <th>column 5</th>\n",
       "      <th>column 6</th>\n",
       "    </tr>\n",
       "  </thead>\n",
       "  <tbody>\n",
       "    <tr>\n",
       "      <th>count</th>\n",
       "      <td>342.000000</td>\n",
       "      <td>345.000000</td>\n",
       "      <td>336.000000</td>\n",
       "      <td>345.000000</td>\n",
       "      <td>345.000000</td>\n",
       "      <td>339.000000</td>\n",
       "    </tr>\n",
       "    <tr>\n",
       "      <th>mean</th>\n",
       "      <td>90.154971</td>\n",
       "      <td>69.869565</td>\n",
       "      <td>30.086310</td>\n",
       "      <td>24.643478</td>\n",
       "      <td>38.284058</td>\n",
       "      <td>3.474926</td>\n",
       "    </tr>\n",
       "    <tr>\n",
       "      <th>std</th>\n",
       "      <td>4.446088</td>\n",
       "      <td>18.347670</td>\n",
       "      <td>18.420341</td>\n",
       "      <td>10.064494</td>\n",
       "      <td>39.254616</td>\n",
       "      <td>3.342410</td>\n",
       "    </tr>\n",
       "    <tr>\n",
       "      <th>min</th>\n",
       "      <td>65.000000</td>\n",
       "      <td>23.000000</td>\n",
       "      <td>4.000000</td>\n",
       "      <td>5.000000</td>\n",
       "      <td>5.000000</td>\n",
       "      <td>0.000000</td>\n",
       "    </tr>\n",
       "    <tr>\n",
       "      <th>25%</th>\n",
       "      <td>87.000000</td>\n",
       "      <td>57.000000</td>\n",
       "      <td>20.000000</td>\n",
       "      <td>19.000000</td>\n",
       "      <td>15.000000</td>\n",
       "      <td>0.500000</td>\n",
       "    </tr>\n",
       "    <tr>\n",
       "      <th>50%</th>\n",
       "      <td>90.000000</td>\n",
       "      <td>67.000000</td>\n",
       "      <td>26.000000</td>\n",
       "      <td>23.000000</td>\n",
       "      <td>25.000000</td>\n",
       "      <td>3.000000</td>\n",
       "    </tr>\n",
       "    <tr>\n",
       "      <th>75%</th>\n",
       "      <td>92.750000</td>\n",
       "      <td>80.000000</td>\n",
       "      <td>34.000000</td>\n",
       "      <td>27.000000</td>\n",
       "      <td>46.000000</td>\n",
       "      <td>6.000000</td>\n",
       "    </tr>\n",
       "    <tr>\n",
       "      <th>max</th>\n",
       "      <td>103.000000</td>\n",
       "      <td>138.000000</td>\n",
       "      <td>155.000000</td>\n",
       "      <td>82.000000</td>\n",
       "      <td>297.000000</td>\n",
       "      <td>20.000000</td>\n",
       "    </tr>\n",
       "  </tbody>\n",
       "</table>\n",
       "</div>"
      ],
      "text/plain": [
       "         column 1    column 2    column 3    column 4    column 5    column 6\n",
       "count  342.000000  345.000000  336.000000  345.000000  345.000000  339.000000\n",
       "mean    90.154971   69.869565   30.086310   24.643478   38.284058    3.474926\n",
       "std      4.446088   18.347670   18.420341   10.064494   39.254616    3.342410\n",
       "min     65.000000   23.000000    4.000000    5.000000    5.000000    0.000000\n",
       "25%     87.000000   57.000000   20.000000   19.000000   15.000000    0.500000\n",
       "50%     90.000000   67.000000   26.000000   23.000000   25.000000    3.000000\n",
       "75%     92.750000   80.000000   34.000000   27.000000   46.000000    6.000000\n",
       "max    103.000000  138.000000  155.000000   82.000000  297.000000   20.000000"
      ]
     },
     "execution_count": 25,
     "metadata": {},
     "output_type": "execute_result"
    }
   ],
   "source": [
    "\n",
    "df.describe()"
   ]
  },
  {
   "cell_type": "code",
   "execution_count": 26,
   "id": "56182ba1",
   "metadata": {
    "scrolled": false
   },
   "outputs": [
    {
     "data": {
      "text/plain": [
       "<AxesSubplot:>"
      ]
     },
     "execution_count": 26,
     "metadata": {},
     "output_type": "execute_result"
    },
    {
     "data": {
      "image/png": "[encoded data removed]",
      "text/plain": [
       "<Figure size 1080x360 with 1 Axes>"
      ]
     },
     "metadata": {
      "needs_background": "light"
     },
     "output_type": "display_data"
    }
   ],
   "source": [
    "df.boxplot(return_type='axes', figsize=(15,5))"
   ]
  },
  {
   "cell_type": "code",
   "execution_count": 27,
   "id": "856e9b6c",
   "metadata": {},
   "outputs": [
    {
     "data": {
      "text/plain": [
       "column 1    90.154971\n",
       "column 2    69.869565\n",
       "column 3    30.086310\n",
       "column 4    24.643478\n",
       "column 5    38.284058\n",
       "column 6     3.474926\n",
       "dtype: float64"
      ]
     },
     "execution_count": 27,
     "metadata": {},
     "output_type": "execute_result"
    }
   ],
   "source": [
    "df.mean()"
   ]
  },
  {
   "cell_type": "code",
   "execution_count": 28,
   "id": "18c4a9dd",
   "metadata": {},
   "outputs": [
    {
     "data": {
      "text/html": [
       "<div>\n",
       "<style scoped>\n",
       "    .dataframe tbody tr th:only-of-type {\n",
       "        vertical-align: middle;\n",
       "    }\n",
       "\n",
       "    .dataframe tbody tr th {\n",
       "        vertical-align: top;\n",
       "    }\n",
       "\n",
       "    .dataframe thead th {\n",
       "        text-align: right;\n",
       "    }\n",
       "</style>\n",
       "<table border=\"1\" class=\"dataframe\">\n",
       "  <thead>\n",
       "    <tr style=\"text-align: right;\">\n",
       "      <th></th>\n",
       "      <th>column 1</th>\n",
       "      <th>column 2</th>\n",
       "      <th>column 3</th>\n",
       "      <th>column 4</th>\n",
       "      <th>column 5</th>\n",
       "      <th>column 6</th>\n",
       "    </tr>\n",
       "  </thead>\n",
       "  <tbody>\n",
       "    <tr>\n",
       "      <th>column 1</th>\n",
       "      <td>1.000000</td>\n",
       "      <td>0.055101</td>\n",
       "      <td>0.144805</td>\n",
       "      <td>0.194114</td>\n",
       "      <td>0.226197</td>\n",
       "      <td>0.325143</td>\n",
       "    </tr>\n",
       "    <tr>\n",
       "      <th>column 2</th>\n",
       "      <td>0.055101</td>\n",
       "      <td>1.000000</td>\n",
       "      <td>0.120075</td>\n",
       "      <td>0.146057</td>\n",
       "      <td>0.133140</td>\n",
       "      <td>0.105354</td>\n",
       "    </tr>\n",
       "    <tr>\n",
       "      <th>column 3</th>\n",
       "      <td>0.144805</td>\n",
       "      <td>0.120075</td>\n",
       "      <td>1.000000</td>\n",
       "      <td>0.706466</td>\n",
       "      <td>0.495405</td>\n",
       "      <td>0.210525</td>\n",
       "    </tr>\n",
       "    <tr>\n",
       "      <th>column 4</th>\n",
       "      <td>0.194114</td>\n",
       "      <td>0.146057</td>\n",
       "      <td>0.706466</td>\n",
       "      <td>1.000000</td>\n",
       "      <td>0.527626</td>\n",
       "      <td>0.283001</td>\n",
       "    </tr>\n",
       "    <tr>\n",
       "      <th>column 5</th>\n",
       "      <td>0.226197</td>\n",
       "      <td>0.133140</td>\n",
       "      <td>0.495405</td>\n",
       "      <td>0.527626</td>\n",
       "      <td>1.000000</td>\n",
       "      <td>0.342416</td>\n",
       "    </tr>\n",
       "    <tr>\n",
       "      <th>column 6</th>\n",
       "      <td>0.325143</td>\n",
       "      <td>0.105354</td>\n",
       "      <td>0.210525</td>\n",
       "      <td>0.283001</td>\n",
       "      <td>0.342416</td>\n",
       "      <td>1.000000</td>\n",
       "    </tr>\n",
       "  </tbody>\n",
       "</table>\n",
       "</div>"
      ],
      "text/plain": [
       "          column 1  column 2  column 3  column 4  column 5  column 6\n",
       "column 1  1.000000  0.055101  0.144805  0.194114  0.226197  0.325143\n",
       "column 2  0.055101  1.000000  0.120075  0.146057  0.133140  0.105354\n",
       "column 3  0.144805  0.120075  1.000000  0.706466  0.495405  0.210525\n",
       "column 4  0.194114  0.146057  0.706466  1.000000  0.527626  0.283001\n",
       "column 5  0.226197  0.133140  0.495405  0.527626  1.000000  0.342416\n",
       "column 6  0.325143  0.105354  0.210525  0.283001  0.342416  1.000000"
      ]
     },
     "execution_count": 28,
     "metadata": {},
     "output_type": "execute_result"
    }
   ],
   "source": [
    "corr=df.corr()\n",
    "corr"
   ]
  },
  {
   "cell_type": "code",
   "execution_count": 29,
   "id": "ea626871",
   "metadata": {},
   "outputs": [],
   "source": [
    "tf.compat.v1.reset_default_graph()\n",
    "import tensorflow.compat.v1 as tf\n",
    "tf.reset_default_graph()\n"
   ]
  },
  {
   "cell_type": "code",
   "execution_count": 30,
   "id": "2830e6e4",
   "metadata": {
    "scrolled": false
   },
   "outputs": [
    {
     "name": "stdout",
     "output_type": "stream",
     "text": [
      "Size index: [6]\n",
      "\n",
      "Computation graph constructed\n",
      "\n",
      "Model initialised\n",
      "\n",
      "Epoch: 0 , loss: 277.2057393391927\n",
      "Epoch: 1 , loss: 278.01907493954616\n",
      "Epoch: 2 , loss: 277.7641405378069\n",
      "Epoch: 3 , loss: 279.3629382905506\n",
      "Epoch: 4 , loss: 279.71038237072173\n",
      "Epoch: 5 , loss: 279.58414059593565\n",
      "Epoch: 6 , loss: 277.88452802385603\n",
      "Epoch: 7 , loss: 278.1747690836589\n",
      "Epoch: 8 , loss: 278.75836472284226\n",
      "Epoch: 9 , loss: 278.57987830752415\n",
      "Epoch: 10 , loss: 276.8247397286551\n",
      "Epoch: 11 , loss: 278.558845883324\n",
      "Epoch: 12 , loss: 277.794425601051\n",
      "Epoch: 13 , loss: 278.77770269484745\n",
      "Epoch: 14 , loss: 277.43878755115327\n",
      "Epoch: 15 , loss: 274.96763610839844\n",
      "Epoch: 16 , loss: 279.07173229399183\n",
      "Epoch: 17 , loss: 279.4738573346819\n",
      "Epoch: 18 , loss: 279.4534170968192\n",
      "Epoch: 19 , loss: 277.1783156622024\n",
      "Epoch: 20 , loss: 278.9532703218006\n",
      "Epoch: 21 , loss: 278.9772455124628\n",
      "Epoch: 22 , loss: 277.6400306338356\n",
      "Epoch: 23 , loss: 277.20321291968935\n",
      "Epoch: 24 , loss: 277.4700273786272\n",
      "Epoch: 25 , loss: 278.19603547595796\n",
      "Epoch: 26 , loss: 277.7996586390904\n",
      "Epoch: 27 , loss: 277.81238519577755\n",
      "Training complete. Saving file...\n",
      "Model saved in file: tmp/MIDAS\n"
     ]
    },
    {
     "data": {
      "text/plain": [
       "<MIDASpy.midas_base.Midas at 0x1eee4110af0>"
      ]
     },
     "execution_count": 30,
     "metadata": {},
     "output_type": "execute_result"
    }
   ],
   "source": [
    "imputer = md.Midas(layer_structure = [6,6+28,6+28+28,6+28+28+28,6+28+28+28+28,6+28+28+28,6+28+28,6+28,6], vae_layer = False, seed = 280)\n",
    "imputer.build_model(df)\n",
    "imputer.train_model(training_epochs=28)\n"
   ]
  },
  {
   "cell_type": "code",
   "execution_count": 31,
   "id": "6f0fef50",
   "metadata": {},
   "outputs": [
    {
     "name": "stdout",
     "output_type": "stream",
     "text": [
      "INFO:tensorflow:Restoring parameters from tmp/MIDAS\n",
      "Model restored.\n"
     ]
    },
    {
     "data": {
      "text/plain": [
       "(345, 6)"
      ]
     },
     "execution_count": 31,
     "metadata": {},
     "output_type": "execute_result"
    }
   ],
   "source": [
    "imputations=imputer.generate_samples(m=15).output_list\n",
    "np.shape(imputations[-1])"
   ]
  },
  {
   "cell_type": "code",
   "execution_count": 32,
   "id": "7842db79",
   "metadata": {
    "scrolled": true
   },
   "outputs": [
    {
     "data": {
      "text/plain": [
       "column 1    90.0\n",
       "column 2    47.0\n",
       "column 3    28.0\n",
       "column 4    15.0\n",
       "column 5    18.0\n",
       "column 6     0.5\n",
       "Name: 21, dtype: float64"
      ]
     },
     "execution_count": 32,
     "metadata": {},
     "output_type": "execute_result"
    }
   ],
   "source": [
    "new_df=imputations[-1]\n",
    "new_df.iloc[21,:]\n"
   ]
  },
  {
   "cell_type": "code",
   "execution_count": 33,
   "id": "a254172c",
   "metadata": {},
   "outputs": [],
   "source": [
    "complete_df=pd.read_excel(r'C:\\Users\\Jaber Shahnawaz\\Downloads\\Original Datasets (1)\\Original Datasets Without Labels\\Bupa.xlsx', header=None,names=column_names)"
   ]
  },
  {
   "cell_type": "code",
   "execution_count": 34,
   "id": "0a697afe",
   "metadata": {},
   "outputs": [
    {
     "data": {
      "text/html": [
       "<div>\n",
       "<style scoped>\n",
       "    .dataframe tbody tr th:only-of-type {\n",
       "        vertical-align: middle;\n",
       "    }\n",
       "\n",
       "    .dataframe tbody tr th {\n",
       "        vertical-align: top;\n",
       "    }\n",
       "\n",
       "    .dataframe thead th {\n",
       "        text-align: right;\n",
       "    }\n",
       "</style>\n",
       "<table border=\"1\" class=\"dataframe\">\n",
       "  <thead>\n",
       "    <tr style=\"text-align: right;\">\n",
       "      <th></th>\n",
       "      <th>column 1</th>\n",
       "      <th>column 2</th>\n",
       "      <th>column 3</th>\n",
       "      <th>column 4</th>\n",
       "      <th>column 5</th>\n",
       "      <th>column 6</th>\n",
       "    </tr>\n",
       "  </thead>\n",
       "  <tbody>\n",
       "    <tr>\n",
       "      <th>0</th>\n",
       "      <td>0.0</td>\n",
       "      <td>0</td>\n",
       "      <td>0.0</td>\n",
       "      <td>0</td>\n",
       "      <td>0</td>\n",
       "      <td>0.038508</td>\n",
       "    </tr>\n",
       "    <tr>\n",
       "      <th>1</th>\n",
       "      <td>0.0</td>\n",
       "      <td>0</td>\n",
       "      <td>0.0</td>\n",
       "      <td>0</td>\n",
       "      <td>0</td>\n",
       "      <td>0.000000</td>\n",
       "    </tr>\n",
       "    <tr>\n",
       "      <th>2</th>\n",
       "      <td>0.0</td>\n",
       "      <td>0</td>\n",
       "      <td>0.0</td>\n",
       "      <td>0</td>\n",
       "      <td>0</td>\n",
       "      <td>0.000000</td>\n",
       "    </tr>\n",
       "    <tr>\n",
       "      <th>3</th>\n",
       "      <td>0.0</td>\n",
       "      <td>0</td>\n",
       "      <td>0.0</td>\n",
       "      <td>0</td>\n",
       "      <td>0</td>\n",
       "      <td>0.000000</td>\n",
       "    </tr>\n",
       "    <tr>\n",
       "      <th>4</th>\n",
       "      <td>0.0</td>\n",
       "      <td>0</td>\n",
       "      <td>0.0</td>\n",
       "      <td>0</td>\n",
       "      <td>0</td>\n",
       "      <td>0.000000</td>\n",
       "    </tr>\n",
       "    <tr>\n",
       "      <th>...</th>\n",
       "      <td>...</td>\n",
       "      <td>...</td>\n",
       "      <td>...</td>\n",
       "      <td>...</td>\n",
       "      <td>...</td>\n",
       "      <td>...</td>\n",
       "    </tr>\n",
       "    <tr>\n",
       "      <th>340</th>\n",
       "      <td>0.0</td>\n",
       "      <td>0</td>\n",
       "      <td>0.0</td>\n",
       "      <td>0</td>\n",
       "      <td>0</td>\n",
       "      <td>0.000000</td>\n",
       "    </tr>\n",
       "    <tr>\n",
       "      <th>341</th>\n",
       "      <td>0.0</td>\n",
       "      <td>0</td>\n",
       "      <td>0.0</td>\n",
       "      <td>0</td>\n",
       "      <td>0</td>\n",
       "      <td>0.000000</td>\n",
       "    </tr>\n",
       "    <tr>\n",
       "      <th>342</th>\n",
       "      <td>0.0</td>\n",
       "      <td>0</td>\n",
       "      <td>0.0</td>\n",
       "      <td>0</td>\n",
       "      <td>0</td>\n",
       "      <td>0.000000</td>\n",
       "    </tr>\n",
       "    <tr>\n",
       "      <th>343</th>\n",
       "      <td>0.0</td>\n",
       "      <td>0</td>\n",
       "      <td>0.0</td>\n",
       "      <td>0</td>\n",
       "      <td>0</td>\n",
       "      <td>0.000000</td>\n",
       "    </tr>\n",
       "    <tr>\n",
       "      <th>344</th>\n",
       "      <td>0.0</td>\n",
       "      <td>0</td>\n",
       "      <td>0.0</td>\n",
       "      <td>0</td>\n",
       "      <td>0</td>\n",
       "      <td>0.000000</td>\n",
       "    </tr>\n",
       "  </tbody>\n",
       "</table>\n",
       "<p>345 rows × 6 columns</p>\n",
       "</div>"
      ],
      "text/plain": [
       "     column 1  column 2  column 3  column 4  column 5  column 6\n",
       "0         0.0         0       0.0         0         0  0.038508\n",
       "1         0.0         0       0.0         0         0  0.000000\n",
       "2         0.0         0       0.0         0         0  0.000000\n",
       "3         0.0         0       0.0         0         0  0.000000\n",
       "4         0.0         0       0.0         0         0  0.000000\n",
       "..        ...       ...       ...       ...       ...       ...\n",
       "340       0.0         0       0.0         0         0  0.000000\n",
       "341       0.0         0       0.0         0         0  0.000000\n",
       "342       0.0         0       0.0         0         0  0.000000\n",
       "343       0.0         0       0.0         0         0  0.000000\n",
       "344       0.0         0       0.0         0         0  0.000000\n",
       "\n",
       "[345 rows x 6 columns]"
      ]
     },
     "execution_count": 34,
     "metadata": {},
     "output_type": "execute_result"
    }
   ],
   "source": [
    "new_df-complete_df"
   ]
  },
  {
   "cell_type": "markdown",
   "id": "b4a4024f",
   "metadata": {},
   "source": [
    "Calculating NRMSE Value"
   ]
  },
  {
   "cell_type": "code",
   "execution_count": 35,
   "id": "b0a1ddd7",
   "metadata": {},
   "outputs": [],
   "source": [
    "\n",
    "def Sum_new(sum):\n",
    "    summ=0\n",
    "    for n in sum:\n",
    "        summ=summ+n\n",
    "    return (summ)\n",
    "\n"
   ]
  },
  {
   "cell_type": "code",
   "execution_count": 36,
   "id": "335450db",
   "metadata": {},
   "outputs": [],
   "source": [
    "def Frobenius_norm(number):\n",
    "    num=number\n",
    "    abs_val=num.abs()\n",
    "    power_abs=abs_val**2\n",
    "    sum1=power_abs.sum()\n",
    "    total_sum=Sum_new(sum1)\n",
    "    return(math.sqrt(total_sum))"
   ]
  },
  {
   "cell_type": "code",
   "execution_count": 37,
   "id": "28857c9a",
   "metadata": {},
   "outputs": [
    {
     "data": {
      "text/plain": [
       "238.42328360112296"
      ]
     },
     "execution_count": 37,
     "metadata": {},
     "output_type": "execute_result"
    }
   ],
   "source": [
    "numerator=Frobenius_norm(new_df-complete_df)\n",
    "numerator"
   ]
  },
  {
   "cell_type": "code",
   "execution_count": 38,
   "id": "53a8606f",
   "metadata": {},
   "outputs": [
    {
     "data": {
      "text/plain": [
       "2519.762091944396"
      ]
     },
     "execution_count": 38,
     "metadata": {},
     "output_type": "execute_result"
    }
   ],
   "source": [
    "denominator=Frobenius_norm(complete_df)\n",
    "denominator"
   ]
  },
  {
   "cell_type": "code",
   "execution_count": 39,
   "id": "998aacba",
   "metadata": {},
   "outputs": [
    {
     "data": {
      "text/plain": [
       "0.09462134713565025"
      ]
     },
     "execution_count": 39,
     "metadata": {},
     "output_type": "execute_result"
    }
   ],
   "source": [
    "NRMS=numerator/denominator\n",
    "NRMS\n"
   ]
  },
  {
   "cell_type": "code",
   "execution_count": 40,
   "id": "84845123",
   "metadata": {},
   "outputs": [
    {
     "data": {
      "text/plain": [
       "column 1    86.0\n",
       "column 2    54.0\n",
       "column 3    20.0\n",
       "column 4    21.0\n",
       "column 5    16.0\n",
       "column 6     2.0\n",
       "Name: 66, dtype: float64"
      ]
     },
     "execution_count": 40,
     "metadata": {},
     "output_type": "execute_result"
    }
   ],
   "source": [
    "new_df.iloc[66,:]"
   ]
  },
  {
   "cell_type": "code",
   "execution_count": 41,
   "id": "bfe943bf",
   "metadata": {},
   "outputs": [
    {
     "data": {
      "text/html": [
       "<div>\n",
       "<style scoped>\n",
       "    .dataframe tbody tr th:only-of-type {\n",
       "        vertical-align: middle;\n",
       "    }\n",
       "\n",
       "    .dataframe tbody tr th {\n",
       "        vertical-align: top;\n",
       "    }\n",
       "\n",
       "    .dataframe thead th {\n",
       "        text-align: right;\n",
       "    }\n",
       "</style>\n",
       "<table border=\"1\" class=\"dataframe\">\n",
       "  <thead>\n",
       "    <tr style=\"text-align: right;\">\n",
       "      <th></th>\n",
       "      <th>column 1</th>\n",
       "      <th>column 2</th>\n",
       "      <th>column 3</th>\n",
       "      <th>column 4</th>\n",
       "      <th>column 5</th>\n",
       "      <th>column 6</th>\n",
       "    </tr>\n",
       "  </thead>\n",
       "  <tbody>\n",
       "    <tr>\n",
       "      <th>0</th>\n",
       "      <td>85.0</td>\n",
       "      <td>92</td>\n",
       "      <td>45.0</td>\n",
       "      <td>27</td>\n",
       "      <td>31</td>\n",
       "      <td>0.038508</td>\n",
       "    </tr>\n",
       "    <tr>\n",
       "      <th>1</th>\n",
       "      <td>85.0</td>\n",
       "      <td>64</td>\n",
       "      <td>59.0</td>\n",
       "      <td>32</td>\n",
       "      <td>23</td>\n",
       "      <td>0.000000</td>\n",
       "    </tr>\n",
       "    <tr>\n",
       "      <th>2</th>\n",
       "      <td>86.0</td>\n",
       "      <td>54</td>\n",
       "      <td>33.0</td>\n",
       "      <td>16</td>\n",
       "      <td>54</td>\n",
       "      <td>0.000000</td>\n",
       "    </tr>\n",
       "    <tr>\n",
       "      <th>3</th>\n",
       "      <td>91.0</td>\n",
       "      <td>78</td>\n",
       "      <td>34.0</td>\n",
       "      <td>24</td>\n",
       "      <td>36</td>\n",
       "      <td>0.000000</td>\n",
       "    </tr>\n",
       "    <tr>\n",
       "      <th>4</th>\n",
       "      <td>98.0</td>\n",
       "      <td>55</td>\n",
       "      <td>13.0</td>\n",
       "      <td>17</td>\n",
       "      <td>17</td>\n",
       "      <td>0.000000</td>\n",
       "    </tr>\n",
       "    <tr>\n",
       "      <th>...</th>\n",
       "      <td>...</td>\n",
       "      <td>...</td>\n",
       "      <td>...</td>\n",
       "      <td>...</td>\n",
       "      <td>...</td>\n",
       "      <td>...</td>\n",
       "    </tr>\n",
       "    <tr>\n",
       "      <th>340</th>\n",
       "      <td>91.0</td>\n",
       "      <td>54</td>\n",
       "      <td>25.0</td>\n",
       "      <td>22</td>\n",
       "      <td>35</td>\n",
       "      <td>4.000000</td>\n",
       "    </tr>\n",
       "    <tr>\n",
       "      <th>341</th>\n",
       "      <td>89.0</td>\n",
       "      <td>48</td>\n",
       "      <td>32.0</td>\n",
       "      <td>22</td>\n",
       "      <td>14</td>\n",
       "      <td>4.000000</td>\n",
       "    </tr>\n",
       "    <tr>\n",
       "      <th>342</th>\n",
       "      <td>85.0</td>\n",
       "      <td>52</td>\n",
       "      <td>22.0</td>\n",
       "      <td>23</td>\n",
       "      <td>34</td>\n",
       "      <td>4.000000</td>\n",
       "    </tr>\n",
       "    <tr>\n",
       "      <th>343</th>\n",
       "      <td>95.0</td>\n",
       "      <td>93</td>\n",
       "      <td>21.0</td>\n",
       "      <td>27</td>\n",
       "      <td>47</td>\n",
       "      <td>6.000000</td>\n",
       "    </tr>\n",
       "    <tr>\n",
       "      <th>344</th>\n",
       "      <td>91.0</td>\n",
       "      <td>93</td>\n",
       "      <td>35.0</td>\n",
       "      <td>34</td>\n",
       "      <td>37</td>\n",
       "      <td>10.000000</td>\n",
       "    </tr>\n",
       "  </tbody>\n",
       "</table>\n",
       "<p>345 rows × 6 columns</p>\n",
       "</div>"
      ],
      "text/plain": [
       "     column 1  column 2  column 3  column 4  column 5   column 6\n",
       "0        85.0        92      45.0        27        31   0.038508\n",
       "1        85.0        64      59.0        32        23   0.000000\n",
       "2        86.0        54      33.0        16        54   0.000000\n",
       "3        91.0        78      34.0        24        36   0.000000\n",
       "4        98.0        55      13.0        17        17   0.000000\n",
       "..        ...       ...       ...       ...       ...        ...\n",
       "340      91.0        54      25.0        22        35   4.000000\n",
       "341      89.0        48      32.0        22        14   4.000000\n",
       "342      85.0        52      22.0        23        34   4.000000\n",
       "343      95.0        93      21.0        27        47   6.000000\n",
       "344      91.0        93      35.0        34        37  10.000000\n",
       "\n",
       "[345 rows x 6 columns]"
      ]
     },
     "execution_count": 41,
     "metadata": {},
     "output_type": "execute_result"
    }
   ],
   "source": [
    "imputations[-1]\n"
   ]
  },
  {
   "cell_type": "code",
   "execution_count": 42,
   "id": "1c8a41f8",
   "metadata": {},
   "outputs": [],
   "source": [
    "imputations[-1].to_excel(\"Bupa_NL_1(imp).xlsx\", index=False, header=False)"
   ]
  },
  {
   "cell_type": "code",
   "execution_count": null,
   "id": "ebf2f6d0",
   "metadata": {},
   "outputs": [],
   "source": []
  },
  {
   "cell_type": "code",
   "execution_count": null,
   "id": "25f9bad4",
   "metadata": {},
   "outputs": [],
   "source": []
  }
 ],
 "metadata": {
  "kernelspec": {
   "display_name": "Python 3 (ipykernel)",
   "language": "python",
   "name": "python3"
  },
  "language_info": {
   "codemirror_mode": {
    "name": "ipython",
    "version": 3
   },
   "file_extension": ".py",
   "mimetype": "text/x-python",
   "name": "python",
   "nbconvert_exporter": "python",
   "pygments_lexer": "ipython3",
   "version": "3.9.7"
  }
 },
 "nbformat": 4,
 "nbformat_minor": 5
}
