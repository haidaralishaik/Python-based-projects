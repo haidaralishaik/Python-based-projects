{
 "cells": [
  {
   "cell_type": "code",
   "execution_count": 1,
   "id": "48128b60",
   "metadata": {},
   "outputs": [],
   "source": [
    "from sklearn.preprocessing import MinMaxScaler\n",
    "import numpy as np\n",
    "import pandas as pd\n",
    "import tensorflow as tf\n",
    "import MIDASpy as md\n",
    "import math\n"
   ]
  },
  {
   "cell_type": "code",
   "execution_count": 2,
   "id": "f638e7f0",
   "metadata": {
    "scrolled": false
   },
   "outputs": [
    {
     "data": {
      "text/html": [
       "<div>\n",
       "<style scoped>\n",
       "    .dataframe tbody tr th:only-of-type {\n",
       "        vertical-align: middle;\n",
       "    }\n",
       "\n",
       "    .dataframe tbody tr th {\n",
       "        vertical-align: top;\n",
       "    }\n",
       "\n",
       "    .dataframe thead th {\n",
       "        text-align: right;\n",
       "    }\n",
       "</style>\n",
       "<table border=\"1\" class=\"dataframe\">\n",
       "  <thead>\n",
       "    <tr style=\"text-align: right;\">\n",
       "      <th></th>\n",
       "      <th>column 1</th>\n",
       "      <th>column 2</th>\n",
       "      <th>column 3</th>\n",
       "      <th>column 4</th>\n",
       "      <th>column 5</th>\n",
       "      <th>column 6</th>\n",
       "    </tr>\n",
       "  </thead>\n",
       "  <tbody>\n",
       "    <tr>\n",
       "      <th>0</th>\n",
       "      <td>85</td>\n",
       "      <td>92.0</td>\n",
       "      <td>45</td>\n",
       "      <td>27.0</td>\n",
       "      <td>31.0</td>\n",
       "      <td>NaN</td>\n",
       "    </tr>\n",
       "    <tr>\n",
       "      <th>1</th>\n",
       "      <td>85</td>\n",
       "      <td>NaN</td>\n",
       "      <td>59</td>\n",
       "      <td>32.0</td>\n",
       "      <td>23.0</td>\n",
       "      <td>0.0</td>\n",
       "    </tr>\n",
       "    <tr>\n",
       "      <th>2</th>\n",
       "      <td>86</td>\n",
       "      <td>54.0</td>\n",
       "      <td>33</td>\n",
       "      <td>16.0</td>\n",
       "      <td>54.0</td>\n",
       "      <td>NaN</td>\n",
       "    </tr>\n",
       "    <tr>\n",
       "      <th>3</th>\n",
       "      <td>91</td>\n",
       "      <td>78.0</td>\n",
       "      <td>34</td>\n",
       "      <td>24.0</td>\n",
       "      <td>36.0</td>\n",
       "      <td>0.0</td>\n",
       "    </tr>\n",
       "    <tr>\n",
       "      <th>4</th>\n",
       "      <td>98</td>\n",
       "      <td>55.0</td>\n",
       "      <td>13</td>\n",
       "      <td>17.0</td>\n",
       "      <td>17.0</td>\n",
       "      <td>0.0</td>\n",
       "    </tr>\n",
       "    <tr>\n",
       "      <th>...</th>\n",
       "      <td>...</td>\n",
       "      <td>...</td>\n",
       "      <td>...</td>\n",
       "      <td>...</td>\n",
       "      <td>...</td>\n",
       "      <td>...</td>\n",
       "    </tr>\n",
       "    <tr>\n",
       "      <th>340</th>\n",
       "      <td>91</td>\n",
       "      <td>54.0</td>\n",
       "      <td>25</td>\n",
       "      <td>22.0</td>\n",
       "      <td>35.0</td>\n",
       "      <td>4.0</td>\n",
       "    </tr>\n",
       "    <tr>\n",
       "      <th>341</th>\n",
       "      <td>89</td>\n",
       "      <td>48.0</td>\n",
       "      <td>32</td>\n",
       "      <td>22.0</td>\n",
       "      <td>14.0</td>\n",
       "      <td>4.0</td>\n",
       "    </tr>\n",
       "    <tr>\n",
       "      <th>342</th>\n",
       "      <td>85</td>\n",
       "      <td>52.0</td>\n",
       "      <td>22</td>\n",
       "      <td>23.0</td>\n",
       "      <td>34.0</td>\n",
       "      <td>4.0</td>\n",
       "    </tr>\n",
       "    <tr>\n",
       "      <th>343</th>\n",
       "      <td>95</td>\n",
       "      <td>NaN</td>\n",
       "      <td>21</td>\n",
       "      <td>27.0</td>\n",
       "      <td>47.0</td>\n",
       "      <td>6.0</td>\n",
       "    </tr>\n",
       "    <tr>\n",
       "      <th>344</th>\n",
       "      <td>91</td>\n",
       "      <td>93.0</td>\n",
       "      <td>35</td>\n",
       "      <td>34.0</td>\n",
       "      <td>37.0</td>\n",
       "      <td>10.0</td>\n",
       "    </tr>\n",
       "  </tbody>\n",
       "</table>\n",
       "<p>345 rows × 6 columns</p>\n",
       "</div>"
      ],
      "text/plain": [
       "     column 1  column 2  column 3  column 4  column 5  column 6\n",
       "0          85      92.0        45      27.0      31.0       NaN\n",
       "1          85       NaN        59      32.0      23.0       0.0\n",
       "2          86      54.0        33      16.0      54.0       NaN\n",
       "3          91      78.0        34      24.0      36.0       0.0\n",
       "4          98      55.0        13      17.0      17.0       0.0\n",
       "..        ...       ...       ...       ...       ...       ...\n",
       "340        91      54.0        25      22.0      35.0       4.0\n",
       "341        89      48.0        32      22.0      14.0       4.0\n",
       "342        85      52.0        22      23.0      34.0       4.0\n",
       "343        95       NaN        21      27.0      47.0       6.0\n",
       "344        91      93.0        35      34.0      37.0      10.0\n",
       "\n",
       "[345 rows x 6 columns]"
      ]
     },
     "execution_count": 2,
     "metadata": {},
     "output_type": "execute_result"
    }
   ],
   "source": [
    "column_names=['column 1','column 2','column 3','column 4','column 5','column 6']\n",
    "df=pd.read_excel(r'C:\\Users\\Jaber Shahnawaz\\Downloads\\Incomplete Datasets\\Incomplete Datasets Without Labels\\Bupa\\Bupa_NW_5.xlsx', header=None,names=column_names)\n",
    "df"
   ]
  },
  {
   "cell_type": "code",
   "execution_count": 3,
   "id": "585cc6f7",
   "metadata": {},
   "outputs": [
    {
     "name": "stdout",
     "output_type": "stream",
     "text": [
      "dataType\tcolumn_names\tNumber of Nulls\n",
      "int64\t\tcolumn 1\t0\n",
      "float64\t\tcolumn 2\t17\n",
      "int64\t\tcolumn 3\t0\n",
      "float64\t\tcolumn 4\t18\n",
      "float64\t\tcolumn 5\t51\n",
      "float64\t\tcolumn 6\t17\n"
     ]
    }
   ],
   "source": [
    "print('dataType',end='\\t')\n",
    "print('column_names',end='\\t')\n",
    "print('Number of Nulls')\n",
    "for name in column_names:\n",
    "    print(df[name].dtype,end='\\t\\t')\n",
    "    print(name,end='\\t')\n",
    "    print(df[name].isnull().sum())"
   ]
  },
  {
   "cell_type": "code",
   "execution_count": 4,
   "id": "75bd9c64",
   "metadata": {},
   "outputs": [
    {
     "data": {
      "text/html": [
       "<div>\n",
       "<style scoped>\n",
       "    .dataframe tbody tr th:only-of-type {\n",
       "        vertical-align: middle;\n",
       "    }\n",
       "\n",
       "    .dataframe tbody tr th {\n",
       "        vertical-align: top;\n",
       "    }\n",
       "\n",
       "    .dataframe thead th {\n",
       "        text-align: right;\n",
       "    }\n",
       "</style>\n",
       "<table border=\"1\" class=\"dataframe\">\n",
       "  <thead>\n",
       "    <tr style=\"text-align: right;\">\n",
       "      <th></th>\n",
       "      <th>column 1</th>\n",
       "      <th>column 2</th>\n",
       "      <th>column 3</th>\n",
       "      <th>column 4</th>\n",
       "      <th>column 5</th>\n",
       "      <th>column 6</th>\n",
       "    </tr>\n",
       "  </thead>\n",
       "  <tbody>\n",
       "    <tr>\n",
       "      <th>count</th>\n",
       "      <td>345.000000</td>\n",
       "      <td>328.000000</td>\n",
       "      <td>345.000000</td>\n",
       "      <td>327.000000</td>\n",
       "      <td>294.000000</td>\n",
       "      <td>328.000000</td>\n",
       "    </tr>\n",
       "    <tr>\n",
       "      <th>mean</th>\n",
       "      <td>90.159420</td>\n",
       "      <td>69.731707</td>\n",
       "      <td>30.405797</td>\n",
       "      <td>24.376147</td>\n",
       "      <td>38.962585</td>\n",
       "      <td>3.411585</td>\n",
       "    </tr>\n",
       "    <tr>\n",
       "      <th>std</th>\n",
       "      <td>4.448096</td>\n",
       "      <td>17.984396</td>\n",
       "      <td>19.512309</td>\n",
       "      <td>9.427270</td>\n",
       "      <td>40.119812</td>\n",
       "      <td>3.263849</td>\n",
       "    </tr>\n",
       "    <tr>\n",
       "      <th>min</th>\n",
       "      <td>65.000000</td>\n",
       "      <td>23.000000</td>\n",
       "      <td>4.000000</td>\n",
       "      <td>8.000000</td>\n",
       "      <td>5.000000</td>\n",
       "      <td>0.000000</td>\n",
       "    </tr>\n",
       "    <tr>\n",
       "      <th>25%</th>\n",
       "      <td>87.000000</td>\n",
       "      <td>57.000000</td>\n",
       "      <td>19.000000</td>\n",
       "      <td>19.000000</td>\n",
       "      <td>16.000000</td>\n",
       "      <td>0.500000</td>\n",
       "    </tr>\n",
       "    <tr>\n",
       "      <th>50%</th>\n",
       "      <td>90.000000</td>\n",
       "      <td>67.000000</td>\n",
       "      <td>26.000000</td>\n",
       "      <td>23.000000</td>\n",
       "      <td>26.000000</td>\n",
       "      <td>3.000000</td>\n",
       "    </tr>\n",
       "    <tr>\n",
       "      <th>75%</th>\n",
       "      <td>93.000000</td>\n",
       "      <td>79.000000</td>\n",
       "      <td>34.000000</td>\n",
       "      <td>27.000000</td>\n",
       "      <td>43.750000</td>\n",
       "      <td>5.000000</td>\n",
       "    </tr>\n",
       "    <tr>\n",
       "      <th>max</th>\n",
       "      <td>103.000000</td>\n",
       "      <td>138.000000</td>\n",
       "      <td>155.000000</td>\n",
       "      <td>78.000000</td>\n",
       "      <td>297.000000</td>\n",
       "      <td>20.000000</td>\n",
       "    </tr>\n",
       "  </tbody>\n",
       "</table>\n",
       "</div>"
      ],
      "text/plain": [
       "         column 1    column 2    column 3    column 4    column 5    column 6\n",
       "count  345.000000  328.000000  345.000000  327.000000  294.000000  328.000000\n",
       "mean    90.159420   69.731707   30.405797   24.376147   38.962585    3.411585\n",
       "std      4.448096   17.984396   19.512309    9.427270   40.119812    3.263849\n",
       "min     65.000000   23.000000    4.000000    8.000000    5.000000    0.000000\n",
       "25%     87.000000   57.000000   19.000000   19.000000   16.000000    0.500000\n",
       "50%     90.000000   67.000000   26.000000   23.000000   26.000000    3.000000\n",
       "75%     93.000000   79.000000   34.000000   27.000000   43.750000    5.000000\n",
       "max    103.000000  138.000000  155.000000   78.000000  297.000000   20.000000"
      ]
     },
     "execution_count": 4,
     "metadata": {},
     "output_type": "execute_result"
    }
   ],
   "source": [
    "df.describe()"
   ]
  },
  {
   "cell_type": "code",
   "execution_count": 5,
   "id": "56182ba1",
   "metadata": {
    "scrolled": false
   },
   "outputs": [
    {
     "data": {
      "text/plain": [
       "<AxesSubplot:>"
      ]
     },
     "execution_count": 5,
     "metadata": {},
     "output_type": "execute_result"
    },
    {
     "data": {
      "image/png": "[encoded data removed]",
      "text/plain": [
       "<Figure size 1080x360 with 1 Axes>"
      ]
     },
     "metadata": {
      "needs_background": "light"
     },
     "output_type": "display_data"
    }
   ],
   "source": [
    "df.boxplot(return_type='axes', figsize=(15,5))"
   ]
  },
  {
   "cell_type": "code",
   "execution_count": 6,
   "id": "856e9b6c",
   "metadata": {},
   "outputs": [
    {
     "data": {
      "text/plain": [
       "column 1    90.159420\n",
       "column 2    69.731707\n",
       "column 3    30.405797\n",
       "column 4    24.376147\n",
       "column 5    38.962585\n",
       "column 6     3.411585\n",
       "dtype: float64"
      ]
     },
     "execution_count": 6,
     "metadata": {},
     "output_type": "execute_result"
    }
   ],
   "source": [
    "\n",
    "df.mean()"
   ]
  },
  {
   "cell_type": "code",
   "execution_count": 7,
   "id": "18c4a9dd",
   "metadata": {},
   "outputs": [
    {
     "data": {
      "text/html": [
       "<div>\n",
       "<style scoped>\n",
       "    .dataframe tbody tr th:only-of-type {\n",
       "        vertical-align: middle;\n",
       "    }\n",
       "\n",
       "    .dataframe tbody tr th {\n",
       "        vertical-align: top;\n",
       "    }\n",
       "\n",
       "    .dataframe thead th {\n",
       "        text-align: right;\n",
       "    }\n",
       "</style>\n",
       "<table border=\"1\" class=\"dataframe\">\n",
       "  <thead>\n",
       "    <tr style=\"text-align: right;\">\n",
       "      <th></th>\n",
       "      <th>column 1</th>\n",
       "      <th>column 2</th>\n",
       "      <th>column 3</th>\n",
       "      <th>column 4</th>\n",
       "      <th>column 5</th>\n",
       "      <th>column 6</th>\n",
       "    </tr>\n",
       "  </thead>\n",
       "  <tbody>\n",
       "    <tr>\n",
       "      <th>column 1</th>\n",
       "      <td>1.000000</td>\n",
       "      <td>0.034857</td>\n",
       "      <td>0.147695</td>\n",
       "      <td>0.159742</td>\n",
       "      <td>0.218034</td>\n",
       "      <td>0.304509</td>\n",
       "    </tr>\n",
       "    <tr>\n",
       "      <th>column 2</th>\n",
       "      <td>0.034857</td>\n",
       "      <td>1.000000</td>\n",
       "      <td>0.068964</td>\n",
       "      <td>0.166948</td>\n",
       "      <td>0.130903</td>\n",
       "      <td>0.084061</td>\n",
       "    </tr>\n",
       "    <tr>\n",
       "      <th>column 3</th>\n",
       "      <td>0.147695</td>\n",
       "      <td>0.068964</td>\n",
       "      <td>1.000000</td>\n",
       "      <td>0.701445</td>\n",
       "      <td>0.483214</td>\n",
       "      <td>0.243116</td>\n",
       "    </tr>\n",
       "    <tr>\n",
       "      <th>column 4</th>\n",
       "      <td>0.159742</td>\n",
       "      <td>0.166948</td>\n",
       "      <td>0.701445</td>\n",
       "      <td>1.000000</td>\n",
       "      <td>0.544583</td>\n",
       "      <td>0.283229</td>\n",
       "    </tr>\n",
       "    <tr>\n",
       "      <th>column 5</th>\n",
       "      <td>0.218034</td>\n",
       "      <td>0.130903</td>\n",
       "      <td>0.483214</td>\n",
       "      <td>0.544583</td>\n",
       "      <td>1.000000</td>\n",
       "      <td>0.378806</td>\n",
       "    </tr>\n",
       "    <tr>\n",
       "      <th>column 6</th>\n",
       "      <td>0.304509</td>\n",
       "      <td>0.084061</td>\n",
       "      <td>0.243116</td>\n",
       "      <td>0.283229</td>\n",
       "      <td>0.378806</td>\n",
       "      <td>1.000000</td>\n",
       "    </tr>\n",
       "  </tbody>\n",
       "</table>\n",
       "</div>"
      ],
      "text/plain": [
       "          column 1  column 2  column 3  column 4  column 5  column 6\n",
       "column 1  1.000000  0.034857  0.147695  0.159742  0.218034  0.304509\n",
       "column 2  0.034857  1.000000  0.068964  0.166948  0.130903  0.084061\n",
       "column 3  0.147695  0.068964  1.000000  0.701445  0.483214  0.243116\n",
       "column 4  0.159742  0.166948  0.701445  1.000000  0.544583  0.283229\n",
       "column 5  0.218034  0.130903  0.483214  0.544583  1.000000  0.378806\n",
       "column 6  0.304509  0.084061  0.243116  0.283229  0.378806  1.000000"
      ]
     },
     "execution_count": 7,
     "metadata": {},
     "output_type": "execute_result"
    }
   ],
   "source": [
    "corr=df.corr()\n",
    "corr"
   ]
  },
  {
   "cell_type": "code",
   "execution_count": 8,
   "id": "ea626871",
   "metadata": {},
   "outputs": [],
   "source": [
    "tf.compat.v1.reset_default_graph()\n",
    "import tensorflow.compat.v1 as tf\n",
    "tf.reset_default_graph()\n"
   ]
  },
  {
   "cell_type": "code",
   "execution_count": 9,
   "id": "2830e6e4",
   "metadata": {
    "scrolled": false
   },
   "outputs": [
    {
     "name": "stdout",
     "output_type": "stream",
     "text": [
      "Size index: [6]\n",
      "\n",
      "Computation graph constructed\n",
      "\n",
      "Model initialised\n",
      "\n",
      "Epoch: 0 , loss: 268.8606981549944\n",
      "Epoch: 1 , loss: 269.0365615118118\n",
      "Epoch: 2 , loss: 268.31425403413317\n",
      "Epoch: 3 , loss: 268.2464548746745\n",
      "Epoch: 4 , loss: 269.8048829578218\n",
      "Epoch: 5 , loss: 267.9625738234747\n",
      "Epoch: 6 , loss: 267.44263421921505\n",
      "Epoch: 7 , loss: 266.26970854259673\n",
      "Epoch: 8 , loss: 267.14615667433964\n",
      "Epoch: 9 , loss: 267.1807396298363\n",
      "Epoch: 10 , loss: 268.21534220377606\n",
      "Epoch: 11 , loss: 268.3871365501767\n",
      "Epoch: 12 , loss: 266.49857366652714\n",
      "Epoch: 13 , loss: 265.5153132847377\n",
      "Epoch: 14 , loss: 268.6272183372861\n",
      "Epoch: 15 , loss: 266.3845483689081\n",
      "Epoch: 16 , loss: 268.02850269135973\n",
      "Epoch: 17 , loss: 267.4945613316127\n",
      "Epoch: 18 , loss: 266.8202943347749\n",
      "Epoch: 19 , loss: 266.2004605247861\n",
      "Epoch: 20 , loss: 266.2786000569661\n",
      "Epoch: 21 , loss: 265.19033886137464\n",
      "Epoch: 22 , loss: 261.34713599795384\n",
      "Epoch: 23 , loss: 254.32396806989397\n",
      "Epoch: 24 , loss: 240.34850856236048\n",
      "Epoch: 25 , loss: 218.95244344075522\n",
      "Epoch: 26 , loss: 197.49083455403647\n",
      "Epoch: 27 , loss: 197.4630606515067\n",
      "Epoch: 28 , loss: 202.37645612444197\n",
      "Epoch: 29 , loss: 188.32152666364397\n",
      "Epoch: 30 , loss: 183.87254478817894\n",
      "Epoch: 31 , loss: 187.83089410691034\n",
      "Epoch: 32 , loss: 184.55782354445685\n",
      "Epoch: 33 , loss: 190.0809595017206\n",
      "Epoch: 34 , loss: 194.38663373674666\n",
      "Epoch: 35 , loss: 185.7771279471261\n",
      "Epoch: 36 , loss: 181.10383823939733\n",
      "Epoch: 37 , loss: 177.95170048304968\n",
      "Epoch: 38 , loss: 186.57349868047805\n",
      "Epoch: 39 , loss: 189.89314705984933\n",
      "Epoch: 40 , loss: 182.97706313360305\n",
      "Epoch: 41 , loss: 181.848388671875\n",
      "Epoch: 42 , loss: 192.09754871186755\n",
      "Epoch: 43 , loss: 197.96045866466704\n",
      "Epoch: 44 , loss: 194.38739594959077\n",
      "Epoch: 45 , loss: 196.38218470982142\n",
      "Training complete. Saving file...\n",
      "Model saved in file: tmp/MIDAS\n"
     ]
    },
    {
     "data": {
      "text/plain": [
       "<MIDASpy.midas_base.Midas at 0x201e1f3beb0>"
      ]
     },
     "execution_count": 9,
     "metadata": {},
     "output_type": "execute_result"
    }
   ],
   "source": [
    "imputer = md.Midas(layer_structure = [6,6+46,6+46+46,6+46+46+46,6+46+46+46+46,6+46+46+46,6+46+46,6+46,6], vae_layer = False, seed = 460)\n",
    "imputer.build_model(df)\n",
    "imputer.train_model(training_epochs=46)\n"
   ]
  },
  {
   "cell_type": "code",
   "execution_count": 10,
   "id": "6f0fef50",
   "metadata": {},
   "outputs": [
    {
     "name": "stdout",
     "output_type": "stream",
     "text": [
      "INFO:tensorflow:Restoring parameters from tmp/MIDAS\n",
      "Model restored.\n"
     ]
    },
    {
     "data": {
      "text/plain": [
       "(345, 6)"
      ]
     },
     "execution_count": 10,
     "metadata": {},
     "output_type": "execute_result"
    }
   ],
   "source": [
    "imputations=imputer.generate_samples(m=15).output_list\n",
    "np.shape(imputations[-1])"
   ]
  },
  {
   "cell_type": "code",
   "execution_count": 11,
   "id": "7842db79",
   "metadata": {
    "scrolled": true
   },
   "outputs": [
    {
     "data": {
      "text/plain": [
       "column 1    90.000000\n",
       "column 2    72.669785\n",
       "column 3    28.000000\n",
       "column 4    15.000000\n",
       "column 5    18.000000\n",
       "column 6     0.500000\n",
       "Name: 21, dtype: float64"
      ]
     },
     "execution_count": 11,
     "metadata": {},
     "output_type": "execute_result"
    }
   ],
   "source": [
    "new_df=imputations[-1]\n",
    "new_df.iloc[21,:]\n"
   ]
  },
  {
   "cell_type": "code",
   "execution_count": 12,
   "id": "a254172c",
   "metadata": {},
   "outputs": [],
   "source": [
    "complete_df=pd.read_excel(r'C:\\Users\\Jaber Shahnawaz\\Downloads\\Original Datasets (1)\\Original Datasets Without Labels\\Bupa.xlsx', header=None,names=column_names)"
   ]
  },
  {
   "cell_type": "code",
   "execution_count": 13,
   "id": "0a697afe",
   "metadata": {},
   "outputs": [
    {
     "data": {
      "text/html": [
       "<div>\n",
       "<style scoped>\n",
       "    .dataframe tbody tr th:only-of-type {\n",
       "        vertical-align: middle;\n",
       "    }\n",
       "\n",
       "    .dataframe tbody tr th {\n",
       "        vertical-align: top;\n",
       "    }\n",
       "\n",
       "    .dataframe thead th {\n",
       "        text-align: right;\n",
       "    }\n",
       "</style>\n",
       "<table border=\"1\" class=\"dataframe\">\n",
       "  <thead>\n",
       "    <tr style=\"text-align: right;\">\n",
       "      <th></th>\n",
       "      <th>column 1</th>\n",
       "      <th>column 2</th>\n",
       "      <th>column 3</th>\n",
       "      <th>column 4</th>\n",
       "      <th>column 5</th>\n",
       "      <th>column 6</th>\n",
       "    </tr>\n",
       "  </thead>\n",
       "  <tbody>\n",
       "    <tr>\n",
       "      <th>0</th>\n",
       "      <td>0</td>\n",
       "      <td>0.000000</td>\n",
       "      <td>0</td>\n",
       "      <td>0.0</td>\n",
       "      <td>0.0</td>\n",
       "      <td>2.653014</td>\n",
       "    </tr>\n",
       "    <tr>\n",
       "      <th>1</th>\n",
       "      <td>0</td>\n",
       "      <td>-45.419037</td>\n",
       "      <td>0</td>\n",
       "      <td>0.0</td>\n",
       "      <td>0.0</td>\n",
       "      <td>0.000000</td>\n",
       "    </tr>\n",
       "    <tr>\n",
       "      <th>2</th>\n",
       "      <td>0</td>\n",
       "      <td>0.000000</td>\n",
       "      <td>0</td>\n",
       "      <td>0.0</td>\n",
       "      <td>0.0</td>\n",
       "      <td>0.015938</td>\n",
       "    </tr>\n",
       "    <tr>\n",
       "      <th>3</th>\n",
       "      <td>0</td>\n",
       "      <td>0.000000</td>\n",
       "      <td>0</td>\n",
       "      <td>0.0</td>\n",
       "      <td>0.0</td>\n",
       "      <td>0.000000</td>\n",
       "    </tr>\n",
       "    <tr>\n",
       "      <th>4</th>\n",
       "      <td>0</td>\n",
       "      <td>0.000000</td>\n",
       "      <td>0</td>\n",
       "      <td>0.0</td>\n",
       "      <td>0.0</td>\n",
       "      <td>0.000000</td>\n",
       "    </tr>\n",
       "    <tr>\n",
       "      <th>...</th>\n",
       "      <td>...</td>\n",
       "      <td>...</td>\n",
       "      <td>...</td>\n",
       "      <td>...</td>\n",
       "      <td>...</td>\n",
       "      <td>...</td>\n",
       "    </tr>\n",
       "    <tr>\n",
       "      <th>340</th>\n",
       "      <td>0</td>\n",
       "      <td>0.000000</td>\n",
       "      <td>0</td>\n",
       "      <td>0.0</td>\n",
       "      <td>0.0</td>\n",
       "      <td>0.000000</td>\n",
       "    </tr>\n",
       "    <tr>\n",
       "      <th>341</th>\n",
       "      <td>0</td>\n",
       "      <td>0.000000</td>\n",
       "      <td>0</td>\n",
       "      <td>0.0</td>\n",
       "      <td>0.0</td>\n",
       "      <td>0.000000</td>\n",
       "    </tr>\n",
       "    <tr>\n",
       "      <th>342</th>\n",
       "      <td>0</td>\n",
       "      <td>0.000000</td>\n",
       "      <td>0</td>\n",
       "      <td>0.0</td>\n",
       "      <td>0.0</td>\n",
       "      <td>0.000000</td>\n",
       "    </tr>\n",
       "    <tr>\n",
       "      <th>343</th>\n",
       "      <td>0</td>\n",
       "      <td>-65.217791</td>\n",
       "      <td>0</td>\n",
       "      <td>0.0</td>\n",
       "      <td>0.0</td>\n",
       "      <td>0.000000</td>\n",
       "    </tr>\n",
       "    <tr>\n",
       "      <th>344</th>\n",
       "      <td>0</td>\n",
       "      <td>0.000000</td>\n",
       "      <td>0</td>\n",
       "      <td>0.0</td>\n",
       "      <td>0.0</td>\n",
       "      <td>0.000000</td>\n",
       "    </tr>\n",
       "  </tbody>\n",
       "</table>\n",
       "<p>345 rows × 6 columns</p>\n",
       "</div>"
      ],
      "text/plain": [
       "     column 1   column 2  column 3  column 4  column 5  column 6\n",
       "0           0   0.000000         0       0.0       0.0  2.653014\n",
       "1           0 -45.419037         0       0.0       0.0  0.000000\n",
       "2           0   0.000000         0       0.0       0.0  0.015938\n",
       "3           0   0.000000         0       0.0       0.0  0.000000\n",
       "4           0   0.000000         0       0.0       0.0  0.000000\n",
       "..        ...        ...       ...       ...       ...       ...\n",
       "340         0   0.000000         0       0.0       0.0  0.000000\n",
       "341         0   0.000000         0       0.0       0.0  0.000000\n",
       "342         0   0.000000         0       0.0       0.0  0.000000\n",
       "343         0 -65.217791         0       0.0       0.0  0.000000\n",
       "344         0   0.000000         0       0.0       0.0  0.000000\n",
       "\n",
       "[345 rows x 6 columns]"
      ]
     },
     "execution_count": 13,
     "metadata": {},
     "output_type": "execute_result"
    }
   ],
   "source": [
    "new_df-complete_df"
   ]
  },
  {
   "cell_type": "markdown",
   "id": "b4a4024f",
   "metadata": {},
   "source": [
    "Calculating NRMSE Value"
   ]
  },
  {
   "cell_type": "code",
   "execution_count": 14,
   "id": "b0a1ddd7",
   "metadata": {},
   "outputs": [],
   "source": [
    "\n",
    "def Sum_new(sum):\n",
    "    summ=0\n",
    "    for n in sum:\n",
    "        summ=summ+n\n",
    "    return (summ)\n",
    "\n"
   ]
  },
  {
   "cell_type": "code",
   "execution_count": 15,
   "id": "335450db",
   "metadata": {},
   "outputs": [],
   "source": [
    "def Frobenius_norm(number):\n",
    "    num=number\n",
    "    abs_val=num.abs()\n",
    "    power_abs=abs_val**2\n",
    "    sum1=power_abs.sum()\n",
    "    total_sum=Sum_new(sum1)\n",
    "    return(math.sqrt(total_sum))"
   ]
  },
  {
   "cell_type": "code",
   "execution_count": 16,
   "id": "28857c9a",
   "metadata": {},
   "outputs": [
    {
     "data": {
      "text/plain": [
       "390.4234842412993"
      ]
     },
     "execution_count": 16,
     "metadata": {},
     "output_type": "execute_result"
    }
   ],
   "source": [
    "numerator=Frobenius_norm(new_df-complete_df)\n",
    "numerator"
   ]
  },
  {
   "cell_type": "code",
   "execution_count": 17,
   "id": "53a8606f",
   "metadata": {},
   "outputs": [
    {
     "data": {
      "text/plain": [
       "2519.762091944396"
      ]
     },
     "execution_count": 17,
     "metadata": {},
     "output_type": "execute_result"
    }
   ],
   "source": [
    "denominator=Frobenius_norm(complete_df)\n",
    "denominator"
   ]
  },
  {
   "cell_type": "code",
   "execution_count": 20,
   "id": "998aacba",
   "metadata": {},
   "outputs": [
    {
     "data": {
      "text/plain": [
       "0.15494458206569242"
      ]
     },
     "execution_count": 20,
     "metadata": {},
     "output_type": "execute_result"
    }
   ],
   "source": [
    "NRMS=numerator/denominator\n",
    "NRMS\n"
   ]
  },
  {
   "cell_type": "code",
   "execution_count": 21,
   "id": "84845123",
   "metadata": {},
   "outputs": [
    {
     "data": {
      "text/plain": [
       "column 1    86.0\n",
       "column 2    54.0\n",
       "column 3    20.0\n",
       "column 4    21.0\n",
       "column 5    16.0\n",
       "column 6     2.0\n",
       "Name: 66, dtype: float64"
      ]
     },
     "execution_count": 21,
     "metadata": {},
     "output_type": "execute_result"
    }
   ],
   "source": [
    "new_df.iloc[66,:]"
   ]
  },
  {
   "cell_type": "code",
   "execution_count": 22,
   "id": "bfe943bf",
   "metadata": {},
   "outputs": [
    {
     "data": {
      "text/html": [
       "<div>\n",
       "<style scoped>\n",
       "    .dataframe tbody tr th:only-of-type {\n",
       "        vertical-align: middle;\n",
       "    }\n",
       "\n",
       "    .dataframe tbody tr th {\n",
       "        vertical-align: top;\n",
       "    }\n",
       "\n",
       "    .dataframe thead th {\n",
       "        text-align: right;\n",
       "    }\n",
       "</style>\n",
       "<table border=\"1\" class=\"dataframe\">\n",
       "  <thead>\n",
       "    <tr style=\"text-align: right;\">\n",
       "      <th></th>\n",
       "      <th>column 1</th>\n",
       "      <th>column 2</th>\n",
       "      <th>column 3</th>\n",
       "      <th>column 4</th>\n",
       "      <th>column 5</th>\n",
       "      <th>column 6</th>\n",
       "    </tr>\n",
       "  </thead>\n",
       "  <tbody>\n",
       "    <tr>\n",
       "      <th>0</th>\n",
       "      <td>85</td>\n",
       "      <td>92.000000</td>\n",
       "      <td>45</td>\n",
       "      <td>27.0</td>\n",
       "      <td>31.0</td>\n",
       "      <td>2.653014</td>\n",
       "    </tr>\n",
       "    <tr>\n",
       "      <th>1</th>\n",
       "      <td>85</td>\n",
       "      <td>18.580963</td>\n",
       "      <td>59</td>\n",
       "      <td>32.0</td>\n",
       "      <td>23.0</td>\n",
       "      <td>0.000000</td>\n",
       "    </tr>\n",
       "    <tr>\n",
       "      <th>2</th>\n",
       "      <td>86</td>\n",
       "      <td>54.000000</td>\n",
       "      <td>33</td>\n",
       "      <td>16.0</td>\n",
       "      <td>54.0</td>\n",
       "      <td>0.015938</td>\n",
       "    </tr>\n",
       "    <tr>\n",
       "      <th>3</th>\n",
       "      <td>91</td>\n",
       "      <td>78.000000</td>\n",
       "      <td>34</td>\n",
       "      <td>24.0</td>\n",
       "      <td>36.0</td>\n",
       "      <td>0.000000</td>\n",
       "    </tr>\n",
       "    <tr>\n",
       "      <th>4</th>\n",
       "      <td>98</td>\n",
       "      <td>55.000000</td>\n",
       "      <td>13</td>\n",
       "      <td>17.0</td>\n",
       "      <td>17.0</td>\n",
       "      <td>0.000000</td>\n",
       "    </tr>\n",
       "    <tr>\n",
       "      <th>...</th>\n",
       "      <td>...</td>\n",
       "      <td>...</td>\n",
       "      <td>...</td>\n",
       "      <td>...</td>\n",
       "      <td>...</td>\n",
       "      <td>...</td>\n",
       "    </tr>\n",
       "    <tr>\n",
       "      <th>340</th>\n",
       "      <td>91</td>\n",
       "      <td>54.000000</td>\n",
       "      <td>25</td>\n",
       "      <td>22.0</td>\n",
       "      <td>35.0</td>\n",
       "      <td>4.000000</td>\n",
       "    </tr>\n",
       "    <tr>\n",
       "      <th>341</th>\n",
       "      <td>89</td>\n",
       "      <td>48.000000</td>\n",
       "      <td>32</td>\n",
       "      <td>22.0</td>\n",
       "      <td>14.0</td>\n",
       "      <td>4.000000</td>\n",
       "    </tr>\n",
       "    <tr>\n",
       "      <th>342</th>\n",
       "      <td>85</td>\n",
       "      <td>52.000000</td>\n",
       "      <td>22</td>\n",
       "      <td>23.0</td>\n",
       "      <td>34.0</td>\n",
       "      <td>4.000000</td>\n",
       "    </tr>\n",
       "    <tr>\n",
       "      <th>343</th>\n",
       "      <td>95</td>\n",
       "      <td>27.782209</td>\n",
       "      <td>21</td>\n",
       "      <td>27.0</td>\n",
       "      <td>47.0</td>\n",
       "      <td>6.000000</td>\n",
       "    </tr>\n",
       "    <tr>\n",
       "      <th>344</th>\n",
       "      <td>91</td>\n",
       "      <td>93.000000</td>\n",
       "      <td>35</td>\n",
       "      <td>34.0</td>\n",
       "      <td>37.0</td>\n",
       "      <td>10.000000</td>\n",
       "    </tr>\n",
       "  </tbody>\n",
       "</table>\n",
       "<p>345 rows × 6 columns</p>\n",
       "</div>"
      ],
      "text/plain": [
       "     column 1   column 2  column 3  column 4  column 5   column 6\n",
       "0          85  92.000000        45      27.0      31.0   2.653014\n",
       "1          85  18.580963        59      32.0      23.0   0.000000\n",
       "2          86  54.000000        33      16.0      54.0   0.015938\n",
       "3          91  78.000000        34      24.0      36.0   0.000000\n",
       "4          98  55.000000        13      17.0      17.0   0.000000\n",
       "..        ...        ...       ...       ...       ...        ...\n",
       "340        91  54.000000        25      22.0      35.0   4.000000\n",
       "341        89  48.000000        32      22.0      14.0   4.000000\n",
       "342        85  52.000000        22      23.0      34.0   4.000000\n",
       "343        95  27.782209        21      27.0      47.0   6.000000\n",
       "344        91  93.000000        35      34.0      37.0  10.000000\n",
       "\n",
       "[345 rows x 6 columns]"
      ]
     },
     "execution_count": 22,
     "metadata": {},
     "output_type": "execute_result"
    }
   ],
   "source": [
    "imputations[-1]\n"
   ]
  },
  {
   "cell_type": "code",
   "execution_count": 23,
   "id": "1c8a41f8",
   "metadata": {},
   "outputs": [],
   "source": [
    "imputations[-1].to_excel(\"Bupa_NW_5(imp).xlsx\", index=False, header=False)"
   ]
  },
  {
   "cell_type": "code",
   "execution_count": null,
   "id": "ebf2f6d0",
   "metadata": {},
   "outputs": [],
   "source": []
  },
  {
   "cell_type": "code",
   "execution_count": null,
   "id": "25f9bad4",
   "metadata": {},
   "outputs": [],
   "source": []
  }
 ],
 "metadata": {
  "kernelspec": {
   "display_name": "Python 3 (ipykernel)",
   "language": "python",
   "name": "python3"
  },
  "language_info": {
   "codemirror_mode": {
    "name": "ipython",
    "version": 3
   },
   "file_extension": ".py",
   "mimetype": "text/x-python",
   "name": "python",
   "nbconvert_exporter": "python",
   "pygments_lexer": "ipython3",
   "version": "3.9.7"
  }
 },
 "nbformat": 4,
 "nbformat_minor": 5
}
