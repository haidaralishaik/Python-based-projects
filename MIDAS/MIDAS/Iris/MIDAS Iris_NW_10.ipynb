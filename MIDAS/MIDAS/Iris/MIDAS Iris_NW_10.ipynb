{
 "cells": [
  {
   "cell_type": "code",
   "execution_count": 1,
   "id": "48128b60",
   "metadata": {},
   "outputs": [],
   "source": [
    "from sklearn.preprocessing import MinMaxScaler\n",
    "import numpy as np\n",
    "import pandas as pd\n",
    "import tensorflow as tf\n",
    "import MIDASpy as md\n",
    "import math\n"
   ]
  },
  {
   "cell_type": "code",
   "execution_count": 2,
   "id": "f638e7f0",
   "metadata": {
    "scrolled": true
   },
   "outputs": [
    {
     "data": {
      "text/html": [
       "<div>\n",
       "<style scoped>\n",
       "    .dataframe tbody tr th:only-of-type {\n",
       "        vertical-align: middle;\n",
       "    }\n",
       "\n",
       "    .dataframe tbody tr th {\n",
       "        vertical-align: top;\n",
       "    }\n",
       "\n",
       "    .dataframe thead th {\n",
       "        text-align: right;\n",
       "    }\n",
       "</style>\n",
       "<table border=\"1\" class=\"dataframe\">\n",
       "  <thead>\n",
       "    <tr style=\"text-align: right;\">\n",
       "      <th></th>\n",
       "      <th>column 1</th>\n",
       "      <th>column 2</th>\n",
       "      <th>column 3</th>\n",
       "      <th>column 4</th>\n",
       "    </tr>\n",
       "  </thead>\n",
       "  <tbody>\n",
       "    <tr>\n",
       "      <th>0</th>\n",
       "      <td>5.1</td>\n",
       "      <td>NaN</td>\n",
       "      <td>1.4</td>\n",
       "      <td>0.2</td>\n",
       "    </tr>\n",
       "    <tr>\n",
       "      <th>1</th>\n",
       "      <td>NaN</td>\n",
       "      <td>3.0</td>\n",
       "      <td>1.4</td>\n",
       "      <td>0.2</td>\n",
       "    </tr>\n",
       "    <tr>\n",
       "      <th>2</th>\n",
       "      <td>4.7</td>\n",
       "      <td>3.2</td>\n",
       "      <td>NaN</td>\n",
       "      <td>0.2</td>\n",
       "    </tr>\n",
       "    <tr>\n",
       "      <th>3</th>\n",
       "      <td>4.6</td>\n",
       "      <td>3.1</td>\n",
       "      <td>1.5</td>\n",
       "      <td>0.2</td>\n",
       "    </tr>\n",
       "    <tr>\n",
       "      <th>4</th>\n",
       "      <td>5.0</td>\n",
       "      <td>3.6</td>\n",
       "      <td>1.4</td>\n",
       "      <td>0.2</td>\n",
       "    </tr>\n",
       "    <tr>\n",
       "      <th>...</th>\n",
       "      <td>...</td>\n",
       "      <td>...</td>\n",
       "      <td>...</td>\n",
       "      <td>...</td>\n",
       "    </tr>\n",
       "    <tr>\n",
       "      <th>145</th>\n",
       "      <td>6.7</td>\n",
       "      <td>3.0</td>\n",
       "      <td>5.2</td>\n",
       "      <td>2.3</td>\n",
       "    </tr>\n",
       "    <tr>\n",
       "      <th>146</th>\n",
       "      <td>6.3</td>\n",
       "      <td>NaN</td>\n",
       "      <td>5.0</td>\n",
       "      <td>1.9</td>\n",
       "    </tr>\n",
       "    <tr>\n",
       "      <th>147</th>\n",
       "      <td>6.5</td>\n",
       "      <td>3.0</td>\n",
       "      <td>5.2</td>\n",
       "      <td>2.0</td>\n",
       "    </tr>\n",
       "    <tr>\n",
       "      <th>148</th>\n",
       "      <td>6.2</td>\n",
       "      <td>3.4</td>\n",
       "      <td>5.4</td>\n",
       "      <td>2.3</td>\n",
       "    </tr>\n",
       "    <tr>\n",
       "      <th>149</th>\n",
       "      <td>5.9</td>\n",
       "      <td>3.0</td>\n",
       "      <td>5.1</td>\n",
       "      <td>1.8</td>\n",
       "    </tr>\n",
       "  </tbody>\n",
       "</table>\n",
       "<p>150 rows × 4 columns</p>\n",
       "</div>"
      ],
      "text/plain": [
       "     column 1  column 2  column 3  column 4\n",
       "0         5.1       NaN       1.4       0.2\n",
       "1         NaN       3.0       1.4       0.2\n",
       "2         4.7       3.2       NaN       0.2\n",
       "3         4.6       3.1       1.5       0.2\n",
       "4         5.0       3.6       1.4       0.2\n",
       "..        ...       ...       ...       ...\n",
       "145       6.7       3.0       5.2       2.3\n",
       "146       6.3       NaN       5.0       1.9\n",
       "147       6.5       3.0       5.2       2.0\n",
       "148       6.2       3.4       5.4       2.3\n",
       "149       5.9       3.0       5.1       1.8\n",
       "\n",
       "[150 rows x 4 columns]"
      ]
     },
     "execution_count": 2,
     "metadata": {},
     "output_type": "execute_result"
    }
   ],
   "source": [
    "column_names=['column 1','column 2','column 3','column 4']\n",
    "df=pd.read_excel(r'C:\\Users\\furqz\\OneDrive\\Desktop\\Data mining stiff\\incomplete\\Incomplete Datasets Without Labels\\Iris\\Iris_NW_10.xlsx', header=None,names=column_names)\n",
    "df"
   ]
  },
  {
   "cell_type": "code",
   "execution_count": 3,
   "id": "585cc6f7",
   "metadata": {},
   "outputs": [
    {
     "name": "stdout",
     "output_type": "stream",
     "text": [
      "dataType\tcolumn_names\tNumber of Nulls\n",
      "float64\t\tcolumn 1\t14\n",
      "float64\t\tcolumn 2\t14\n",
      "float64\t\tcolumn 3\t21\n",
      "float64\t\tcolumn 4\t7\n"
     ]
    }
   ],
   "source": [
    "print('dataType',end='\\t')\n",
    "print('column_names',end='\\t')\n",
    "print('Number of Nulls')\n",
    "for name in column_names:\n",
    "    print(df[name].dtype,end='\\t\\t')\n",
    "    print(name,end='\\t')\n",
    "    print(df[name].isnull().sum())"
   ]
  },
  {
   "cell_type": "code",
   "execution_count": 4,
   "id": "75bd9c64",
   "metadata": {},
   "outputs": [
    {
     "data": {
      "text/html": [
       "<div>\n",
       "<style scoped>\n",
       "    .dataframe tbody tr th:only-of-type {\n",
       "        vertical-align: middle;\n",
       "    }\n",
       "\n",
       "    .dataframe tbody tr th {\n",
       "        vertical-align: top;\n",
       "    }\n",
       "\n",
       "    .dataframe thead th {\n",
       "        text-align: right;\n",
       "    }\n",
       "</style>\n",
       "<table border=\"1\" class=\"dataframe\">\n",
       "  <thead>\n",
       "    <tr style=\"text-align: right;\">\n",
       "      <th></th>\n",
       "      <th>column 1</th>\n",
       "      <th>column 2</th>\n",
       "      <th>column 3</th>\n",
       "      <th>column 4</th>\n",
       "    </tr>\n",
       "  </thead>\n",
       "  <tbody>\n",
       "    <tr>\n",
       "      <th>count</th>\n",
       "      <td>136.000000</td>\n",
       "      <td>136.000000</td>\n",
       "      <td>129.000000</td>\n",
       "      <td>143.000000</td>\n",
       "    </tr>\n",
       "    <tr>\n",
       "      <th>mean</th>\n",
       "      <td>5.843382</td>\n",
       "      <td>3.052206</td>\n",
       "      <td>3.793798</td>\n",
       "      <td>1.200699</td>\n",
       "    </tr>\n",
       "    <tr>\n",
       "      <th>std</th>\n",
       "      <td>0.797376</td>\n",
       "      <td>0.430842</td>\n",
       "      <td>1.660796</td>\n",
       "      <td>0.756334</td>\n",
       "    </tr>\n",
       "    <tr>\n",
       "      <th>min</th>\n",
       "      <td>4.400000</td>\n",
       "      <td>2.000000</td>\n",
       "      <td>1.000000</td>\n",
       "      <td>0.100000</td>\n",
       "    </tr>\n",
       "    <tr>\n",
       "      <th>25%</th>\n",
       "      <td>5.100000</td>\n",
       "      <td>2.800000</td>\n",
       "      <td>1.600000</td>\n",
       "      <td>0.300000</td>\n",
       "    </tr>\n",
       "    <tr>\n",
       "      <th>50%</th>\n",
       "      <td>5.800000</td>\n",
       "      <td>3.000000</td>\n",
       "      <td>4.400000</td>\n",
       "      <td>1.300000</td>\n",
       "    </tr>\n",
       "    <tr>\n",
       "      <th>75%</th>\n",
       "      <td>6.400000</td>\n",
       "      <td>3.300000</td>\n",
       "      <td>5.100000</td>\n",
       "      <td>1.800000</td>\n",
       "    </tr>\n",
       "    <tr>\n",
       "      <th>max</th>\n",
       "      <td>7.900000</td>\n",
       "      <td>4.400000</td>\n",
       "      <td>6.600000</td>\n",
       "      <td>2.500000</td>\n",
       "    </tr>\n",
       "  </tbody>\n",
       "</table>\n",
       "</div>"
      ],
      "text/plain": [
       "         column 1    column 2    column 3    column 4\n",
       "count  136.000000  136.000000  129.000000  143.000000\n",
       "mean     5.843382    3.052206    3.793798    1.200699\n",
       "std      0.797376    0.430842    1.660796    0.756334\n",
       "min      4.400000    2.000000    1.000000    0.100000\n",
       "25%      5.100000    2.800000    1.600000    0.300000\n",
       "50%      5.800000    3.000000    4.400000    1.300000\n",
       "75%      6.400000    3.300000    5.100000    1.800000\n",
       "max      7.900000    4.400000    6.600000    2.500000"
      ]
     },
     "execution_count": 4,
     "metadata": {},
     "output_type": "execute_result"
    }
   ],
   "source": [
    "df.describe()"
   ]
  },
  {
   "cell_type": "code",
   "execution_count": 5,
   "id": "56182ba1",
   "metadata": {
    "scrolled": true
   },
   "outputs": [
    {
     "data": {
      "text/plain": [
       "<AxesSubplot:>"
      ]
     },
     "execution_count": 5,
     "metadata": {},
     "output_type": "execute_result"
    },
    {
     "data": {
      "image/png": "[encoded data removed]",
      "text/plain": [
       "<Figure size 1080x360 with 1 Axes>"
      ]
     },
     "metadata": {
      "needs_background": "light"
     },
     "output_type": "display_data"
    }
   ],
   "source": [
    "df.boxplot(return_type='axes', figsize=(15,5))"
   ]
  },
  {
   "cell_type": "code",
   "execution_count": 6,
   "id": "856e9b6c",
   "metadata": {},
   "outputs": [
    {
     "data": {
      "text/plain": [
       "column 1    5.843382\n",
       "column 2    3.052206\n",
       "column 3    3.793798\n",
       "column 4    1.200699\n",
       "dtype: float64"
      ]
     },
     "execution_count": 6,
     "metadata": {},
     "output_type": "execute_result"
    }
   ],
   "source": [
    "df.mean()"
   ]
  },
  {
   "cell_type": "code",
   "execution_count": 7,
   "id": "18c4a9dd",
   "metadata": {},
   "outputs": [
    {
     "data": {
      "text/html": [
       "<div>\n",
       "<style scoped>\n",
       "    .dataframe tbody tr th:only-of-type {\n",
       "        vertical-align: middle;\n",
       "    }\n",
       "\n",
       "    .dataframe tbody tr th {\n",
       "        vertical-align: top;\n",
       "    }\n",
       "\n",
       "    .dataframe thead th {\n",
       "        text-align: right;\n",
       "    }\n",
       "</style>\n",
       "<table border=\"1\" class=\"dataframe\">\n",
       "  <thead>\n",
       "    <tr style=\"text-align: right;\">\n",
       "      <th></th>\n",
       "      <th>column 1</th>\n",
       "      <th>column 2</th>\n",
       "      <th>column 3</th>\n",
       "      <th>column 4</th>\n",
       "    </tr>\n",
       "  </thead>\n",
       "  <tbody>\n",
       "    <tr>\n",
       "      <th>column 1</th>\n",
       "      <td>1.000000</td>\n",
       "      <td>-0.066018</td>\n",
       "      <td>0.840847</td>\n",
       "      <td>0.799376</td>\n",
       "    </tr>\n",
       "    <tr>\n",
       "      <th>column 2</th>\n",
       "      <td>-0.066018</td>\n",
       "      <td>1.000000</td>\n",
       "      <td>-0.415393</td>\n",
       "      <td>-0.337391</td>\n",
       "    </tr>\n",
       "    <tr>\n",
       "      <th>column 3</th>\n",
       "      <td>0.840847</td>\n",
       "      <td>-0.415393</td>\n",
       "      <td>1.000000</td>\n",
       "      <td>0.964155</td>\n",
       "    </tr>\n",
       "    <tr>\n",
       "      <th>column 4</th>\n",
       "      <td>0.799376</td>\n",
       "      <td>-0.337391</td>\n",
       "      <td>0.964155</td>\n",
       "      <td>1.000000</td>\n",
       "    </tr>\n",
       "  </tbody>\n",
       "</table>\n",
       "</div>"
      ],
      "text/plain": [
       "          column 1  column 2  column 3  column 4\n",
       "column 1  1.000000 -0.066018  0.840847  0.799376\n",
       "column 2 -0.066018  1.000000 -0.415393 -0.337391\n",
       "column 3  0.840847 -0.415393  1.000000  0.964155\n",
       "column 4  0.799376 -0.337391  0.964155  1.000000"
      ]
     },
     "execution_count": 7,
     "metadata": {},
     "output_type": "execute_result"
    }
   ],
   "source": [
    "corr=df.corr()\n",
    "corr"
   ]
  },
  {
   "cell_type": "code",
   "execution_count": 8,
   "id": "ea626871",
   "metadata": {},
   "outputs": [],
   "source": [
    "tf.compat.v1.reset_default_graph()\n",
    "import tensorflow.compat.v1 as tf\n",
    "tf.reset_default_graph()\n"
   ]
  },
  {
   "cell_type": "code",
   "execution_count": 9,
   "id": "2830e6e4",
   "metadata": {
    "scrolled": false
   },
   "outputs": [
    {
     "name": "stdout",
     "output_type": "stream",
     "text": [
      "Size index: [4]\n",
      "\n",
      "Computation graph constructed\n",
      "\n",
      "Model initialised\n",
      "\n",
      "Epoch: 0 , loss: 13.067942725287544\n",
      "Epoch: 1 , loss: 12.935396512349447\n",
      "Epoch: 2 , loss: 12.993936644660103\n",
      "Epoch: 3 , loss: 12.922293133205837\n",
      "Epoch: 4 , loss: 13.030846807691786\n",
      "Epoch: 5 , loss: 12.845575014750162\n",
      "Epoch: 6 , loss: 12.948998981051975\n",
      "Epoch: 7 , loss: 12.98497814602322\n",
      "Epoch: 8 , loss: 12.94779364267985\n",
      "Epoch: 9 , loss: 12.924032847086588\n",
      "Epoch: 10 , loss: 12.858779165479872\n",
      "Epoch: 11 , loss: 12.86652003394233\n",
      "Epoch: 12 , loss: 12.72979990641276\n",
      "Epoch: 13 , loss: 12.551869286431206\n",
      "Epoch: 14 , loss: 12.291848500569662\n",
      "Epoch: 15 , loss: 11.961831940544975\n",
      "Epoch: 16 , loss: 11.670485390557182\n",
      "Epoch: 17 , loss: 11.812070634629992\n",
      "Epoch: 18 , loss: 11.6579286787245\n",
      "Epoch: 19 , loss: 11.669973055521647\n",
      "Epoch: 20 , loss: 11.241832415262857\n",
      "Epoch: 21 , loss: 11.220664766099718\n",
      "Epoch: 22 , loss: 11.056064499749077\n",
      "Epoch: 23 , loss: 11.314769215053982\n",
      "Epoch: 24 , loss: 11.311496522691515\n",
      "Epoch: 25 , loss: 11.179693010118273\n",
      "Epoch: 26 , loss: 10.814480145772299\n",
      "Epoch: 27 , loss: 10.469760047064888\n",
      "Epoch: 28 , loss: 10.454336908128527\n",
      "Epoch: 29 , loss: 10.487314012315538\n",
      "Epoch: 30 , loss: 10.29538991716173\n",
      "Epoch: 31 , loss: 10.162360509236654\n",
      "Epoch: 32 , loss: 9.991939650641548\n",
      "Epoch: 33 , loss: 10.005594359503853\n",
      "Epoch: 34 , loss: 10.149341265360514\n",
      "Epoch: 35 , loss: 9.718364079793295\n",
      "Epoch: 36 , loss: 9.756697336832682\n",
      "Epoch: 37 , loss: 9.776317278544107\n",
      "Epoch: 38 , loss: 9.542430029975044\n",
      "Epoch: 39 , loss: 9.60119194454617\n",
      "Epoch: 40 , loss: 9.703290462493896\n",
      "Epoch: 41 , loss: 9.566144837273491\n",
      "Epoch: 42 , loss: 9.59011697769165\n",
      "Epoch: 43 , loss: 9.658980899386936\n",
      "Epoch: 44 , loss: 9.480341487460667\n",
      "Epoch: 45 , loss: 9.357029438018799\n",
      "Epoch: 46 , loss: 9.529711193508572\n",
      "Epoch: 47 , loss: 9.466930018530952\n",
      "Epoch: 48 , loss: 8.950044314066568\n",
      "Epoch: 49 , loss: 9.381458600362143\n",
      "Epoch: 50 , loss: 9.152517212761772\n",
      "Epoch: 51 , loss: 8.98726134830051\n",
      "Epoch: 52 , loss: 9.177474869622124\n",
      "Epoch: 53 , loss: 9.305351469251844\n",
      "Epoch: 54 , loss: 9.646895196702745\n",
      "Epoch: 55 , loss: 9.45849863688151\n",
      "Epoch: 56 , loss: 9.996576627095541\n",
      "Epoch: 57 , loss: 9.268913533952501\n",
      "Epoch: 58 , loss: 9.286064465840658\n",
      "Epoch: 59 , loss: 9.853539254930284\n",
      "Epoch: 60 , loss: 9.748406834072536\n",
      "Epoch: 61 , loss: 9.087931950887045\n",
      "Epoch: 62 , loss: 8.930236922370064\n",
      "Epoch: 63 , loss: 9.17818217807346\n",
      "Epoch: 64 , loss: 10.427040682898628\n",
      "Epoch: 65 , loss: 9.207251972622341\n",
      "Epoch: 66 , loss: 9.630679713355171\n",
      "Epoch: 67 , loss: 9.73753966225518\n",
      "Epoch: 68 , loss: 9.71204662322998\n",
      "Epoch: 69 , loss: 10.115376260545519\n",
      "Epoch: 70 , loss: 9.942006958855522\n",
      "Epoch: 71 , loss: 10.058595127529568\n",
      "Epoch: 72 , loss: 9.70424673292372\n",
      "Epoch: 73 , loss: 10.057155821058485\n",
      "Epoch: 74 , loss: 10.185388565063477\n",
      "Epoch: 75 , loss: 10.00914446512858\n",
      "Epoch: 76 , loss: 10.005261739095053\n",
      "Epoch: 77 , loss: 9.935009426540798\n",
      "Epoch: 78 , loss: 9.967038366529676\n",
      "Epoch: 79 , loss: 9.787860022650825\n",
      "Epoch: 80 , loss: 10.275835884941948\n",
      "Epoch: 81 , loss: 10.13541931576199\n",
      "Epoch: 82 , loss: 10.694825172424316\n",
      "Epoch: 83 , loss: 10.416318787468803\n",
      "Epoch: 84 , loss: 10.572521103752983\n",
      "Epoch: 85 , loss: 10.367193857828775\n",
      "Epoch: 86 , loss: 10.656053966946072\n",
      "Epoch: 87 , loss: 10.796366585625542\n",
      "Epoch: 88 , loss: 10.879095395406088\n",
      "Epoch: 89 , loss: 11.098245090908474\n",
      "Epoch: 90 , loss: 11.1027250289917\n",
      "Epoch: 91 , loss: 10.981682671440971\n",
      "Epoch: 92 , loss: 10.830456309848362\n",
      "Epoch: 93 , loss: 11.300060166252983\n",
      "Epoch: 94 , loss: 10.879239824083117\n",
      "Epoch: 95 , loss: 11.159001774258083\n",
      "Epoch: 96 , loss: 11.03623464372423\n",
      "Epoch: 97 , loss: 11.329976717631022\n",
      "Epoch: 98 , loss: 11.057226922776964\n",
      "Epoch: 99 , loss: 11.428687307569716\n",
      "Training complete. Saving file...\n",
      "Model saved in file: tmp/MIDAS\n"
     ]
    },
    {
     "data": {
      "text/plain": [
       "<MIDASpy.midas_base.Midas at 0x1546db93d00>"
      ]
     },
     "execution_count": 9,
     "metadata": {},
     "output_type": "execute_result"
    }
   ],
   "source": [
    "imputer = md.Midas(layer_structure = [4,4+71,4+71+71,4+71+71+71,4+71+71+71+71,4+71+71+71+71+71,4+71+71+71+71,4+71+71+71,4+71+71,4+71,4], vae_layer = False, seed = 4)\n",
    "imputer.build_model(df)\n",
    "imputer.train_model(training_epochs=100)\n"
   ]
  },
  {
   "cell_type": "code",
   "execution_count": 10,
   "id": "6f0fef50",
   "metadata": {},
   "outputs": [
    {
     "name": "stdout",
     "output_type": "stream",
     "text": [
      "INFO:tensorflow:Restoring parameters from tmp/MIDAS\n",
      "Model restored.\n"
     ]
    },
    {
     "data": {
      "text/plain": [
       "(150, 4)"
      ]
     },
     "execution_count": 10,
     "metadata": {},
     "output_type": "execute_result"
    }
   ],
   "source": [
    "imputations=imputer.generate_samples(m=15).output_list\n",
    "np.shape(imputations[-1])"
   ]
  },
  {
   "cell_type": "code",
   "execution_count": 11,
   "id": "7842db79",
   "metadata": {},
   "outputs": [
    {
     "data": {
      "text/plain": [
       "column 1    5.100000\n",
       "column 2    3.700000\n",
       "column 3    0.079877\n",
       "column 4    0.400000\n",
       "Name: 21, dtype: float64"
      ]
     },
     "execution_count": 11,
     "metadata": {},
     "output_type": "execute_result"
    }
   ],
   "source": [
    "new_df=imputations[-1]\n",
    "new_df.iloc[21,:]\n"
   ]
  },
  {
   "cell_type": "code",
   "execution_count": 12,
   "id": "a254172c",
   "metadata": {},
   "outputs": [],
   "source": [
    "complete_df=pd.read_excel(r'C:\\Users\\furqz\\OneDrive\\Desktop\\Data mining stiff\\complete\\Original Datasets Without Labels\\Iris.xlsx', header=None,names=column_names)"
   ]
  },
  {
   "cell_type": "code",
   "execution_count": 13,
   "id": "0a697afe",
   "metadata": {},
   "outputs": [
    {
     "data": {
      "text/html": [
       "<div>\n",
       "<style scoped>\n",
       "    .dataframe tbody tr th:only-of-type {\n",
       "        vertical-align: middle;\n",
       "    }\n",
       "\n",
       "    .dataframe tbody tr th {\n",
       "        vertical-align: top;\n",
       "    }\n",
       "\n",
       "    .dataframe thead th {\n",
       "        text-align: right;\n",
       "    }\n",
       "</style>\n",
       "<table border=\"1\" class=\"dataframe\">\n",
       "  <thead>\n",
       "    <tr style=\"text-align: right;\">\n",
       "      <th></th>\n",
       "      <th>column 1</th>\n",
       "      <th>column 2</th>\n",
       "      <th>column 3</th>\n",
       "      <th>column 4</th>\n",
       "    </tr>\n",
       "  </thead>\n",
       "  <tbody>\n",
       "    <tr>\n",
       "      <th>0</th>\n",
       "      <td>0.000000</td>\n",
       "      <td>-3.484656</td>\n",
       "      <td>0.000000</td>\n",
       "      <td>0.0</td>\n",
       "    </tr>\n",
       "    <tr>\n",
       "      <th>1</th>\n",
       "      <td>-4.853655</td>\n",
       "      <td>0.000000</td>\n",
       "      <td>0.000000</td>\n",
       "      <td>0.0</td>\n",
       "    </tr>\n",
       "    <tr>\n",
       "      <th>2</th>\n",
       "      <td>0.000000</td>\n",
       "      <td>0.000000</td>\n",
       "      <td>-1.220272</td>\n",
       "      <td>0.0</td>\n",
       "    </tr>\n",
       "    <tr>\n",
       "      <th>3</th>\n",
       "      <td>0.000000</td>\n",
       "      <td>0.000000</td>\n",
       "      <td>0.000000</td>\n",
       "      <td>0.0</td>\n",
       "    </tr>\n",
       "    <tr>\n",
       "      <th>4</th>\n",
       "      <td>0.000000</td>\n",
       "      <td>0.000000</td>\n",
       "      <td>0.000000</td>\n",
       "      <td>0.0</td>\n",
       "    </tr>\n",
       "    <tr>\n",
       "      <th>...</th>\n",
       "      <td>...</td>\n",
       "      <td>...</td>\n",
       "      <td>...</td>\n",
       "      <td>...</td>\n",
       "    </tr>\n",
       "    <tr>\n",
       "      <th>145</th>\n",
       "      <td>0.000000</td>\n",
       "      <td>0.000000</td>\n",
       "      <td>0.000000</td>\n",
       "      <td>0.0</td>\n",
       "    </tr>\n",
       "    <tr>\n",
       "      <th>146</th>\n",
       "      <td>0.000000</td>\n",
       "      <td>-1.948719</td>\n",
       "      <td>0.000000</td>\n",
       "      <td>0.0</td>\n",
       "    </tr>\n",
       "    <tr>\n",
       "      <th>147</th>\n",
       "      <td>0.000000</td>\n",
       "      <td>0.000000</td>\n",
       "      <td>0.000000</td>\n",
       "      <td>0.0</td>\n",
       "    </tr>\n",
       "    <tr>\n",
       "      <th>148</th>\n",
       "      <td>0.000000</td>\n",
       "      <td>0.000000</td>\n",
       "      <td>0.000000</td>\n",
       "      <td>0.0</td>\n",
       "    </tr>\n",
       "    <tr>\n",
       "      <th>149</th>\n",
       "      <td>0.000000</td>\n",
       "      <td>0.000000</td>\n",
       "      <td>0.000000</td>\n",
       "      <td>0.0</td>\n",
       "    </tr>\n",
       "  </tbody>\n",
       "</table>\n",
       "<p>150 rows × 4 columns</p>\n",
       "</div>"
      ],
      "text/plain": [
       "     column 1  column 2  column 3  column 4\n",
       "0    0.000000 -3.484656  0.000000       0.0\n",
       "1   -4.853655  0.000000  0.000000       0.0\n",
       "2    0.000000  0.000000 -1.220272       0.0\n",
       "3    0.000000  0.000000  0.000000       0.0\n",
       "4    0.000000  0.000000  0.000000       0.0\n",
       "..        ...       ...       ...       ...\n",
       "145  0.000000  0.000000  0.000000       0.0\n",
       "146  0.000000 -1.948719  0.000000       0.0\n",
       "147  0.000000  0.000000  0.000000       0.0\n",
       "148  0.000000  0.000000  0.000000       0.0\n",
       "149  0.000000  0.000000  0.000000       0.0\n",
       "\n",
       "[150 rows x 4 columns]"
      ]
     },
     "execution_count": 13,
     "metadata": {},
     "output_type": "execute_result"
    }
   ],
   "source": [
    "new_df-complete_df"
   ]
  },
  {
   "cell_type": "markdown",
   "id": "34858b00",
   "metadata": {},
   "source": [
    "Calculating NRMSE Value"
   ]
  },
  {
   "cell_type": "code",
   "execution_count": 14,
   "id": "b0e8d66c",
   "metadata": {},
   "outputs": [],
   "source": [
    "\n",
    "def Sum_new(sum):\n",
    "    summ=0\n",
    "    for n in sum:\n",
    "        summ=summ+n\n",
    "    return (summ)\n",
    "\n"
   ]
  },
  {
   "cell_type": "code",
   "execution_count": 15,
   "id": "ac7182c5",
   "metadata": {},
   "outputs": [],
   "source": [
    "def Frobenius_norm(number):\n",
    "    num=number\n",
    "    abs_val=num.abs()\n",
    "    power_abs=abs_val**2\n",
    "    sum1=power_abs.sum()\n",
    "    total_sum=Sum_new(sum1)\n",
    "    return(math.sqrt(total_sum))"
   ]
  },
  {
   "cell_type": "code",
   "execution_count": 16,
   "id": "7ab26717",
   "metadata": {},
   "outputs": [
    {
     "data": {
      "text/plain": [
       "(29.236384918667316, 97.653468960401)"
      ]
     },
     "execution_count": 16,
     "metadata": {},
     "output_type": "execute_result"
    }
   ],
   "source": [
    "numerator=Frobenius_norm(new_df-complete_df)\n",
    "denominator=Frobenius_norm(complete_df)\n",
    "numerator, denominator"
   ]
  },
  {
   "cell_type": "code",
   "execution_count": 17,
   "id": "895364b7",
   "metadata": {},
   "outputs": [
    {
     "data": {
      "text/plain": [
       "0.2993891075238999"
      ]
     },
     "execution_count": 17,
     "metadata": {},
     "output_type": "execute_result"
    }
   ],
   "source": [
    "NRMS=numerator/denominator\n",
    "NRMS\n"
   ]
  },
  {
   "cell_type": "code",
   "execution_count": 18,
   "id": "84845123",
   "metadata": {},
   "outputs": [
    {
     "data": {
      "text/plain": [
       "column 1    5.6\n",
       "column 2    3.0\n",
       "column 3    4.5\n",
       "column 4    1.5\n",
       "Name: 66, dtype: float64"
      ]
     },
     "execution_count": 18,
     "metadata": {},
     "output_type": "execute_result"
    }
   ],
   "source": [
    "new_df.iloc[66,:]"
   ]
  },
  {
   "cell_type": "code",
   "execution_count": 19,
   "id": "bfe943bf",
   "metadata": {},
   "outputs": [
    {
     "data": {
      "text/html": [
       "<div>\n",
       "<style scoped>\n",
       "    .dataframe tbody tr th:only-of-type {\n",
       "        vertical-align: middle;\n",
       "    }\n",
       "\n",
       "    .dataframe tbody tr th {\n",
       "        vertical-align: top;\n",
       "    }\n",
       "\n",
       "    .dataframe thead th {\n",
       "        text-align: right;\n",
       "    }\n",
       "</style>\n",
       "<table border=\"1\" class=\"dataframe\">\n",
       "  <thead>\n",
       "    <tr style=\"text-align: right;\">\n",
       "      <th></th>\n",
       "      <th>column 1</th>\n",
       "      <th>column 2</th>\n",
       "      <th>column 3</th>\n",
       "      <th>column 4</th>\n",
       "    </tr>\n",
       "  </thead>\n",
       "  <tbody>\n",
       "    <tr>\n",
       "      <th>0</th>\n",
       "      <td>5.100000</td>\n",
       "      <td>0.015344</td>\n",
       "      <td>1.400000</td>\n",
       "      <td>0.2</td>\n",
       "    </tr>\n",
       "    <tr>\n",
       "      <th>1</th>\n",
       "      <td>0.046345</td>\n",
       "      <td>3.000000</td>\n",
       "      <td>1.400000</td>\n",
       "      <td>0.2</td>\n",
       "    </tr>\n",
       "    <tr>\n",
       "      <th>2</th>\n",
       "      <td>4.700000</td>\n",
       "      <td>3.200000</td>\n",
       "      <td>0.079728</td>\n",
       "      <td>0.2</td>\n",
       "    </tr>\n",
       "    <tr>\n",
       "      <th>3</th>\n",
       "      <td>4.600000</td>\n",
       "      <td>3.100000</td>\n",
       "      <td>1.500000</td>\n",
       "      <td>0.2</td>\n",
       "    </tr>\n",
       "    <tr>\n",
       "      <th>4</th>\n",
       "      <td>5.000000</td>\n",
       "      <td>3.600000</td>\n",
       "      <td>1.400000</td>\n",
       "      <td>0.2</td>\n",
       "    </tr>\n",
       "    <tr>\n",
       "      <th>...</th>\n",
       "      <td>...</td>\n",
       "      <td>...</td>\n",
       "      <td>...</td>\n",
       "      <td>...</td>\n",
       "    </tr>\n",
       "    <tr>\n",
       "      <th>145</th>\n",
       "      <td>6.700000</td>\n",
       "      <td>3.000000</td>\n",
       "      <td>5.200000</td>\n",
       "      <td>2.3</td>\n",
       "    </tr>\n",
       "    <tr>\n",
       "      <th>146</th>\n",
       "      <td>6.300000</td>\n",
       "      <td>0.551281</td>\n",
       "      <td>5.000000</td>\n",
       "      <td>1.9</td>\n",
       "    </tr>\n",
       "    <tr>\n",
       "      <th>147</th>\n",
       "      <td>6.500000</td>\n",
       "      <td>3.000000</td>\n",
       "      <td>5.200000</td>\n",
       "      <td>2.0</td>\n",
       "    </tr>\n",
       "    <tr>\n",
       "      <th>148</th>\n",
       "      <td>6.200000</td>\n",
       "      <td>3.400000</td>\n",
       "      <td>5.400000</td>\n",
       "      <td>2.3</td>\n",
       "    </tr>\n",
       "    <tr>\n",
       "      <th>149</th>\n",
       "      <td>5.900000</td>\n",
       "      <td>3.000000</td>\n",
       "      <td>5.100000</td>\n",
       "      <td>1.8</td>\n",
       "    </tr>\n",
       "  </tbody>\n",
       "</table>\n",
       "<p>150 rows × 4 columns</p>\n",
       "</div>"
      ],
      "text/plain": [
       "     column 1  column 2  column 3  column 4\n",
       "0    5.100000  0.015344  1.400000       0.2\n",
       "1    0.046345  3.000000  1.400000       0.2\n",
       "2    4.700000  3.200000  0.079728       0.2\n",
       "3    4.600000  3.100000  1.500000       0.2\n",
       "4    5.000000  3.600000  1.400000       0.2\n",
       "..        ...       ...       ...       ...\n",
       "145  6.700000  3.000000  5.200000       2.3\n",
       "146  6.300000  0.551281  5.000000       1.9\n",
       "147  6.500000  3.000000  5.200000       2.0\n",
       "148  6.200000  3.400000  5.400000       2.3\n",
       "149  5.900000  3.000000  5.100000       1.8\n",
       "\n",
       "[150 rows x 4 columns]"
      ]
     },
     "execution_count": 19,
     "metadata": {},
     "output_type": "execute_result"
    }
   ],
   "source": [
    "imputations[-1]\n"
   ]
  },
  {
   "cell_type": "code",
   "execution_count": 20,
   "id": "1c8a41f8",
   "metadata": {},
   "outputs": [],
   "source": [
    "imputations[-1].to_excel(\"Iris_NW_10(imp).xlsx\", index=False, header=False)"
   ]
  },
  {
   "cell_type": "code",
   "execution_count": null,
   "id": "cd8232c8",
   "metadata": {},
   "outputs": [],
   "source": []
  }
 ],
 "metadata": {
  "kernelspec": {
   "display_name": "Python 3 (ipykernel)",
   "language": "python",
   "name": "python3"
  },
  "language_info": {
   "codemirror_mode": {
    "name": "ipython",
    "version": 3
   },
   "file_extension": ".py",
   "mimetype": "text/x-python",
   "name": "python",
   "nbconvert_exporter": "python",
   "pygments_lexer": "ipython3",
   "version": "3.9.7"
  }
 },
 "nbformat": 4,
 "nbformat_minor": 5
}
